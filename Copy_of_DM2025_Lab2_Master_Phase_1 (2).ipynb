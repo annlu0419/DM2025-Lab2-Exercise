{
  "cells": [
    {
      "cell_type": "markdown",
      "source": [
        "# **Colab Environment Setup**"
      ],
      "metadata": {
        "id": "Qw2by_FRupg2"
      }
    },
    {
      "cell_type": "code",
      "source": [
        "import kagglehub\n",
        "\n",
        "# Importing our Google News Data\n",
        "google_news_vectors_path = kagglehub.dataset_download('didiersalazar/google-news-vectors')\n",
        "\n",
        "print('Data source import complete.')\n"
      ],
      "metadata": {
        "colab": {
          "base_uri": "https://localhost:8080/"
        },
        "id": "7YWogxXfuoIY",
        "outputId": "3c99031d-6a2f-4a84-d5d2-6bae0c70134d"
      },
      "execution_count": null,
      "outputs": [
        {
          "output_type": "stream",
          "name": "stdout",
          "text": [
            "Using Colab cache for faster access to the 'google-news-vectors' dataset.\n",
            "Data source import complete.\n"
          ]
        }
      ]
    },
    {
      "cell_type": "code",
      "source": [
        "google_news_vectors_path"
      ],
      "metadata": {
        "colab": {
          "base_uri": "https://localhost:8080/",
          "height": 36
        },
        "id": "CzUNZhN6utM3",
        "outputId": "b54b1bae-8db1-45ef-fd6a-d970ffb46c03"
      },
      "execution_count": null,
      "outputs": [
        {
          "output_type": "execute_result",
          "data": {
            "text/plain": [
              "'/kaggle/input/google-news-vectors'"
            ],
            "application/vnd.google.colaboratory.intrinsic+json": {
              "type": "string"
            }
          },
          "metadata": {},
          "execution_count": 3
        }
      ]
    },
    {
      "cell_type": "code",
      "source": [
        "# Clone Lab 2's github repository to get all of our material first\n",
        "\n",
        "!git clone https://github.com/difersalest/DM2025-Lab2-Exercise.git"
      ],
      "metadata": {
        "colab": {
          "base_uri": "https://localhost:8080/"
        },
        "id": "fKZzK88Tuu4U",
        "outputId": "9a99e1bd-2de1-4186-e928-ec78977a2c83"
      },
      "execution_count": null,
      "outputs": [
        {
          "output_type": "stream",
          "name": "stdout",
          "text": [
            "fatal: destination path 'DM2025-Lab2-Exercise' already exists and is not an empty directory.\n"
          ]
        }
      ]
    },
    {
      "cell_type": "code",
      "source": [
        "# Installing all of our dependencies\n",
        "# The lab in colab was tested with this, and everything should work as intended\n",
        "# If in your case something is not working please notify the TAs\n",
        "!pip3 install python-dotenv==1.1.1 gensim==4.3.3 tensorflow==2.20.0 tensorflow-hub==0.16.1 keras==3.11.3 jupyter==1.1.1 scikit-learn==1.7.1 pandas==2.3.2 numpy==1.26.4 matplotlib==3.10.6 plotly==6.3.0 seaborn==0.13.2 nltk==3.9.1 umap-learn==0.5.9.post2"
      ],
      "metadata": {
        "colab": {
          "base_uri": "https://localhost:8080/"
        },
        "id": "FrrPPbKeu_GH",
        "outputId": "068e4d24-bb5f-47ff-9c78-05df57a5db49"
      },
      "execution_count": null,
      "outputs": [
        {
          "output_type": "stream",
          "name": "stdout",
          "text": [
            "Requirement already satisfied: python-dotenv==1.1.1 in /usr/local/lib/python3.12/dist-packages (1.1.1)\n",
            "Requirement already satisfied: gensim==4.3.3 in /usr/local/lib/python3.12/dist-packages (4.3.3)\n",
            "Requirement already satisfied: tensorflow==2.20.0 in /usr/local/lib/python3.12/dist-packages (2.20.0)\n",
            "Requirement already satisfied: tensorflow-hub==0.16.1 in /usr/local/lib/python3.12/dist-packages (0.16.1)\n",
            "Requirement already satisfied: keras==3.11.3 in /usr/local/lib/python3.12/dist-packages (3.11.3)\n",
            "Requirement already satisfied: jupyter==1.1.1 in /usr/local/lib/python3.12/dist-packages (1.1.1)\n",
            "Requirement already satisfied: scikit-learn==1.7.1 in /usr/local/lib/python3.12/dist-packages (1.7.1)\n",
            "Requirement already satisfied: pandas==2.3.2 in /usr/local/lib/python3.12/dist-packages (2.3.2)\n",
            "Requirement already satisfied: numpy==1.26.4 in /usr/local/lib/python3.12/dist-packages (1.26.4)\n",
            "Requirement already satisfied: matplotlib==3.10.6 in /usr/local/lib/python3.12/dist-packages (3.10.6)\n",
            "Requirement already satisfied: plotly==6.3.0 in /usr/local/lib/python3.12/dist-packages (6.3.0)\n",
            "Requirement already satisfied: seaborn==0.13.2 in /usr/local/lib/python3.12/dist-packages (0.13.2)\n",
            "Requirement already satisfied: nltk==3.9.1 in /usr/local/lib/python3.12/dist-packages (3.9.1)\n",
            "Requirement already satisfied: umap-learn==0.5.9.post2 in /usr/local/lib/python3.12/dist-packages (0.5.9.post2)\n",
            "Requirement already satisfied: scipy<1.14.0,>=1.7.0 in /usr/local/lib/python3.12/dist-packages (from gensim==4.3.3) (1.13.1)\n",
            "Requirement already satisfied: smart-open>=1.8.1 in /usr/local/lib/python3.12/dist-packages (from gensim==4.3.3) (7.3.1)\n",
            "Requirement already satisfied: absl-py>=1.0.0 in /usr/local/lib/python3.12/dist-packages (from tensorflow==2.20.0) (1.4.0)\n",
            "Requirement already satisfied: astunparse>=1.6.0 in /usr/local/lib/python3.12/dist-packages (from tensorflow==2.20.0) (1.6.3)\n",
            "Requirement already satisfied: flatbuffers>=24.3.25 in /usr/local/lib/python3.12/dist-packages (from tensorflow==2.20.0) (25.9.23)\n",
            "Requirement already satisfied: gast!=0.5.0,!=0.5.1,!=0.5.2,>=0.2.1 in /usr/local/lib/python3.12/dist-packages (from tensorflow==2.20.0) (0.6.0)\n",
            "Requirement already satisfied: google_pasta>=0.1.1 in /usr/local/lib/python3.12/dist-packages (from tensorflow==2.20.0) (0.2.0)\n",
            "Requirement already satisfied: libclang>=13.0.0 in /usr/local/lib/python3.12/dist-packages (from tensorflow==2.20.0) (18.1.1)\n",
            "Requirement already satisfied: opt_einsum>=2.3.2 in /usr/local/lib/python3.12/dist-packages (from tensorflow==2.20.0) (3.4.0)\n",
            "Requirement already satisfied: packaging in /usr/local/lib/python3.12/dist-packages (from tensorflow==2.20.0) (25.0)\n",
            "Requirement already satisfied: protobuf>=5.28.0 in /usr/local/lib/python3.12/dist-packages (from tensorflow==2.20.0) (5.29.5)\n",
            "Requirement already satisfied: requests<3,>=2.21.0 in /usr/local/lib/python3.12/dist-packages (from tensorflow==2.20.0) (2.32.4)\n",
            "Requirement already satisfied: setuptools in /usr/local/lib/python3.12/dist-packages (from tensorflow==2.20.0) (75.2.0)\n",
            "Requirement already satisfied: six>=1.12.0 in /usr/local/lib/python3.12/dist-packages (from tensorflow==2.20.0) (1.17.0)\n",
            "Requirement already satisfied: termcolor>=1.1.0 in /usr/local/lib/python3.12/dist-packages (from tensorflow==2.20.0) (3.1.0)\n",
            "Requirement already satisfied: typing_extensions>=3.6.6 in /usr/local/lib/python3.12/dist-packages (from tensorflow==2.20.0) (4.15.0)\n",
            "Requirement already satisfied: wrapt>=1.11.0 in /usr/local/lib/python3.12/dist-packages (from tensorflow==2.20.0) (1.17.3)\n",
            "Requirement already satisfied: grpcio<2.0,>=1.24.3 in /usr/local/lib/python3.12/dist-packages (from tensorflow==2.20.0) (1.75.1)\n",
            "Requirement already satisfied: tensorboard~=2.20.0 in /usr/local/lib/python3.12/dist-packages (from tensorflow==2.20.0) (2.20.0)\n",
            "Requirement already satisfied: h5py>=3.11.0 in /usr/local/lib/python3.12/dist-packages (from tensorflow==2.20.0) (3.15.1)\n",
            "Requirement already satisfied: ml_dtypes<1.0.0,>=0.5.1 in /usr/local/lib/python3.12/dist-packages (from tensorflow==2.20.0) (0.5.3)\n",
            "Requirement already satisfied: tf-keras>=2.14.1 in /usr/local/lib/python3.12/dist-packages (from tensorflow-hub==0.16.1) (2.20.1)\n",
            "Requirement already satisfied: rich in /usr/local/lib/python3.12/dist-packages (from keras==3.11.3) (13.9.4)\n",
            "Requirement already satisfied: namex in /usr/local/lib/python3.12/dist-packages (from keras==3.11.3) (0.1.0)\n",
            "Requirement already satisfied: optree in /usr/local/lib/python3.12/dist-packages (from keras==3.11.3) (0.17.0)\n",
            "Requirement already satisfied: notebook in /usr/local/lib/python3.12/dist-packages (from jupyter==1.1.1) (6.5.7)\n",
            "Requirement already satisfied: jupyter-console in /usr/local/lib/python3.12/dist-packages (from jupyter==1.1.1) (6.6.3)\n",
            "Requirement already satisfied: nbconvert in /usr/local/lib/python3.12/dist-packages (from jupyter==1.1.1) (7.16.6)\n",
            "Requirement already satisfied: ipykernel in /usr/local/lib/python3.12/dist-packages (from jupyter==1.1.1) (6.17.1)\n",
            "Requirement already satisfied: ipywidgets in /usr/local/lib/python3.12/dist-packages (from jupyter==1.1.1) (7.7.1)\n",
            "Requirement already satisfied: jupyterlab in /usr/local/lib/python3.12/dist-packages (from jupyter==1.1.1) (4.4.9)\n",
            "Requirement already satisfied: joblib>=1.2.0 in /usr/local/lib/python3.12/dist-packages (from scikit-learn==1.7.1) (1.5.2)\n",
            "Requirement already satisfied: threadpoolctl>=3.1.0 in /usr/local/lib/python3.12/dist-packages (from scikit-learn==1.7.1) (3.6.0)\n",
            "Requirement already satisfied: python-dateutil>=2.8.2 in /usr/local/lib/python3.12/dist-packages (from pandas==2.3.2) (2.9.0.post0)\n",
            "Requirement already satisfied: pytz>=2020.1 in /usr/local/lib/python3.12/dist-packages (from pandas==2.3.2) (2025.2)\n",
            "Requirement already satisfied: tzdata>=2022.7 in /usr/local/lib/python3.12/dist-packages (from pandas==2.3.2) (2025.2)\n",
            "Requirement already satisfied: contourpy>=1.0.1 in /usr/local/lib/python3.12/dist-packages (from matplotlib==3.10.6) (1.3.3)\n",
            "Requirement already satisfied: cycler>=0.10 in /usr/local/lib/python3.12/dist-packages (from matplotlib==3.10.6) (0.12.1)\n",
            "Requirement already satisfied: fonttools>=4.22.0 in /usr/local/lib/python3.12/dist-packages (from matplotlib==3.10.6) (4.60.1)\n",
            "Requirement already satisfied: kiwisolver>=1.3.1 in /usr/local/lib/python3.12/dist-packages (from matplotlib==3.10.6) (1.4.9)\n",
            "Requirement already satisfied: pillow>=8 in /usr/local/lib/python3.12/dist-packages (from matplotlib==3.10.6) (11.3.0)\n",
            "Requirement already satisfied: pyparsing>=2.3.1 in /usr/local/lib/python3.12/dist-packages (from matplotlib==3.10.6) (3.2.5)\n",
            "Requirement already satisfied: narwhals>=1.15.1 in /usr/local/lib/python3.12/dist-packages (from plotly==6.3.0) (2.8.0)\n",
            "Requirement already satisfied: click in /usr/local/lib/python3.12/dist-packages (from nltk==3.9.1) (8.3.0)\n",
            "Requirement already satisfied: regex>=2021.8.3 in /usr/local/lib/python3.12/dist-packages (from nltk==3.9.1) (2024.11.6)\n",
            "Requirement already satisfied: tqdm in /usr/local/lib/python3.12/dist-packages (from nltk==3.9.1) (4.67.1)\n",
            "Requirement already satisfied: numba>=0.51.2 in /usr/local/lib/python3.12/dist-packages (from umap-learn==0.5.9.post2) (0.60.0)\n",
            "Requirement already satisfied: pynndescent>=0.5 in /usr/local/lib/python3.12/dist-packages (from umap-learn==0.5.9.post2) (0.5.13)\n",
            "Requirement already satisfied: wheel<1.0,>=0.23.0 in /usr/local/lib/python3.12/dist-packages (from astunparse>=1.6.0->tensorflow==2.20.0) (0.45.1)\n",
            "Requirement already satisfied: llvmlite<0.44,>=0.43.0dev0 in /usr/local/lib/python3.12/dist-packages (from numba>=0.51.2->umap-learn==0.5.9.post2) (0.43.0)\n",
            "Requirement already satisfied: charset_normalizer<4,>=2 in /usr/local/lib/python3.12/dist-packages (from requests<3,>=2.21.0->tensorflow==2.20.0) (3.4.4)\n",
            "Requirement already satisfied: idna<4,>=2.5 in /usr/local/lib/python3.12/dist-packages (from requests<3,>=2.21.0->tensorflow==2.20.0) (3.11)\n",
            "Requirement already satisfied: urllib3<3,>=1.21.1 in /usr/local/lib/python3.12/dist-packages (from requests<3,>=2.21.0->tensorflow==2.20.0) (2.5.0)\n",
            "Requirement already satisfied: certifi>=2017.4.17 in /usr/local/lib/python3.12/dist-packages (from requests<3,>=2.21.0->tensorflow==2.20.0) (2025.10.5)\n",
            "Requirement already satisfied: markdown>=2.6.8 in /usr/local/lib/python3.12/dist-packages (from tensorboard~=2.20.0->tensorflow==2.20.0) (3.9)\n",
            "Requirement already satisfied: tensorboard-data-server<0.8.0,>=0.7.0 in /usr/local/lib/python3.12/dist-packages (from tensorboard~=2.20.0->tensorflow==2.20.0) (0.7.2)\n",
            "Requirement already satisfied: werkzeug>=1.0.1 in /usr/local/lib/python3.12/dist-packages (from tensorboard~=2.20.0->tensorflow==2.20.0) (3.1.3)\n",
            "Requirement already satisfied: debugpy>=1.0 in /usr/local/lib/python3.12/dist-packages (from ipykernel->jupyter==1.1.1) (1.8.15)\n",
            "Requirement already satisfied: ipython>=7.23.1 in /usr/local/lib/python3.12/dist-packages (from ipykernel->jupyter==1.1.1) (7.34.0)\n",
            "Requirement already satisfied: jupyter-client>=6.1.12 in /usr/local/lib/python3.12/dist-packages (from ipykernel->jupyter==1.1.1) (7.4.9)\n",
            "Requirement already satisfied: matplotlib-inline>=0.1 in /usr/local/lib/python3.12/dist-packages (from ipykernel->jupyter==1.1.1) (0.1.7)\n",
            "Requirement already satisfied: nest-asyncio in /usr/local/lib/python3.12/dist-packages (from ipykernel->jupyter==1.1.1) (1.6.0)\n",
            "Requirement already satisfied: psutil in /usr/local/lib/python3.12/dist-packages (from ipykernel->jupyter==1.1.1) (5.9.5)\n",
            "Requirement already satisfied: pyzmq>=17 in /usr/local/lib/python3.12/dist-packages (from ipykernel->jupyter==1.1.1) (26.2.1)\n",
            "Requirement already satisfied: tornado>=6.1 in /usr/local/lib/python3.12/dist-packages (from ipykernel->jupyter==1.1.1) (6.5.1)\n",
            "Requirement already satisfied: traitlets>=5.1.0 in /usr/local/lib/python3.12/dist-packages (from ipykernel->jupyter==1.1.1) (5.7.1)\n",
            "Requirement already satisfied: ipython-genutils~=0.2.0 in /usr/local/lib/python3.12/dist-packages (from ipywidgets->jupyter==1.1.1) (0.2.0)\n",
            "Requirement already satisfied: widgetsnbextension~=3.6.0 in /usr/local/lib/python3.12/dist-packages (from ipywidgets->jupyter==1.1.1) (3.6.10)\n",
            "Requirement already satisfied: jupyterlab-widgets>=1.0.0 in /usr/local/lib/python3.12/dist-packages (from ipywidgets->jupyter==1.1.1) (3.0.15)\n",
            "Requirement already satisfied: jupyter-core!=5.0.*,>=4.12 in /usr/local/lib/python3.12/dist-packages (from jupyter-console->jupyter==1.1.1) (5.9.1)\n",
            "Requirement already satisfied: prompt-toolkit>=3.0.30 in /usr/local/lib/python3.12/dist-packages (from jupyter-console->jupyter==1.1.1) (3.0.52)\n",
            "Requirement already satisfied: pygments in /usr/local/lib/python3.12/dist-packages (from jupyter-console->jupyter==1.1.1) (2.19.2)\n",
            "Requirement already satisfied: async-lru>=1.0.0 in /usr/local/lib/python3.12/dist-packages (from jupyterlab->jupyter==1.1.1) (2.0.5)\n",
            "Requirement already satisfied: httpx<1,>=0.25.0 in /usr/local/lib/python3.12/dist-packages (from jupyterlab->jupyter==1.1.1) (0.28.1)\n",
            "Requirement already satisfied: jinja2>=3.0.3 in /usr/local/lib/python3.12/dist-packages (from jupyterlab->jupyter==1.1.1) (3.1.6)\n",
            "Requirement already satisfied: jupyter-lsp>=2.0.0 in /usr/local/lib/python3.12/dist-packages (from jupyterlab->jupyter==1.1.1) (2.3.0)\n",
            "Requirement already satisfied: jupyter-server<3,>=2.4.0 in /usr/local/lib/python3.12/dist-packages (from jupyterlab->jupyter==1.1.1) (2.14.0)\n",
            "Requirement already satisfied: jupyterlab-server<3,>=2.27.1 in /usr/local/lib/python3.12/dist-packages (from jupyterlab->jupyter==1.1.1) (2.27.3)\n",
            "Requirement already satisfied: notebook-shim>=0.2 in /usr/local/lib/python3.12/dist-packages (from jupyterlab->jupyter==1.1.1) (0.2.4)\n",
            "Requirement already satisfied: beautifulsoup4 in /usr/local/lib/python3.12/dist-packages (from nbconvert->jupyter==1.1.1) (4.13.5)\n",
            "Requirement already satisfied: bleach!=5.0.0 in /usr/local/lib/python3.12/dist-packages (from bleach[css]!=5.0.0->nbconvert->jupyter==1.1.1) (6.2.0)\n",
            "Requirement already satisfied: defusedxml in /usr/local/lib/python3.12/dist-packages (from nbconvert->jupyter==1.1.1) (0.7.1)\n",
            "Requirement already satisfied: jupyterlab-pygments in /usr/local/lib/python3.12/dist-packages (from nbconvert->jupyter==1.1.1) (0.3.0)\n",
            "Requirement already satisfied: markupsafe>=2.0 in /usr/local/lib/python3.12/dist-packages (from nbconvert->jupyter==1.1.1) (3.0.3)\n",
            "Requirement already satisfied: mistune<4,>=2.0.3 in /usr/local/lib/python3.12/dist-packages (from nbconvert->jupyter==1.1.1) (3.1.4)\n",
            "Requirement already satisfied: nbclient>=0.5.0 in /usr/local/lib/python3.12/dist-packages (from nbconvert->jupyter==1.1.1) (0.10.2)\n",
            "Requirement already satisfied: nbformat>=5.7 in /usr/local/lib/python3.12/dist-packages (from nbconvert->jupyter==1.1.1) (5.10.4)\n",
            "Requirement already satisfied: pandocfilters>=1.4.1 in /usr/local/lib/python3.12/dist-packages (from nbconvert->jupyter==1.1.1) (1.5.1)\n",
            "Requirement already satisfied: argon2-cffi in /usr/local/lib/python3.12/dist-packages (from notebook->jupyter==1.1.1) (25.1.0)\n",
            "Requirement already satisfied: Send2Trash>=1.8.0 in /usr/local/lib/python3.12/dist-packages (from notebook->jupyter==1.1.1) (1.8.3)\n",
            "Requirement already satisfied: terminado>=0.8.3 in /usr/local/lib/python3.12/dist-packages (from notebook->jupyter==1.1.1) (0.18.1)\n",
            "Requirement already satisfied: prometheus-client in /usr/local/lib/python3.12/dist-packages (from notebook->jupyter==1.1.1) (0.23.1)\n",
            "Requirement already satisfied: nbclassic>=0.4.7 in /usr/local/lib/python3.12/dist-packages (from notebook->jupyter==1.1.1) (1.3.3)\n",
            "Requirement already satisfied: markdown-it-py>=2.2.0 in /usr/local/lib/python3.12/dist-packages (from rich->keras==3.11.3) (4.0.0)\n",
            "Requirement already satisfied: webencodings in /usr/local/lib/python3.12/dist-packages (from bleach!=5.0.0->bleach[css]!=5.0.0->nbconvert->jupyter==1.1.1) (0.5.1)\n",
            "Requirement already satisfied: tinycss2<1.5,>=1.1.0 in /usr/local/lib/python3.12/dist-packages (from bleach[css]!=5.0.0->nbconvert->jupyter==1.1.1) (1.4.0)\n",
            "Requirement already satisfied: anyio in /usr/local/lib/python3.12/dist-packages (from httpx<1,>=0.25.0->jupyterlab->jupyter==1.1.1) (4.11.0)\n",
            "Requirement already satisfied: httpcore==1.* in /usr/local/lib/python3.12/dist-packages (from httpx<1,>=0.25.0->jupyterlab->jupyter==1.1.1) (1.0.9)\n",
            "Requirement already satisfied: h11>=0.16 in /usr/local/lib/python3.12/dist-packages (from httpcore==1.*->httpx<1,>=0.25.0->jupyterlab->jupyter==1.1.1) (0.16.0)\n",
            "Requirement already satisfied: jedi>=0.16 in /usr/local/lib/python3.12/dist-packages (from ipython>=7.23.1->ipykernel->jupyter==1.1.1) (0.19.2)\n",
            "Requirement already satisfied: decorator in /usr/local/lib/python3.12/dist-packages (from ipython>=7.23.1->ipykernel->jupyter==1.1.1) (4.4.2)\n",
            "Requirement already satisfied: pickleshare in /usr/local/lib/python3.12/dist-packages (from ipython>=7.23.1->ipykernel->jupyter==1.1.1) (0.7.5)\n",
            "Requirement already satisfied: backcall in /usr/local/lib/python3.12/dist-packages (from ipython>=7.23.1->ipykernel->jupyter==1.1.1) (0.2.0)\n",
            "Requirement already satisfied: pexpect>4.3 in /usr/local/lib/python3.12/dist-packages (from ipython>=7.23.1->ipykernel->jupyter==1.1.1) (4.9.0)\n",
            "Requirement already satisfied: entrypoints in /usr/local/lib/python3.12/dist-packages (from jupyter-client>=6.1.12->ipykernel->jupyter==1.1.1) (0.4)\n",
            "Requirement already satisfied: platformdirs>=2.5 in /usr/local/lib/python3.12/dist-packages (from jupyter-core!=5.0.*,>=4.12->jupyter-console->jupyter==1.1.1) (4.5.0)\n",
            "Requirement already satisfied: jupyter-events>=0.9.0 in /usr/local/lib/python3.12/dist-packages (from jupyter-server<3,>=2.4.0->jupyterlab->jupyter==1.1.1) (0.12.0)\n",
            "Requirement already satisfied: jupyter-server-terminals>=0.4.4 in /usr/local/lib/python3.12/dist-packages (from jupyter-server<3,>=2.4.0->jupyterlab->jupyter==1.1.1) (0.5.3)\n",
            "Requirement already satisfied: overrides>=5.0 in /usr/local/lib/python3.12/dist-packages (from jupyter-server<3,>=2.4.0->jupyterlab->jupyter==1.1.1) (7.7.0)\n",
            "Requirement already satisfied: websocket-client>=1.7 in /usr/local/lib/python3.12/dist-packages (from jupyter-server<3,>=2.4.0->jupyterlab->jupyter==1.1.1) (1.9.0)\n",
            "Requirement already satisfied: argon2-cffi-bindings in /usr/local/lib/python3.12/dist-packages (from argon2-cffi->notebook->jupyter==1.1.1) (25.1.0)\n",
            "Requirement already satisfied: babel>=2.10 in /usr/local/lib/python3.12/dist-packages (from jupyterlab-server<3,>=2.27.1->jupyterlab->jupyter==1.1.1) (2.17.0)\n",
            "Requirement already satisfied: json5>=0.9.0 in /usr/local/lib/python3.12/dist-packages (from jupyterlab-server<3,>=2.27.1->jupyterlab->jupyter==1.1.1) (0.12.1)\n",
            "Requirement already satisfied: jsonschema>=4.18.0 in /usr/local/lib/python3.12/dist-packages (from jupyterlab-server<3,>=2.27.1->jupyterlab->jupyter==1.1.1) (4.25.1)\n",
            "Requirement already satisfied: mdurl~=0.1 in /usr/local/lib/python3.12/dist-packages (from markdown-it-py>=2.2.0->rich->keras==3.11.3) (0.1.2)\n",
            "Requirement already satisfied: fastjsonschema>=2.15 in /usr/local/lib/python3.12/dist-packages (from nbformat>=5.7->nbconvert->jupyter==1.1.1) (2.21.2)\n",
            "Requirement already satisfied: wcwidth in /usr/local/lib/python3.12/dist-packages (from prompt-toolkit>=3.0.30->jupyter-console->jupyter==1.1.1) (0.2.14)\n",
            "Requirement already satisfied: ptyprocess in /usr/local/lib/python3.12/dist-packages (from terminado>=0.8.3->notebook->jupyter==1.1.1) (0.7.0)\n",
            "Requirement already satisfied: soupsieve>1.2 in /usr/local/lib/python3.12/dist-packages (from beautifulsoup4->nbconvert->jupyter==1.1.1) (2.8)\n",
            "Requirement already satisfied: sniffio>=1.1 in /usr/local/lib/python3.12/dist-packages (from anyio->httpx<1,>=0.25.0->jupyterlab->jupyter==1.1.1) (1.3.1)\n",
            "Requirement already satisfied: parso<0.9.0,>=0.8.4 in /usr/local/lib/python3.12/dist-packages (from jedi>=0.16->ipython>=7.23.1->ipykernel->jupyter==1.1.1) (0.8.5)\n",
            "Requirement already satisfied: attrs>=22.2.0 in /usr/local/lib/python3.12/dist-packages (from jsonschema>=4.18.0->jupyterlab-server<3,>=2.27.1->jupyterlab->jupyter==1.1.1) (25.4.0)\n",
            "Requirement already satisfied: jsonschema-specifications>=2023.03.6 in /usr/local/lib/python3.12/dist-packages (from jsonschema>=4.18.0->jupyterlab-server<3,>=2.27.1->jupyterlab->jupyter==1.1.1) (2025.9.1)\n",
            "Requirement already satisfied: referencing>=0.28.4 in /usr/local/lib/python3.12/dist-packages (from jsonschema>=4.18.0->jupyterlab-server<3,>=2.27.1->jupyterlab->jupyter==1.1.1) (0.37.0)\n",
            "Requirement already satisfied: rpds-py>=0.7.1 in /usr/local/lib/python3.12/dist-packages (from jsonschema>=4.18.0->jupyterlab-server<3,>=2.27.1->jupyterlab->jupyter==1.1.1) (0.27.1)\n",
            "Requirement already satisfied: python-json-logger>=2.0.4 in /usr/local/lib/python3.12/dist-packages (from jupyter-events>=0.9.0->jupyter-server<3,>=2.4.0->jupyterlab->jupyter==1.1.1) (4.0.0)\n",
            "Requirement already satisfied: pyyaml>=5.3 in /usr/local/lib/python3.12/dist-packages (from jupyter-events>=0.9.0->jupyter-server<3,>=2.4.0->jupyterlab->jupyter==1.1.1) (6.0.3)\n",
            "Requirement already satisfied: rfc3339-validator in /usr/local/lib/python3.12/dist-packages (from jupyter-events>=0.9.0->jupyter-server<3,>=2.4.0->jupyterlab->jupyter==1.1.1) (0.1.4)\n",
            "Requirement already satisfied: rfc3986-validator>=0.1.1 in /usr/local/lib/python3.12/dist-packages (from jupyter-events>=0.9.0->jupyter-server<3,>=2.4.0->jupyterlab->jupyter==1.1.1) (0.1.1)\n",
            "Requirement already satisfied: cffi>=1.0.1 in /usr/local/lib/python3.12/dist-packages (from argon2-cffi-bindings->argon2-cffi->notebook->jupyter==1.1.1) (2.0.0)\n",
            "Requirement already satisfied: pycparser in /usr/local/lib/python3.12/dist-packages (from cffi>=1.0.1->argon2-cffi-bindings->argon2-cffi->notebook->jupyter==1.1.1) (2.23)\n",
            "Requirement already satisfied: fqdn in /usr/local/lib/python3.12/dist-packages (from jsonschema[format-nongpl]>=4.18.0->jupyter-events>=0.9.0->jupyter-server<3,>=2.4.0->jupyterlab->jupyter==1.1.1) (1.5.1)\n",
            "Requirement already satisfied: isoduration in /usr/local/lib/python3.12/dist-packages (from jsonschema[format-nongpl]>=4.18.0->jupyter-events>=0.9.0->jupyter-server<3,>=2.4.0->jupyterlab->jupyter==1.1.1) (20.11.0)\n",
            "Requirement already satisfied: jsonpointer>1.13 in /usr/local/lib/python3.12/dist-packages (from jsonschema[format-nongpl]>=4.18.0->jupyter-events>=0.9.0->jupyter-server<3,>=2.4.0->jupyterlab->jupyter==1.1.1) (3.0.0)\n",
            "Requirement already satisfied: rfc3987-syntax>=1.1.0 in /usr/local/lib/python3.12/dist-packages (from jsonschema[format-nongpl]>=4.18.0->jupyter-events>=0.9.0->jupyter-server<3,>=2.4.0->jupyterlab->jupyter==1.1.1) (1.1.0)\n",
            "Requirement already satisfied: uri-template in /usr/local/lib/python3.12/dist-packages (from jsonschema[format-nongpl]>=4.18.0->jupyter-events>=0.9.0->jupyter-server<3,>=2.4.0->jupyterlab->jupyter==1.1.1) (1.3.0)\n",
            "Requirement already satisfied: webcolors>=24.6.0 in /usr/local/lib/python3.12/dist-packages (from jsonschema[format-nongpl]>=4.18.0->jupyter-events>=0.9.0->jupyter-server<3,>=2.4.0->jupyterlab->jupyter==1.1.1) (24.11.1)\n",
            "Requirement already satisfied: lark>=1.2.2 in /usr/local/lib/python3.12/dist-packages (from rfc3987-syntax>=1.1.0->jsonschema[format-nongpl]>=4.18.0->jupyter-events>=0.9.0->jupyter-server<3,>=2.4.0->jupyterlab->jupyter==1.1.1) (1.3.0)\n",
            "Requirement already satisfied: arrow>=0.15.0 in /usr/local/lib/python3.12/dist-packages (from isoduration->jsonschema[format-nongpl]>=4.18.0->jupyter-events>=0.9.0->jupyter-server<3,>=2.4.0->jupyterlab->jupyter==1.1.1) (1.3.0)\n",
            "Requirement already satisfied: types-python-dateutil>=2.8.10 in /usr/local/lib/python3.12/dist-packages (from arrow>=0.15.0->isoduration->jsonschema[format-nongpl]>=4.18.0->jupyter-events>=0.9.0->jupyter-server<3,>=2.4.0->jupyterlab->jupyter==1.1.1) (2.9.0.20251008)\n"
          ]
        }
      ]
    },
    {
      "cell_type": "code",
      "source": [
        "# test code for environment setup\n",
        "# import library\n",
        "import dotenv\n",
        "import gensim\n",
        "import tensorflow\n",
        "import tensorflow_hub\n",
        "import keras\n",
        "import jupyter\n",
        "import sklearn\n",
        "import pandas\n",
        "import numpy\n",
        "import matplotlib\n",
        "import plotly\n",
        "import seaborn\n",
        "import nltk\n",
        "import umap\n",
        "\n",
        "%matplotlib inline\n",
        "\n",
        "print(\"gensim: \" + gensim.__version__)\n",
        "print(\"tensorflow: \" + tensorflow.__version__)\n",
        "print(\"keras: \" + keras.__version__)"
      ],
      "metadata": {
        "colab": {
          "base_uri": "https://localhost:8080/"
        },
        "id": "pP0POOdZvXwi",
        "outputId": "7dcf7c65-936a-42ea-d2ac-41d2ae79e28d"
      },
      "execution_count": null,
      "outputs": [
        {
          "output_type": "stream",
          "name": "stdout",
          "text": [
            "gensim: 4.3.3\n",
            "tensorflow: 2.20.0\n",
            "keras: 3.11.3\n"
          ]
        }
      ]
    },
    {
      "cell_type": "markdown",
      "source": [
        "##### **OPTIONAL: If you want to save your outputs you can send them to your own drive by mounting the drive in the following way (uncomment the lines):**"
      ],
      "metadata": {
        "id": "2By46A7lvl1a"
      }
    },
    {
      "cell_type": "code",
      "source": [
        "\n",
        "# Remember to change the directory of your outputs to your folder in the new mounted google drive inside colab\n",
        "# from google.colab import drive\n",
        "# drive.mount('/content/drive/')\n"
      ],
      "metadata": {
        "id": "OKBaNNh7vkOU"
      },
      "execution_count": null,
      "outputs": []
    },
    {
      "cell_type": "markdown",
      "metadata": {
        "id": "8KpYc_FWui7T"
      },
      "source": [
        "**Table of contents**<a id='toc0_'></a>    \n",
        "- [Data Mining Lab 2 - Phase 1](#toc1_)    \n",
        "  - [Summarized Table of Contents](#toc1_1_)    \n",
        "  - [Before Starting](#toc1_2_)    \n",
        "  - [Introduction](#toc1_3_)    \n",
        "  - [**1. Data Preparation**](#toc1_4_)    \n",
        "  - [**1.1 Load data**](#toc1_5_)    \n",
        "        - [**>>> Exercise 1 (Take home):**](#toc1_5_1_1_1_)    \n",
        "    - [**1.2 Save data**](#toc1_5_2_)    \n",
        "    - [**1.3 Exploratory data analysis (EDA)**](#toc1_5_3_)    \n",
        "  - [**2. Feature engineering**](#toc1_6_)    \n",
        "    - [Using Bag of Words](#toc1_6_1_)    \n",
        "        - [**>>> Exercise 2 (Take home):**](#toc1_6_1_1_1_)    \n",
        "  - [**3. Model**](#toc1_7_)    \n",
        "    - [**3.1 Decision Trees**](#toc1_7_1_)    \n",
        "  - [**4. Results Evaluation**](#toc1_8_)    \n",
        "        - [**>>> Exercise 3 (Take home):**](#toc1_8_1_1_1_)    \n",
        "        - [**>>> Exercise 4 (Take home):**](#toc1_8_1_1_2_)    \n",
        "        - [**>>> Exercise 5 (Take home):**](#toc1_8_1_1_3_)    \n",
        "  - [**5. Other things you can try**](#toc1_9_)    \n",
        "  - [**6. Deep Learning**](#toc1_10_)    \n",
        "    - [**6.1 Prepare data (X, y)**](#toc1_10_1_)    \n",
        "    - [**6.2 Deal with categorical label (y)**](#toc1_10_2_)    \n",
        "    - [**6.3 Build model**](#toc1_10_3_)    \n",
        "    - [**6.4 Train**](#toc1_10_4_)    \n",
        "    - [**6.5 Predict on testing data**](#toc1_10_5_)    \n",
        "        - [**>>> Exercise 6 (Take home):**](#toc1_10_5_1_1_)    \n",
        "    - [Note](#toc1_10_6_)    \n",
        "    - [More Information for your reference](#toc1_10_7_)    \n",
        "  - [**7. Word2Vector**](#toc1_11_)    \n",
        "    - [**7.1 Prepare training corpus**](#toc1_11_1_)    \n",
        "    - [**7.2 Training our model**](#toc1_11_2_)    \n",
        "    - [**7.3 Generating word vector (embeddings)**](#toc1_11_3_)    \n",
        "    - [**7.4 Using a pre-trained w2v model**](#toc1_11_4_)    \n",
        "      - [(1) Download model by yourself](#toc1_11_4_1_)    \n",
        "      - [(2) Using gensim api](#toc1_11_4_2_)    \n",
        "    - [**7.5 king + woman - man = ?**](#toc1_11_5_)    \n",
        "        - [**>>> Exercise 7 (Take home):**](#toc1_11_5_1_1_)    \n",
        "  - [**8. Clustering: k-means**](#toc1_12_)    \n",
        "      - [Basic concept](#toc1_12_1_1_)    \n",
        "  - [**9. High-dimension Visualization: t-SNE and UMAP**](#toc1_13_)    \n",
        "    - [**9.1 Prepare visualizing target**](#toc1_13_1_)    \n",
        "    - [**9.2 Plot using t-SNE and UMAP (2-dimension)**](#toc1_13_2_)    \n",
        "        - [**>>> Exercise 8 (Take home):**](#toc1_13_2_1_1_)    \n",
        "\n",
        "<!-- vscode-jupyter-toc-config\n",
        "\tnumbering=false\n",
        "\tanchor=true\n",
        "\tflat=false\n",
        "\tminLevel=1\n",
        "\tmaxLevel=6\n",
        "\t/vscode-jupyter-toc-config -->\n",
        "<!-- THIS CELL WILL BE REPLACED ON TOC UPDATE. DO NOT WRITE YOUR TEXT IN THIS CELL -->"
      ]
    },
    {
      "cell_type": "markdown",
      "metadata": {
        "id": "uuutyCx4YTpX"
      },
      "source": [
        "# <a id='toc1_'></a>[Data Mining Lab 2 - Phase 1](#toc0_)\n",
        "In this lab's phase 1 session we will focus on the use of Neural Word Embeddings\n",
        "\n",
        "## <a id='toc1_1_'></a>[Summarized Table of Contents](#toc0_)\n",
        "- **Phase 1:**\n",
        "1. Data preparation\n",
        "2. Feature engineering\n",
        "3. Model\n",
        "4. Results evaluation\n",
        "5. Other things you could try\n",
        "6. Deep Learning\n",
        "7. Word to Vector\n",
        "8. Clustering\n",
        "9. High-dimension Visualization\n"
      ]
    },
    {
      "cell_type": "markdown",
      "metadata": {
        "id": "5XUuDBRcui7V"
      },
      "source": [
        "## <a id='toc1_2_'></a>[Before Starting](#toc0_)\n",
        "\n",
        "**Make sure you have installed all the required libraries and you have the environment ready to run this lab.**\n",
        "    "
      ]
    },
    {
      "cell_type": "markdown",
      "metadata": {
        "id": "LIpAqCvMYTpX"
      },
      "source": [
        "---\n",
        "## <a id='toc1_3_'></a>[Introduction](#toc0_)"
      ]
    },
    {
      "cell_type": "markdown",
      "metadata": {
        "id": "n2paPeNbYTpX"
      },
      "source": [
        "**Dataset:** [SemEval 2017 Task](https://competitions.codalab.org/competitions/16380)\n",
        "\n",
        "**Task:** Classify text data into 4 different emotions using word embeddings and other deep information retrieval approaches.\n",
        "\n",
        "![pic0.png](https://drive.google.com/uc?export=view&id=1qurztXdx30Wl2vkCZg7KXXJYJXcE6YR_)"
      ]
    },
    {
      "cell_type": "markdown",
      "metadata": {
        "id": "op_X7pR-YTpX"
      },
      "source": [
        "---\n",
        "## <a id='toc1_4_'></a>[**1. Data Preparation**](#toc0_)"
      ]
    },
    {
      "cell_type": "markdown",
      "metadata": {
        "id": "ID-8I1ELYTpX"
      },
      "source": [
        "Before beggining the lab, please make sure to download the [Google News Dataset](https://drive.google.com/file/d/0B7XkCwpI5KDYNlNUTTlSS21pQmM/edit) and place it in a folder named \"GoogleNews\" in the same directory as this file."
      ]
    },
    {
      "cell_type": "markdown",
      "metadata": {
        "id": "pgoEbZzSYTpX"
      },
      "source": [
        "---\n",
        "## <a id='toc1_5_'></a>[**1.1 Load data**](#toc0_)\n",
        "\n",
        "We start by loading the csv files into a single pandas dataframe for training and one for testing."
      ]
    },
    {
      "cell_type": "code",
      "execution_count": null,
      "metadata": {
        "id": "anfjcPSSYTpX"
      },
      "outputs": [],
      "source": [
        "import pandas as pd\n",
        "\n",
        "### training data\n",
        "anger_train = pd.read_csv(\"./DM2025-Lab2-Exercise/data/semeval/train/anger-ratings-0to1.train.txt\",\n",
        "                         sep=\"\\t\", header=None,names=[\"id\", \"text\", \"emotion\", \"intensity\"])\n",
        "sadness_train = pd.read_csv(\"./DM2025-Lab2-Exercise/data/semeval/train/sadness-ratings-0to1.train.txt\",\n",
        "                         sep=\"\\t\", header=None, names=[\"id\", \"text\", \"emotion\", \"intensity\"])\n",
        "fear_train = pd.read_csv(\"./DM2025-Lab2-Exercise/data/semeval/train/fear-ratings-0to1.train.txt\",\n",
        "                         sep=\"\\t\", header=None, names=[\"id\", \"text\", \"emotion\", \"intensity\"])\n",
        "joy_train = pd.read_csv(\"./DM2025-Lab2-Exercise/data/semeval/train/joy-ratings-0to1.train.txt\",\n",
        "                         sep=\"\\t\", header=None, names=[\"id\", \"text\", \"emotion\", \"intensity\"])"
      ]
    },
    {
      "cell_type": "code",
      "execution_count": null,
      "metadata": {
        "id": "yVc2T5MIYTpX"
      },
      "outputs": [],
      "source": [
        "# combine 4 sub-dataset\n",
        "train_df = pd.concat([anger_train, fear_train, joy_train, sadness_train], ignore_index=True)"
      ]
    },
    {
      "cell_type": "code",
      "execution_count": null,
      "metadata": {
        "colab": {
          "base_uri": "https://localhost:8080/",
          "height": 206
        },
        "id": "Kw8bGMv7YTpX",
        "outputId": "6896c938-0d37-479c-a450-90c205c38199"
      },
      "outputs": [
        {
          "output_type": "execute_result",
          "data": {
            "text/plain": [
              "      id                                               text emotion  intensity\n",
              "0  10000  How the fu*k! Who the heck! moved my fridge!.....   anger      0.938\n",
              "1  10001  So my Indian Uber driver just called someone t...   anger      0.896\n",
              "2  10002  @DPD_UK I asked for my parcel to be delivered ...   anger      0.896\n",
              "3  10003  so ef whichever butt wipe pulled the fire alar...   anger      0.896\n",
              "4  10004  Don't join @BTCare they put the phone down on ...   anger      0.896"
            ],
            "text/html": [
              "\n",
              "  <div id=\"df-53a0d309-790a-4f36-87ed-5b391ba48f55\" class=\"colab-df-container\">\n",
              "    <div>\n",
              "<style scoped>\n",
              "    .dataframe tbody tr th:only-of-type {\n",
              "        vertical-align: middle;\n",
              "    }\n",
              "\n",
              "    .dataframe tbody tr th {\n",
              "        vertical-align: top;\n",
              "    }\n",
              "\n",
              "    .dataframe thead th {\n",
              "        text-align: right;\n",
              "    }\n",
              "</style>\n",
              "<table border=\"1\" class=\"dataframe\">\n",
              "  <thead>\n",
              "    <tr style=\"text-align: right;\">\n",
              "      <th></th>\n",
              "      <th>id</th>\n",
              "      <th>text</th>\n",
              "      <th>emotion</th>\n",
              "      <th>intensity</th>\n",
              "    </tr>\n",
              "  </thead>\n",
              "  <tbody>\n",
              "    <tr>\n",
              "      <th>0</th>\n",
              "      <td>10000</td>\n",
              "      <td>How the fu*k! Who the heck! moved my fridge!.....</td>\n",
              "      <td>anger</td>\n",
              "      <td>0.938</td>\n",
              "    </tr>\n",
              "    <tr>\n",
              "      <th>1</th>\n",
              "      <td>10001</td>\n",
              "      <td>So my Indian Uber driver just called someone t...</td>\n",
              "      <td>anger</td>\n",
              "      <td>0.896</td>\n",
              "    </tr>\n",
              "    <tr>\n",
              "      <th>2</th>\n",
              "      <td>10002</td>\n",
              "      <td>@DPD_UK I asked for my parcel to be delivered ...</td>\n",
              "      <td>anger</td>\n",
              "      <td>0.896</td>\n",
              "    </tr>\n",
              "    <tr>\n",
              "      <th>3</th>\n",
              "      <td>10003</td>\n",
              "      <td>so ef whichever butt wipe pulled the fire alar...</td>\n",
              "      <td>anger</td>\n",
              "      <td>0.896</td>\n",
              "    </tr>\n",
              "    <tr>\n",
              "      <th>4</th>\n",
              "      <td>10004</td>\n",
              "      <td>Don't join @BTCare they put the phone down on ...</td>\n",
              "      <td>anger</td>\n",
              "      <td>0.896</td>\n",
              "    </tr>\n",
              "  </tbody>\n",
              "</table>\n",
              "</div>\n",
              "    <div class=\"colab-df-buttons\">\n",
              "\n",
              "  <div class=\"colab-df-container\">\n",
              "    <button class=\"colab-df-convert\" onclick=\"convertToInteractive('df-53a0d309-790a-4f36-87ed-5b391ba48f55')\"\n",
              "            title=\"Convert this dataframe to an interactive table.\"\n",
              "            style=\"display:none;\">\n",
              "\n",
              "  <svg xmlns=\"http://www.w3.org/2000/svg\" height=\"24px\" viewBox=\"0 -960 960 960\">\n",
              "    <path d=\"M120-120v-720h720v720H120Zm60-500h600v-160H180v160Zm220 220h160v-160H400v160Zm0 220h160v-160H400v160ZM180-400h160v-160H180v160Zm440 0h160v-160H620v160ZM180-180h160v-160H180v160Zm440 0h160v-160H620v160Z\"/>\n",
              "  </svg>\n",
              "    </button>\n",
              "\n",
              "  <style>\n",
              "    .colab-df-container {\n",
              "      display:flex;\n",
              "      gap: 12px;\n",
              "    }\n",
              "\n",
              "    .colab-df-convert {\n",
              "      background-color: #E8F0FE;\n",
              "      border: none;\n",
              "      border-radius: 50%;\n",
              "      cursor: pointer;\n",
              "      display: none;\n",
              "      fill: #1967D2;\n",
              "      height: 32px;\n",
              "      padding: 0 0 0 0;\n",
              "      width: 32px;\n",
              "    }\n",
              "\n",
              "    .colab-df-convert:hover {\n",
              "      background-color: #E2EBFA;\n",
              "      box-shadow: 0px 1px 2px rgba(60, 64, 67, 0.3), 0px 1px 3px 1px rgba(60, 64, 67, 0.15);\n",
              "      fill: #174EA6;\n",
              "    }\n",
              "\n",
              "    .colab-df-buttons div {\n",
              "      margin-bottom: 4px;\n",
              "    }\n",
              "\n",
              "    [theme=dark] .colab-df-convert {\n",
              "      background-color: #3B4455;\n",
              "      fill: #D2E3FC;\n",
              "    }\n",
              "\n",
              "    [theme=dark] .colab-df-convert:hover {\n",
              "      background-color: #434B5C;\n",
              "      box-shadow: 0px 1px 3px 1px rgba(0, 0, 0, 0.15);\n",
              "      filter: drop-shadow(0px 1px 2px rgba(0, 0, 0, 0.3));\n",
              "      fill: #FFFFFF;\n",
              "    }\n",
              "  </style>\n",
              "\n",
              "    <script>\n",
              "      const buttonEl =\n",
              "        document.querySelector('#df-53a0d309-790a-4f36-87ed-5b391ba48f55 button.colab-df-convert');\n",
              "      buttonEl.style.display =\n",
              "        google.colab.kernel.accessAllowed ? 'block' : 'none';\n",
              "\n",
              "      async function convertToInteractive(key) {\n",
              "        const element = document.querySelector('#df-53a0d309-790a-4f36-87ed-5b391ba48f55');\n",
              "        const dataTable =\n",
              "          await google.colab.kernel.invokeFunction('convertToInteractive',\n",
              "                                                    [key], {});\n",
              "        if (!dataTable) return;\n",
              "\n",
              "        const docLinkHtml = 'Like what you see? Visit the ' +\n",
              "          '<a target=\"_blank\" href=https://colab.research.google.com/notebooks/data_table.ipynb>data table notebook</a>'\n",
              "          + ' to learn more about interactive tables.';\n",
              "        element.innerHTML = '';\n",
              "        dataTable['output_type'] = 'display_data';\n",
              "        await google.colab.output.renderOutput(dataTable, element);\n",
              "        const docLink = document.createElement('div');\n",
              "        docLink.innerHTML = docLinkHtml;\n",
              "        element.appendChild(docLink);\n",
              "      }\n",
              "    </script>\n",
              "  </div>\n",
              "\n",
              "\n",
              "    <div id=\"df-1260112d-40a7-4b36-a918-deac14f38323\">\n",
              "      <button class=\"colab-df-quickchart\" onclick=\"quickchart('df-1260112d-40a7-4b36-a918-deac14f38323')\"\n",
              "                title=\"Suggest charts\"\n",
              "                style=\"display:none;\">\n",
              "\n",
              "<svg xmlns=\"http://www.w3.org/2000/svg\" height=\"24px\"viewBox=\"0 0 24 24\"\n",
              "     width=\"24px\">\n",
              "    <g>\n",
              "        <path d=\"M19 3H5c-1.1 0-2 .9-2 2v14c0 1.1.9 2 2 2h14c1.1 0 2-.9 2-2V5c0-1.1-.9-2-2-2zM9 17H7v-7h2v7zm4 0h-2V7h2v10zm4 0h-2v-4h2v4z\"/>\n",
              "    </g>\n",
              "</svg>\n",
              "      </button>\n",
              "\n",
              "<style>\n",
              "  .colab-df-quickchart {\n",
              "      --bg-color: #E8F0FE;\n",
              "      --fill-color: #1967D2;\n",
              "      --hover-bg-color: #E2EBFA;\n",
              "      --hover-fill-color: #174EA6;\n",
              "      --disabled-fill-color: #AAA;\n",
              "      --disabled-bg-color: #DDD;\n",
              "  }\n",
              "\n",
              "  [theme=dark] .colab-df-quickchart {\n",
              "      --bg-color: #3B4455;\n",
              "      --fill-color: #D2E3FC;\n",
              "      --hover-bg-color: #434B5C;\n",
              "      --hover-fill-color: #FFFFFF;\n",
              "      --disabled-bg-color: #3B4455;\n",
              "      --disabled-fill-color: #666;\n",
              "  }\n",
              "\n",
              "  .colab-df-quickchart {\n",
              "    background-color: var(--bg-color);\n",
              "    border: none;\n",
              "    border-radius: 50%;\n",
              "    cursor: pointer;\n",
              "    display: none;\n",
              "    fill: var(--fill-color);\n",
              "    height: 32px;\n",
              "    padding: 0;\n",
              "    width: 32px;\n",
              "  }\n",
              "\n",
              "  .colab-df-quickchart:hover {\n",
              "    background-color: var(--hover-bg-color);\n",
              "    box-shadow: 0 1px 2px rgba(60, 64, 67, 0.3), 0 1px 3px 1px rgba(60, 64, 67, 0.15);\n",
              "    fill: var(--button-hover-fill-color);\n",
              "  }\n",
              "\n",
              "  .colab-df-quickchart-complete:disabled,\n",
              "  .colab-df-quickchart-complete:disabled:hover {\n",
              "    background-color: var(--disabled-bg-color);\n",
              "    fill: var(--disabled-fill-color);\n",
              "    box-shadow: none;\n",
              "  }\n",
              "\n",
              "  .colab-df-spinner {\n",
              "    border: 2px solid var(--fill-color);\n",
              "    border-color: transparent;\n",
              "    border-bottom-color: var(--fill-color);\n",
              "    animation:\n",
              "      spin 1s steps(1) infinite;\n",
              "  }\n",
              "\n",
              "  @keyframes spin {\n",
              "    0% {\n",
              "      border-color: transparent;\n",
              "      border-bottom-color: var(--fill-color);\n",
              "      border-left-color: var(--fill-color);\n",
              "    }\n",
              "    20% {\n",
              "      border-color: transparent;\n",
              "      border-left-color: var(--fill-color);\n",
              "      border-top-color: var(--fill-color);\n",
              "    }\n",
              "    30% {\n",
              "      border-color: transparent;\n",
              "      border-left-color: var(--fill-color);\n",
              "      border-top-color: var(--fill-color);\n",
              "      border-right-color: var(--fill-color);\n",
              "    }\n",
              "    40% {\n",
              "      border-color: transparent;\n",
              "      border-right-color: var(--fill-color);\n",
              "      border-top-color: var(--fill-color);\n",
              "    }\n",
              "    60% {\n",
              "      border-color: transparent;\n",
              "      border-right-color: var(--fill-color);\n",
              "    }\n",
              "    80% {\n",
              "      border-color: transparent;\n",
              "      border-right-color: var(--fill-color);\n",
              "      border-bottom-color: var(--fill-color);\n",
              "    }\n",
              "    90% {\n",
              "      border-color: transparent;\n",
              "      border-bottom-color: var(--fill-color);\n",
              "    }\n",
              "  }\n",
              "</style>\n",
              "\n",
              "      <script>\n",
              "        async function quickchart(key) {\n",
              "          const quickchartButtonEl =\n",
              "            document.querySelector('#' + key + ' button');\n",
              "          quickchartButtonEl.disabled = true;  // To prevent multiple clicks.\n",
              "          quickchartButtonEl.classList.add('colab-df-spinner');\n",
              "          try {\n",
              "            const charts = await google.colab.kernel.invokeFunction(\n",
              "                'suggestCharts', [key], {});\n",
              "          } catch (error) {\n",
              "            console.error('Error during call to suggestCharts:', error);\n",
              "          }\n",
              "          quickchartButtonEl.classList.remove('colab-df-spinner');\n",
              "          quickchartButtonEl.classList.add('colab-df-quickchart-complete');\n",
              "        }\n",
              "        (() => {\n",
              "          let quickchartButtonEl =\n",
              "            document.querySelector('#df-1260112d-40a7-4b36-a918-deac14f38323 button');\n",
              "          quickchartButtonEl.style.display =\n",
              "            google.colab.kernel.accessAllowed ? 'block' : 'none';\n",
              "        })();\n",
              "      </script>\n",
              "    </div>\n",
              "\n",
              "    </div>\n",
              "  </div>\n"
            ],
            "application/vnd.google.colaboratory.intrinsic+json": {
              "type": "dataframe",
              "variable_name": "train_df",
              "summary": "{\n  \"name\": \"train_df\",\n  \"rows\": 3613,\n  \"fields\": [\n    {\n      \"column\": \"id\",\n      \"properties\": {\n        \"dtype\": \"number\",\n        \"std\": 10715,\n        \"min\": 10000,\n        \"max\": 40785,\n        \"num_unique_values\": 3613,\n        \"samples\": [\n          10839,\n          30626,\n          10032\n        ],\n        \"semantic_type\": \"\",\n        \"description\": \"\"\n      }\n    },\n    {\n      \"column\": \"text\",\n      \"properties\": {\n        \"dtype\": \"string\",\n        \"num_unique_values\": 3565,\n        \"samples\": [\n          \"im literally shaking bc im nervous and bc its fucking cold oh how i love life\",\n          \"Halfway to work and I realize I forgot to put on underwear....It's going to be one of those days! #mombrain #toomuchgoingon #longday #breezy\",\n          \"Round 2  #pcola\"\n        ],\n        \"semantic_type\": \"\",\n        \"description\": \"\"\n      }\n    },\n    {\n      \"column\": \"emotion\",\n      \"properties\": {\n        \"dtype\": \"category\",\n        \"num_unique_values\": 4,\n        \"samples\": [\n          \"fear\",\n          \"sadness\",\n          \"anger\"\n        ],\n        \"semantic_type\": \"\",\n        \"description\": \"\"\n      }\n    },\n    {\n      \"column\": \"intensity\",\n      \"properties\": {\n        \"dtype\": \"number\",\n        \"std\": 0.19036776242787684,\n        \"min\": 0.019,\n        \"max\": 0.98,\n        \"num_unique_values\": 403,\n        \"samples\": [\n          0.333,\n          0.673,\n          0.654\n        ],\n        \"semantic_type\": \"\",\n        \"description\": \"\"\n      }\n    }\n  ]\n}"
            }
          },
          "metadata": {},
          "execution_count": 11
        }
      ],
      "source": [
        "### testing data\n",
        "anger_test = pd.read_csv(\"./DM2025-Lab2-Exercise/data/semeval/dev/anger-ratings-0to1.dev.gold.txt\",\n",
        "                         sep=\"\\t\", header=None, names=[\"id\", \"text\", \"emotion\", \"intensity\"])\n",
        "sadness_test = pd.read_csv(\"./DM2025-Lab2-Exercise/data/semeval/dev/sadness-ratings-0to1.dev.gold.txt\",\n",
        "                         sep=\"\\t\", header=None, names=[\"id\", \"text\", \"emotion\", \"intensity\"])\n",
        "fear_test = pd.read_csv(\"./DM2025-Lab2-Exercise/data/semeval/dev/fear-ratings-0to1.dev.gold.txt\",\n",
        "                         sep=\"\\t\", header=None, names=[\"id\", \"text\", \"emotion\", \"intensity\"])\n",
        "joy_test = pd.read_csv(\"./DM2025-Lab2-Exercise/data/semeval/dev/joy-ratings-0to1.dev.gold.txt\",\n",
        "                         sep=\"\\t\", header=None, names=[\"id\", \"text\", \"emotion\", \"intensity\"])\n",
        "\n",
        "# combine 4 sub-dataset\n",
        "test_df = pd.concat([anger_test, fear_test, joy_test, sadness_test], ignore_index=True)\n",
        "train_df.head()"
      ]
    },
    {
      "cell_type": "code",
      "execution_count": null,
      "metadata": {
        "id": "HBHwcL8sYTpX"
      },
      "outputs": [],
      "source": [
        "# shuffle dataset\n",
        "train_df = train_df.sample(frac=1)\n",
        "test_df = test_df.sample(frac=1)"
      ]
    },
    {
      "cell_type": "code",
      "execution_count": null,
      "metadata": {
        "colab": {
          "base_uri": "https://localhost:8080/"
        },
        "id": "9w_cDUwCYTpX",
        "outputId": "8fe46837-ef31-4471-91b2-9b2d5e6e3b2f",
        "scrolled": true
      },
      "outputs": [
        {
          "output_type": "stream",
          "name": "stdout",
          "text": [
            "Shape of Training df:  (3613, 4)\n",
            "Shape of Testing df:  (347, 4)\n"
          ]
        }
      ],
      "source": [
        "print(\"Shape of Training df: \", train_df.shape)\n",
        "print(\"Shape of Testing df: \", test_df.shape)"
      ]
    },
    {
      "cell_type": "markdown",
      "metadata": {
        "id": "escCgU1zYTpX"
      },
      "source": [
        "---\n",
        "##### <a id='toc1_5_1_1_1_'></a>[**>>> Exercise 1 (Take home):**](#toc0_)\n",
        "Plot word frequency for Top 30 words in both train and test dataset. (Hint: refer to DM lab 1)\n"
      ]
    },
    {
      "cell_type": "code",
      "execution_count": null,
      "metadata": {
        "id": "HoXjet3pYTpo",
        "colab": {
          "base_uri": "https://localhost:8080/",
          "height": 574
        },
        "outputId": "9fb5326b-2601-4313-a36f-45a1bdbc1837"
      },
      "outputs": [
        {
          "output_type": "stream",
          "name": "stderr",
          "text": [
            "[nltk_data] Downloading package stopwords to /root/nltk_data...\n",
            "[nltk_data]   Unzipping corpora/stopwords.zip.\n"
          ]
        },
        {
          "output_type": "display_data",
          "data": {
            "text/plain": [
              "<Figure size 1800x600 with 2 Axes>"
            ],
            "image/png": "[encoded data removed]"
          },
          "metadata": {}
        }
      ],
      "source": [
        "# Exercise 1: Plot word frequency for Top 30 words in both train and test dataset\n",
        "import matplotlib.pyplot as plt\n",
        "from collections import Counter\n",
        "import nltk\n",
        "from nltk.corpus import stopwords\n",
        "import string\n",
        "\n",
        "# Download stopwords if not already done\n",
        "nltk.download('stopwords')\n",
        "\n",
        "# Function to clean and tokenize text\n",
        "def preprocess_text(text_series):\n",
        "    stop_words = set(stopwords.words('english'))\n",
        "    all_words = []\n",
        "    for text in text_series:\n",
        "        words = text.lower().translate(str.maketrans('', '', string.punctuation)).split()\n",
        "        words = [w for w in words if w not in stop_words]\n",
        "        all_words.extend(words)\n",
        "    return all_words\n",
        "\n",
        "# Preprocess and get word frequencies\n",
        "train_words = preprocess_text(train_df['text'])\n",
        "test_words = preprocess_text(test_df['text'])\n",
        "\n",
        "train_freq = Counter(train_words).most_common(30)\n",
        "test_freq = Counter(test_words).most_common(30)\n",
        "\n",
        "# Convert to dicts for plotting\n",
        "train_words, train_counts = zip(*train_freq)\n",
        "test_words, test_counts = zip(*test_freq)\n",
        "\n",
        "# Plotting\n",
        "fig, axes = plt.subplots(1, 2, figsize=(18, 6))\n",
        "\n",
        "axes[0].barh(train_words[::-1], train_counts[::-1])\n",
        "axes[0].set_title(\"Top 30 Words in Training Set\")\n",
        "axes[0].set_xlabel(\"Frequency\")\n",
        "\n",
        "axes[1].barh(test_words[::-1], test_counts[::-1])\n",
        "axes[1].set_title(\"Top 30 Words in Testing Set\")\n",
        "axes[1].set_xlabel(\"Frequency\")\n",
        "\n",
        "plt.tight_layout()\n",
        "plt.show()\n"
      ]
    },
    {
      "cell_type": "markdown",
      "metadata": {
        "id": "_hr8aKhlYTpo"
      },
      "source": [
        "---\n",
        "### <a id='toc1_5_2_'></a>[**1.2 Save data**](#toc0_)"
      ]
    },
    {
      "cell_type": "markdown",
      "metadata": {
        "id": "Zm6GF2VvYTpo"
      },
      "source": [
        "We will save our data in Pickle format. The pickle module implements binary protocols for serializing and de-serializing a Python object structure.   \n",
        "  \n",
        "Some advantages for using pickle structure:  \n",
        "* Because it stores the attribute type, it's more convenient for cross-platform use.  \n",
        "* When your data is huge, it could use less space to store also consume less loading time.   "
      ]
    },
    {
      "cell_type": "code",
      "execution_count": null,
      "metadata": {
        "id": "dZzepBdpYTpo"
      },
      "outputs": [],
      "source": [
        "# save to pickle file\n",
        "train_df.to_pickle(\"./DM2025-Lab2-Exercise/data/train_df.pkl\")\n",
        "test_df.to_pickle(\"./DM2025-Lab2-Exercise/data/test_df.pkl\")"
      ]
    },
    {
      "cell_type": "code",
      "execution_count": null,
      "metadata": {
        "id": "H5uO-kOUYTpo"
      },
      "outputs": [],
      "source": [
        "import pandas as pd\n",
        "\n",
        "# load a pickle file\n",
        "train_df = pd.read_pickle(\"./DM2025-Lab2-Exercise/data/train_df.pkl\")\n",
        "test_df = pd.read_pickle(\"./DM2025-Lab2-Exercise/data/test_df.pkl\")"
      ]
    },
    {
      "cell_type": "markdown",
      "metadata": {
        "id": "_sLDcQzeYTpo"
      },
      "source": [
        "For more information: https://reurl.cc/0Dzqx"
      ]
    },
    {
      "cell_type": "markdown",
      "metadata": {
        "id": "dKHpxTzLYTpo"
      },
      "source": [
        "---\n",
        "### <a id='toc1_5_3_'></a>[**1.3 Exploratory data analysis (EDA)**](#toc0_)\n",
        "\n",
        "Again, before getting our hands dirty, we need to explore a little bit and understand the data we're dealing with."
      ]
    },
    {
      "cell_type": "code",
      "execution_count": null,
      "metadata": {
        "colab": {
          "base_uri": "https://localhost:8080/",
          "height": 241
        },
        "id": "mLnEEliCYTpo",
        "outputId": "c11ba1c3-7c5d-46e7-f098-a23928100ece"
      },
      "outputs": [
        {
          "output_type": "execute_result",
          "data": {
            "text/plain": [
              "emotion\n",
              "anger       857\n",
              "fear       1147\n",
              "joy         823\n",
              "sadness     786\n",
              "Name: text, dtype: int64"
            ],
            "text/html": [
              "<div>\n",
              "<style scoped>\n",
              "    .dataframe tbody tr th:only-of-type {\n",
              "        vertical-align: middle;\n",
              "    }\n",
              "\n",
              "    .dataframe tbody tr th {\n",
              "        vertical-align: top;\n",
              "    }\n",
              "\n",
              "    .dataframe thead th {\n",
              "        text-align: right;\n",
              "    }\n",
              "</style>\n",
              "<table border=\"1\" class=\"dataframe\">\n",
              "  <thead>\n",
              "    <tr style=\"text-align: right;\">\n",
              "      <th></th>\n",
              "      <th>text</th>\n",
              "    </tr>\n",
              "    <tr>\n",
              "      <th>emotion</th>\n",
              "      <th></th>\n",
              "    </tr>\n",
              "  </thead>\n",
              "  <tbody>\n",
              "    <tr>\n",
              "      <th>anger</th>\n",
              "      <td>857</td>\n",
              "    </tr>\n",
              "    <tr>\n",
              "      <th>fear</th>\n",
              "      <td>1147</td>\n",
              "    </tr>\n",
              "    <tr>\n",
              "      <th>joy</th>\n",
              "      <td>823</td>\n",
              "    </tr>\n",
              "    <tr>\n",
              "      <th>sadness</th>\n",
              "      <td>786</td>\n",
              "    </tr>\n",
              "  </tbody>\n",
              "</table>\n",
              "</div><br><label><b>dtype:</b> int64</label>"
            ]
          },
          "metadata": {},
          "execution_count": 17
        }
      ],
      "source": [
        "# group to find distribution\n",
        "train_df.groupby(['emotion']).count()['text']"
      ]
    },
    {
      "cell_type": "code",
      "execution_count": null,
      "metadata": {
        "colab": {
          "base_uri": "https://localhost:8080/",
          "height": 333
        },
        "id": "pcVOe8nYYTpo",
        "outputId": "4e3f97de-c709-40c7-a498-dfbaf5331ab7"
      },
      "outputs": [
        {
          "output_type": "display_data",
          "data": {
            "text/plain": [
              "<Figure size 500x300 with 1 Axes>"
            ],
            "image/png": "[encoded data removed]"
          },
          "metadata": {}
        }
      ],
      "source": [
        "%matplotlib inline\n",
        "import numpy as np\n",
        "import matplotlib.pyplot as plt\n",
        "\n",
        "# the histogram of the data\n",
        "labels = train_df['emotion'].unique()\n",
        "post_total = len(train_df)\n",
        "df1 = train_df.groupby(['emotion']).count()['text']\n",
        "df1 = df1.apply(lambda x: round(x*100/post_total,3))\n",
        "\n",
        "#plot\n",
        "fig, ax = plt.subplots(figsize=(5,3))\n",
        "plt.bar(df1.index,df1.values)\n",
        "\n",
        "#arrange\n",
        "plt.ylabel('% of instances')\n",
        "plt.xlabel('Emotion')\n",
        "plt.title('Emotion distribution')\n",
        "plt.grid(True)\n",
        "plt.show()"
      ]
    },
    {
      "cell_type": "markdown",
      "metadata": {
        "id": "B_jGcireYTpo"
      },
      "source": [
        "---"
      ]
    },
    {
      "cell_type": "markdown",
      "metadata": {
        "id": "hgHvhTJuYTpo"
      },
      "source": [
        "## <a id='toc1_6_'></a>[**2. Feature engineering**](#toc0_)\n",
        "### <a id='toc1_6_1_'></a>[Using Bag of Words](#toc0_)\n",
        "Using scikit-learn ```CountVectorizer``` perform word frequency and use these as features to train a model.  \n",
        "http://scikit-learn.org/stable/modules/generated/sklearn.feature_extraction.text.CountVectorizer.html"
      ]
    },
    {
      "cell_type": "code",
      "execution_count": null,
      "metadata": {
        "id": "rbl89LPUYTpo"
      },
      "outputs": [],
      "source": [
        "from sklearn.feature_extraction.text import CountVectorizer"
      ]
    },
    {
      "cell_type": "code",
      "execution_count": null,
      "metadata": {
        "id": "Bo8_GP6qYTpo"
      },
      "outputs": [],
      "source": [
        "# build analyzers (bag-of-words)\n",
        "BOW_vectorizer = CountVectorizer()"
      ]
    },
    {
      "cell_type": "code",
      "execution_count": null,
      "metadata": {
        "id": "Bz_m0xn7YTpo"
      },
      "outputs": [],
      "source": [
        "# 1. Learn a vocabulary dictionary of all tokens in the raw documents.\n",
        "BOW_vectorizer.fit(train_df['text'])\n",
        "\n",
        "# 2. Transform documents to document-term matrix.\n",
        "train_data_BOW_features = BOW_vectorizer.transform(train_df['text'])\n",
        "test_data_BOW_features = BOW_vectorizer.transform(test_df['text'])"
      ]
    },
    {
      "cell_type": "code",
      "execution_count": null,
      "metadata": {
        "colab": {
          "base_uri": "https://localhost:8080/"
        },
        "id": "5cpCUVN8YTpo",
        "outputId": "caea56bd-c98f-49bb-b768-80b955569145"
      },
      "outputs": [
        {
          "output_type": "execute_result",
          "data": {
            "text/plain": [
              "<3613x10115 sparse matrix of type '<class 'numpy.int64'>'\n",
              "\twith 51467 stored elements in Compressed Sparse Row format>"
            ]
          },
          "metadata": {},
          "execution_count": 54
        }
      ],
      "source": [
        "# check the result\n",
        "train_data_BOW_features"
      ]
    },
    {
      "cell_type": "code",
      "execution_count": null,
      "metadata": {
        "colab": {
          "base_uri": "https://localhost:8080/",
          "height": 186
        },
        "id": "irGLsag-YTpo",
        "outputId": "15244910-597f-4c85-ed8e-77e03879bf86"
      },
      "outputs": [
        {
          "output_type": "execute_result",
          "data": {
            "text/plain": [
              "scipy.sparse._csr.csr_matrix"
            ],
            "text/html": [
              "<div style=\"max-width:800px; border: 1px solid var(--colab-border-color);\"><style>\n",
              "      pre.function-repr-contents {\n",
              "        overflow-x: auto;\n",
              "        padding: 8px 12px;\n",
              "        max-height: 500px;\n",
              "      }\n",
              "\n",
              "      pre.function-repr-contents.function-repr-contents-collapsed {\n",
              "        cursor: pointer;\n",
              "        max-height: 100px;\n",
              "      }\n",
              "    </style>\n",
              "    <pre style=\"white-space: initial; background:\n",
              "         var(--colab-secondary-surface-color); padding: 8px 12px;\n",
              "         border-bottom: 1px solid var(--colab-border-color);\"><b>scipy.sparse._csr.csr_matrix</b><br/>def __init__(arg1, shape=None, dtype=None, copy=False)</pre><pre class=\"function-repr-contents function-repr-contents-collapsed\" style=\"\"><a class=\"filepath\" style=\"display:none\" href=\"#\">/usr/local/lib/python3.12/dist-packages/scipy/sparse/_csr.py</a>Compressed Sparse Row matrix.\n",
              "\n",
              "This can be instantiated in several ways:\n",
              "    csr_matrix(D)\n",
              "        where D is a 2-D ndarray\n",
              "\n",
              "    csr_matrix(S)\n",
              "        with another sparse array or matrix S (equivalent to S.tocsr())\n",
              "\n",
              "    csr_matrix((M, N), [dtype])\n",
              "        to construct an empty matrix with shape (M, N)\n",
              "        dtype is optional, defaulting to dtype=&#x27;d&#x27;.\n",
              "\n",
              "    csr_matrix((data, (row_ind, col_ind)), [shape=(M, N)])\n",
              "        where ``data``, ``row_ind`` and ``col_ind`` satisfy the\n",
              "        relationship ``a[row_ind[k], col_ind[k]] = data[k]``.\n",
              "\n",
              "    csr_matrix((data, indices, indptr), [shape=(M, N)])\n",
              "        is the standard CSR representation where the column indices for\n",
              "        row i are stored in ``indices[indptr[i]:indptr[i+1]]`` and their\n",
              "        corresponding values are stored in ``data[indptr[i]:indptr[i+1]]``.\n",
              "        If the shape parameter is not supplied, the matrix dimensions\n",
              "        are inferred from the index arrays.\n",
              "\n",
              "Attributes\n",
              "----------\n",
              "dtype : dtype\n",
              "    Data type of the matrix\n",
              "shape : 2-tuple\n",
              "    Shape of the matrix\n",
              "ndim : int\n",
              "    Number of dimensions (this is always 2)\n",
              "nnz\n",
              "size\n",
              "data\n",
              "    CSR format data array of the matrix\n",
              "indices\n",
              "    CSR format index array of the matrix\n",
              "indptr\n",
              "    CSR format index pointer array of the matrix\n",
              "has_sorted_indices\n",
              "has_canonical_format\n",
              "T\n",
              "\n",
              "Notes\n",
              "-----\n",
              "\n",
              "Sparse matrices can be used in arithmetic operations: they support\n",
              "addition, subtraction, multiplication, division, and matrix power.\n",
              "\n",
              "Advantages of the CSR format\n",
              "  - efficient arithmetic operations CSR + CSR, CSR * CSR, etc.\n",
              "  - efficient row slicing\n",
              "  - fast matrix vector products\n",
              "\n",
              "Disadvantages of the CSR format\n",
              "  - slow column slicing operations (consider CSC)\n",
              "  - changes to the sparsity structure are expensive (consider LIL or DOK)\n",
              "\n",
              "Canonical Format\n",
              "    - Within each row, indices are sorted by column.\n",
              "    - There are no duplicate entries.\n",
              "\n",
              "Examples\n",
              "--------\n",
              "\n",
              "&gt;&gt;&gt; import numpy as np\n",
              "&gt;&gt;&gt; from scipy.sparse import csr_matrix\n",
              "&gt;&gt;&gt; csr_matrix((3, 4), dtype=np.int8).toarray()\n",
              "array([[0, 0, 0, 0],\n",
              "       [0, 0, 0, 0],\n",
              "       [0, 0, 0, 0]], dtype=int8)\n",
              "\n",
              "&gt;&gt;&gt; row = np.array([0, 0, 1, 2, 2, 2])\n",
              "&gt;&gt;&gt; col = np.array([0, 2, 2, 0, 1, 2])\n",
              "&gt;&gt;&gt; data = np.array([1, 2, 3, 4, 5, 6])\n",
              "&gt;&gt;&gt; csr_matrix((data, (row, col)), shape=(3, 3)).toarray()\n",
              "array([[1, 0, 2],\n",
              "       [0, 0, 3],\n",
              "       [4, 5, 6]])\n",
              "\n",
              "&gt;&gt;&gt; indptr = np.array([0, 2, 3, 6])\n",
              "&gt;&gt;&gt; indices = np.array([0, 2, 2, 0, 1, 2])\n",
              "&gt;&gt;&gt; data = np.array([1, 2, 3, 4, 5, 6])\n",
              "&gt;&gt;&gt; csr_matrix((data, indices, indptr), shape=(3, 3)).toarray()\n",
              "array([[1, 0, 2],\n",
              "       [0, 0, 3],\n",
              "       [4, 5, 6]])\n",
              "\n",
              "Duplicate entries are summed together:\n",
              "\n",
              "&gt;&gt;&gt; row = np.array([0, 1, 2, 0])\n",
              "&gt;&gt;&gt; col = np.array([0, 1, 1, 0])\n",
              "&gt;&gt;&gt; data = np.array([1, 2, 4, 8])\n",
              "&gt;&gt;&gt; csr_matrix((data, (row, col)), shape=(3, 3)).toarray()\n",
              "array([[9, 0, 0],\n",
              "       [0, 2, 0],\n",
              "       [0, 4, 0]])\n",
              "\n",
              "As an example of how to construct a CSR matrix incrementally,\n",
              "the following snippet builds a term-document matrix from texts:\n",
              "\n",
              "&gt;&gt;&gt; docs = [[&quot;hello&quot;, &quot;world&quot;, &quot;hello&quot;], [&quot;goodbye&quot;, &quot;cruel&quot;, &quot;world&quot;]]\n",
              "&gt;&gt;&gt; indptr = [0]\n",
              "&gt;&gt;&gt; indices = []\n",
              "&gt;&gt;&gt; data = []\n",
              "&gt;&gt;&gt; vocabulary = {}\n",
              "&gt;&gt;&gt; for d in docs:\n",
              "...     for term in d:\n",
              "...         index = vocabulary.setdefault(term, len(vocabulary))\n",
              "...         indices.append(index)\n",
              "...         data.append(1)\n",
              "...     indptr.append(len(indices))\n",
              "...\n",
              "&gt;&gt;&gt; csr_matrix((data, indices, indptr), dtype=int).toarray()\n",
              "array([[2, 1, 0, 0],\n",
              "       [0, 1, 1, 1]])</pre>\n",
              "      <script>\n",
              "      if (google.colab.kernel.accessAllowed && google.colab.files && google.colab.files.view) {\n",
              "        for (const element of document.querySelectorAll('.filepath')) {\n",
              "          element.style.display = 'block'\n",
              "          element.onclick = (event) => {\n",
              "            event.preventDefault();\n",
              "            event.stopPropagation();\n",
              "            google.colab.files.view(element.textContent, 370);\n",
              "          };\n",
              "        }\n",
              "      }\n",
              "      for (const element of document.querySelectorAll('.function-repr-contents')) {\n",
              "        element.onclick = (event) => {\n",
              "          event.preventDefault();\n",
              "          event.stopPropagation();\n",
              "          element.classList.toggle('function-repr-contents-collapsed');\n",
              "        };\n",
              "      }\n",
              "      </script>\n",
              "      </div>"
            ]
          },
          "metadata": {},
          "execution_count": 56
        }
      ],
      "source": [
        "type(train_data_BOW_features)"
      ]
    },
    {
      "cell_type": "code",
      "execution_count": null,
      "metadata": {
        "colab": {
          "base_uri": "https://localhost:8080/"
        },
        "id": "WqbR8KWNYTpo",
        "outputId": "2f99d68e-ff25-440f-b157-1a9cba28eadc",
        "scrolled": true
      },
      "outputs": [
        {
          "output_type": "execute_result",
          "data": {
            "text/plain": [
              "array([[0, 0, 0, ..., 0, 0, 0],\n",
              "       [0, 0, 0, ..., 0, 0, 0],\n",
              "       [0, 0, 0, ..., 0, 0, 0],\n",
              "       ...,\n",
              "       [0, 0, 0, ..., 0, 0, 0],\n",
              "       [0, 0, 0, ..., 0, 0, 0],\n",
              "       [0, 0, 0, ..., 0, 0, 0]])"
            ]
          },
          "metadata": {},
          "execution_count": 57
        }
      ],
      "source": [
        "# add .toarray() to show\n",
        "train_data_BOW_features.toarray()"
      ]
    },
    {
      "cell_type": "code",
      "execution_count": null,
      "metadata": {
        "colab": {
          "base_uri": "https://localhost:8080/"
        },
        "id": "mL0xkGyGYTpo",
        "outputId": "16733830-7e01-4871-a2d9-fa11618c48f5",
        "scrolled": false
      },
      "outputs": [
        {
          "output_type": "execute_result",
          "data": {
            "text/plain": [
              "(3613, 10115)"
            ]
          },
          "metadata": {},
          "execution_count": 58
        }
      ],
      "source": [
        "# check the dimension\n",
        "train_data_BOW_features.shape"
      ]
    },
    {
      "cell_type": "code",
      "execution_count": null,
      "metadata": {
        "colab": {
          "base_uri": "https://localhost:8080/"
        },
        "id": "iyRaxyBZYTpo",
        "outputId": "17df4d65-43ed-49bd-fec4-573f11846692"
      },
      "outputs": [
        {
          "output_type": "execute_result",
          "data": {
            "text/plain": [
              "array(['2k17', '2much', '2nd', '30', '300', '301', '30am', '30pm', '30s',\n",
              "       '31'], dtype=object)"
            ]
          },
          "metadata": {},
          "execution_count": 59
        }
      ],
      "source": [
        "# observe some feature names\n",
        "feature_names = BOW_vectorizer.get_feature_names_out()\n",
        "feature_names[100:110]"
      ]
    },
    {
      "cell_type": "markdown",
      "metadata": {
        "id": "roSfgQKaYTpo"
      },
      "source": [
        "The embedding is done. We can technically feed this into our model. However, depending on the embedding technique you use and your model, your accuracy might not be as high, because:\n",
        "\n",
        "* curse of dimensionality  (we have 10,115 dimension now)\n",
        "* some important features are ignored (for example, some models using emoticons yeld better performance than counterparts)"
      ]
    },
    {
      "cell_type": "code",
      "execution_count": null,
      "metadata": {
        "colab": {
          "base_uri": "https://localhost:8080/"
        },
        "id": "kx4YPbrdYTpo",
        "outputId": "beea1d1d-c61b-4476-e334-341c0ce96979"
      },
      "outputs": [
        {
          "output_type": "execute_result",
          "data": {
            "text/plain": [
              "False"
            ]
          },
          "metadata": {},
          "execution_count": 60
        }
      ],
      "source": [
        "\"😂\" in feature_names"
      ]
    },
    {
      "cell_type": "markdown",
      "metadata": {
        "id": "0MFzyA95YTpo"
      },
      "source": [
        "Let's try using another tokenizer below."
      ]
    },
    {
      "cell_type": "code",
      "execution_count": null,
      "metadata": {
        "colab": {
          "base_uri": "https://localhost:8080/"
        },
        "id": "SttodxACYTpo",
        "outputId": "07283f8d-e408-4655-beb9-ee6bd99ef7cd"
      },
      "outputs": [
        {
          "output_type": "stream",
          "name": "stderr",
          "text": [
            "[nltk_data] Downloading package punkt_tab to /root/nltk_data...\n",
            "[nltk_data]   Package punkt_tab is already up-to-date!\n",
            "/usr/local/lib/python3.12/dist-packages/sklearn/feature_extraction/text.py:517: UserWarning: The parameter 'token_pattern' will not be used since 'tokenizer' is not None'\n",
            "  warnings.warn(\n"
          ]
        },
        {
          "output_type": "execute_result",
          "data": {
            "text/plain": [
              "(3613, 500)"
            ]
          },
          "metadata": {},
          "execution_count": 61
        }
      ],
      "source": [
        "import nltk\n",
        "nltk.download('punkt_tab')\n",
        "# build analyzers (bag-of-words)\n",
        "BOW_500 = CountVectorizer(max_features=500, tokenizer=nltk.word_tokenize)\n",
        "\n",
        "# apply analyzer to training data\n",
        "BOW_500.fit(train_df['text'])\n",
        "\n",
        "train_data_BOW_features_500 = BOW_500.transform(train_df['text'])\n",
        "\n",
        "## check dimension\n",
        "train_data_BOW_features_500.shape"
      ]
    },
    {
      "cell_type": "code",
      "execution_count": null,
      "metadata": {
        "colab": {
          "base_uri": "https://localhost:8080/"
        },
        "id": "sPi42W0pYTpo",
        "outputId": "3d0f321b-440b-4a20-b040-dd3cd6f84a18"
      },
      "outputs": [
        {
          "output_type": "execute_result",
          "data": {
            "text/plain": [
              "array([[0, 0, 0, ..., 0, 0, 0],\n",
              "       [0, 0, 0, ..., 0, 0, 0],\n",
              "       [1, 0, 0, ..., 0, 0, 0],\n",
              "       ...,\n",
              "       [0, 0, 0, ..., 0, 0, 0],\n",
              "       [0, 0, 0, ..., 0, 0, 0],\n",
              "       [1, 0, 0, ..., 0, 0, 0]])"
            ]
          },
          "metadata": {},
          "execution_count": 62
        }
      ],
      "source": [
        "train_data_BOW_features_500.toarray()"
      ]
    },
    {
      "cell_type": "code",
      "execution_count": null,
      "metadata": {
        "colab": {
          "base_uri": "https://localhost:8080/"
        },
        "id": "JCgAnTOfYTpo",
        "outputId": "eadaecf5-e5e1-43ed-8775-b799ccb2fdd1"
      },
      "outputs": [
        {
          "output_type": "execute_result",
          "data": {
            "text/plain": [
              "array(['change', 'cheer', 'cheerful', 'cheerfully', 'cheering', 'cheery',\n",
              "       'come', 'comes', 'could', 'country'], dtype=object)"
            ]
          },
          "metadata": {},
          "execution_count": 63
        }
      ],
      "source": [
        "# observe some feature names\n",
        "feature_names_500 = BOW_500.get_feature_names_out()\n",
        "feature_names_500[100:110]"
      ]
    },
    {
      "cell_type": "code",
      "execution_count": null,
      "metadata": {
        "colab": {
          "base_uri": "https://localhost:8080/"
        },
        "id": "ubgedNi4YTpo",
        "outputId": "51f57bc0-e340-43fa-f7f5-fb7c0a929f10"
      },
      "outputs": [
        {
          "output_type": "execute_result",
          "data": {
            "text/plain": [
              "True"
            ]
          },
          "metadata": {},
          "execution_count": 64
        }
      ],
      "source": [
        "\"😂\" in feature_names_500"
      ]
    },
    {
      "cell_type": "markdown",
      "metadata": {
        "id": "fj6TV4ngYTpo"
      },
      "source": [
        "---\n",
        "##### <a id='toc1_6_1_1_1_'></a>[**>>> Exercise 2 (Take home):**](#toc0_)\n",
        "Generate an embedding using the TF-IDF vectorizer instead of th BOW one with 1000 features and show the feature names for features [100:110]."
      ]
    },
    {
      "cell_type": "code",
      "execution_count": null,
      "metadata": {
        "id": "BOjVbgmxYTpo",
        "colab": {
          "base_uri": "https://localhost:8080/"
        },
        "outputId": "520e5208-589a-4438-ca8b-1cc1df39a863"
      },
      "outputs": [
        {
          "output_type": "stream",
          "name": "stderr",
          "text": [
            "[nltk_data] Downloading package punkt to /root/nltk_data...\n",
            "[nltk_data]   Package punkt is already up-to-date!\n"
          ]
        },
        {
          "output_type": "stream",
          "name": "stdout",
          "text": [
            "TF-IDF Train shape: (3613, 1000)\n",
            "TF-IDF Test shape: (347, 1000)\n",
            "Feature names [100:110]:\n",
            "['awful' 'b' 'baby' 'back' 'bad' 'ball' 'balls' 'bb18' 'bc' 'bday']\n"
          ]
        }
      ],
      "source": [
        "# Exercise 2: Generate TF-IDF embedding with 1000 features\n",
        "from sklearn.feature_extraction.text import TfidfVectorizer\n",
        "import nltk\n",
        "\n",
        "# make sure tokenizer is available\n",
        "nltk.download('punkt')\n",
        "\n",
        "# build TF-IDF vectorizer (tokenizer = nltk.word_tokenize for better tokenization)\n",
        "TFIDF_vectorizer = TfidfVectorizer(max_features=1000, tokenizer=nltk.word_tokenize)\n",
        "\n",
        "# learn vocabulary and idf from training data\n",
        "TFIDF_vectorizer.fit(train_df['text'])\n",
        "\n",
        "# transform train and test data\n",
        "train_data_TFIDF_features = TFIDF_vectorizer.transform(train_df['text'])\n",
        "test_data_TFIDF_features = TFIDF_vectorizer.transform(test_df['text'])\n",
        "\n",
        "# check dimensions\n",
        "print(\"TF-IDF Train shape:\", train_data_TFIDF_features.shape)\n",
        "print(\"TF-IDF Test shape:\", test_data_TFIDF_features.shape)\n",
        "\n",
        "# observe feature names\n",
        "feature_names_TFIDF = TFIDF_vectorizer.get_feature_names_out()\n",
        "print(\"Feature names [100:110]:\")\n",
        "print(feature_names_TFIDF[100:110])\n"
      ]
    },
    {
      "cell_type": "markdown",
      "metadata": {
        "id": "e0BvbNAVYTpo"
      },
      "source": [
        "---\n",
        "## <a id='toc1_7_'></a>[**3. Model**](#toc0_)\n",
        "### <a id='toc1_7_1_'></a>[**3.1 Decision Trees**](#toc0_)\n",
        "Using scikit-learn ```DecisionTreeClassifier``` performs word frequency and uses these as features to train a model.  \n",
        "http://scikit-learn.org/stable/modules/generated/sklearn.tree.DecisionTreeClassifier.html#sklearn.tree.DecisionTreeClassifier"
      ]
    },
    {
      "cell_type": "code",
      "execution_count": null,
      "metadata": {
        "colab": {
          "base_uri": "https://localhost:8080/"
        },
        "id": "SD0rMWKgYTpo",
        "outputId": "2c4c3668-fc5b-4241-c5fd-9dc2ca5ed5a7"
      },
      "outputs": [
        {
          "output_type": "stream",
          "name": "stdout",
          "text": [
            "X_train.shape:  (3613, 500)\n",
            "y_train.shape:  (3613,)\n",
            "X_test.shape:  (347, 500)\n",
            "y_test.shape:  (347,)\n"
          ]
        }
      ],
      "source": [
        "from sklearn.tree import DecisionTreeClassifier\n",
        "\n",
        "# for a classificaiton problem, you need to provide both training & testing data\n",
        "X_train = BOW_500.transform(train_df['text'])\n",
        "y_train = train_df['emotion']\n",
        "\n",
        "X_test = BOW_500.transform(test_df['text'])\n",
        "y_test = test_df['emotion']\n",
        "\n",
        "## take a look at data dimension is a good habit  :)\n",
        "print('X_train.shape: ', X_train.shape)\n",
        "print('y_train.shape: ', y_train.shape)\n",
        "print('X_test.shape: ', X_test.shape)\n",
        "print('y_test.shape: ', y_test.shape)"
      ]
    },
    {
      "cell_type": "code",
      "execution_count": null,
      "metadata": {
        "colab": {
          "base_uri": "https://localhost:8080/"
        },
        "id": "iDuvLf7TYTpo",
        "outputId": "c993fb39-b5d7-4e03-949b-310146693f5b"
      },
      "outputs": [
        {
          "output_type": "execute_result",
          "data": {
            "text/plain": [
              "array(['sadness', 'anger', 'anger', 'fear', 'sadness', 'fear', 'joy',\n",
              "       'anger', 'sadness', 'anger'], dtype=object)"
            ]
          },
          "metadata": {},
          "execution_count": 67
        }
      ],
      "source": [
        "## build DecisionTree model\n",
        "DT_model = DecisionTreeClassifier(random_state=1)\n",
        "\n",
        "## training!\n",
        "DT_model = DT_model.fit(X_train, y_train)\n",
        "\n",
        "## predict!\n",
        "y_train_pred = DT_model.predict(X_train)\n",
        "y_test_pred = DT_model.predict(X_test)\n",
        "\n",
        "## so we get the pred result\n",
        "y_test_pred[:10]"
      ]
    },
    {
      "cell_type": "markdown",
      "metadata": {
        "id": "iBNmBT50YTpo"
      },
      "source": [
        "---\n",
        "## <a id='toc1_8_'></a>[**4. Results Evaluation**](#toc0_)"
      ]
    },
    {
      "cell_type": "markdown",
      "metadata": {
        "id": "-gQU_PbhYTpo"
      },
      "source": [
        "Now we will check the results of our model's performance"
      ]
    },
    {
      "cell_type": "code",
      "execution_count": null,
      "metadata": {
        "colab": {
          "base_uri": "https://localhost:8080/"
        },
        "id": "A9yx3tv-YTpo",
        "outputId": "5d7c77df-9fe3-47fe-ebe9-14eec92de415"
      },
      "outputs": [
        {
          "output_type": "stream",
          "name": "stdout",
          "text": [
            "training accuracy: 0.99\n",
            "testing accuracy: 0.68\n"
          ]
        }
      ],
      "source": [
        "## accuracy\n",
        "from sklearn.metrics import accuracy_score\n",
        "\n",
        "acc_train = accuracy_score(y_true=y_train, y_pred=y_train_pred)\n",
        "acc_test = accuracy_score(y_true=y_test, y_pred=y_test_pred)\n",
        "\n",
        "print('training accuracy: {}'.format(round(acc_train, 2)))\n",
        "print('testing accuracy: {}'.format(round(acc_test, 2)))\n"
      ]
    },
    {
      "cell_type": "code",
      "execution_count": null,
      "metadata": {
        "colab": {
          "base_uri": "https://localhost:8080/"
        },
        "id": "-wkOqjqiYTpo",
        "outputId": "f3162217-d3bb-49ba-ff4a-f48678045381"
      },
      "outputs": [
        {
          "output_type": "stream",
          "name": "stdout",
          "text": [
            "              precision    recall  f1-score   support\n",
            "\n",
            "       anger       0.66      0.68      0.67        84\n",
            "        fear       0.66      0.69      0.67       110\n",
            "         joy       0.72      0.71      0.71        79\n",
            "     sadness       0.70      0.64      0.67        74\n",
            "\n",
            "    accuracy                           0.68       347\n",
            "   macro avg       0.68      0.68      0.68       347\n",
            "weighted avg       0.68      0.68      0.68       347\n",
            "\n"
          ]
        }
      ],
      "source": [
        "## precision, recall, f1-score,\n",
        "from sklearn.metrics import classification_report\n",
        "\n",
        "print(classification_report(y_true=y_test, y_pred=y_test_pred))"
      ]
    },
    {
      "cell_type": "code",
      "execution_count": null,
      "metadata": {
        "colab": {
          "base_uri": "https://localhost:8080/"
        },
        "id": "N6mhrmKHYTpo",
        "outputId": "232f7254-cde3-4ba3-a7a6-43536784bd49"
      },
      "outputs": [
        {
          "output_type": "stream",
          "name": "stdout",
          "text": [
            "[[57 18  6  3]\n",
            " [16 76  9  9]\n",
            " [ 6  9 56  8]\n",
            " [ 7 13  7 47]]\n"
          ]
        }
      ],
      "source": [
        "## check by confusion matrix\n",
        "from sklearn.metrics import confusion_matrix\n",
        "\n",
        "cm = confusion_matrix(y_true=y_test, y_pred=y_test_pred)\n",
        "print(cm)"
      ]
    },
    {
      "cell_type": "code",
      "execution_count": null,
      "metadata": {
        "id": "-TcX8NA5YTpo"
      },
      "outputs": [],
      "source": [
        "# Funciton for visualizing confusion_matrix\n",
        "import matplotlib.pyplot as plt\n",
        "import seaborn as sns\n",
        "import numpy as np\n",
        "import itertools\n",
        "\n",
        "def plot_confusion_matrix(cm, classes, title='Confusion matrix',\n",
        "                          cmap=sns.cubehelix_palette(as_cmap=True)):\n",
        "    \"\"\"\n",
        "    This function is modified from:\n",
        "    http://scikit-learn.org/stable/auto_examples/model_selection/plot_confusion_matrix.html\n",
        "    \"\"\"\n",
        "    classes.sort()\n",
        "    tick_marks = np.arange(len(classes))\n",
        "\n",
        "    fig, ax = plt.subplots(figsize=(5,5))\n",
        "    im = ax.imshow(cm, interpolation='nearest', cmap=cmap)\n",
        "    ax.figure.colorbar(im, ax=ax)\n",
        "    ax.set(xticks=np.arange(cm.shape[1]),\n",
        "           yticks=np.arange(cm.shape[0]),\n",
        "           xticklabels = classes,\n",
        "           yticklabels = classes,\n",
        "           title = title,\n",
        "           xlabel = 'Predicted label',\n",
        "           ylabel = 'True label')\n",
        "\n",
        "    fmt = 'd'\n",
        "    thresh = cm.max() / 2.\n",
        "    for i, j in itertools.product(range(cm.shape[0]), range(cm.shape[1])):\n",
        "        plt.text(j, i, format(cm[i, j], fmt), horizontalalignment=\"center\", color=\"white\" if cm[i, j] > thresh else \"black\")\n",
        "    ylim_top = len(classes) - 0.5\n",
        "    plt.ylim([ylim_top, -.5])\n",
        "    plt.tight_layout()\n",
        "    plt.show()"
      ]
    },
    {
      "cell_type": "code",
      "execution_count": null,
      "metadata": {
        "colab": {
          "base_uri": "https://localhost:8080/",
          "height": 501
        },
        "id": "1nBVOUpDYTpo",
        "outputId": "ee6562bd-529a-4205-807f-fd651a5994ff"
      },
      "outputs": [
        {
          "output_type": "display_data",
          "data": {
            "text/plain": [
              "<Figure size 500x500 with 2 Axes>"
            ],
            "image/png": "[encoded data removed]"
          },
          "metadata": {}
        }
      ],
      "source": [
        "# plot your confusion matrix\n",
        "my_tags = ['anger', 'fear', 'joy', 'sadness']\n",
        "plot_confusion_matrix(cm, classes=my_tags, title='Confusion matrix')"
      ]
    },
    {
      "cell_type": "markdown",
      "metadata": {
        "id": "l743vmwgYTpo"
      },
      "source": [
        "---\n",
        "##### <a id='toc1_8_1_1_1_'></a>[**>>> Exercise 3 (Take home):**](#toc0_)\n",
        "Can you interpret the results above? What do they mean?"
      ]
    },
    {
      "cell_type": "code",
      "execution_count": null,
      "metadata": {
        "id": "8pYICOxsYTpo"
      },
      "outputs": [],
      "source": [
        "# Answer here\n"
      ]
    },
    {
      "cell_type": "markdown",
      "metadata": {
        "id": "GaHpgl87YTpo"
      },
      "source": [
        "---\n",
        "##### <a id='toc1_8_1_1_2_'></a>[**>>> Exercise 4 (Take home):**](#toc0_)\n",
        "Build a model using a ```Naive Bayes``` model and train it. What are the testing results?\n",
        "\n",
        "*Reference*: https://scikit-learn.org/stable/modules/generated/sklearn.naive_bayes.MultinomialNB.html"
      ]
    },
    {
      "cell_type": "code",
      "execution_count": null,
      "metadata": {
        "id": "ZPvaHzpXYTpo",
        "colab": {
          "base_uri": "https://localhost:8080/",
          "height": 1000
        },
        "outputId": "29034834-a17f-4291-d3e5-95295c38ecd9"
      },
      "outputs": [
        {
          "output_type": "stream",
          "name": "stdout",
          "text": [
            "🧩 訓練集準確率: 0.79\n",
            "🧪 測試集準確率: 0.70\n",
            "\n",
            "📊 分類報告 (Testing Data):\n",
            "              precision    recall  f1-score   support\n",
            "\n",
            "       anger       0.63      0.65      0.64        84\n",
            "        fear       0.73      0.77      0.75       110\n",
            "         joy       0.78      0.71      0.74        79\n",
            "     sadness       0.64      0.62      0.63        74\n",
            "\n",
            "    accuracy                           0.70       347\n",
            "   macro avg       0.70      0.69      0.69       347\n",
            "weighted avg       0.70      0.70      0.70       347\n",
            "\n"
          ]
        },
        {
          "output_type": "stream",
          "name": "stderr",
          "text": [
            "/usr/local/lib/python3.12/dist-packages/IPython/core/pylabtools.py:151: UserWarning: Glyph 30495 (\\N{CJK UNIFIED IDEOGRAPH-771F}) missing from font(s) DejaVu Sans.\n",
            "  fig.canvas.print_figure(bytes_io, **kw)\n",
            "/usr/local/lib/python3.12/dist-packages/IPython/core/pylabtools.py:151: UserWarning: Glyph 23526 (\\N{CJK UNIFIED IDEOGRAPH-5BE6}) missing from font(s) DejaVu Sans.\n",
            "  fig.canvas.print_figure(bytes_io, **kw)\n",
            "/usr/local/lib/python3.12/dist-packages/IPython/core/pylabtools.py:151: UserWarning: Glyph 24773 (\\N{CJK UNIFIED IDEOGRAPH-60C5}) missing from font(s) DejaVu Sans.\n",
            "  fig.canvas.print_figure(bytes_io, **kw)\n",
            "/usr/local/lib/python3.12/dist-packages/IPython/core/pylabtools.py:151: UserWarning: Glyph 32210 (\\N{CJK UNIFIED IDEOGRAPH-7DD2}) missing from font(s) DejaVu Sans.\n",
            "  fig.canvas.print_figure(bytes_io, **kw)\n",
            "/usr/local/lib/python3.12/dist-packages/IPython/core/pylabtools.py:151: UserWarning: Glyph 28151 (\\N{CJK UNIFIED IDEOGRAPH-6DF7}) missing from font(s) DejaVu Sans.\n",
            "  fig.canvas.print_figure(bytes_io, **kw)\n",
            "/usr/local/lib/python3.12/dist-packages/IPython/core/pylabtools.py:151: UserWarning: Glyph 28102 (\\N{CJK UNIFIED IDEOGRAPH-6DC6}) missing from font(s) DejaVu Sans.\n",
            "  fig.canvas.print_figure(bytes_io, **kw)\n",
            "/usr/local/lib/python3.12/dist-packages/IPython/core/pylabtools.py:151: UserWarning: Glyph 30697 (\\N{CJK UNIFIED IDEOGRAPH-77E9}) missing from font(s) DejaVu Sans.\n",
            "  fig.canvas.print_figure(bytes_io, **kw)\n",
            "/usr/local/lib/python3.12/dist-packages/IPython/core/pylabtools.py:151: UserWarning: Glyph 38499 (\\N{CJK UNIFIED IDEOGRAPH-9663}) missing from font(s) DejaVu Sans.\n",
            "  fig.canvas.print_figure(bytes_io, **kw)\n",
            "/usr/local/lib/python3.12/dist-packages/IPython/core/pylabtools.py:151: UserWarning: Glyph 38928 (\\N{CJK UNIFIED IDEOGRAPH-9810}) missing from font(s) DejaVu Sans.\n",
            "  fig.canvas.print_figure(bytes_io, **kw)\n",
            "/usr/local/lib/python3.12/dist-packages/IPython/core/pylabtools.py:151: UserWarning: Glyph 28204 (\\N{CJK UNIFIED IDEOGRAPH-6E2C}) missing from font(s) DejaVu Sans.\n",
            "  fig.canvas.print_figure(bytes_io, **kw)\n"
          ]
        },
        {
          "output_type": "display_data",
          "data": {
            "text/plain": [
              "<Figure size 500x400 with 2 Axes>"
            ],
            "image/png": "[encoded data removed]"
          },
          "metadata": {}
        }
      ],
      "source": [
        "# Exercise 4: Naive Bayes 模型訓練與測試\n",
        "from sklearn.naive_bayes import MultinomialNB\n",
        "from sklearn.metrics import accuracy_score, classification_report, confusion_matrix\n",
        "import seaborn as sns\n",
        "import matplotlib.pyplot as plt\n",
        "\n",
        "# 我們這裡使用前面建立的 BOW_500 特徵\n",
        "X_train = BOW_500.transform(train_df['text'])\n",
        "y_train = train_df['emotion']\n",
        "\n",
        "X_test = BOW_500.transform(test_df['text'])\n",
        "y_test = test_df['emotion']\n",
        "\n",
        "# 建立並訓練模型\n",
        "NB_model = MultinomialNB()\n",
        "NB_model.fit(X_train, y_train)\n",
        "\n",
        "# 預測\n",
        "y_train_pred = NB_model.predict(X_train)\n",
        "y_test_pred = NB_model.predict(X_test)\n",
        "\n",
        "# 評估準確率\n",
        "acc_train = accuracy_score(y_train, y_train_pred)\n",
        "acc_test = accuracy_score(y_test, y_test_pred)\n",
        "\n",
        "print(f\"🧩 訓練集準確率: {acc_train:.2f}\")\n",
        "print(f\"🧪 測試集準確率: {acc_test:.2f}\")\n",
        "\n",
        "# 詳細報告\n",
        "print(\"\\n📊 分類報告 (Testing Data):\")\n",
        "print(classification_report(y_test, y_test_pred))\n",
        "\n",
        "# 混淆矩陣\n",
        "cm = confusion_matrix(y_test, y_test_pred)\n",
        "my_tags = ['anger', 'fear', 'joy', 'sadness']\n",
        "\n",
        "plt.figure(figsize=(5,4))\n",
        "sns.heatmap(cm, annot=True, fmt='d', cmap='Blues', xticklabels=my_tags, yticklabels=my_tags)\n",
        "plt.xlabel('預測情緒')\n",
        "plt.ylabel('真實情緒')\n",
        "plt.title('Naive Bayes 混淆矩陣')\n",
        "plt.show()\n"
      ]
    },
    {
      "cell_type": "markdown",
      "metadata": {
        "id": "Xv2DqWQSYTpo"
      },
      "source": [
        "---\n",
        "##### <a id='toc1_8_1_1_3_'></a>[**>>> Exercise 5 (Take home):**](#toc0_)\n",
        "\n",
        "How do the results from the Naive Bayes model and the Decision Tree model compare? How do you interpret these differences? Use the theoretical background covered in class to try and explain these differences."
      ]
    },
    {
      "cell_type": "code",
      "execution_count": null,
      "metadata": {
        "id": "ALN_jHdlYTpo"
      },
      "outputs": [],
      "source": [
        "# Answer here\n"
      ]
    },
    {
      "cell_type": "markdown",
      "metadata": {
        "id": "ehlJ60lhYTpo"
      },
      "source": [
        "---"
      ]
    },
    {
      "cell_type": "markdown",
      "metadata": {
        "id": "79F_DaW-YTpo"
      },
      "source": [
        "## <a id='toc1_9_'></a>[**5. Other things you can try**](#toc0_)"
      ]
    },
    {
      "cell_type": "markdown",
      "metadata": {
        "id": "_oeqpRu6YTpo"
      },
      "source": [
        "Thus, there are several things you can try that will affect your results. In order to yield better results, you can experiment by:\n",
        "- Trying different features (Feature engineering)e.g Word2Vec, PCA, LDA, FastText, Clustering\n",
        "- Trying different models\n",
        "- Analyzing your results and interpret them to improve your feature engineering/model building process\n",
        "- Iterate through the steps above until finding a satisfying result\n",
        "\n",
        "Remember that you should also consider the task at hand and the model you'll feed the data to."
      ]
    },
    {
      "cell_type": "markdown",
      "metadata": {
        "id": "fiGUSmPLYTpo"
      },
      "source": [
        "---\n",
        "## <a id='toc1_10_'></a>[**6. Deep Learning**](#toc0_)\n",
        "\n",
        "We use [Keras](https://keras.io/) to be our deep learning framework, and follow the [Model (functional API)](https://keras.io/models/model/) to build a Deep Neural Network (DNN) model. Keras runs with Tensorflow in the backend. It's a nice abstraction to start working with NN models.\n",
        "\n",
        "Because Deep Learning is a 1-semester course, we can't talk about each detail about it in the lab session. Here, we only provide a simple template about how to build & run a DL model successfully. You can follow this template to design your model.\n",
        "\n",
        "We will begin by building a fully connected network, which looks like this:"
      ]
    },
    {
      "cell_type": "markdown",
      "metadata": {
        "id": "1nB0BTq2YTpo"
      },
      "source": [
        "![pic1.png](https://drive.google.com/uc?export=view&id=1DKd43x7RNHTa2gn_HUV2SRNJ7MhV0dKh)\n",
        "\n",
        "(source: https://github.com/drewnoff/spark-notebook-ml-labs/tree/master/labs/DLFramework)\n"
      ]
    },
    {
      "cell_type": "markdown",
      "metadata": {
        "id": "-EtVRGhNYTpo"
      },
      "source": [
        "---\n",
        "### <a id='toc1_10_1_'></a>[**6.1 Prepare data (X, y)**](#toc0_)"
      ]
    },
    {
      "cell_type": "code",
      "execution_count": null,
      "metadata": {
        "colab": {
          "base_uri": "https://localhost:8080/"
        },
        "id": "4mIdg2D6YTpo",
        "outputId": "18e86c1c-f827-4250-c7ec-12fe0efeaa26"
      },
      "outputs": [
        {
          "output_type": "stream",
          "name": "stdout",
          "text": [
            "X_train.shape:  (3613, 500)\n",
            "y_train.shape:  (3613,)\n",
            "X_test.shape:  (347, 500)\n",
            "y_test.shape:  (347,)\n"
          ]
        }
      ],
      "source": [
        "import keras\n",
        "\n",
        "# standardize name (X, y)\n",
        "X_train = BOW_500.transform(train_df['text'])\n",
        "y_train = train_df['emotion']\n",
        "\n",
        "X_test = BOW_500.transform(test_df['text'])\n",
        "y_test = test_df['emotion']\n",
        "\n",
        "## check dimension is a good habbit\n",
        "print('X_train.shape: ', X_train.shape)\n",
        "print('y_train.shape: ', y_train.shape)\n",
        "print('X_test.shape: ', X_test.shape)\n",
        "print('y_test.shape: ', y_test.shape)"
      ]
    },
    {
      "cell_type": "code",
      "execution_count": null,
      "metadata": {
        "id": "9hLJNJPUui7f"
      },
      "outputs": [],
      "source": [
        "import keras"
      ]
    },
    {
      "cell_type": "code",
      "execution_count": null,
      "metadata": {
        "colab": {
          "base_uri": "https://localhost:8080/"
        },
        "id": "hFUlu8s4ui7f",
        "outputId": "6bddc9a1-a318-4c35-81da-2da92c80d965"
      },
      "outputs": [
        {
          "output_type": "execute_result",
          "data": {
            "text/plain": [
              "<347x500 sparse matrix of type '<class 'numpy.int64'>'\n",
              "\twith 4103 stored elements in Compressed Sparse Row format>"
            ]
          },
          "metadata": {},
          "execution_count": 75
        }
      ],
      "source": [
        "BOW_500.transform(test_df['text'])"
      ]
    },
    {
      "cell_type": "markdown",
      "metadata": {
        "id": "iBZZedZ2YTpo"
      },
      "source": [
        "---\n",
        "### <a id='toc1_10_2_'></a>[**6.2 Deal with categorical label (y)**](#toc0_)\n",
        "\n",
        "Rather than put your label `train_df['emotion']` directly into a model, we have to process these categorical (or say nominal) label by ourselves.\n",
        "\n",
        "Here, we use the basic method [one-hot encoding](https://en.wikipedia.org/wiki/One-hot) to transform our categorical  labels to numerical ones.\n"
      ]
    },
    {
      "cell_type": "code",
      "execution_count": null,
      "metadata": {
        "colab": {
          "base_uri": "https://localhost:8080/"
        },
        "id": "AAlHeAoPui7f",
        "outputId": "dc12fd83-0f50-4de4-8661-7b23400c6249"
      },
      "outputs": [
        {
          "output_type": "stream",
          "name": "stdout",
          "text": [
            "check label:  ['anger' 'fear' 'joy' 'sadness']\n",
            "\n",
            "## Before convert\n",
            "y_train[0:4]:\n",
            " 2759      joy\n",
            "2334      joy\n",
            "2593      joy\n",
            "589     anger\n",
            "Name: emotion, dtype: object\n",
            "\n",
            "y_train.shape:  (3613,)\n",
            "y_test.shape:  (347,)\n"
          ]
        }
      ],
      "source": [
        "# deal with label (string -> one-hot)\n",
        "from sklearn.preprocessing import LabelEncoder\n",
        "\n",
        "label_encoder = LabelEncoder()\n",
        "label_encoder.fit(y_train)\n",
        "\n",
        "print('check label: ', label_encoder.classes_)\n",
        "print('\\n## Before convert')\n",
        "print('y_train[0:4]:\\n', y_train[0:4])\n",
        "print('\\ny_train.shape: ', y_train.shape)\n",
        "print('y_test.shape: ', y_test.shape)\n",
        "\n",
        "def label_encode(le, labels):\n",
        "    enc = le.transform(labels)\n",
        "    return keras.utils.to_categorical(enc)\n",
        "\n",
        "def label_decode(le, one_hot_label):\n",
        "    dec = np.argmax(one_hot_label, axis=1)\n",
        "    return le.inverse_transform(dec)"
      ]
    },
    {
      "cell_type": "code",
      "execution_count": null,
      "metadata": {
        "colab": {
          "base_uri": "https://localhost:8080/"
        },
        "id": "SU95MCsSYTpo",
        "outputId": "9303f175-e773-4936-83cf-825be38ee219"
      },
      "outputs": [
        {
          "output_type": "stream",
          "name": "stdout",
          "text": [
            "\n",
            "\n",
            "## After convert\n",
            "y_train[0:4]:\n",
            " [[0. 0. 1. 0.]\n",
            " [0. 0. 1. 0.]\n",
            " [0. 0. 1. 0.]\n",
            " [1. 0. 0. 0.]]\n",
            "\n",
            "y_train.shape:  (3613, 4)\n",
            "y_test.shape:  (347, 4)\n"
          ]
        }
      ],
      "source": [
        "y_train = label_encode(label_encoder, y_train)\n",
        "y_test = label_encode(label_encoder, y_test)\n",
        "\n",
        "print('\\n\\n## After convert')\n",
        "print('y_train[0:4]:\\n', y_train[0:4])\n",
        "print('\\ny_train.shape: ', y_train.shape)\n",
        "print('y_test.shape: ', y_test.shape)\n"
      ]
    },
    {
      "cell_type": "markdown",
      "metadata": {
        "id": "W4bqEcMbYTpo"
      },
      "source": [
        "---\n",
        "### <a id='toc1_10_3_'></a>[**6.3 Build model**](#toc0_)"
      ]
    },
    {
      "cell_type": "code",
      "execution_count": null,
      "metadata": {
        "colab": {
          "base_uri": "https://localhost:8080/"
        },
        "id": "6sA7cx-oYTpo",
        "outputId": "6e2a2132-2bf7-46af-c80c-1d54561e7fec"
      },
      "outputs": [
        {
          "output_type": "stream",
          "name": "stdout",
          "text": [
            "input_shape:  500\n",
            "output_shape:  4\n"
          ]
        }
      ],
      "source": [
        "# I/O check\n",
        "input_shape = X_train.shape[1]\n",
        "print('input_shape: ', input_shape)\n",
        "\n",
        "output_shape = len(label_encoder.classes_)\n",
        "print('output_shape: ', output_shape)"
      ]
    },
    {
      "cell_type": "markdown",
      "metadata": {
        "id": "8c-uWuloYTpo"
      },
      "source": [
        "![pic2.png](https://drive.google.com/uc?export=view&id=1F_RmXNBo3uUPyopFmYne61s-H4ecl-iz)"
      ]
    },
    {
      "cell_type": "code",
      "execution_count": null,
      "metadata": {
        "colab": {
          "base_uri": "https://localhost:8080/",
          "height": 356
        },
        "id": "jTeBWTvgYTpo",
        "outputId": "a7d0abc3-f9a3-4244-eae3-cdb1c1dcf884"
      },
      "outputs": [
        {
          "output_type": "display_data",
          "data": {
            "text/plain": [
              "\u001b[1mModel: \"functional_1\"\u001b[0m\n"
            ],
            "text/html": [
              "<pre style=\"white-space:pre;overflow-x:auto;line-height:normal;font-family:Menlo,'DejaVu Sans Mono',consolas,'Courier New',monospace\"><span style=\"font-weight: bold\">Model: \"functional_1\"</span>\n",
              "</pre>\n"
            ]
          },
          "metadata": {}
        },
        {
          "output_type": "display_data",
          "data": {
            "text/plain": [
              "┏━━━━━━━━━━━━━━━━━━━━━━━━━━━━━━━━━┳━━━━━━━━━━━━━━━━━━━━━━━━┳━━━━━━━━━━━━━━━┓\n",
              "┃\u001b[1m \u001b[0m\u001b[1mLayer (type)                   \u001b[0m\u001b[1m \u001b[0m┃\u001b[1m \u001b[0m\u001b[1mOutput Shape          \u001b[0m\u001b[1m \u001b[0m┃\u001b[1m \u001b[0m\u001b[1m      Param #\u001b[0m\u001b[1m \u001b[0m┃\n",
              "┡━━━━━━━━━━━━━━━━━━━━━━━━━━━━━━━━━╇━━━━━━━━━━━━━━━━━━━━━━━━╇━━━━━━━━━━━━━━━┩\n",
              "│ input_layer_1 (\u001b[38;5;33mInputLayer\u001b[0m)      │ (\u001b[38;5;45mNone\u001b[0m, \u001b[38;5;34m500\u001b[0m)            │             \u001b[38;5;34m0\u001b[0m │\n",
              "├─────────────────────────────────┼────────────────────────┼───────────────┤\n",
              "│ dense_3 (\u001b[38;5;33mDense\u001b[0m)                 │ (\u001b[38;5;45mNone\u001b[0m, \u001b[38;5;34m64\u001b[0m)             │        \u001b[38;5;34m32,064\u001b[0m │\n",
              "├─────────────────────────────────┼────────────────────────┼───────────────┤\n",
              "│ re_lu_2 (\u001b[38;5;33mReLU\u001b[0m)                  │ (\u001b[38;5;45mNone\u001b[0m, \u001b[38;5;34m64\u001b[0m)             │             \u001b[38;5;34m0\u001b[0m │\n",
              "├─────────────────────────────────┼────────────────────────┼───────────────┤\n",
              "│ dense_4 (\u001b[38;5;33mDense\u001b[0m)                 │ (\u001b[38;5;45mNone\u001b[0m, \u001b[38;5;34m64\u001b[0m)             │         \u001b[38;5;34m4,160\u001b[0m │\n",
              "├─────────────────────────────────┼────────────────────────┼───────────────┤\n",
              "│ re_lu_3 (\u001b[38;5;33mReLU\u001b[0m)                  │ (\u001b[38;5;45mNone\u001b[0m, \u001b[38;5;34m64\u001b[0m)             │             \u001b[38;5;34m0\u001b[0m │\n",
              "├─────────────────────────────────┼────────────────────────┼───────────────┤\n",
              "│ dense_5 (\u001b[38;5;33mDense\u001b[0m)                 │ (\u001b[38;5;45mNone\u001b[0m, \u001b[38;5;34m4\u001b[0m)              │           \u001b[38;5;34m260\u001b[0m │\n",
              "├─────────────────────────────────┼────────────────────────┼───────────────┤\n",
              "│ softmax_1 (\u001b[38;5;33mSoftmax\u001b[0m)             │ (\u001b[38;5;45mNone\u001b[0m, \u001b[38;5;34m4\u001b[0m)              │             \u001b[38;5;34m0\u001b[0m │\n",
              "└─────────────────────────────────┴────────────────────────┴───────────────┘\n"
            ],
            "text/html": [
              "<pre style=\"white-space:pre;overflow-x:auto;line-height:normal;font-family:Menlo,'DejaVu Sans Mono',consolas,'Courier New',monospace\">┏━━━━━━━━━━━━━━━━━━━━━━━━━━━━━━━━━┳━━━━━━━━━━━━━━━━━━━━━━━━┳━━━━━━━━━━━━━━━┓\n",
              "┃<span style=\"font-weight: bold\"> Layer (type)                    </span>┃<span style=\"font-weight: bold\"> Output Shape           </span>┃<span style=\"font-weight: bold\">       Param # </span>┃\n",
              "┡━━━━━━━━━━━━━━━━━━━━━━━━━━━━━━━━━╇━━━━━━━━━━━━━━━━━━━━━━━━╇━━━━━━━━━━━━━━━┩\n",
              "│ input_layer_1 (<span style=\"color: #0087ff; text-decoration-color: #0087ff\">InputLayer</span>)      │ (<span style=\"color: #00d7ff; text-decoration-color: #00d7ff\">None</span>, <span style=\"color: #00af00; text-decoration-color: #00af00\">500</span>)            │             <span style=\"color: #00af00; text-decoration-color: #00af00\">0</span> │\n",
              "├─────────────────────────────────┼────────────────────────┼───────────────┤\n",
              "│ dense_3 (<span style=\"color: #0087ff; text-decoration-color: #0087ff\">Dense</span>)                 │ (<span style=\"color: #00d7ff; text-decoration-color: #00d7ff\">None</span>, <span style=\"color: #00af00; text-decoration-color: #00af00\">64</span>)             │        <span style=\"color: #00af00; text-decoration-color: #00af00\">32,064</span> │\n",
              "├─────────────────────────────────┼────────────────────────┼───────────────┤\n",
              "│ re_lu_2 (<span style=\"color: #0087ff; text-decoration-color: #0087ff\">ReLU</span>)                  │ (<span style=\"color: #00d7ff; text-decoration-color: #00d7ff\">None</span>, <span style=\"color: #00af00; text-decoration-color: #00af00\">64</span>)             │             <span style=\"color: #00af00; text-decoration-color: #00af00\">0</span> │\n",
              "├─────────────────────────────────┼────────────────────────┼───────────────┤\n",
              "│ dense_4 (<span style=\"color: #0087ff; text-decoration-color: #0087ff\">Dense</span>)                 │ (<span style=\"color: #00d7ff; text-decoration-color: #00d7ff\">None</span>, <span style=\"color: #00af00; text-decoration-color: #00af00\">64</span>)             │         <span style=\"color: #00af00; text-decoration-color: #00af00\">4,160</span> │\n",
              "├─────────────────────────────────┼────────────────────────┼───────────────┤\n",
              "│ re_lu_3 (<span style=\"color: #0087ff; text-decoration-color: #0087ff\">ReLU</span>)                  │ (<span style=\"color: #00d7ff; text-decoration-color: #00d7ff\">None</span>, <span style=\"color: #00af00; text-decoration-color: #00af00\">64</span>)             │             <span style=\"color: #00af00; text-decoration-color: #00af00\">0</span> │\n",
              "├─────────────────────────────────┼────────────────────────┼───────────────┤\n",
              "│ dense_5 (<span style=\"color: #0087ff; text-decoration-color: #0087ff\">Dense</span>)                 │ (<span style=\"color: #00d7ff; text-decoration-color: #00d7ff\">None</span>, <span style=\"color: #00af00; text-decoration-color: #00af00\">4</span>)              │           <span style=\"color: #00af00; text-decoration-color: #00af00\">260</span> │\n",
              "├─────────────────────────────────┼────────────────────────┼───────────────┤\n",
              "│ softmax_1 (<span style=\"color: #0087ff; text-decoration-color: #0087ff\">Softmax</span>)             │ (<span style=\"color: #00d7ff; text-decoration-color: #00d7ff\">None</span>, <span style=\"color: #00af00; text-decoration-color: #00af00\">4</span>)              │             <span style=\"color: #00af00; text-decoration-color: #00af00\">0</span> │\n",
              "└─────────────────────────────────┴────────────────────────┴───────────────┘\n",
              "</pre>\n"
            ]
          },
          "metadata": {}
        },
        {
          "output_type": "display_data",
          "data": {
            "text/plain": [
              "\u001b[1m Total params: \u001b[0m\u001b[38;5;34m36,484\u001b[0m (142.52 KB)\n"
            ],
            "text/html": [
              "<pre style=\"white-space:pre;overflow-x:auto;line-height:normal;font-family:Menlo,'DejaVu Sans Mono',consolas,'Courier New',monospace\"><span style=\"font-weight: bold\"> Total params: </span><span style=\"color: #00af00; text-decoration-color: #00af00\">36,484</span> (142.52 KB)\n",
              "</pre>\n"
            ]
          },
          "metadata": {}
        },
        {
          "output_type": "display_data",
          "data": {
            "text/plain": [
              "\u001b[1m Trainable params: \u001b[0m\u001b[38;5;34m36,484\u001b[0m (142.52 KB)\n"
            ],
            "text/html": [
              "<pre style=\"white-space:pre;overflow-x:auto;line-height:normal;font-family:Menlo,'DejaVu Sans Mono',consolas,'Courier New',monospace\"><span style=\"font-weight: bold\"> Trainable params: </span><span style=\"color: #00af00; text-decoration-color: #00af00\">36,484</span> (142.52 KB)\n",
              "</pre>\n"
            ]
          },
          "metadata": {}
        },
        {
          "output_type": "display_data",
          "data": {
            "text/plain": [
              "\u001b[1m Non-trainable params: \u001b[0m\u001b[38;5;34m0\u001b[0m (0.00 B)\n"
            ],
            "text/html": [
              "<pre style=\"white-space:pre;overflow-x:auto;line-height:normal;font-family:Menlo,'DejaVu Sans Mono',consolas,'Courier New',monospace\"><span style=\"font-weight: bold\"> Non-trainable params: </span><span style=\"color: #00af00; text-decoration-color: #00af00\">0</span> (0.00 B)\n",
              "</pre>\n"
            ]
          },
          "metadata": {}
        }
      ],
      "source": [
        "from keras.models import Model\n",
        "from keras.layers import Input, Dense\n",
        "from keras.layers import ReLU, Softmax\n",
        "\n",
        "# input layer\n",
        "model_input = Input(shape=(input_shape, ))  # 500\n",
        "X = model_input\n",
        "\n",
        "# 1st hidden layer\n",
        "X_W1 = Dense(units=64)(X)  # 64\n",
        "H1 = ReLU()(X_W1)\n",
        "\n",
        "# 2nd hidden layer\n",
        "H1_W2 = Dense(units=64)(H1)  # 64\n",
        "H2 = ReLU()(H1_W2)\n",
        "\n",
        "# output layer\n",
        "H2_W3 = Dense(units=output_shape)(H2)  # 4\n",
        "H3 = Softmax()(H2_W3)\n",
        "\n",
        "model_output = H3\n",
        "\n",
        "# create model\n",
        "model = Model(inputs=[model_input], outputs=[model_output])\n",
        "\n",
        "# loss function & optimizer\n",
        "model.compile(optimizer='adam',\n",
        "              loss='categorical_crossentropy',\n",
        "              metrics=['accuracy'])\n",
        "\n",
        "# show model construction\n",
        "model.summary()"
      ]
    },
    {
      "cell_type": "markdown",
      "metadata": {
        "id": "nmTSDO2pYTpo"
      },
      "source": [
        "---\n",
        "### <a id='toc1_10_4_'></a>[**6.4 Train**](#toc0_)"
      ]
    },
    {
      "cell_type": "code",
      "execution_count": null,
      "metadata": {
        "colab": {
          "base_uri": "https://localhost:8080/"
        },
        "id": "Kl374LYqYTpo",
        "outputId": "1c84ef0e-eea7-496d-e430-60885faa430a"
      },
      "outputs": [
        {
          "output_type": "stream",
          "name": "stdout",
          "text": [
            "Epoch 1/25\n",
            "\u001b[1m113/113\u001b[0m \u001b[32m━━━━━━━━━━━━━━━━━━━━\u001b[0m\u001b[37m\u001b[0m \u001b[1m44s\u001b[0m 384ms/step - accuracy: 0.3889 - loss: 1.3114 - val_accuracy: 0.4409 - val_loss: 1.2473\n",
            "Epoch 2/25\n",
            "\u001b[1m113/113\u001b[0m \u001b[32m━━━━━━━━━━━━━━━━━━━━\u001b[0m\u001b[37m\u001b[0m \u001b[1m18s\u001b[0m 155ms/step - accuracy: 0.6488 - loss: 0.9623 - val_accuracy: 0.6398 - val_loss: 0.9016\n",
            "Epoch 3/25\n",
            "\u001b[1m113/113\u001b[0m \u001b[32m━━━━━━━━━━━━━━━━━━━━\u001b[0m\u001b[37m\u001b[0m \u001b[1m6s\u001b[0m 55ms/step - accuracy: 0.7932 - loss: 0.5847 - val_accuracy: 0.7003 - val_loss: 0.7819\n",
            "Epoch 4/25\n",
            "\u001b[1m113/113\u001b[0m \u001b[32m━━━━━━━━━━━━━━━━━━━━\u001b[0m\u001b[37m\u001b[0m \u001b[1m4s\u001b[0m 38ms/step - accuracy: 0.8505 - loss: 0.4171 - val_accuracy: 0.7003 - val_loss: 0.7672\n",
            "Epoch 5/25\n",
            "\u001b[1m113/113\u001b[0m \u001b[32m━━━━━━━━━━━━━━━━━━━━\u001b[0m\u001b[37m\u001b[0m \u001b[1m7s\u001b[0m 60ms/step - accuracy: 0.8851 - loss: 0.3251 - val_accuracy: 0.6830 - val_loss: 0.8300\n",
            "Epoch 6/25\n",
            "\u001b[1m113/113\u001b[0m \u001b[32m━━━━━━━━━━━━━━━━━━━━\u001b[0m\u001b[37m\u001b[0m \u001b[1m4s\u001b[0m 33ms/step - accuracy: 0.9067 - loss: 0.2684 - val_accuracy: 0.6830 - val_loss: 0.8532\n",
            "Epoch 7/25\n",
            "\u001b[1m113/113\u001b[0m \u001b[32m━━━━━━━━━━━━━━━━━━━━\u001b[0m\u001b[37m\u001b[0m \u001b[1m5s\u001b[0m 44ms/step - accuracy: 0.9269 - loss: 0.2223 - val_accuracy: 0.6916 - val_loss: 0.8933\n",
            "Epoch 8/25\n",
            "\u001b[1m113/113\u001b[0m \u001b[32m━━━━━━━━━━━━━━━━━━━━\u001b[0m\u001b[37m\u001b[0m \u001b[1m3s\u001b[0m 29ms/step - accuracy: 0.9413 - loss: 0.1834 - val_accuracy: 0.6916 - val_loss: 0.9708\n",
            "Epoch 9/25\n",
            "\u001b[1m113/113\u001b[0m \u001b[32m━━━━━━━━━━━━━━━━━━━━\u001b[0m\u001b[37m\u001b[0m \u001b[1m1s\u001b[0m 9ms/step - accuracy: 0.9496 - loss: 0.1653 - val_accuracy: 0.6772 - val_loss: 1.0740\n",
            "Epoch 10/25\n",
            "\u001b[1m113/113\u001b[0m \u001b[32m━━━━━━━━━━━━━━━━━━━━\u001b[0m\u001b[37m\u001b[0m \u001b[1m1s\u001b[0m 9ms/step - accuracy: 0.9549 - loss: 0.1456 - val_accuracy: 0.6772 - val_loss: 1.0996\n",
            "Epoch 11/25\n",
            "\u001b[1m113/113\u001b[0m \u001b[32m━━━━━━━━━━━━━━━━━━━━\u001b[0m\u001b[37m\u001b[0m \u001b[1m2s\u001b[0m 14ms/step - accuracy: 0.9626 - loss: 0.1262 - val_accuracy: 0.6772 - val_loss: 1.1558\n",
            "Epoch 12/25\n",
            "\u001b[1m113/113\u001b[0m \u001b[32m━━━━━━━━━━━━━━━━━━━━\u001b[0m\u001b[37m\u001b[0m \u001b[1m1s\u001b[0m 9ms/step - accuracy: 0.9660 - loss: 0.1095 - val_accuracy: 0.6772 - val_loss: 1.1550\n",
            "Epoch 13/25\n",
            "\u001b[1m113/113\u001b[0m \u001b[32m━━━━━━━━━━━━━━━━━━━━\u001b[0m\u001b[37m\u001b[0m \u001b[1m4s\u001b[0m 34ms/step - accuracy: 0.9693 - loss: 0.0991 - val_accuracy: 0.6715 - val_loss: 1.2212\n",
            "Epoch 14/25\n",
            "\u001b[1m113/113\u001b[0m \u001b[32m━━━━━━━━━━━━━━━━━━━━\u001b[0m\u001b[37m\u001b[0m \u001b[1m2s\u001b[0m 19ms/step - accuracy: 0.9709 - loss: 0.0936 - val_accuracy: 0.6744 - val_loss: 1.2548\n",
            "Epoch 15/25\n",
            "\u001b[1m113/113\u001b[0m \u001b[32m━━━━━━━━━━━━━━━━━━━━\u001b[0m\u001b[37m\u001b[0m \u001b[1m1s\u001b[0m 9ms/step - accuracy: 0.9729 - loss: 0.0867 - val_accuracy: 0.6686 - val_loss: 1.3339\n",
            "Epoch 16/25\n",
            "\u001b[1m113/113\u001b[0m \u001b[32m━━━━━━━━━━━━━━━━━━━━\u001b[0m\u001b[37m\u001b[0m \u001b[1m2s\u001b[0m 19ms/step - accuracy: 0.9734 - loss: 0.0853 - val_accuracy: 0.6744 - val_loss: 1.3636\n",
            "Epoch 17/25\n",
            "\u001b[1m113/113\u001b[0m \u001b[32m━━━━━━━━━━━━━━━━━━━━\u001b[0m\u001b[37m\u001b[0m \u001b[1m2s\u001b[0m 19ms/step - accuracy: 0.9737 - loss: 0.0801 - val_accuracy: 0.6888 - val_loss: 1.3571\n",
            "Epoch 18/25\n",
            "\u001b[1m113/113\u001b[0m \u001b[32m━━━━━━━━━━━━━━━━━━━━\u001b[0m\u001b[37m\u001b[0m \u001b[1m3s\u001b[0m 24ms/step - accuracy: 0.9748 - loss: 0.0729 - val_accuracy: 0.6830 - val_loss: 1.3938\n",
            "Epoch 19/25\n",
            "\u001b[1m113/113\u001b[0m \u001b[32m━━━━━━━━━━━━━━━━━━━━\u001b[0m\u001b[37m\u001b[0m \u001b[1m1s\u001b[0m 9ms/step - accuracy: 0.9751 - loss: 0.0800 - val_accuracy: 0.6830 - val_loss: 1.4270\n",
            "Epoch 20/25\n",
            "\u001b[1m113/113\u001b[0m \u001b[32m━━━━━━━━━━━━━━━━━━━━\u001b[0m\u001b[37m\u001b[0m \u001b[1m3s\u001b[0m 25ms/step - accuracy: 0.9770 - loss: 0.0662 - val_accuracy: 0.6888 - val_loss: 1.4425\n",
            "Epoch 21/25\n",
            "\u001b[1m113/113\u001b[0m \u001b[32m━━━━━━━━━━━━━━━━━━━━\u001b[0m\u001b[37m\u001b[0m \u001b[1m2s\u001b[0m 14ms/step - accuracy: 0.9768 - loss: 0.0666 - val_accuracy: 0.6686 - val_loss: 1.4575\n",
            "Epoch 22/25\n",
            "\u001b[1m113/113\u001b[0m \u001b[32m━━━━━━━━━━━━━━━━━━━━\u001b[0m\u001b[37m\u001b[0m \u001b[1m1s\u001b[0m 9ms/step - accuracy: 0.9779 - loss: 0.0619 - val_accuracy: 0.6657 - val_loss: 1.5530\n",
            "Epoch 23/25\n",
            "\u001b[1m113/113\u001b[0m \u001b[32m━━━━━━━━━━━━━━━━━━━━\u001b[0m\u001b[37m\u001b[0m \u001b[1m2s\u001b[0m 14ms/step - accuracy: 0.9768 - loss: 0.0600 - val_accuracy: 0.6744 - val_loss: 1.5625\n",
            "Epoch 24/25\n",
            "\u001b[1m113/113\u001b[0m \u001b[32m━━━━━━━━━━━━━━━━━━━━\u001b[0m\u001b[37m\u001b[0m \u001b[1m2s\u001b[0m 19ms/step - accuracy: 0.9781 - loss: 0.0592 - val_accuracy: 0.6599 - val_loss: 1.5910\n",
            "Epoch 25/25\n",
            "\u001b[1m113/113\u001b[0m \u001b[32m━━━━━━━━━━━━━━━━━━━━\u001b[0m\u001b[37m\u001b[0m \u001b[1m1s\u001b[0m 9ms/step - accuracy: 0.9792 - loss: 0.0530 - val_accuracy: 0.6744 - val_loss: 1.6407\n",
            "training finish\n"
          ]
        }
      ],
      "source": [
        "from keras.callbacks import CSVLogger\n",
        "\n",
        "csv_logger = CSVLogger('./DM2025-Lab2-Exercise/logs/training_log.csv')\n",
        "\n",
        "# training setting\n",
        "epochs = 25\n",
        "batch_size = 32\n",
        "\n",
        "# training!\n",
        "history = model.fit(X_train, y_train,\n",
        "                    epochs=epochs,\n",
        "                    batch_size=batch_size,\n",
        "                    callbacks=[csv_logger],\n",
        "                    validation_data = (X_test, y_test))\n",
        "print('training finish')"
      ]
    },
    {
      "cell_type": "markdown",
      "metadata": {
        "id": "ip8RYsvSYTpo"
      },
      "source": [
        "---\n",
        "### <a id='toc1_10_5_'></a>[**6.5 Predict on testing data**](#toc0_)"
      ]
    },
    {
      "cell_type": "code",
      "execution_count": null,
      "metadata": {
        "colab": {
          "base_uri": "https://localhost:8080/"
        },
        "id": "xdnLuBYBYTpo",
        "outputId": "5bf592a1-513e-4a68-db33-85b79847c459"
      },
      "outputs": [
        {
          "output_type": "stream",
          "name": "stdout",
          "text": [
            "\u001b[1m3/3\u001b[0m \u001b[32m━━━━━━━━━━━━━━━━━━━━\u001b[0m\u001b[37m\u001b[0m \u001b[1m1s\u001b[0m 239ms/step\n"
          ]
        },
        {
          "output_type": "execute_result",
          "data": {
            "text/plain": [
              "array([[3.1958285e-03, 1.1715181e-07, 3.0342506e-03, 9.9376982e-01],\n",
              "       [9.9540597e-01, 8.5329101e-04, 1.8193769e-04, 3.5587363e-03],\n",
              "       [9.3055671e-01, 1.3348277e-03, 5.9432112e-02, 8.6763147e-03],\n",
              "       [3.6046709e-04, 9.7858125e-01, 1.3501214e-02, 7.5570624e-03],\n",
              "       [9.8478957e-08, 8.2966975e-12, 4.5731827e-09, 9.9999988e-01]],\n",
              "      dtype=float32)"
            ]
          },
          "metadata": {},
          "execution_count": 81
        }
      ],
      "source": [
        "## predict\n",
        "pred_result = model.predict(X_test, batch_size=128)\n",
        "pred_result[:5]"
      ]
    },
    {
      "cell_type": "code",
      "execution_count": null,
      "metadata": {
        "colab": {
          "base_uri": "https://localhost:8080/"
        },
        "id": "hSaXGEX-YTpo",
        "outputId": "ea4336d5-908b-40ce-ee41-e83b3ef6c99d"
      },
      "outputs": [
        {
          "output_type": "execute_result",
          "data": {
            "text/plain": [
              "array(['sadness', 'anger', 'anger', 'fear', 'sadness'], dtype=object)"
            ]
          },
          "metadata": {},
          "execution_count": 82
        }
      ],
      "source": [
        "pred_result = label_decode(label_encoder, pred_result)\n",
        "pred_result[:5]"
      ]
    },
    {
      "cell_type": "code",
      "execution_count": null,
      "metadata": {
        "colab": {
          "base_uri": "https://localhost:8080/"
        },
        "id": "bRRHye9KYTp5",
        "outputId": "cb4f9a3d-7653-4089-b9da-78b91e0ef5ba"
      },
      "outputs": [
        {
          "output_type": "stream",
          "name": "stdout",
          "text": [
            "testing accuracy: 0.67\n"
          ]
        }
      ],
      "source": [
        "from sklearn.metrics import accuracy_score\n",
        "\n",
        "print('testing accuracy: {}'.format(round(accuracy_score(label_decode(label_encoder, y_test), pred_result), 2)))"
      ]
    },
    {
      "cell_type": "code",
      "execution_count": null,
      "metadata": {
        "colab": {
          "base_uri": "https://localhost:8080/",
          "height": 833
        },
        "id": "ks2Q0aMsYTp5",
        "outputId": "639caf80-daf6-4902-816c-24dcc0638e39"
      },
      "outputs": [
        {
          "output_type": "execute_result",
          "data": {
            "text/plain": [
              "    epoch  accuracy      loss  val_accuracy  val_loss\n",
              "0       0  0.388874  1.311443      0.440922  1.247267\n",
              "1       1  0.648768  0.962280      0.639769  0.901586\n",
              "2       2  0.793247  0.584706      0.700288  0.781939\n",
              "3       3  0.850540  0.417082      0.700288  0.767225\n",
              "4       4  0.885137  0.325108      0.682997  0.829974\n",
              "5       5  0.906726  0.268413      0.682997  0.853248\n",
              "6       6  0.926931  0.222259      0.691643  0.893252\n",
              "7       7  0.941323  0.183383      0.691643  0.970814\n",
              "8       8  0.949626  0.165293      0.677233  1.073992\n",
              "9       9  0.954885  0.145556      0.677233  1.099600\n",
              "10     10  0.962635  0.126197      0.677233  1.155836\n",
              "11     11  0.965956  0.109535      0.677233  1.155048\n",
              "12     12  0.969278  0.099127      0.671470  1.221221\n",
              "13     13  0.970938  0.093610      0.674352  1.254816\n",
              "14     14  0.972876  0.086728      0.668588  1.333921\n",
              "15     15  0.973429  0.085278      0.674352  1.363623\n",
              "16     16  0.973706  0.080107      0.688761  1.357062\n",
              "17     17  0.974813  0.072942      0.682997  1.393757\n",
              "18     18  0.975090  0.080035      0.682997  1.427019\n",
              "19     19  0.977027  0.066230      0.688761  1.442481\n",
              "20     20  0.976751  0.066611      0.668588  1.457489\n",
              "21     21  0.977858  0.061906      0.665706  1.552986\n",
              "22     22  0.976751  0.059953      0.674352  1.562508\n",
              "23     23  0.978135  0.059190      0.659942  1.590971\n",
              "24     24  0.979242  0.052970      0.674352  1.640661"
            ],
            "text/html": [
              "\n",
              "  <div id=\"df-6dd1858c-1139-49d0-9f98-92b69f91785f\" class=\"colab-df-container\">\n",
              "    <div>\n",
              "<style scoped>\n",
              "    .dataframe tbody tr th:only-of-type {\n",
              "        vertical-align: middle;\n",
              "    }\n",
              "\n",
              "    .dataframe tbody tr th {\n",
              "        vertical-align: top;\n",
              "    }\n",
              "\n",
              "    .dataframe thead th {\n",
              "        text-align: right;\n",
              "    }\n",
              "</style>\n",
              "<table border=\"1\" class=\"dataframe\">\n",
              "  <thead>\n",
              "    <tr style=\"text-align: right;\">\n",
              "      <th></th>\n",
              "      <th>epoch</th>\n",
              "      <th>accuracy</th>\n",
              "      <th>loss</th>\n",
              "      <th>val_accuracy</th>\n",
              "      <th>val_loss</th>\n",
              "    </tr>\n",
              "  </thead>\n",
              "  <tbody>\n",
              "    <tr>\n",
              "      <th>0</th>\n",
              "      <td>0</td>\n",
              "      <td>0.388874</td>\n",
              "      <td>1.311443</td>\n",
              "      <td>0.440922</td>\n",
              "      <td>1.247267</td>\n",
              "    </tr>\n",
              "    <tr>\n",
              "      <th>1</th>\n",
              "      <td>1</td>\n",
              "      <td>0.648768</td>\n",
              "      <td>0.962280</td>\n",
              "      <td>0.639769</td>\n",
              "      <td>0.901586</td>\n",
              "    </tr>\n",
              "    <tr>\n",
              "      <th>2</th>\n",
              "      <td>2</td>\n",
              "      <td>0.793247</td>\n",
              "      <td>0.584706</td>\n",
              "      <td>0.700288</td>\n",
              "      <td>0.781939</td>\n",
              "    </tr>\n",
              "    <tr>\n",
              "      <th>3</th>\n",
              "      <td>3</td>\n",
              "      <td>0.850540</td>\n",
              "      <td>0.417082</td>\n",
              "      <td>0.700288</td>\n",
              "      <td>0.767225</td>\n",
              "    </tr>\n",
              "    <tr>\n",
              "      <th>4</th>\n",
              "      <td>4</td>\n",
              "      <td>0.885137</td>\n",
              "      <td>0.325108</td>\n",
              "      <td>0.682997</td>\n",
              "      <td>0.829974</td>\n",
              "    </tr>\n",
              "    <tr>\n",
              "      <th>5</th>\n",
              "      <td>5</td>\n",
              "      <td>0.906726</td>\n",
              "      <td>0.268413</td>\n",
              "      <td>0.682997</td>\n",
              "      <td>0.853248</td>\n",
              "    </tr>\n",
              "    <tr>\n",
              "      <th>6</th>\n",
              "      <td>6</td>\n",
              "      <td>0.926931</td>\n",
              "      <td>0.222259</td>\n",
              "      <td>0.691643</td>\n",
              "      <td>0.893252</td>\n",
              "    </tr>\n",
              "    <tr>\n",
              "      <th>7</th>\n",
              "      <td>7</td>\n",
              "      <td>0.941323</td>\n",
              "      <td>0.183383</td>\n",
              "      <td>0.691643</td>\n",
              "      <td>0.970814</td>\n",
              "    </tr>\n",
              "    <tr>\n",
              "      <th>8</th>\n",
              "      <td>8</td>\n",
              "      <td>0.949626</td>\n",
              "      <td>0.165293</td>\n",
              "      <td>0.677233</td>\n",
              "      <td>1.073992</td>\n",
              "    </tr>\n",
              "    <tr>\n",
              "      <th>9</th>\n",
              "      <td>9</td>\n",
              "      <td>0.954885</td>\n",
              "      <td>0.145556</td>\n",
              "      <td>0.677233</td>\n",
              "      <td>1.099600</td>\n",
              "    </tr>\n",
              "    <tr>\n",
              "      <th>10</th>\n",
              "      <td>10</td>\n",
              "      <td>0.962635</td>\n",
              "      <td>0.126197</td>\n",
              "      <td>0.677233</td>\n",
              "      <td>1.155836</td>\n",
              "    </tr>\n",
              "    <tr>\n",
              "      <th>11</th>\n",
              "      <td>11</td>\n",
              "      <td>0.965956</td>\n",
              "      <td>0.109535</td>\n",
              "      <td>0.677233</td>\n",
              "      <td>1.155048</td>\n",
              "    </tr>\n",
              "    <tr>\n",
              "      <th>12</th>\n",
              "      <td>12</td>\n",
              "      <td>0.969278</td>\n",
              "      <td>0.099127</td>\n",
              "      <td>0.671470</td>\n",
              "      <td>1.221221</td>\n",
              "    </tr>\n",
              "    <tr>\n",
              "      <th>13</th>\n",
              "      <td>13</td>\n",
              "      <td>0.970938</td>\n",
              "      <td>0.093610</td>\n",
              "      <td>0.674352</td>\n",
              "      <td>1.254816</td>\n",
              "    </tr>\n",
              "    <tr>\n",
              "      <th>14</th>\n",
              "      <td>14</td>\n",
              "      <td>0.972876</td>\n",
              "      <td>0.086728</td>\n",
              "      <td>0.668588</td>\n",
              "      <td>1.333921</td>\n",
              "    </tr>\n",
              "    <tr>\n",
              "      <th>15</th>\n",
              "      <td>15</td>\n",
              "      <td>0.973429</td>\n",
              "      <td>0.085278</td>\n",
              "      <td>0.674352</td>\n",
              "      <td>1.363623</td>\n",
              "    </tr>\n",
              "    <tr>\n",
              "      <th>16</th>\n",
              "      <td>16</td>\n",
              "      <td>0.973706</td>\n",
              "      <td>0.080107</td>\n",
              "      <td>0.688761</td>\n",
              "      <td>1.357062</td>\n",
              "    </tr>\n",
              "    <tr>\n",
              "      <th>17</th>\n",
              "      <td>17</td>\n",
              "      <td>0.974813</td>\n",
              "      <td>0.072942</td>\n",
              "      <td>0.682997</td>\n",
              "      <td>1.393757</td>\n",
              "    </tr>\n",
              "    <tr>\n",
              "      <th>18</th>\n",
              "      <td>18</td>\n",
              "      <td>0.975090</td>\n",
              "      <td>0.080035</td>\n",
              "      <td>0.682997</td>\n",
              "      <td>1.427019</td>\n",
              "    </tr>\n",
              "    <tr>\n",
              "      <th>19</th>\n",
              "      <td>19</td>\n",
              "      <td>0.977027</td>\n",
              "      <td>0.066230</td>\n",
              "      <td>0.688761</td>\n",
              "      <td>1.442481</td>\n",
              "    </tr>\n",
              "    <tr>\n",
              "      <th>20</th>\n",
              "      <td>20</td>\n",
              "      <td>0.976751</td>\n",
              "      <td>0.066611</td>\n",
              "      <td>0.668588</td>\n",
              "      <td>1.457489</td>\n",
              "    </tr>\n",
              "    <tr>\n",
              "      <th>21</th>\n",
              "      <td>21</td>\n",
              "      <td>0.977858</td>\n",
              "      <td>0.061906</td>\n",
              "      <td>0.665706</td>\n",
              "      <td>1.552986</td>\n",
              "    </tr>\n",
              "    <tr>\n",
              "      <th>22</th>\n",
              "      <td>22</td>\n",
              "      <td>0.976751</td>\n",
              "      <td>0.059953</td>\n",
              "      <td>0.674352</td>\n",
              "      <td>1.562508</td>\n",
              "    </tr>\n",
              "    <tr>\n",
              "      <th>23</th>\n",
              "      <td>23</td>\n",
              "      <td>0.978135</td>\n",
              "      <td>0.059190</td>\n",
              "      <td>0.659942</td>\n",
              "      <td>1.590971</td>\n",
              "    </tr>\n",
              "    <tr>\n",
              "      <th>24</th>\n",
              "      <td>24</td>\n",
              "      <td>0.979242</td>\n",
              "      <td>0.052970</td>\n",
              "      <td>0.674352</td>\n",
              "      <td>1.640661</td>\n",
              "    </tr>\n",
              "  </tbody>\n",
              "</table>\n",
              "</div>\n",
              "    <div class=\"colab-df-buttons\">\n",
              "\n",
              "  <div class=\"colab-df-container\">\n",
              "    <button class=\"colab-df-convert\" onclick=\"convertToInteractive('df-6dd1858c-1139-49d0-9f98-92b69f91785f')\"\n",
              "            title=\"Convert this dataframe to an interactive table.\"\n",
              "            style=\"display:none;\">\n",
              "\n",
              "  <svg xmlns=\"http://www.w3.org/2000/svg\" height=\"24px\" viewBox=\"0 -960 960 960\">\n",
              "    <path d=\"M120-120v-720h720v720H120Zm60-500h600v-160H180v160Zm220 220h160v-160H400v160Zm0 220h160v-160H400v160ZM180-400h160v-160H180v160Zm440 0h160v-160H620v160ZM180-180h160v-160H180v160Zm440 0h160v-160H620v160Z\"/>\n",
              "  </svg>\n",
              "    </button>\n",
              "\n",
              "  <style>\n",
              "    .colab-df-container {\n",
              "      display:flex;\n",
              "      gap: 12px;\n",
              "    }\n",
              "\n",
              "    .colab-df-convert {\n",
              "      background-color: #E8F0FE;\n",
              "      border: none;\n",
              "      border-radius: 50%;\n",
              "      cursor: pointer;\n",
              "      display: none;\n",
              "      fill: #1967D2;\n",
              "      height: 32px;\n",
              "      padding: 0 0 0 0;\n",
              "      width: 32px;\n",
              "    }\n",
              "\n",
              "    .colab-df-convert:hover {\n",
              "      background-color: #E2EBFA;\n",
              "      box-shadow: 0px 1px 2px rgba(60, 64, 67, 0.3), 0px 1px 3px 1px rgba(60, 64, 67, 0.15);\n",
              "      fill: #174EA6;\n",
              "    }\n",
              "\n",
              "    .colab-df-buttons div {\n",
              "      margin-bottom: 4px;\n",
              "    }\n",
              "\n",
              "    [theme=dark] .colab-df-convert {\n",
              "      background-color: #3B4455;\n",
              "      fill: #D2E3FC;\n",
              "    }\n",
              "\n",
              "    [theme=dark] .colab-df-convert:hover {\n",
              "      background-color: #434B5C;\n",
              "      box-shadow: 0px 1px 3px 1px rgba(0, 0, 0, 0.15);\n",
              "      filter: drop-shadow(0px 1px 2px rgba(0, 0, 0, 0.3));\n",
              "      fill: #FFFFFF;\n",
              "    }\n",
              "  </style>\n",
              "\n",
              "    <script>\n",
              "      const buttonEl =\n",
              "        document.querySelector('#df-6dd1858c-1139-49d0-9f98-92b69f91785f button.colab-df-convert');\n",
              "      buttonEl.style.display =\n",
              "        google.colab.kernel.accessAllowed ? 'block' : 'none';\n",
              "\n",
              "      async function convertToInteractive(key) {\n",
              "        const element = document.querySelector('#df-6dd1858c-1139-49d0-9f98-92b69f91785f');\n",
              "        const dataTable =\n",
              "          await google.colab.kernel.invokeFunction('convertToInteractive',\n",
              "                                                    [key], {});\n",
              "        if (!dataTable) return;\n",
              "\n",
              "        const docLinkHtml = 'Like what you see? Visit the ' +\n",
              "          '<a target=\"_blank\" href=https://colab.research.google.com/notebooks/data_table.ipynb>data table notebook</a>'\n",
              "          + ' to learn more about interactive tables.';\n",
              "        element.innerHTML = '';\n",
              "        dataTable['output_type'] = 'display_data';\n",
              "        await google.colab.output.renderOutput(dataTable, element);\n",
              "        const docLink = document.createElement('div');\n",
              "        docLink.innerHTML = docLinkHtml;\n",
              "        element.appendChild(docLink);\n",
              "      }\n",
              "    </script>\n",
              "  </div>\n",
              "\n",
              "\n",
              "    <div id=\"df-594c4402-4b1b-458c-b466-cd2f1b48845a\">\n",
              "      <button class=\"colab-df-quickchart\" onclick=\"quickchart('df-594c4402-4b1b-458c-b466-cd2f1b48845a')\"\n",
              "                title=\"Suggest charts\"\n",
              "                style=\"display:none;\">\n",
              "\n",
              "<svg xmlns=\"http://www.w3.org/2000/svg\" height=\"24px\"viewBox=\"0 0 24 24\"\n",
              "     width=\"24px\">\n",
              "    <g>\n",
              "        <path d=\"M19 3H5c-1.1 0-2 .9-2 2v14c0 1.1.9 2 2 2h14c1.1 0 2-.9 2-2V5c0-1.1-.9-2-2-2zM9 17H7v-7h2v7zm4 0h-2V7h2v10zm4 0h-2v-4h2v4z\"/>\n",
              "    </g>\n",
              "</svg>\n",
              "      </button>\n",
              "\n",
              "<style>\n",
              "  .colab-df-quickchart {\n",
              "      --bg-color: #E8F0FE;\n",
              "      --fill-color: #1967D2;\n",
              "      --hover-bg-color: #E2EBFA;\n",
              "      --hover-fill-color: #174EA6;\n",
              "      --disabled-fill-color: #AAA;\n",
              "      --disabled-bg-color: #DDD;\n",
              "  }\n",
              "\n",
              "  [theme=dark] .colab-df-quickchart {\n",
              "      --bg-color: #3B4455;\n",
              "      --fill-color: #D2E3FC;\n",
              "      --hover-bg-color: #434B5C;\n",
              "      --hover-fill-color: #FFFFFF;\n",
              "      --disabled-bg-color: #3B4455;\n",
              "      --disabled-fill-color: #666;\n",
              "  }\n",
              "\n",
              "  .colab-df-quickchart {\n",
              "    background-color: var(--bg-color);\n",
              "    border: none;\n",
              "    border-radius: 50%;\n",
              "    cursor: pointer;\n",
              "    display: none;\n",
              "    fill: var(--fill-color);\n",
              "    height: 32px;\n",
              "    padding: 0;\n",
              "    width: 32px;\n",
              "  }\n",
              "\n",
              "  .colab-df-quickchart:hover {\n",
              "    background-color: var(--hover-bg-color);\n",
              "    box-shadow: 0 1px 2px rgba(60, 64, 67, 0.3), 0 1px 3px 1px rgba(60, 64, 67, 0.15);\n",
              "    fill: var(--button-hover-fill-color);\n",
              "  }\n",
              "\n",
              "  .colab-df-quickchart-complete:disabled,\n",
              "  .colab-df-quickchart-complete:disabled:hover {\n",
              "    background-color: var(--disabled-bg-color);\n",
              "    fill: var(--disabled-fill-color);\n",
              "    box-shadow: none;\n",
              "  }\n",
              "\n",
              "  .colab-df-spinner {\n",
              "    border: 2px solid var(--fill-color);\n",
              "    border-color: transparent;\n",
              "    border-bottom-color: var(--fill-color);\n",
              "    animation:\n",
              "      spin 1s steps(1) infinite;\n",
              "  }\n",
              "\n",
              "  @keyframes spin {\n",
              "    0% {\n",
              "      border-color: transparent;\n",
              "      border-bottom-color: var(--fill-color);\n",
              "      border-left-color: var(--fill-color);\n",
              "    }\n",
              "    20% {\n",
              "      border-color: transparent;\n",
              "      border-left-color: var(--fill-color);\n",
              "      border-top-color: var(--fill-color);\n",
              "    }\n",
              "    30% {\n",
              "      border-color: transparent;\n",
              "      border-left-color: var(--fill-color);\n",
              "      border-top-color: var(--fill-color);\n",
              "      border-right-color: var(--fill-color);\n",
              "    }\n",
              "    40% {\n",
              "      border-color: transparent;\n",
              "      border-right-color: var(--fill-color);\n",
              "      border-top-color: var(--fill-color);\n",
              "    }\n",
              "    60% {\n",
              "      border-color: transparent;\n",
              "      border-right-color: var(--fill-color);\n",
              "    }\n",
              "    80% {\n",
              "      border-color: transparent;\n",
              "      border-right-color: var(--fill-color);\n",
              "      border-bottom-color: var(--fill-color);\n",
              "    }\n",
              "    90% {\n",
              "      border-color: transparent;\n",
              "      border-bottom-color: var(--fill-color);\n",
              "    }\n",
              "  }\n",
              "</style>\n",
              "\n",
              "      <script>\n",
              "        async function quickchart(key) {\n",
              "          const quickchartButtonEl =\n",
              "            document.querySelector('#' + key + ' button');\n",
              "          quickchartButtonEl.disabled = true;  // To prevent multiple clicks.\n",
              "          quickchartButtonEl.classList.add('colab-df-spinner');\n",
              "          try {\n",
              "            const charts = await google.colab.kernel.invokeFunction(\n",
              "                'suggestCharts', [key], {});\n",
              "          } catch (error) {\n",
              "            console.error('Error during call to suggestCharts:', error);\n",
              "          }\n",
              "          quickchartButtonEl.classList.remove('colab-df-spinner');\n",
              "          quickchartButtonEl.classList.add('colab-df-quickchart-complete');\n",
              "        }\n",
              "        (() => {\n",
              "          let quickchartButtonEl =\n",
              "            document.querySelector('#df-594c4402-4b1b-458c-b466-cd2f1b48845a button');\n",
              "          quickchartButtonEl.style.display =\n",
              "            google.colab.kernel.accessAllowed ? 'block' : 'none';\n",
              "        })();\n",
              "      </script>\n",
              "    </div>\n",
              "\n",
              "  <div id=\"id_4b298e4b-b22a-4443-92cc-3b0396e82bf1\">\n",
              "    <style>\n",
              "      .colab-df-generate {\n",
              "        background-color: #E8F0FE;\n",
              "        border: none;\n",
              "        border-radius: 50%;\n",
              "        cursor: pointer;\n",
              "        display: none;\n",
              "        fill: #1967D2;\n",
              "        height: 32px;\n",
              "        padding: 0 0 0 0;\n",
              "        width: 32px;\n",
              "      }\n",
              "\n",
              "      .colab-df-generate:hover {\n",
              "        background-color: #E2EBFA;\n",
              "        box-shadow: 0px 1px 2px rgba(60, 64, 67, 0.3), 0px 1px 3px 1px rgba(60, 64, 67, 0.15);\n",
              "        fill: #174EA6;\n",
              "      }\n",
              "\n",
              "      [theme=dark] .colab-df-generate {\n",
              "        background-color: #3B4455;\n",
              "        fill: #D2E3FC;\n",
              "      }\n",
              "\n",
              "      [theme=dark] .colab-df-generate:hover {\n",
              "        background-color: #434B5C;\n",
              "        box-shadow: 0px 1px 3px 1px rgba(0, 0, 0, 0.15);\n",
              "        filter: drop-shadow(0px 1px 2px rgba(0, 0, 0, 0.3));\n",
              "        fill: #FFFFFF;\n",
              "      }\n",
              "    </style>\n",
              "    <button class=\"colab-df-generate\" onclick=\"generateWithVariable('training_log')\"\n",
              "            title=\"Generate code using this dataframe.\"\n",
              "            style=\"display:none;\">\n",
              "\n",
              "  <svg xmlns=\"http://www.w3.org/2000/svg\" height=\"24px\"viewBox=\"0 0 24 24\"\n",
              "       width=\"24px\">\n",
              "    <path d=\"M7,19H8.4L18.45,9,17,7.55,7,17.6ZM5,21V16.75L18.45,3.32a2,2,0,0,1,2.83,0l1.4,1.43a1.91,1.91,0,0,1,.58,1.4,1.91,1.91,0,0,1-.58,1.4L9.25,21ZM18.45,9,17,7.55Zm-12,3A5.31,5.31,0,0,0,4.9,8.1,5.31,5.31,0,0,0,1,6.5,5.31,5.31,0,0,0,4.9,4.9,5.31,5.31,0,0,0,6.5,1,5.31,5.31,0,0,0,8.1,4.9,5.31,5.31,0,0,0,12,6.5,5.46,5.46,0,0,0,6.5,12Z\"/>\n",
              "  </svg>\n",
              "    </button>\n",
              "    <script>\n",
              "      (() => {\n",
              "      const buttonEl =\n",
              "        document.querySelector('#id_4b298e4b-b22a-4443-92cc-3b0396e82bf1 button.colab-df-generate');\n",
              "      buttonEl.style.display =\n",
              "        google.colab.kernel.accessAllowed ? 'block' : 'none';\n",
              "\n",
              "      buttonEl.onclick = () => {\n",
              "        google.colab.notebook.generateWithVariable('training_log');\n",
              "      }\n",
              "      })();\n",
              "    </script>\n",
              "  </div>\n",
              "\n",
              "    </div>\n",
              "  </div>\n"
            ],
            "application/vnd.google.colaboratory.intrinsic+json": {
              "type": "dataframe",
              "variable_name": "training_log",
              "summary": "{\n  \"name\": \"training_log\",\n  \"rows\": 25,\n  \"fields\": [\n    {\n      \"column\": \"epoch\",\n      \"properties\": {\n        \"dtype\": \"number\",\n        \"std\": 7,\n        \"min\": 0,\n        \"max\": 24,\n        \"num_unique_values\": 25,\n        \"samples\": [\n          8,\n          16,\n          0\n        ],\n        \"semantic_type\": \"\",\n        \"description\": \"\"\n      }\n    },\n    {\n      \"column\": \"accuracy\",\n      \"properties\": {\n        \"dtype\": \"number\",\n        \"std\": 0.132775756071747,\n        \"min\": 0.3888735175132751,\n        \"max\": 0.9792416095733644,\n        \"num_unique_values\": 24,\n        \"samples\": [\n          0.949626326560974,\n          0.973706066608429,\n          0.3888735175132751\n        ],\n        \"semantic_type\": \"\",\n        \"description\": \"\"\n      }\n    },\n    {\n      \"column\": \"loss\",\n      \"properties\": {\n        \"dtype\": \"number\",\n        \"std\": 0.30508927323620477,\n        \"min\": 0.0529695637524127,\n        \"max\": 1.311443328857422,\n        \"num_unique_values\": 25,\n        \"samples\": [\n          0.1652930527925491,\n          0.0801072567701339,\n          1.311443328857422\n        ],\n        \"semantic_type\": \"\",\n        \"description\": \"\"\n      }\n    },\n    {\n      \"column\": \"val_accuracy\",\n      \"properties\": {\n        \"dtype\": \"number\",\n        \"std\": 0.04911832801128738,\n        \"min\": 0.440922200679779,\n        \"max\": 0.7002881765365601,\n        \"num_unique_values\": 12,\n        \"samples\": [\n          0.6657060384750366,\n          0.6887608170509338,\n          0.440922200679779\n        ],\n        \"semantic_type\": \"\",\n        \"description\": \"\"\n      }\n    },\n    {\n      \"column\": \"val_loss\",\n      \"properties\": {\n        \"dtype\": \"number\",\n        \"std\": 0.2717848244524828,\n        \"min\": 0.7672253847122192,\n        \"max\": 1.6406610012054443,\n        \"num_unique_values\": 25,\n        \"samples\": [\n          1.0739924907684326,\n          1.357061505317688,\n          1.2472673654556274\n        ],\n        \"semantic_type\": \"\",\n        \"description\": \"\"\n      }\n    }\n  ]\n}"
            }
          },
          "metadata": {},
          "execution_count": 84
        }
      ],
      "source": [
        "#Let's take a look at the training log\n",
        "training_log = pd.DataFrame()\n",
        "training_log = pd.read_csv(\"./DM2025-Lab2-Exercise/logs/training_log.csv\")\n",
        "training_log"
      ]
    },
    {
      "cell_type": "markdown",
      "metadata": {
        "id": "NoYqY0-tYTp5"
      },
      "source": [
        "---\n",
        "##### <a id='toc1_10_5_1_1_'></a>[**>>> Exercise 6 (Take home):**](#toc0_)\n",
        "\n",
        "Plot the Training and Validation Accuracy and Loss (different plots), just like the images below.(Note: the pictures below are an example from a different model). How to interpret the graphs you got? How are they related to the concept of overfitting/underfitting covered in class?\n",
        "\n",
        "![pic3.png](https://drive.google.com/uc?export=view&id=1cYxbZ-72ZJucyUdOsRUEodH203ldZScM)  ![pic4.png](https://drive.google.com/uc?export=view&id=1LybXXqULWkB7IGO3X5g8rLYFx7lhSoms)\n"
      ]
    },
    {
      "cell_type": "code",
      "execution_count": null,
      "metadata": {
        "id": "AlhstCrlYTp5"
      },
      "outputs": [],
      "source": [
        "# Answer here\n"
      ]
    },
    {
      "cell_type": "markdown",
      "metadata": {
        "id": "UYabzgSGYTp5"
      },
      "source": [
        "---"
      ]
    },
    {
      "cell_type": "markdown",
      "metadata": {
        "id": "4e5eiVLOYTp5"
      },
      "source": [
        "### <a id='toc1_10_6_'></a>[Note](#toc0_)\n",
        "\n",
        "If you don't have a GPU (level is higher than GTX 1060) or you are not good at setting lots of things about computer, we recommend you to use the [kaggle kernel](https://www.kaggle.com/kernels) to do deep learning model training. They have already installed all the librarys and provided free GPU for you to use.\n",
        "\n",
        "Note however that you will only be able to run a kernel for 6 hours. After 6 hours of inactivity, your Kaggle kernel will shut down (meaning if your model takes more than 6 hours to train, you can't train it at once).\n",
        "\n",
        "\n",
        "### <a id='toc1_10_7_'></a>[More Information for your reference](#toc0_)\n",
        "\n",
        "* Keras document: https://keras.io/\n",
        "* Keras GitHub example: https://github.com/keras-team/keras/tree/master/examples\n",
        "* CS229: Machine Learning: http://cs229.stanford.edu/syllabus.html\n",
        "* Deep Learning cheatsheet: https://stanford.edu/~shervine/teaching/cs-229/cheatsheet-deep-learning\n",
        "* If you want to try TensorFlow or PyTorch: https://pytorch.org/tutorials/\n",
        "https://www.tensorflow.org/tutorials/quickstart/beginner"
      ]
    },
    {
      "cell_type": "markdown",
      "metadata": {
        "id": "IESBq48MYTp5"
      },
      "source": [
        "---\n",
        "## <a id='toc1_11_'></a>[**7. Word2Vector**](#toc0_)\n",
        "\n",
        "We will introduce how to use `gensim` to train your word2vec model and how to load a pre-trained model.\n",
        "\n",
        "https://radimrehurek.com/gensim/index.html"
      ]
    },
    {
      "cell_type": "markdown",
      "metadata": {
        "id": "KRSDMhQ5YTp5"
      },
      "source": [
        "---\n",
        "### <a id='toc1_11_1_'></a>[**7.1 Prepare training corpus**](#toc0_)"
      ]
    },
    {
      "cell_type": "code",
      "execution_count": null,
      "metadata": {
        "colab": {
          "base_uri": "https://localhost:8080/",
          "height": 206
        },
        "id": "6aBYrovJYTp5",
        "outputId": "6dcda9e4-1c1d-4b77-f881-9c6ae3ea6e7c"
      },
      "outputs": [
        {
          "output_type": "execute_result",
          "data": {
            "text/plain": [
              "         id                                               text  \\\n",
              "2759  30755  @rubeseatsinfo from here, it's but a short ste...   \n",
              "2334  30330  @lawson__lynch my kinda girl pleasing the dick...   \n",
              "2593  30589  @elena_yip My random guesses for you! A potent...   \n",
              "589   10589  @feistyarcher -trouble,' he feigned anger and ...   \n",
              "2396  30392  @bijayjanand\\nIt's not just a treat for viewer...   \n",
              "\n",
              "                                         text_tokenized  \n",
              "2759  [@, rubeseatsinfo, from, here, ,, it, 's, but,...  \n",
              "2334  [@, lawson__lynch, my, kinda, girl, pleasing, ...  \n",
              "2593  [@, elena_yip, My, random, guesses, for, you, ...  \n",
              "589   [@, feistyarcher, -trouble, ,, ', he, feigned,...  \n",
              "2396  [@, bijayjanand\\nIt, 's, not, just, a, treat, ...  "
            ],
            "text/html": [
              "\n",
              "  <div id=\"df-21bfa4e6-1273-4d43-b434-762a07bde54c\" class=\"colab-df-container\">\n",
              "    <div>\n",
              "<style scoped>\n",
              "    .dataframe tbody tr th:only-of-type {\n",
              "        vertical-align: middle;\n",
              "    }\n",
              "\n",
              "    .dataframe tbody tr th {\n",
              "        vertical-align: top;\n",
              "    }\n",
              "\n",
              "    .dataframe thead th {\n",
              "        text-align: right;\n",
              "    }\n",
              "</style>\n",
              "<table border=\"1\" class=\"dataframe\">\n",
              "  <thead>\n",
              "    <tr style=\"text-align: right;\">\n",
              "      <th></th>\n",
              "      <th>id</th>\n",
              "      <th>text</th>\n",
              "      <th>text_tokenized</th>\n",
              "    </tr>\n",
              "  </thead>\n",
              "  <tbody>\n",
              "    <tr>\n",
              "      <th>2759</th>\n",
              "      <td>30755</td>\n",
              "      <td>@rubeseatsinfo from here, it's but a short ste...</td>\n",
              "      <td>[@, rubeseatsinfo, from, here, ,, it, 's, but,...</td>\n",
              "    </tr>\n",
              "    <tr>\n",
              "      <th>2334</th>\n",
              "      <td>30330</td>\n",
              "      <td>@lawson__lynch my kinda girl pleasing the dick...</td>\n",
              "      <td>[@, lawson__lynch, my, kinda, girl, pleasing, ...</td>\n",
              "    </tr>\n",
              "    <tr>\n",
              "      <th>2593</th>\n",
              "      <td>30589</td>\n",
              "      <td>@elena_yip My random guesses for you! A potent...</td>\n",
              "      <td>[@, elena_yip, My, random, guesses, for, you, ...</td>\n",
              "    </tr>\n",
              "    <tr>\n",
              "      <th>589</th>\n",
              "      <td>10589</td>\n",
              "      <td>@feistyarcher -trouble,' he feigned anger and ...</td>\n",
              "      <td>[@, feistyarcher, -trouble, ,, ', he, feigned,...</td>\n",
              "    </tr>\n",
              "    <tr>\n",
              "      <th>2396</th>\n",
              "      <td>30392</td>\n",
              "      <td>@bijayjanand\\nIt's not just a treat for viewer...</td>\n",
              "      <td>[@, bijayjanand\\nIt, 's, not, just, a, treat, ...</td>\n",
              "    </tr>\n",
              "  </tbody>\n",
              "</table>\n",
              "</div>\n",
              "    <div class=\"colab-df-buttons\">\n",
              "\n",
              "  <div class=\"colab-df-container\">\n",
              "    <button class=\"colab-df-convert\" onclick=\"convertToInteractive('df-21bfa4e6-1273-4d43-b434-762a07bde54c')\"\n",
              "            title=\"Convert this dataframe to an interactive table.\"\n",
              "            style=\"display:none;\">\n",
              "\n",
              "  <svg xmlns=\"http://www.w3.org/2000/svg\" height=\"24px\" viewBox=\"0 -960 960 960\">\n",
              "    <path d=\"M120-120v-720h720v720H120Zm60-500h600v-160H180v160Zm220 220h160v-160H400v160Zm0 220h160v-160H400v160ZM180-400h160v-160H180v160Zm440 0h160v-160H620v160ZM180-180h160v-160H180v160Zm440 0h160v-160H620v160Z\"/>\n",
              "  </svg>\n",
              "    </button>\n",
              "\n",
              "  <style>\n",
              "    .colab-df-container {\n",
              "      display:flex;\n",
              "      gap: 12px;\n",
              "    }\n",
              "\n",
              "    .colab-df-convert {\n",
              "      background-color: #E8F0FE;\n",
              "      border: none;\n",
              "      border-radius: 50%;\n",
              "      cursor: pointer;\n",
              "      display: none;\n",
              "      fill: #1967D2;\n",
              "      height: 32px;\n",
              "      padding: 0 0 0 0;\n",
              "      width: 32px;\n",
              "    }\n",
              "\n",
              "    .colab-df-convert:hover {\n",
              "      background-color: #E2EBFA;\n",
              "      box-shadow: 0px 1px 2px rgba(60, 64, 67, 0.3), 0px 1px 3px 1px rgba(60, 64, 67, 0.15);\n",
              "      fill: #174EA6;\n",
              "    }\n",
              "\n",
              "    .colab-df-buttons div {\n",
              "      margin-bottom: 4px;\n",
              "    }\n",
              "\n",
              "    [theme=dark] .colab-df-convert {\n",
              "      background-color: #3B4455;\n",
              "      fill: #D2E3FC;\n",
              "    }\n",
              "\n",
              "    [theme=dark] .colab-df-convert:hover {\n",
              "      background-color: #434B5C;\n",
              "      box-shadow: 0px 1px 3px 1px rgba(0, 0, 0, 0.15);\n",
              "      filter: drop-shadow(0px 1px 2px rgba(0, 0, 0, 0.3));\n",
              "      fill: #FFFFFF;\n",
              "    }\n",
              "  </style>\n",
              "\n",
              "    <script>\n",
              "      const buttonEl =\n",
              "        document.querySelector('#df-21bfa4e6-1273-4d43-b434-762a07bde54c button.colab-df-convert');\n",
              "      buttonEl.style.display =\n",
              "        google.colab.kernel.accessAllowed ? 'block' : 'none';\n",
              "\n",
              "      async function convertToInteractive(key) {\n",
              "        const element = document.querySelector('#df-21bfa4e6-1273-4d43-b434-762a07bde54c');\n",
              "        const dataTable =\n",
              "          await google.colab.kernel.invokeFunction('convertToInteractive',\n",
              "                                                    [key], {});\n",
              "        if (!dataTable) return;\n",
              "\n",
              "        const docLinkHtml = 'Like what you see? Visit the ' +\n",
              "          '<a target=\"_blank\" href=https://colab.research.google.com/notebooks/data_table.ipynb>data table notebook</a>'\n",
              "          + ' to learn more about interactive tables.';\n",
              "        element.innerHTML = '';\n",
              "        dataTable['output_type'] = 'display_data';\n",
              "        await google.colab.output.renderOutput(dataTable, element);\n",
              "        const docLink = document.createElement('div');\n",
              "        docLink.innerHTML = docLinkHtml;\n",
              "        element.appendChild(docLink);\n",
              "      }\n",
              "    </script>\n",
              "  </div>\n",
              "\n",
              "\n",
              "    <div id=\"df-3b0bc15f-4ff7-4fd2-b103-ec75f8f4573c\">\n",
              "      <button class=\"colab-df-quickchart\" onclick=\"quickchart('df-3b0bc15f-4ff7-4fd2-b103-ec75f8f4573c')\"\n",
              "                title=\"Suggest charts\"\n",
              "                style=\"display:none;\">\n",
              "\n",
              "<svg xmlns=\"http://www.w3.org/2000/svg\" height=\"24px\"viewBox=\"0 0 24 24\"\n",
              "     width=\"24px\">\n",
              "    <g>\n",
              "        <path d=\"M19 3H5c-1.1 0-2 .9-2 2v14c0 1.1.9 2 2 2h14c1.1 0 2-.9 2-2V5c0-1.1-.9-2-2-2zM9 17H7v-7h2v7zm4 0h-2V7h2v10zm4 0h-2v-4h2v4z\"/>\n",
              "    </g>\n",
              "</svg>\n",
              "      </button>\n",
              "\n",
              "<style>\n",
              "  .colab-df-quickchart {\n",
              "      --bg-color: #E8F0FE;\n",
              "      --fill-color: #1967D2;\n",
              "      --hover-bg-color: #E2EBFA;\n",
              "      --hover-fill-color: #174EA6;\n",
              "      --disabled-fill-color: #AAA;\n",
              "      --disabled-bg-color: #DDD;\n",
              "  }\n",
              "\n",
              "  [theme=dark] .colab-df-quickchart {\n",
              "      --bg-color: #3B4455;\n",
              "      --fill-color: #D2E3FC;\n",
              "      --hover-bg-color: #434B5C;\n",
              "      --hover-fill-color: #FFFFFF;\n",
              "      --disabled-bg-color: #3B4455;\n",
              "      --disabled-fill-color: #666;\n",
              "  }\n",
              "\n",
              "  .colab-df-quickchart {\n",
              "    background-color: var(--bg-color);\n",
              "    border: none;\n",
              "    border-radius: 50%;\n",
              "    cursor: pointer;\n",
              "    display: none;\n",
              "    fill: var(--fill-color);\n",
              "    height: 32px;\n",
              "    padding: 0;\n",
              "    width: 32px;\n",
              "  }\n",
              "\n",
              "  .colab-df-quickchart:hover {\n",
              "    background-color: var(--hover-bg-color);\n",
              "    box-shadow: 0 1px 2px rgba(60, 64, 67, 0.3), 0 1px 3px 1px rgba(60, 64, 67, 0.15);\n",
              "    fill: var(--button-hover-fill-color);\n",
              "  }\n",
              "\n",
              "  .colab-df-quickchart-complete:disabled,\n",
              "  .colab-df-quickchart-complete:disabled:hover {\n",
              "    background-color: var(--disabled-bg-color);\n",
              "    fill: var(--disabled-fill-color);\n",
              "    box-shadow: none;\n",
              "  }\n",
              "\n",
              "  .colab-df-spinner {\n",
              "    border: 2px solid var(--fill-color);\n",
              "    border-color: transparent;\n",
              "    border-bottom-color: var(--fill-color);\n",
              "    animation:\n",
              "      spin 1s steps(1) infinite;\n",
              "  }\n",
              "\n",
              "  @keyframes spin {\n",
              "    0% {\n",
              "      border-color: transparent;\n",
              "      border-bottom-color: var(--fill-color);\n",
              "      border-left-color: var(--fill-color);\n",
              "    }\n",
              "    20% {\n",
              "      border-color: transparent;\n",
              "      border-left-color: var(--fill-color);\n",
              "      border-top-color: var(--fill-color);\n",
              "    }\n",
              "    30% {\n",
              "      border-color: transparent;\n",
              "      border-left-color: var(--fill-color);\n",
              "      border-top-color: var(--fill-color);\n",
              "      border-right-color: var(--fill-color);\n",
              "    }\n",
              "    40% {\n",
              "      border-color: transparent;\n",
              "      border-right-color: var(--fill-color);\n",
              "      border-top-color: var(--fill-color);\n",
              "    }\n",
              "    60% {\n",
              "      border-color: transparent;\n",
              "      border-right-color: var(--fill-color);\n",
              "    }\n",
              "    80% {\n",
              "      border-color: transparent;\n",
              "      border-right-color: var(--fill-color);\n",
              "      border-bottom-color: var(--fill-color);\n",
              "    }\n",
              "    90% {\n",
              "      border-color: transparent;\n",
              "      border-bottom-color: var(--fill-color);\n",
              "    }\n",
              "  }\n",
              "</style>\n",
              "\n",
              "      <script>\n",
              "        async function quickchart(key) {\n",
              "          const quickchartButtonEl =\n",
              "            document.querySelector('#' + key + ' button');\n",
              "          quickchartButtonEl.disabled = true;  // To prevent multiple clicks.\n",
              "          quickchartButtonEl.classList.add('colab-df-spinner');\n",
              "          try {\n",
              "            const charts = await google.colab.kernel.invokeFunction(\n",
              "                'suggestCharts', [key], {});\n",
              "          } catch (error) {\n",
              "            console.error('Error during call to suggestCharts:', error);\n",
              "          }\n",
              "          quickchartButtonEl.classList.remove('colab-df-spinner');\n",
              "          quickchartButtonEl.classList.add('colab-df-quickchart-complete');\n",
              "        }\n",
              "        (() => {\n",
              "          let quickchartButtonEl =\n",
              "            document.querySelector('#df-3b0bc15f-4ff7-4fd2-b103-ec75f8f4573c button');\n",
              "          quickchartButtonEl.style.display =\n",
              "            google.colab.kernel.accessAllowed ? 'block' : 'none';\n",
              "        })();\n",
              "      </script>\n",
              "    </div>\n",
              "\n",
              "    </div>\n",
              "  </div>\n"
            ],
            "application/vnd.google.colaboratory.intrinsic+json": {
              "type": "dataframe",
              "summary": "{\n  \"name\": \"train_df[['id', 'text', 'text_tokenized']]\",\n  \"rows\": 5,\n  \"fields\": [\n    {\n      \"column\": \"id\",\n      \"properties\": {\n        \"dtype\": \"number\",\n        \"std\": 8913,\n        \"min\": 10589,\n        \"max\": 30755,\n        \"num_unique_values\": 5,\n        \"samples\": [\n          30330,\n          30392,\n          30589\n        ],\n        \"semantic_type\": \"\",\n        \"description\": \"\"\n      }\n    },\n    {\n      \"column\": \"text\",\n      \"properties\": {\n        \"dtype\": \"string\",\n        \"num_unique_values\": 5,\n        \"samples\": [\n          \"@lawson__lynch my kinda girl pleasing the dick right\\ud83d\\ude0d\\ud83d\\ude0f\",\n          \"@bijayjanand\\\\nIt's not just a treat for viewers to watch u as janak, it's simply a treat for our soul, mind, thoughts. #hearty respect \\ud83d\\ude4f\\ud83d\\ude4f\",\n          \"@elena_yip My random guesses for you! A potential Amelie, Kenneth of 30 Rock (but YA instead of TV) &amp; maybe w/ the optimism of Lara Jean?\"\n        ],\n        \"semantic_type\": \"\",\n        \"description\": \"\"\n      }\n    },\n    {\n      \"column\": \"text_tokenized\",\n      \"properties\": {\n        \"dtype\": \"object\",\n        \"semantic_type\": \"\",\n        \"description\": \"\"\n      }\n    }\n  ]\n}"
            }
          },
          "metadata": {},
          "execution_count": 85
        }
      ],
      "source": [
        "## check library\n",
        "import gensim\n",
        "\n",
        "## ignore warnings\n",
        "import warnings\n",
        "warnings.filterwarnings('ignore')\n",
        "\n",
        "# # if you want to see the training messages, you can use it\n",
        "# import logging\n",
        "# logging.basicConfig(format='%(asctime)s : %(levelname)s : %(message)s', level=logging.INFO)\n",
        "\n",
        "## the input type\n",
        "train_df['text_tokenized'] = train_df['text'].apply(lambda x: nltk.word_tokenize(x))\n",
        "train_df[['id', 'text', 'text_tokenized']].head()"
      ]
    },
    {
      "cell_type": "code",
      "execution_count": null,
      "metadata": {
        "colab": {
          "base_uri": "https://localhost:8080/"
        },
        "id": "okFIEcmnYTp5",
        "outputId": "2f21b1f3-22fc-417b-fea0-09e7d619dea1"
      },
      "outputs": [
        {
          "output_type": "execute_result",
          "data": {
            "text/plain": [
              "array([list(['@', 'rubeseatsinfo', 'from', 'here', ',', 'it', \"'s\", 'but', 'a', 'short', 'step', 'to', 'biweekly', 'Community', 'Meetings', 'over', 'a', 'hearty', 'meal', 'of', 'soy', 'flakes']),\n",
              "       list(['@', 'lawson__lynch', 'my', 'kinda', 'girl', 'pleasing', 'the', 'dick', 'right😍😏']),\n",
              "       list(['@', 'elena_yip', 'My', 'random', 'guesses', 'for', 'you', '!', 'A', 'potential', 'Amelie', ',', 'Kenneth', 'of', '30', 'Rock', '(', 'but', 'YA', 'instead', 'of', 'TV', ')', '&', 'amp', ';', 'maybe', 'w/', 'the', 'optimism', 'of', 'Lara', 'Jean', '?'])],\n",
              "      dtype=object)"
            ]
          },
          "metadata": {},
          "execution_count": 86
        }
      ],
      "source": [
        "## create the training corpus\n",
        "training_corpus = train_df['text_tokenized'].values\n",
        "training_corpus[:3]"
      ]
    },
    {
      "cell_type": "markdown",
      "metadata": {
        "id": "dOgAriPRYTp5"
      },
      "source": [
        "---\n",
        "### <a id='toc1_11_2_'></a>[**7.2 Training our model**](#toc0_)\n",
        "\n",
        "You can try to train your own model. More details: https://radimrehurek.com/gensim/models/word2vec.html"
      ]
    },
    {
      "cell_type": "code",
      "execution_count": null,
      "metadata": {
        "id": "72ZA54IDYTp5",
        "scrolled": true
      },
      "outputs": [],
      "source": [
        "from gensim.models import Word2Vec\n",
        "\n",
        "## setting\n",
        "vector_dim = 100\n",
        "window_size = 5\n",
        "min_count = 1\n",
        "training_epochs = 20\n",
        "\n",
        "## model\n",
        "word2vec_model = Word2Vec(sentences=training_corpus,\n",
        "                          vector_size=vector_dim, window=window_size,\n",
        "                          min_count=min_count, epochs=training_epochs)"
      ]
    },
    {
      "cell_type": "markdown",
      "metadata": {
        "id": "ob0Molb3YTp5"
      },
      "source": [
        "![Imgur](https://i.imgur.com/Fca3MCs.png)"
      ]
    },
    {
      "cell_type": "markdown",
      "metadata": {
        "id": "E0jjvjN5YTp5"
      },
      "source": [
        "---\n",
        "### <a id='toc1_11_3_'></a>[**7.3 Generating word vector (embeddings)**](#toc0_)"
      ]
    },
    {
      "cell_type": "code",
      "execution_count": null,
      "metadata": {
        "colab": {
          "base_uri": "https://localhost:8080/"
        },
        "id": "4ejofZfCYTp5",
        "outputId": "c78a620f-1daf-4850-a79d-c1c5d559d803"
      },
      "outputs": [
        {
          "output_type": "execute_result",
          "data": {
            "text/plain": [
              "array([ 0.55118084,  0.3963378 , -0.06406149,  0.08393375,  0.33906138,\n",
              "       -1.4004841 ,  0.22884618,  1.4521278 , -0.32855868, -0.46272105,\n",
              "       -0.13259602, -1.1026586 , -0.50700676,  0.35185754, -0.29840392,\n",
              "       -0.16443162,  0.46687156, -0.40725857,  0.64451027, -0.8160022 ,\n",
              "        0.23408216,  0.8813436 ,  0.89925754, -0.08967751,  0.3157942 ,\n",
              "       -0.08711118, -0.32733557,  0.6661179 , -0.4825895 , -0.20839407,\n",
              "        0.38303116, -0.26869175,  0.42020777, -0.7022749 , -0.3776112 ,\n",
              "        0.08706009,  0.1672844 , -0.05018748, -0.4475976 , -0.4059176 ,\n",
              "        0.5872022 ,  0.22569518, -0.4528235 , -0.03906213,  0.40384647,\n",
              "       -0.04776907, -0.86944044,  0.30674803,  0.6327974 ,  0.7320504 ,\n",
              "       -0.29990223, -0.65282583,  0.12819658,  0.23953143, -0.6503745 ,\n",
              "       -0.33452675,  0.34786898, -0.09892825, -0.15186803,  0.69062084,\n",
              "        0.04294957, -0.35684332,  0.2496228 ,  0.5774104 , -0.66706234,\n",
              "        0.6959067 ,  0.29280147,  0.51326674, -1.0774337 ,  0.48801243,\n",
              "        0.09156836,  0.7539963 ,  0.9064484 , -0.61761147,  0.6296149 ,\n",
              "       -0.0772564 ,  0.8487332 , -0.18372928, -0.46206796, -0.06074267,\n",
              "       -0.5943217 , -0.24763167, -0.8610848 ,  0.9063289 ,  0.06697162,\n",
              "       -0.5231275 ,  0.9722882 ,  0.05820398,  0.00638719,  0.47783923,\n",
              "        0.68308073,  0.01492313, -0.01293889,  0.21501936,  0.99422157,\n",
              "        0.21307774,  0.3132262 ,  0.04232368,  0.3958866 ,  0.18984745],\n",
              "      dtype=float32)"
            ]
          },
          "metadata": {},
          "execution_count": 88
        }
      ],
      "source": [
        "# get the corresponding vector of a word\n",
        "word_vec = word2vec_model.wv['happy']\n",
        "word_vec"
      ]
    },
    {
      "cell_type": "code",
      "execution_count": null,
      "metadata": {
        "colab": {
          "base_uri": "https://localhost:8080/"
        },
        "id": "9dUSkCscYTp5",
        "outputId": "4cf8fdc9-2e93-4792-cb2c-a76a1d8e1ce7"
      },
      "outputs": [
        {
          "output_type": "execute_result",
          "data": {
            "text/plain": [
              "[('blessed', 0.9389135837554932),\n",
              " ('Be', 0.9358977675437927),\n",
              " ('See', 0.91938716173172),\n",
              " ('dad', 0.917192816734314),\n",
              " ('birthday', 0.914056658744812),\n",
              " ('bday', 0.9089623093605042),\n",
              " ('free', 0.9079599976539612),\n",
              " ('smile', 0.904692530632019),\n",
              " ('travel', 0.9037999510765076),\n",
              " ('cats', 0.9025692343711853)]"
            ]
          },
          "metadata": {},
          "execution_count": 89
        }
      ],
      "source": [
        "# Get the most similar words\n",
        "word = 'happy'\n",
        "topn = 10\n",
        "word2vec_model.wv.most_similar(word, topn=topn)"
      ]
    },
    {
      "cell_type": "markdown",
      "metadata": {
        "id": "zuQvZVJvYTp5"
      },
      "source": [
        "---\n",
        "### <a id='toc1_11_4_'></a>[**7.4 Using a pre-trained w2v model**](#toc0_)\n",
        "\n",
        "Instead of training your own model ,you can use a model that has already been trained. Here, we see 2 ways of doing that:\n",
        "\n",
        "\n",
        "#### <a id='toc1_11_4_1_'></a>[(1) Download model by yourself](#toc0_)\n",
        "\n",
        "source: [GoogleNews-vectors-negative300](https://code.google.com/archive/p/word2vec/)\n",
        "\n",
        "more details: https://radimrehurek.com/gensim/models/keyedvectors.html"
      ]
    },
    {
      "cell_type": "code",
      "execution_count": null,
      "metadata": {
        "colab": {
          "base_uri": "https://localhost:8080/"
        },
        "id": "bdH9E9auYTp5",
        "outputId": "8864cb4c-4689-4a41-f2fd-8ea4f2976e03"
      },
      "outputs": [
        {
          "output_type": "stream",
          "name": "stdout",
          "text": [
            "load ok\n"
          ]
        },
        {
          "output_type": "execute_result",
          "data": {
            "text/plain": [
              "[('glad', 0.7408890724182129),\n",
              " ('pleased', 0.6632170677185059),\n",
              " ('ecstatic', 0.6626912355422974),\n",
              " ('overjoyed', 0.6599286794662476),\n",
              " ('thrilled', 0.6514049172401428),\n",
              " ('satisfied', 0.6437949538230896),\n",
              " ('proud', 0.636042058467865),\n",
              " ('delighted', 0.627237856388092),\n",
              " ('disappointed', 0.6269949674606323),\n",
              " ('excited', 0.6247665286064148)]"
            ]
          },
          "metadata": {},
          "execution_count": 90
        }
      ],
      "source": [
        "from gensim.models import KeyedVectors\n",
        "\n",
        "## Note: this model is huge, this will take some time ...\n",
        "model_path = f\"{google_news_vectors_path}/GoogleNews-vectors-negative300.bin\"\n",
        "w2v_google_model = KeyedVectors.load_word2vec_format(model_path, binary=True)\n",
        "print('load ok')\n",
        "\n",
        "w2v_google_model.most_similar('happy', topn=10)"
      ]
    },
    {
      "cell_type": "markdown",
      "metadata": {
        "id": "NdQ9ul0eYTp5"
      },
      "source": [
        "#### <a id='toc1_11_4_2_'></a>[(2) Using gensim api](#toc0_)\n",
        "\n",
        "Other pretrained models are available here: https://github.com/RaRe-Technologies/gensim-data"
      ]
    },
    {
      "cell_type": "code",
      "execution_count": null,
      "metadata": {
        "colab": {
          "base_uri": "https://localhost:8080/"
        },
        "id": "oIxHpNB6YTp5",
        "outputId": "8a53bc73-b953-4a95-e30a-1878bd7c4720"
      },
      "outputs": [
        {
          "output_type": "stream",
          "name": "stdout",
          "text": [
            "[==================================================] 100.0% 104.8/104.8MB downloaded\n",
            "load ok\n"
          ]
        },
        {
          "output_type": "execute_result",
          "data": {
            "text/plain": [
              "[('birthday', 0.9577818512916565),\n",
              " ('thank', 0.937666654586792),\n",
              " ('welcome', 0.93361496925354),\n",
              " ('love', 0.9176183342933655),\n",
              " ('miss', 0.9164500832557678),\n",
              " ('hello', 0.9158351421356201),\n",
              " ('thanks', 0.915008544921875),\n",
              " ('merry', 0.9053249359130859),\n",
              " ('bless', 0.902732253074646),\n",
              " ('wish', 0.9013164043426514)]"
            ]
          },
          "metadata": {},
          "execution_count": 91
        }
      ],
      "source": [
        "import gensim.downloader as api\n",
        "\n",
        "## If you see `SSL: CERTIFICATE_VERIFY_FAILED` error, use this:\n",
        "import ssl\n",
        "import urllib.request\n",
        "ssl._create_default_https_context = ssl._create_unverified_context\n",
        "\n",
        "glove_twitter_25_model = api.load(\"glove-twitter-25\")\n",
        "print('load ok')\n",
        "\n",
        "glove_twitter_25_model.most_similar('happy', topn=10)"
      ]
    },
    {
      "cell_type": "markdown",
      "metadata": {
        "id": "GCNDNqeXYTp5"
      },
      "source": [
        "---\n",
        "### <a id='toc1_11_5_'></a>[**7.5 king + woman - man = ?**](#toc0_)"
      ]
    },
    {
      "cell_type": "markdown",
      "metadata": {
        "id": "_GtCRr_7YTp5"
      },
      "source": [
        "Let's run one of the most famous examples for Word2Vec and compute the similarity between these 3 words:"
      ]
    },
    {
      "cell_type": "code",
      "execution_count": null,
      "metadata": {
        "colab": {
          "base_uri": "https://localhost:8080/"
        },
        "id": "Zew7m_kIYTp5",
        "outputId": "9797fd64-5b78-457a-e808-7f9fa794af8d"
      },
      "outputs": [
        {
          "output_type": "execute_result",
          "data": {
            "text/plain": [
              "[('queen', 0.7118193507194519),\n",
              " ('monarch', 0.6189674139022827),\n",
              " ('princess', 0.5902431011199951),\n",
              " ('crown_prince', 0.5499460697174072),\n",
              " ('prince', 0.5377321839332581),\n",
              " ('kings', 0.5236844420433044),\n",
              " ('Queen_Consort', 0.5235945582389832),\n",
              " ('queens', 0.5181134343147278),\n",
              " ('sultan', 0.5098593831062317),\n",
              " ('monarchy', 0.5087411999702454)]"
            ]
          },
          "metadata": {},
          "execution_count": 60
        }
      ],
      "source": [
        "w2v_google_model.most_similar(positive=['king', 'woman'], negative=['man'])"
      ]
    },
    {
      "cell_type": "markdown",
      "metadata": {
        "id": "y3RQVnBOYTp5"
      },
      "source": [
        "---\n",
        "##### <a id='toc1_11_5_1_1_'></a>[**>>> Exercise 7 (Take home):**](#toc0_)\n",
        "\n",
        "Now, we have the word vectors, but our input data is a sequence of words (or say sentence).\n",
        "How can we utilize these \"word\" vectors to represent the sentence data and train our model?\n"
      ]
    },
    {
      "cell_type": "code",
      "execution_count": null,
      "metadata": {
        "id": "TBwRT93DYTp5"
      },
      "outputs": [],
      "source": [
        "# Answer here\n"
      ]
    },
    {
      "cell_type": "markdown",
      "metadata": {
        "id": "LrK7O1KDYTp5"
      },
      "source": [
        "---\n",
        "## <a id='toc1_12_'></a>[**8. Clustering: k-means**](#toc0_)\n",
        "\n",
        "Here we introduce how to use `sklearn` to do the basic **unsupervised learning** approach, k-means.    \n",
        "\n",
        "more details: http://scikit-learn.org/stable/modules/generated/sklearn.cluster.KMeans.html\n"
      ]
    },
    {
      "cell_type": "markdown",
      "metadata": {
        "id": "Hr8_IxwBYTp5"
      },
      "source": [
        "#### <a id='toc1_12_1_1_'></a>[Basic concept](#toc0_)\n",
        "\n",
        "![pic5.png](https://drive.google.com/uc?export=view&id=1YaPsXWrr7sQFHelMyiNuERs2lG1tZZ54)\n",
        "\n",
        "(img source: https://towardsdatascience.com/k-means-clustering-identifying-f-r-i-e-n-d-s-in-the-world-of-strangers-695537505d)"
      ]
    },
    {
      "cell_type": "code",
      "execution_count": null,
      "metadata": {
        "colab": {
          "base_uri": "https://localhost:8080/"
        },
        "id": "6heUPVwWYTp5",
        "outputId": "3de70bf9-78fb-4908-f039-f9f50ecc9c0c"
      },
      "outputs": [
        {
          "output_type": "stream",
          "name": "stdout",
          "text": [
            "target words:  ['happy', 'fear', 'angry', 'car', 'teacher', 'computer']\n"
          ]
        }
      ],
      "source": [
        "# clustering target\n",
        "target_list = ['happy', 'fear', 'angry', 'car', 'teacher', 'computer']\n",
        "print('target words: ', target_list)\n",
        "\n",
        "# convert to word vector\n",
        "X = [word2vec_model.wv[word] for word in target_list]"
      ]
    },
    {
      "cell_type": "code",
      "execution_count": null,
      "metadata": {
        "colab": {
          "base_uri": "https://localhost:8080/"
        },
        "id": "E9t_sJrvYTp5",
        "outputId": "76bf3e29-383c-44cc-bc88-72bd586b0954"
      },
      "outputs": [
        {
          "output_type": "stream",
          "name": "stdout",
          "text": [
            "word: happy \t cluster: 0\n",
            "word: fear \t cluster: 0\n",
            "word: angry \t cluster: 0\n",
            "word: car \t cluster: 1\n",
            "word: teacher \t cluster: 1\n",
            "word: computer \t cluster: 1\n"
          ]
        }
      ],
      "source": [
        "from sklearn.cluster import KMeans\n",
        "\n",
        "# we have to decide how many cluster (k) we want\n",
        "k = 2\n",
        "\n",
        "# k-means model\n",
        "kmeans_model = KMeans(n_clusters=k)\n",
        "kmeans_model.fit(X)\n",
        "\n",
        "# cluster result\n",
        "cluster_result = kmeans_model.labels_\n",
        "\n",
        "# show\n",
        "for i in range(len(target_list)):\n",
        "    print('word: {} \\t cluster: {}'.format(target_list[i], cluster_result[i]))"
      ]
    },
    {
      "cell_type": "markdown",
      "metadata": {
        "id": "QcDTL7kRYTp5"
      },
      "source": [
        "![pic6.png](https://drive.google.com/uc?export=view&id=1loQX4BJI3MlcNmlpjVvqqNTLQSOmxfC4)"
      ]
    },
    {
      "cell_type": "code",
      "execution_count": null,
      "metadata": {
        "colab": {
          "base_uri": "https://localhost:8080/"
        },
        "id": "NIMFax_uYTp5",
        "outputId": "63c0a421-3f82-4a63-8141-b08e74a92e66"
      },
      "outputs": [
        {
          "output_type": "execute_result",
          "data": {
            "text/plain": [
              "array([1], dtype=int32)"
            ]
          },
          "metadata": {},
          "execution_count": 94
        }
      ],
      "source": [
        "#check cluster membership\n",
        "word = 'student'\n",
        "word_vec = word2vec_model.wv[word]\n",
        "kmeans_model.predict([word_vec])"
      ]
    },
    {
      "cell_type": "code",
      "execution_count": null,
      "metadata": {
        "colab": {
          "base_uri": "https://localhost:8080/"
        },
        "id": "vIDuLDOlYTp5",
        "outputId": "3310a3d0-36e0-4e1b-f82a-f91a42604ee2"
      },
      "outputs": [
        {
          "output_type": "execute_result",
          "data": {
            "text/plain": [
              "array([0], dtype=int32)"
            ]
          },
          "metadata": {},
          "execution_count": 95
        }
      ],
      "source": [
        "#check cluster membership\n",
        "word = 'sad'\n",
        "word_vec = word2vec_model.wv[word]\n",
        "kmeans_model.predict([word_vec])"
      ]
    },
    {
      "cell_type": "markdown",
      "metadata": {
        "id": "cZOEGH3GYTp5"
      },
      "source": [
        "---\n",
        "## <a id='toc1_13_'></a>[**9. High-dimension Visualization: t-SNE and UMAP**](#toc0_)\n",
        "\n",
        "No matter if you use the Bag-of-words, TF-IDF, or Word2Vec, it's very hard to see the embedding result, because the dimension is larger than 3.  \n",
        "\n",
        "In Lab 1, we already talked about PCA, t-SNE and UMAP. We can use PCA to reduce the dimension of our data, then visualize it. However, if you dig deeper into the result, you'd find it is insufficient.\n",
        "\n",
        "Our aim will be to create a visualization similar to the one below with t-SNE:"
      ]
    },
    {
      "cell_type": "markdown",
      "metadata": {
        "id": "3-JR-rqyYTp5"
      },
      "source": [
        "![pic7.png](https://drive.google.com/uc?export=view&id=1YgtPqQJysWiWKCOvGVjpA07gwgqap3a6)\n",
        "\n",
        "source: https://www.fabian-keller.de/research/high-dimensional-data-visualization"
      ]
    },
    {
      "cell_type": "markdown",
      "metadata": {
        "id": "fKnz8k81ui7j"
      },
      "source": [
        "And also like this for UMAP:\n",
        "\n",
        "![pic9.png](https://drive.google.com/uc?export=view&id=1NQsoRSWGYAya0dyDefPXYy7l7Ag6a5UT)\n",
        "\n",
        "source: https://umap-learn.readthedocs.io/en/latest/auto_examples/plot_mnist_example.html"
      ]
    },
    {
      "cell_type": "markdown",
      "metadata": {
        "id": "tmdbJbjxYTp5"
      },
      "source": [
        "t-SNE and UMAP reference:  \n",
        "http://scikit-learn.org/stable/modules/generated/sklearn.manifold.TSNE.html\n",
        "https://umap-learn.readthedocs.io/en/latest/"
      ]
    },
    {
      "cell_type": "markdown",
      "metadata": {
        "id": "MU8eeDnGYTp5"
      },
      "source": [
        "---\n",
        "### <a id='toc1_13_1_'></a>[**9.1 Prepare visualizing target**](#toc0_)"
      ]
    },
    {
      "cell_type": "markdown",
      "metadata": {
        "id": "T9IHcP3VYTp5"
      },
      "source": [
        "Let's prepare data lists like:\n",
        "- happy words\n",
        "- angry words\n",
        "- data words\n",
        "- mining words"
      ]
    },
    {
      "cell_type": "code",
      "execution_count": null,
      "metadata": {
        "colab": {
          "base_uri": "https://localhost:8080/"
        },
        "id": "L9il5L7pYTp5",
        "outputId": "e381c494-5bea-46cf-d118-270f7fda1f44"
      },
      "outputs": [
        {
          "output_type": "stream",
          "name": "stdout",
          "text": [
            "happy_words:  ['happy', 'glad', 'pleased', 'ecstatic', 'overjoyed', 'thrilled']\n",
            "angry_words:  ['angry', 'irate', 'enraged', 'indignant', 'incensed', 'annoyed']\n",
            "data_words:  ['data', 'Data', 'datasets', 'dataset', 'databases', 'statistics']\n",
            "mining_words:  ['mining', 'Mining', 'mines', 'coal_mining', 'mine', 'miner']\n",
            "\n",
            "target words: \n",
            "['happy', 'glad', 'pleased', 'ecstatic', 'overjoyed', 'thrilled', 'angry', 'irate', 'enraged', 'indignant', 'incensed', 'annoyed', 'data', 'Data', 'datasets', 'dataset', 'databases', 'statistics', 'mining', 'Mining', 'mines', 'coal_mining', 'mine', 'miner']\n",
            "\n",
            "color list:\n",
            "['b', 'b', 'b', 'b', 'b', 'b', 'g', 'g', 'g', 'g', 'g', 'g', 'r', 'r', 'r', 'r', 'r', 'r', 'y', 'y', 'y', 'y', 'y', 'y']\n"
          ]
        }
      ],
      "source": [
        "word_list = ['happy', 'angry', 'data', 'mining']\n",
        "\n",
        "topn = 5\n",
        "happy_words = ['happy'] + [word_ for word_, sim_ in w2v_google_model.most_similar('happy', topn=topn)]\n",
        "angry_words = ['angry'] + [word_ for word_, sim_ in w2v_google_model.most_similar('angry', topn=topn)]\n",
        "data_words = ['data'] + [word_ for word_, sim_ in w2v_google_model.most_similar('data', topn=topn)]\n",
        "mining_words = ['mining'] + [word_ for word_, sim_ in w2v_google_model.most_similar('mining', topn=topn)]\n",
        "\n",
        "print('happy_words: ', happy_words)\n",
        "print('angry_words: ', angry_words)\n",
        "print('data_words: ', data_words)\n",
        "print('mining_words: ', mining_words)\n",
        "\n",
        "target_words = happy_words + angry_words + data_words + mining_words\n",
        "print('\\ntarget words: ')\n",
        "print(target_words)\n",
        "\n",
        "print('\\ncolor list:')\n",
        "cn = topn + 1\n",
        "color = ['b'] * cn + ['g'] * cn + ['r'] * cn + ['y'] * cn\n",
        "print(color)"
      ]
    },
    {
      "cell_type": "markdown",
      "metadata": {
        "id": "zKa5LRxbYTp5"
      },
      "source": [
        "---\n",
        "### <a id='toc1_13_2_'></a>[**9.2 Plot using t-SNE and UMAP (2-dimension)**](#toc0_)"
      ]
    },
    {
      "cell_type": "code",
      "execution_count": null,
      "metadata": {
        "colab": {
          "base_uri": "https://localhost:8080/",
          "height": 730
        },
        "id": "CJlljN2gYTp5",
        "outputId": "6c50a693-524f-4856-e040-f8222d590f52"
      },
      "outputs": [
        {
          "output_type": "display_data",
          "data": {
            "text/plain": [
              "<Figure size 862.5x862.5 with 1 Axes>"
            ],
            "image/png": "[encoded data removed]"
          },
          "metadata": {}
        }
      ],
      "source": [
        "%matplotlib inline\n",
        "import matplotlib.pyplot as plt\n",
        "from sklearn.manifold import TSNE\n",
        "\n",
        "## w2v model\n",
        "model = w2v_google_model\n",
        "\n",
        "## prepare training word vectors\n",
        "size = 200\n",
        "target_size = len(target_words)\n",
        "all_word = list(model.index_to_key)\n",
        "word_train = target_words + all_word[:size]\n",
        "X_train = model[word_train]\n",
        "\n",
        "## t-SNE model\n",
        "tsne = TSNE(n_components=2, metric='cosine', random_state=28)\n",
        "\n",
        "## training\n",
        "X_tsne = tsne.fit_transform(X_train)\n",
        "\n",
        "## plot the result\n",
        "plt.figure(figsize=(7.5, 7.5), dpi=115)\n",
        "plt.scatter(X_tsne[:target_size, 0], X_tsne[:target_size, 1], c=color)\n",
        "for label, x, y in zip(target_words, X_tsne[:target_size, 0], X_tsne[:target_size, 1]):\n",
        "    plt.annotate(label, xy=(x,y), xytext=(0,0),  textcoords='offset points')\n",
        "plt.show()"
      ]
    },
    {
      "cell_type": "code",
      "execution_count": null,
      "metadata": {
        "colab": {
          "base_uri": "https://localhost:8080/",
          "height": 730
        },
        "id": "iNHUnNl-ui7k",
        "outputId": "0d6ef8f5-198e-4f1f-f539-8ab79a8f0877"
      },
      "outputs": [
        {
          "output_type": "display_data",
          "data": {
            "text/plain": [
              "<Figure size 862.5x862.5 with 1 Axes>"
            ],
            "image/png": "[encoded data removed]"
          },
          "metadata": {}
        }
      ],
      "source": [
        "import matplotlib.pyplot as plt\n",
        "import umap.umap_ as umap\n",
        "\n",
        "## w2v model\n",
        "model = w2v_google_model\n",
        "\n",
        "## prepare training word vectors\n",
        "size = 200\n",
        "target_size = len(target_words)\n",
        "all_word = list(model.index_to_key)\n",
        "word_train = target_words + all_word[:size]\n",
        "X_train = model[word_train]\n",
        "\n",
        "## UMAP model\n",
        "umap_model = umap.UMAP(n_components=2, metric='cosine', random_state=28)\n",
        "\n",
        "## training\n",
        "X_umap = umap_model.fit_transform(X_train)\n",
        "\n",
        "## plot the result\n",
        "plt.figure(figsize=(7.5, 7.5), dpi=115)\n",
        "plt.scatter(X_umap[:target_size, 0], X_umap[:target_size, 1], c=color)\n",
        "for label, x, y in zip(target_words, X_umap[:target_size, 0], X_umap[:target_size, 1]):\n",
        "    plt.annotate(label, xy=(x,y), xytext=(0,0),  textcoords='offset points')\n",
        "plt.show()\n"
      ]
    },
    {
      "cell_type": "markdown",
      "metadata": {
        "id": "2PL61rqYYTp5"
      },
      "source": [
        "---\n",
        "##### <a id='toc1_13_2_1_1_'></a>[**>>> Exercise 8 (Take home):**](#toc0_)\n",
        "\n",
        "Generate a t-SNE and UMAP visualization to show the 15 words most related to the words \"angry\", \"happy\", \"sad\", \"fear\" (60 words total). Compare the differences between both graphs."
      ]
    },
    {
      "cell_type": "code",
      "execution_count": null,
      "metadata": {
        "id": "rvh7ymeNYTp5"
      },
      "outputs": [],
      "source": [
        "# Answer here\n",
        "from gensim.models import KeyedVectors\n",
        "\n",
        "# Example: using pre-trained Google News Word2Vec (if available)\n",
        "# model = KeyedVectors.load_word2vec_format('GoogleNews-vectors-negative300.bin', binary=True)\n",
        "\n",
        "# Target emotion words\n",
        "target_emotions = [\"angry\", \"happy\", \"sad\", \"fear\"]\n"
      ]
    },
    {
      "cell_type": "markdown",
      "metadata": {
        "id": "_fF1woa8YTp5"
      },
      "source": [
        "---"
      ]
    },
    {
      "cell_type": "code",
      "source": [
        "target_words = []\n",
        "for emotion in target_emotions:\n",
        "    similar = [word for word, _ in model.most_similar(emotion, topn=15)]\n",
        "    target_words.extend(similar)\n"
      ],
      "metadata": {
        "id": "2b2VTayfUSip"
      },
      "execution_count": null,
      "outputs": []
    },
    {
      "cell_type": "code",
      "source": [
        "import numpy as np\n",
        "\n",
        "X = np.array([model[word] for word in target_words])\n"
      ],
      "metadata": {
        "id": "2tWlNhCDUUy7"
      },
      "execution_count": null,
      "outputs": []
    },
    {
      "cell_type": "code",
      "source": [
        "import itertools\n",
        "\n",
        "colors = list(itertools.chain.from_iterable([[i]*15 for i in range(4)]))\n"
      ],
      "metadata": {
        "id": "CYDBlw5uUW71"
      },
      "execution_count": null,
      "outputs": []
    },
    {
      "cell_type": "code",
      "source": [
        "from sklearn.manifold import TSNE\n",
        "import matplotlib.pyplot as plt\n",
        "\n",
        "tsne = TSNE(n_components=2, metric='cosine', random_state=42)\n",
        "X_tsne = tsne.fit_transform(X)\n",
        "\n",
        "plt.figure(figsize=(8,8))\n",
        "plt.scatter(X_tsne[:,0], X_tsne[:,1], c=colors, cmap='tab10')\n",
        "for label, x, y in zip(target_words, X_tsne[:,0], X_tsne[:,1]):\n",
        "    plt.annotate(label, xy=(x, y), textcoords='offset points')\n",
        "plt.title(\"t-SNE visualization of emotion-related words\")\n",
        "plt.show()\n"
      ],
      "metadata": {
        "colab": {
          "base_uri": "https://localhost:8080/",
          "height": 699
        },
        "id": "fFjb_6AFUY0L",
        "outputId": "804474bf-d3e3-42a8-af77-0bc7e9eb4141"
      },
      "execution_count": null,
      "outputs": [
        {
          "output_type": "display_data",
          "data": {
            "text/plain": [
              "<Figure size 800x800 with 1 Axes>"
            ],
            "image/png": "[encoded data removed]"
          },
          "metadata": {}
        }
      ]
    },
    {
      "cell_type": "code",
      "source": [
        "!pip install umap-learn\n"
      ],
      "metadata": {
        "colab": {
          "base_uri": "https://localhost:8080/"
        },
        "id": "PW3Uh08hUamP",
        "outputId": "3a971173-8514-42fa-c364-4c813787c352"
      },
      "execution_count": null,
      "outputs": [
        {
          "output_type": "stream",
          "name": "stdout",
          "text": [
            "Requirement already satisfied: umap-learn in /usr/local/lib/python3.12/dist-packages (0.5.9.post2)\n",
            "Requirement already satisfied: numpy>=1.23 in /usr/local/lib/python3.12/dist-packages (from umap-learn) (1.26.4)\n",
            "Requirement already satisfied: scipy>=1.3.1 in /usr/local/lib/python3.12/dist-packages (from umap-learn) (1.13.1)\n",
            "Requirement already satisfied: scikit-learn>=1.6 in /usr/local/lib/python3.12/dist-packages (from umap-learn) (1.7.1)\n",
            "Requirement already satisfied: numba>=0.51.2 in /usr/local/lib/python3.12/dist-packages (from umap-learn) (0.60.0)\n",
            "Requirement already satisfied: pynndescent>=0.5 in /usr/local/lib/python3.12/dist-packages (from umap-learn) (0.5.13)\n",
            "Requirement already satisfied: tqdm in /usr/local/lib/python3.12/dist-packages (from umap-learn) (4.67.1)\n",
            "Requirement already satisfied: llvmlite<0.44,>=0.43.0dev0 in /usr/local/lib/python3.12/dist-packages (from numba>=0.51.2->umap-learn) (0.43.0)\n",
            "Requirement already satisfied: joblib>=0.11 in /usr/local/lib/python3.12/dist-packages (from pynndescent>=0.5->umap-learn) (1.5.2)\n",
            "Requirement already satisfied: threadpoolctl>=3.1.0 in /usr/local/lib/python3.12/dist-packages (from scikit-learn>=1.6->umap-learn) (3.6.0)\n"
          ]
        }
      ]
    },
    {
      "cell_type": "code",
      "source": [
        "import umap\n",
        "\n",
        "umap_model = umap.UMAP(n_components=2, metric='cosine', random_state=42)\n",
        "X_umap = umap_model.fit_transform(X)\n",
        "\n",
        "plt.figure(figsize=(8,8))\n",
        "plt.scatter(X_umap[:,0], X_umap[:,1], c=colors, cmap='tab10')\n",
        "for label, x, y in zip(target_words, X_umap[:,0], X_umap[:,1]):\n",
        "    plt.annotate(label, xy=(x, y), textcoords='offset points')\n",
        "plt.title(\"UMAP visualization of emotion-related words\")\n",
        "plt.show()\n"
      ],
      "metadata": {
        "colab": {
          "base_uri": "https://localhost:8080/",
          "height": 699
        },
        "id": "r7qstpI-UeJE",
        "outputId": "342b148a-0cfa-4d14-f669-3bb541c06bae"
      },
      "execution_count": null,
      "outputs": [
        {
          "output_type": "display_data",
          "data": {
            "text/plain": [
              "<Figure size 800x800 with 1 Axes>"
            ],
            "image/png": "[encoded data removed]"
          },
          "metadata": {}
        }
      ]
    }
  ],
  "metadata": {
    "colab": {
      "collapsed_sections": [
        "4e5eiVLOYTp5"
      ],
      "provenance": [],
      "gpuType": "T4"
    },
    "kernelspec": {
      "display_name": "Python 3",
      "name": "python3"
    },
    "language_info": {
      "codemirror_mode": {
        "name": "ipython",
        "version": 3
      },
      "file_extension": ".py",
      "mimetype": "text/x-python",
      "name": "python",
      "nbconvert_exporter": "python",
      "pygments_lexer": "ipython3",
      "version": "3.11.0"
    },
    "varInspector": {
      "cols": {
        "lenName": 16,
        "lenType": 16,
        "lenVar": 40
      },
      "kernels_config": {
        "python": {
          "delete_cmd_postfix": "",
          "delete_cmd_prefix": "del ",
          "library": "var_list.py",
          "varRefreshCmd": "print(var_dic_list())"
        },
        "r": {
          "delete_cmd_postfix": ") ",
          "delete_cmd_prefix": "rm(",
          "library": "var_list.r",
          "varRefreshCmd": "cat(var_dic_list()) "
        }
      },
      "oldHeight": 594.85,
      "position": {
        "height": "40px",
        "left": "723px",
        "right": "20px",
        "top": "80px",
        "width": "250px"
      },
      "types_to_exclude": [
        "module",
        "function",
        "builtin_function_or_method",
        "instance",
        "_Feature"
      ],
      "varInspector_section_display": "none",
      "window_display": true
    },
    "accelerator": "GPU"
  },
  "nbformat": 4,
  "nbformat_minor": 0
}