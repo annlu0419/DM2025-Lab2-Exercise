{
  "cells": [
    {
      "cell_type": "markdown",
      "metadata": {
        "id": "Qw2by_FRupg2"
      },
      "source": [
        "# **Colab Environment Setup**"
      ]
    },
    {
      "cell_type": "code",
      "execution_count": 1,
      "metadata": {
        "colab": {
          "base_uri": "https://localhost:8080/",
          "height": 0
        },
        "id": "7YWogxXfuoIY",
        "outputId": "e77b0158-6e18-48d3-a2c1-e4e2a301378a"
      },
      "outputs": [
        {
          "output_type": "stream",
          "name": "stdout",
          "text": [
            "Using Colab cache for faster access to the 'google-news-vectors' dataset.\n",
            "Data source import complete.\n"
          ]
        }
      ],
      "source": [
        "import kagglehub\n",
        "\n",
        "# Importing our Google News Data\n",
        "google_news_vectors_path = kagglehub.dataset_download('didiersalazar/google-news-vectors')\n",
        "\n",
        "print('Data source import complete.')\n"
      ]
    },
    {
      "cell_type": "code",
      "execution_count": 2,
      "metadata": {
        "colab": {
          "base_uri": "https://localhost:8080/",
          "height": 36
        },
        "id": "CzUNZhN6utM3",
        "outputId": "f325234d-dc94-4cc5-b769-566af6696b6a"
      },
      "outputs": [
        {
          "output_type": "execute_result",
          "data": {
            "text/plain": [
              "'/kaggle/input/google-news-vectors'"
            ],
            "application/vnd.google.colaboratory.intrinsic+json": {
              "type": "string"
            }
          },
          "metadata": {},
          "execution_count": 2
        }
      ],
      "source": [
        "google_news_vectors_path"
      ]
    },
    {
      "cell_type": "code",
      "execution_count": 3,
      "metadata": {
        "colab": {
          "base_uri": "https://localhost:8080/",
          "height": 0
        },
        "id": "fKZzK88Tuu4U",
        "outputId": "38ab6532-acae-4e31-cd2b-5bf04eafe989"
      },
      "outputs": [
        {
          "output_type": "stream",
          "name": "stdout",
          "text": [
            "fatal: destination path 'DM2025-Lab2-Exercise' already exists and is not an empty directory.\n"
          ]
        }
      ],
      "source": [
        "# Clone Lab 2's github repository to get all of our material first\n",
        "\n",
        "!git clone https://github.com/difersalest/DM2025-Lab2-Exercise.git"
      ]
    },
    {
      "cell_type": "code",
      "execution_count": 4,
      "metadata": {
        "id": "FrrPPbKeu_GH"
      },
      "outputs": [],
      "source": [
        "# Installing all of our dependencies\n",
        "# The lab in colab was tested with this, and everything should work as intended\n",
        "# If in your case something is not working please notify the TAs\n",
        "#!pip3 install python-dotenv==1.1.1 gensim==4.3.3 tensorflow==2.20.0 tensorflow-hub==0.16.1 keras==3.11.3 jupyter==1.1.1 scikit-learn==1.7.1 pandas==2.3.2 numpy==1.26.4 matplotlib==3.10.6 plotly==6.3.0 seaborn==0.13.2 nltk==3.9.1 umap-learn==0.5.9.post2"
      ]
    },
    {
      "cell_type": "code",
      "source": [
        "# Core scientific stack (NumPy<2 for gensim)\n",
        "%pip install -U \\\n",
        "  \"numpy<2.0\" \\\n",
        "  pandas==2.2.2 \\\n",
        "  gensim==4.3.3 \\\n",
        "  matplotlib==3.9.2 \\\n",
        "  seaborn==0.13.2 \\\n",
        "  plotly==5.24.1 \\\n",
        "  nltk==3.9.1 \\\n",
        "  scikit-learn>=1.6 \\\n",
        "  umap-learn==0.5.9.post2\n",
        "\n",
        "# ML/TF\n",
        "%pip install -U \\\n",
        "  tensorflow==2.17.0 \\\n",
        "  keras==3.4.1 \\\n",
        "  tensorflow-hub==0.16.1\n",
        "\n",
        "# LangChain & friends\n",
        "%pip install -U \\\n",
        "  langchain \\\n",
        "  langchain-community \\\n",
        "  langchain-core \\\n",
        "  langchain-google-genai\n",
        "\n",
        "# Google GenAI SDK (for `from google import genai`)\n",
        "%pip install -U google-genai\n",
        "\n",
        "# Other libs used in your import line\n",
        "%pip install -U \\\n",
        "  langextract \\\n",
        "  ollama \\\n",
        "  chromadb \\\n",
        "  gradio \\\n",
        "  python-dotenv==1.0.1 \\\n",
        "  bs4 \\\n",
        "  pymupdf\n"
      ],
      "metadata": {
        "colab": {
          "base_uri": "https://localhost:8080/",
          "height": 5573
        },
        "id": "F3f711NL3Bvz",
        "outputId": "6373f136-e7a0-4e2c-e304-91a6006301da"
      },
      "execution_count": 3,
      "outputs": [
        {
          "output_type": "stream",
          "name": "stdout",
          "text": [
            "Requirement already satisfied: tensorflow==2.17.0 in /usr/local/lib/python3.12/dist-packages (2.17.0)\n",
            "Requirement already satisfied: keras==3.4.1 in /usr/local/lib/python3.12/dist-packages (3.4.1)\n",
            "Requirement already satisfied: tensorflow-hub==0.16.1 in /usr/local/lib/python3.12/dist-packages (0.16.1)\n",
            "Requirement already satisfied: absl-py>=1.0.0 in /usr/local/lib/python3.12/dist-packages (from tensorflow==2.17.0) (1.4.0)\n",
            "Requirement already satisfied: astunparse>=1.6.0 in /usr/local/lib/python3.12/dist-packages (from tensorflow==2.17.0) (1.6.3)\n",
            "Requirement already satisfied: flatbuffers>=24.3.25 in /usr/local/lib/python3.12/dist-packages (from tensorflow==2.17.0) (25.9.23)\n",
            "Requirement already satisfied: gast!=0.5.0,!=0.5.1,!=0.5.2,>=0.2.1 in /usr/local/lib/python3.12/dist-packages (from tensorflow==2.17.0) (0.6.0)\n",
            "Requirement already satisfied: google-pasta>=0.1.1 in /usr/local/lib/python3.12/dist-packages (from tensorflow==2.17.0) (0.2.0)\n",
            "Requirement already satisfied: h5py>=3.10.0 in /usr/local/lib/python3.12/dist-packages (from tensorflow==2.17.0) (3.15.0)\n",
            "Requirement already satisfied: libclang>=13.0.0 in /usr/local/lib/python3.12/dist-packages (from tensorflow==2.17.0) (18.1.1)\n",
            "Requirement already satisfied: ml-dtypes<0.5.0,>=0.3.1 in /usr/local/lib/python3.12/dist-packages (from tensorflow==2.17.0) (0.4.1)\n",
            "Requirement already satisfied: opt-einsum>=2.3.2 in /usr/local/lib/python3.12/dist-packages (from tensorflow==2.17.0) (3.4.0)\n",
            "Requirement already satisfied: packaging in /usr/local/lib/python3.12/dist-packages (from tensorflow==2.17.0) (25.0)\n",
            "Collecting protobuf!=4.21.0,!=4.21.1,!=4.21.2,!=4.21.3,!=4.21.4,!=4.21.5,<5.0.0dev,>=3.20.3 (from tensorflow==2.17.0)\n",
            "  Using cached protobuf-4.25.8-cp37-abi3-manylinux2014_x86_64.whl.metadata (541 bytes)\n",
            "Requirement already satisfied: requests<3,>=2.21.0 in /usr/local/lib/python3.12/dist-packages (from tensorflow==2.17.0) (2.32.5)\n",
            "Requirement already satisfied: setuptools in /usr/local/lib/python3.12/dist-packages (from tensorflow==2.17.0) (75.2.0)\n",
            "Requirement already satisfied: six>=1.12.0 in /usr/local/lib/python3.12/dist-packages (from tensorflow==2.17.0) (1.17.0)\n",
            "Requirement already satisfied: termcolor>=1.1.0 in /usr/local/lib/python3.12/dist-packages (from tensorflow==2.17.0) (3.1.0)\n",
            "Requirement already satisfied: typing-extensions>=3.6.6 in /usr/local/lib/python3.12/dist-packages (from tensorflow==2.17.0) (4.15.0)\n",
            "Requirement already satisfied: wrapt>=1.11.0 in /usr/local/lib/python3.12/dist-packages (from tensorflow==2.17.0) (1.17.3)\n",
            "Requirement already satisfied: grpcio<2.0,>=1.24.3 in /usr/local/lib/python3.12/dist-packages (from tensorflow==2.17.0) (1.75.1)\n",
            "Requirement already satisfied: tensorboard<2.18,>=2.17 in /usr/local/lib/python3.12/dist-packages (from tensorflow==2.17.0) (2.17.1)\n",
            "Requirement already satisfied: numpy<2.0.0,>=1.26.0 in /usr/local/lib/python3.12/dist-packages (from tensorflow==2.17.0) (1.26.4)\n",
            "Requirement already satisfied: rich in /usr/local/lib/python3.12/dist-packages (from keras==3.4.1) (13.9.4)\n",
            "Requirement already satisfied: namex in /usr/local/lib/python3.12/dist-packages (from keras==3.4.1) (0.1.0)\n",
            "Requirement already satisfied: optree in /usr/local/lib/python3.12/dist-packages (from keras==3.4.1) (0.17.0)\n",
            "Requirement already satisfied: tf-keras>=2.14.1 in /usr/local/lib/python3.12/dist-packages (from tensorflow-hub==0.16.1) (2.17.0)\n",
            "Requirement already satisfied: wheel<1.0,>=0.23.0 in /usr/local/lib/python3.12/dist-packages (from astunparse>=1.6.0->tensorflow==2.17.0) (0.45.1)\n",
            "Requirement already satisfied: charset_normalizer<4,>=2 in /usr/local/lib/python3.12/dist-packages (from requests<3,>=2.21.0->tensorflow==2.17.0) (3.4.4)\n",
            "Requirement already satisfied: idna<4,>=2.5 in /usr/local/lib/python3.12/dist-packages (from requests<3,>=2.21.0->tensorflow==2.17.0) (3.11)\n",
            "Requirement already satisfied: urllib3<3,>=1.21.1 in /usr/local/lib/python3.12/dist-packages (from requests<3,>=2.21.0->tensorflow==2.17.0) (2.3.0)\n",
            "Requirement already satisfied: certifi>=2017.4.17 in /usr/local/lib/python3.12/dist-packages (from requests<3,>=2.21.0->tensorflow==2.17.0) (2025.10.5)\n",
            "Requirement already satisfied: markdown>=2.6.8 in /usr/local/lib/python3.12/dist-packages (from tensorboard<2.18,>=2.17->tensorflow==2.17.0) (3.9)\n",
            "Requirement already satisfied: tensorboard-data-server<0.8.0,>=0.7.0 in /usr/local/lib/python3.12/dist-packages (from tensorboard<2.18,>=2.17->tensorflow==2.17.0) (0.7.2)\n",
            "Requirement already satisfied: werkzeug>=1.0.1 in /usr/local/lib/python3.12/dist-packages (from tensorboard<2.18,>=2.17->tensorflow==2.17.0) (3.1.3)\n",
            "Requirement already satisfied: markdown-it-py>=2.2.0 in /usr/local/lib/python3.12/dist-packages (from rich->keras==3.4.1) (4.0.0)\n",
            "Requirement already satisfied: pygments<3.0.0,>=2.13.0 in /usr/local/lib/python3.12/dist-packages (from rich->keras==3.4.1) (2.19.2)\n",
            "Requirement already satisfied: mdurl~=0.1 in /usr/local/lib/python3.12/dist-packages (from markdown-it-py>=2.2.0->rich->keras==3.4.1) (0.1.2)\n",
            "Requirement already satisfied: MarkupSafe>=2.1.1 in /usr/local/lib/python3.12/dist-packages (from werkzeug>=1.0.1->tensorboard<2.18,>=2.17->tensorflow==2.17.0) (3.0.3)\n",
            "Using cached protobuf-4.25.8-cp37-abi3-manylinux2014_x86_64.whl (294 kB)\n",
            "Installing collected packages: protobuf\n",
            "  Attempting uninstall: protobuf\n",
            "    Found existing installation: protobuf 5.29.5\n",
            "    Uninstalling protobuf-5.29.5:\n",
            "      Successfully uninstalled protobuf-5.29.5\n",
            "\u001b[31mERROR: pip's dependency resolver does not currently take into account all the packages that are installed. This behaviour is the source of the following dependency conflicts.\n",
            "opentelemetry-proto 1.38.0 requires protobuf<7.0,>=5.0, but you have protobuf 4.25.8 which is incompatible.\n",
            "google-generativeai 0.8.5 requires google-ai-generativelanguage==0.6.15, but you have google-ai-generativelanguage 0.8.0 which is incompatible.\n",
            "tensorflow-text 2.19.0 requires tensorflow<2.20,>=2.19.0, but you have tensorflow 2.17.0 which is incompatible.\n",
            "google-adk 1.16.0 requires opentelemetry-api<=1.37.0,>=1.37.0, but you have opentelemetry-api 1.38.0 which is incompatible.\n",
            "google-adk 1.16.0 requires opentelemetry-sdk<=1.37.0,>=1.37.0, but you have opentelemetry-sdk 1.38.0 which is incompatible.\n",
            "ydf 0.13.0 requires protobuf<7.0.0,>=5.29.1, but you have protobuf 4.25.8 which is incompatible.\n",
            "tensorflow-decision-forests 1.12.0 requires tensorflow==2.19.0, but you have tensorflow 2.17.0 which is incompatible.\n",
            "tensorflow-decision-forests 1.12.0 requires tf_keras~=2.19, but you have tf-keras 2.17.0 which is incompatible.\n",
            "opentelemetry-exporter-otlp-proto-http 1.37.0 requires opentelemetry-exporter-otlp-proto-common==1.37.0, but you have opentelemetry-exporter-otlp-proto-common 1.38.0 which is incompatible.\n",
            "opentelemetry-exporter-otlp-proto-http 1.37.0 requires opentelemetry-proto==1.37.0, but you have opentelemetry-proto 1.38.0 which is incompatible.\n",
            "opentelemetry-exporter-otlp-proto-http 1.37.0 requires opentelemetry-sdk~=1.37.0, but you have opentelemetry-sdk 1.38.0 which is incompatible.\n",
            "dopamine-rl 4.1.2 requires tf-keras>=2.18.0, but you have tf-keras 2.17.0 which is incompatible.\n",
            "grpcio-status 1.71.2 requires protobuf<6.0dev,>=5.26.1, but you have protobuf 4.25.8 which is incompatible.\u001b[0m\u001b[31m\n",
            "\u001b[0mSuccessfully installed protobuf-4.25.8\n"
          ]
        },
        {
          "output_type": "display_data",
          "data": {
            "application/vnd.colab-display-data+json": {
              "pip_warning": {
                "packages": [
                  "google"
                ]
              },
              "id": "0b2165091a5d489d8dd8fdd6237673f7"
            }
          },
          "metadata": {}
        },
        {
          "output_type": "stream",
          "name": "stdout",
          "text": [
            "Requirement already satisfied: langchain in /usr/local/lib/python3.12/dist-packages (1.0.0)\n",
            "Requirement already satisfied: langchain-community in /usr/local/lib/python3.12/dist-packages (0.4)\n",
            "Requirement already satisfied: langchain-core in /usr/local/lib/python3.12/dist-packages (1.0.0)\n",
            "Requirement already satisfied: langchain-google-genai in /usr/local/lib/python3.12/dist-packages (3.0.0)\n",
            "Requirement already satisfied: langgraph<1.1.0,>=1.0.0 in /usr/local/lib/python3.12/dist-packages (from langchain) (1.0.0)\n",
            "Requirement already satisfied: pydantic<3.0.0,>=2.7.4 in /usr/local/lib/python3.12/dist-packages (from langchain) (2.11.10)\n",
            "Requirement already satisfied: langchain-classic<2.0.0,>=1.0.0 in /usr/local/lib/python3.12/dist-packages (from langchain-community) (1.0.0)\n",
            "Requirement already satisfied: SQLAlchemy<3.0.0,>=1.4.0 in /usr/local/lib/python3.12/dist-packages (from langchain-community) (2.0.44)\n",
            "Requirement already satisfied: requests<3.0.0,>=2.32.5 in /usr/local/lib/python3.12/dist-packages (from langchain-community) (2.32.5)\n",
            "Requirement already satisfied: PyYAML<7.0.0,>=5.3.0 in /usr/local/lib/python3.12/dist-packages (from langchain-community) (6.0.3)\n",
            "Requirement already satisfied: aiohttp<4.0.0,>=3.8.3 in /usr/local/lib/python3.12/dist-packages (from langchain-community) (3.13.0)\n",
            "Requirement already satisfied: tenacity!=8.4.0,<10.0.0,>=8.1.0 in /usr/local/lib/python3.12/dist-packages (from langchain-community) (8.5.0)\n",
            "Requirement already satisfied: dataclasses-json<0.7.0,>=0.6.7 in /usr/local/lib/python3.12/dist-packages (from langchain-community) (0.6.7)\n",
            "Requirement already satisfied: pydantic-settings<3.0.0,>=2.10.1 in /usr/local/lib/python3.12/dist-packages (from langchain-community) (2.11.0)\n",
            "Requirement already satisfied: langsmith<1.0.0,>=0.1.125 in /usr/local/lib/python3.12/dist-packages (from langchain-community) (0.4.35)\n",
            "Requirement already satisfied: httpx-sse<1.0.0,>=0.4.0 in /usr/local/lib/python3.12/dist-packages (from langchain-community) (0.4.3)\n",
            "Requirement already satisfied: numpy>=1.26.2 in /usr/local/lib/python3.12/dist-packages (from langchain-community) (1.26.4)\n",
            "Requirement already satisfied: jsonpatch<2.0.0,>=1.33.0 in /usr/local/lib/python3.12/dist-packages (from langchain-core) (1.33)\n",
            "Requirement already satisfied: packaging<26.0.0,>=23.2.0 in /usr/local/lib/python3.12/dist-packages (from langchain-core) (25.0)\n",
            "Requirement already satisfied: typing-extensions<5.0.0,>=4.7.0 in /usr/local/lib/python3.12/dist-packages (from langchain-core) (4.15.0)\n",
            "Requirement already satisfied: google-ai-generativelanguage<1.0.0,>=0.7.0 in /usr/local/lib/python3.12/dist-packages (from langchain-google-genai) (0.8.0)\n",
            "Requirement already satisfied: filetype<2.0.0,>=1.2.0 in /usr/local/lib/python3.12/dist-packages (from langchain-google-genai) (1.2.0)\n",
            "Requirement already satisfied: aiohappyeyeballs>=2.5.0 in /usr/local/lib/python3.12/dist-packages (from aiohttp<4.0.0,>=3.8.3->langchain-community) (2.6.1)\n",
            "Requirement already satisfied: aiosignal>=1.4.0 in /usr/local/lib/python3.12/dist-packages (from aiohttp<4.0.0,>=3.8.3->langchain-community) (1.4.0)\n",
            "Requirement already satisfied: attrs>=17.3.0 in /usr/local/lib/python3.12/dist-packages (from aiohttp<4.0.0,>=3.8.3->langchain-community) (25.4.0)\n",
            "Requirement already satisfied: frozenlist>=1.1.1 in /usr/local/lib/python3.12/dist-packages (from aiohttp<4.0.0,>=3.8.3->langchain-community) (1.8.0)\n",
            "Requirement already satisfied: multidict<7.0,>=4.5 in /usr/local/lib/python3.12/dist-packages (from aiohttp<4.0.0,>=3.8.3->langchain-community) (6.7.0)\n",
            "Requirement already satisfied: propcache>=0.2.0 in /usr/local/lib/python3.12/dist-packages (from aiohttp<4.0.0,>=3.8.3->langchain-community) (0.4.1)\n",
            "Requirement already satisfied: yarl<2.0,>=1.17.0 in /usr/local/lib/python3.12/dist-packages (from aiohttp<4.0.0,>=3.8.3->langchain-community) (1.22.0)\n",
            "Requirement already satisfied: marshmallow<4.0.0,>=3.18.0 in /usr/local/lib/python3.12/dist-packages (from dataclasses-json<0.7.0,>=0.6.7->langchain-community) (3.26.1)\n",
            "Requirement already satisfied: typing-inspect<1,>=0.4.0 in /usr/local/lib/python3.12/dist-packages (from dataclasses-json<0.7.0,>=0.6.7->langchain-community) (0.9.0)\n",
            "Requirement already satisfied: google-api-core!=2.0.*,!=2.1.*,!=2.10.*,!=2.2.*,!=2.3.*,!=2.4.*,!=2.5.*,!=2.6.*,!=2.7.*,!=2.8.*,!=2.9.*,<3.0.0,>=1.34.1 in /usr/local/lib/python3.12/dist-packages (from google-api-core[grpc]!=2.0.*,!=2.1.*,!=2.10.*,!=2.2.*,!=2.3.*,!=2.4.*,!=2.5.*,!=2.6.*,!=2.7.*,!=2.8.*,!=2.9.*,<3.0.0,>=1.34.1->google-ai-generativelanguage<1.0.0,>=0.7.0->langchain-google-genai) (2.26.0)\n",
            "Requirement already satisfied: google-auth!=2.24.0,!=2.25.0,<3.0.0,>=2.14.1 in /usr/local/lib/python3.12/dist-packages (from google-ai-generativelanguage<1.0.0,>=0.7.0->langchain-google-genai) (2.38.0)\n",
            "Requirement already satisfied: grpcio<2.0.0,>=1.33.2 in /usr/local/lib/python3.12/dist-packages (from google-ai-generativelanguage<1.0.0,>=0.7.0->langchain-google-genai) (1.75.1)\n",
            "Requirement already satisfied: proto-plus<2.0.0,>=1.22.3 in /usr/local/lib/python3.12/dist-packages (from google-ai-generativelanguage<1.0.0,>=0.7.0->langchain-google-genai) (1.26.1)\n",
            "Requirement already satisfied: protobuf!=4.21.0,!=4.21.1,!=4.21.2,!=4.21.3,!=4.21.4,!=4.21.5,<7.0.0,>=3.20.2 in /usr/local/lib/python3.12/dist-packages (from google-ai-generativelanguage<1.0.0,>=0.7.0->langchain-google-genai) (4.25.8)\n",
            "Requirement already satisfied: jsonpointer>=1.9 in /usr/local/lib/python3.12/dist-packages (from jsonpatch<2.0.0,>=1.33.0->langchain-core) (3.0.0)\n",
            "Requirement already satisfied: langchain-text-splitters<2.0.0,>=1.0.0 in /usr/local/lib/python3.12/dist-packages (from langchain-classic<2.0.0,>=1.0.0->langchain-community) (1.0.0)\n",
            "Requirement already satisfied: langgraph-checkpoint<3.0.0,>=2.1.0 in /usr/local/lib/python3.12/dist-packages (from langgraph<1.1.0,>=1.0.0->langchain) (2.1.2)\n",
            "Requirement already satisfied: langgraph-prebuilt<1.1.0,>=1.0.0 in /usr/local/lib/python3.12/dist-packages (from langgraph<1.1.0,>=1.0.0->langchain) (1.0.0)\n",
            "Requirement already satisfied: langgraph-sdk<0.3.0,>=0.2.2 in /usr/local/lib/python3.12/dist-packages (from langgraph<1.1.0,>=1.0.0->langchain) (0.2.9)\n",
            "Requirement already satisfied: xxhash>=3.5.0 in /usr/local/lib/python3.12/dist-packages (from langgraph<1.1.0,>=1.0.0->langchain) (3.6.0)\n",
            "Requirement already satisfied: httpx<1,>=0.23.0 in /usr/local/lib/python3.12/dist-packages (from langsmith<1.0.0,>=0.1.125->langchain-community) (0.28.1)\n",
            "Requirement already satisfied: orjson>=3.9.14 in /usr/local/lib/python3.12/dist-packages (from langsmith<1.0.0,>=0.1.125->langchain-community) (3.11.3)\n",
            "Requirement already satisfied: requests-toolbelt>=1.0.0 in /usr/local/lib/python3.12/dist-packages (from langsmith<1.0.0,>=0.1.125->langchain-community) (1.0.0)\n",
            "Requirement already satisfied: zstandard>=0.23.0 in /usr/local/lib/python3.12/dist-packages (from langsmith<1.0.0,>=0.1.125->langchain-community) (0.25.0)\n",
            "Requirement already satisfied: annotated-types>=0.6.0 in /usr/local/lib/python3.12/dist-packages (from pydantic<3.0.0,>=2.7.4->langchain) (0.7.0)\n",
            "Requirement already satisfied: pydantic-core==2.33.2 in /usr/local/lib/python3.12/dist-packages (from pydantic<3.0.0,>=2.7.4->langchain) (2.33.2)\n",
            "Requirement already satisfied: typing-inspection>=0.4.0 in /usr/local/lib/python3.12/dist-packages (from pydantic<3.0.0,>=2.7.4->langchain) (0.4.2)\n",
            "Requirement already satisfied: python-dotenv>=0.21.0 in /usr/local/lib/python3.12/dist-packages (from pydantic-settings<3.0.0,>=2.10.1->langchain-community) (1.0.1)\n",
            "Requirement already satisfied: charset_normalizer<4,>=2 in /usr/local/lib/python3.12/dist-packages (from requests<3.0.0,>=2.32.5->langchain-community) (3.4.4)\n",
            "Requirement already satisfied: idna<4,>=2.5 in /usr/local/lib/python3.12/dist-packages (from requests<3.0.0,>=2.32.5->langchain-community) (3.11)\n",
            "Requirement already satisfied: urllib3<3,>=1.21.1 in /usr/local/lib/python3.12/dist-packages (from requests<3.0.0,>=2.32.5->langchain-community) (2.3.0)\n",
            "Requirement already satisfied: certifi>=2017.4.17 in /usr/local/lib/python3.12/dist-packages (from requests<3.0.0,>=2.32.5->langchain-community) (2025.10.5)\n",
            "Requirement already satisfied: greenlet>=1 in /usr/local/lib/python3.12/dist-packages (from SQLAlchemy<3.0.0,>=1.4.0->langchain-community) (3.2.4)\n",
            "Requirement already satisfied: googleapis-common-protos<2.0.0,>=1.56.2 in /usr/local/lib/python3.12/dist-packages (from google-api-core!=2.0.*,!=2.1.*,!=2.10.*,!=2.2.*,!=2.3.*,!=2.4.*,!=2.5.*,!=2.6.*,!=2.7.*,!=2.8.*,!=2.9.*,<3.0.0,>=1.34.1->google-api-core[grpc]!=2.0.*,!=2.1.*,!=2.10.*,!=2.2.*,!=2.3.*,!=2.4.*,!=2.5.*,!=2.6.*,!=2.7.*,!=2.8.*,!=2.9.*,<3.0.0,>=1.34.1->google-ai-generativelanguage<1.0.0,>=0.7.0->langchain-google-genai) (1.70.0)\n",
            "Requirement already satisfied: grpcio-status<2.0.0,>=1.33.2 in /usr/local/lib/python3.12/dist-packages (from google-api-core[grpc]!=2.0.*,!=2.1.*,!=2.10.*,!=2.2.*,!=2.3.*,!=2.4.*,!=2.5.*,!=2.6.*,!=2.7.*,!=2.8.*,!=2.9.*,<3.0.0,>=1.34.1->google-ai-generativelanguage<1.0.0,>=0.7.0->langchain-google-genai) (1.71.2)\n",
            "Requirement already satisfied: cachetools<6.0,>=2.0.0 in /usr/local/lib/python3.12/dist-packages (from google-auth!=2.24.0,!=2.25.0,<3.0.0,>=2.14.1->google-ai-generativelanguage<1.0.0,>=0.7.0->langchain-google-genai) (5.5.2)\n",
            "Requirement already satisfied: pyasn1-modules>=0.2.1 in /usr/local/lib/python3.12/dist-packages (from google-auth!=2.24.0,!=2.25.0,<3.0.0,>=2.14.1->google-ai-generativelanguage<1.0.0,>=0.7.0->langchain-google-genai) (0.4.2)\n",
            "Requirement already satisfied: rsa<5,>=3.1.4 in /usr/local/lib/python3.12/dist-packages (from google-auth!=2.24.0,!=2.25.0,<3.0.0,>=2.14.1->google-ai-generativelanguage<1.0.0,>=0.7.0->langchain-google-genai) (4.9.1)\n",
            "Requirement already satisfied: anyio in /usr/local/lib/python3.12/dist-packages (from httpx<1,>=0.23.0->langsmith<1.0.0,>=0.1.125->langchain-community) (4.11.0)\n",
            "Requirement already satisfied: httpcore==1.* in /usr/local/lib/python3.12/dist-packages (from httpx<1,>=0.23.0->langsmith<1.0.0,>=0.1.125->langchain-community) (1.0.9)\n",
            "Requirement already satisfied: h11>=0.16 in /usr/local/lib/python3.12/dist-packages (from httpcore==1.*->httpx<1,>=0.23.0->langsmith<1.0.0,>=0.1.125->langchain-community) (0.16.0)\n",
            "Requirement already satisfied: ormsgpack>=1.10.0 in /usr/local/lib/python3.12/dist-packages (from langgraph-checkpoint<3.0.0,>=2.1.0->langgraph<1.1.0,>=1.0.0->langchain) (1.11.0)\n",
            "Requirement already satisfied: mypy-extensions>=0.3.0 in /usr/local/lib/python3.12/dist-packages (from typing-inspect<1,>=0.4.0->dataclasses-json<0.7.0,>=0.6.7->langchain-community) (1.1.0)\n",
            "Collecting protobuf!=4.21.0,!=4.21.1,!=4.21.2,!=4.21.3,!=4.21.4,!=4.21.5,<7.0.0,>=3.20.2 (from google-ai-generativelanguage<1.0.0,>=0.7.0->langchain-google-genai)\n",
            "  Using cached protobuf-5.29.5-cp38-abi3-manylinux2014_x86_64.whl.metadata (592 bytes)\n",
            "Requirement already satisfied: pyasn1<0.7.0,>=0.6.1 in /usr/local/lib/python3.12/dist-packages (from pyasn1-modules>=0.2.1->google-auth!=2.24.0,!=2.25.0,<3.0.0,>=2.14.1->google-ai-generativelanguage<1.0.0,>=0.7.0->langchain-google-genai) (0.6.1)\n",
            "Requirement already satisfied: sniffio>=1.1 in /usr/local/lib/python3.12/dist-packages (from anyio->httpx<1,>=0.23.0->langsmith<1.0.0,>=0.1.125->langchain-community) (1.3.1)\n",
            "Using cached protobuf-5.29.5-cp38-abi3-manylinux2014_x86_64.whl (319 kB)\n",
            "Installing collected packages: protobuf\n",
            "  Attempting uninstall: protobuf\n",
            "    Found existing installation: protobuf 4.25.8\n",
            "    Uninstalling protobuf-4.25.8:\n",
            "      Successfully uninstalled protobuf-4.25.8\n",
            "\u001b[31mERROR: pip's dependency resolver does not currently take into account all the packages that are installed. This behaviour is the source of the following dependency conflicts.\n",
            "tensorflow 2.17.0 requires protobuf!=4.21.0,!=4.21.1,!=4.21.2,!=4.21.3,!=4.21.4,!=4.21.5,<5.0.0dev,>=3.20.3, but you have protobuf 5.29.5 which is incompatible.\n",
            "google-generativeai 0.8.5 requires google-ai-generativelanguage==0.6.15, but you have google-ai-generativelanguage 0.8.0 which is incompatible.\n",
            "tensorflow-text 2.19.0 requires tensorflow<2.20,>=2.19.0, but you have tensorflow 2.17.0 which is incompatible.\n",
            "google-adk 1.16.0 requires opentelemetry-api<=1.37.0,>=1.37.0, but you have opentelemetry-api 1.38.0 which is incompatible.\n",
            "google-adk 1.16.0 requires opentelemetry-sdk<=1.37.0,>=1.37.0, but you have opentelemetry-sdk 1.38.0 which is incompatible.\n",
            "tensorflow-decision-forests 1.12.0 requires tensorflow==2.19.0, but you have tensorflow 2.17.0 which is incompatible.\n",
            "tensorflow-decision-forests 1.12.0 requires tf_keras~=2.19, but you have tf-keras 2.17.0 which is incompatible.\n",
            "opentelemetry-exporter-otlp-proto-http 1.37.0 requires opentelemetry-exporter-otlp-proto-common==1.37.0, but you have opentelemetry-exporter-otlp-proto-common 1.38.0 which is incompatible.\n",
            "opentelemetry-exporter-otlp-proto-http 1.37.0 requires opentelemetry-proto==1.37.0, but you have opentelemetry-proto 1.38.0 which is incompatible.\n",
            "opentelemetry-exporter-otlp-proto-http 1.37.0 requires opentelemetry-sdk~=1.37.0, but you have opentelemetry-sdk 1.38.0 which is incompatible.\n",
            "dopamine-rl 4.1.2 requires tf-keras>=2.18.0, but you have tf-keras 2.17.0 which is incompatible.\u001b[0m\u001b[31m\n",
            "\u001b[0mSuccessfully installed protobuf-5.29.5\n"
          ]
        },
        {
          "output_type": "display_data",
          "data": {
            "application/vnd.colab-display-data+json": {
              "pip_warning": {
                "packages": [
                  "google"
                ]
              },
              "id": "22b1ab17bae24dcf911b88efdd2caad8"
            }
          },
          "metadata": {}
        },
        {
          "output_type": "stream",
          "name": "stdout",
          "text": [
            "Requirement already satisfied: google-genai in /usr/local/lib/python3.12/dist-packages (1.45.0)\n",
            "Requirement already satisfied: anyio<5.0.0,>=4.8.0 in /usr/local/lib/python3.12/dist-packages (from google-genai) (4.11.0)\n",
            "Requirement already satisfied: google-auth<3.0.0,>=2.14.1 in /usr/local/lib/python3.12/dist-packages (from google-genai) (2.38.0)\n",
            "Requirement already satisfied: httpx<1.0.0,>=0.28.1 in /usr/local/lib/python3.12/dist-packages (from google-genai) (0.28.1)\n",
            "Requirement already satisfied: pydantic<3.0.0,>=2.0.0 in /usr/local/lib/python3.12/dist-packages (from google-genai) (2.11.10)\n",
            "Requirement already satisfied: requests<3.0.0,>=2.28.1 in /usr/local/lib/python3.12/dist-packages (from google-genai) (2.32.5)\n",
            "Requirement already satisfied: tenacity<9.2.0,>=8.2.3 in /usr/local/lib/python3.12/dist-packages (from google-genai) (8.5.0)\n",
            "Requirement already satisfied: websockets<15.1.0,>=13.0.0 in /usr/local/lib/python3.12/dist-packages (from google-genai) (15.0.1)\n",
            "Requirement already satisfied: typing-extensions<5.0.0,>=4.11.0 in /usr/local/lib/python3.12/dist-packages (from google-genai) (4.15.0)\n",
            "Requirement already satisfied: idna>=2.8 in /usr/local/lib/python3.12/dist-packages (from anyio<5.0.0,>=4.8.0->google-genai) (3.11)\n",
            "Requirement already satisfied: sniffio>=1.1 in /usr/local/lib/python3.12/dist-packages (from anyio<5.0.0,>=4.8.0->google-genai) (1.3.1)\n",
            "Requirement already satisfied: cachetools<6.0,>=2.0.0 in /usr/local/lib/python3.12/dist-packages (from google-auth<3.0.0,>=2.14.1->google-genai) (5.5.2)\n",
            "Requirement already satisfied: pyasn1-modules>=0.2.1 in /usr/local/lib/python3.12/dist-packages (from google-auth<3.0.0,>=2.14.1->google-genai) (0.4.2)\n",
            "Requirement already satisfied: rsa<5,>=3.1.4 in /usr/local/lib/python3.12/dist-packages (from google-auth<3.0.0,>=2.14.1->google-genai) (4.9.1)\n",
            "Requirement already satisfied: certifi in /usr/local/lib/python3.12/dist-packages (from httpx<1.0.0,>=0.28.1->google-genai) (2025.10.5)\n",
            "Requirement already satisfied: httpcore==1.* in /usr/local/lib/python3.12/dist-packages (from httpx<1.0.0,>=0.28.1->google-genai) (1.0.9)\n",
            "Requirement already satisfied: h11>=0.16 in /usr/local/lib/python3.12/dist-packages (from httpcore==1.*->httpx<1.0.0,>=0.28.1->google-genai) (0.16.0)\n",
            "Requirement already satisfied: annotated-types>=0.6.0 in /usr/local/lib/python3.12/dist-packages (from pydantic<3.0.0,>=2.0.0->google-genai) (0.7.0)\n",
            "Requirement already satisfied: pydantic-core==2.33.2 in /usr/local/lib/python3.12/dist-packages (from pydantic<3.0.0,>=2.0.0->google-genai) (2.33.2)\n",
            "Requirement already satisfied: typing-inspection>=0.4.0 in /usr/local/lib/python3.12/dist-packages (from pydantic<3.0.0,>=2.0.0->google-genai) (0.4.2)\n",
            "Requirement already satisfied: charset_normalizer<4,>=2 in /usr/local/lib/python3.12/dist-packages (from requests<3.0.0,>=2.28.1->google-genai) (3.4.4)\n",
            "Requirement already satisfied: urllib3<3,>=1.21.1 in /usr/local/lib/python3.12/dist-packages (from requests<3.0.0,>=2.28.1->google-genai) (2.3.0)\n",
            "Requirement already satisfied: pyasn1<0.7.0,>=0.6.1 in /usr/local/lib/python3.12/dist-packages (from pyasn1-modules>=0.2.1->google-auth<3.0.0,>=2.14.1->google-genai) (0.6.1)\n",
            "Requirement already satisfied: langextract in /usr/local/lib/python3.12/dist-packages (1.0.9)\n",
            "Requirement already satisfied: ollama in /usr/local/lib/python3.12/dist-packages (0.6.0)\n",
            "Requirement already satisfied: chromadb in /usr/local/lib/python3.12/dist-packages (1.2.0)\n",
            "Requirement already satisfied: gradio in /usr/local/lib/python3.12/dist-packages (5.49.1)\n",
            "Requirement already satisfied: python-dotenv==1.0.1 in /usr/local/lib/python3.12/dist-packages (1.0.1)\n",
            "Requirement already satisfied: bs4 in /usr/local/lib/python3.12/dist-packages (0.0.2)\n",
            "Requirement already satisfied: pymupdf in /usr/local/lib/python3.12/dist-packages (1.26.5)\n",
            "Requirement already satisfied: absl-py>=1.0.0 in /usr/local/lib/python3.12/dist-packages (from langextract) (1.4.0)\n",
            "Requirement already satisfied: aiohttp>=3.8.0 in /usr/local/lib/python3.12/dist-packages (from langextract) (3.13.0)\n",
            "Requirement already satisfied: async_timeout>=4.0.0 in /usr/local/lib/python3.12/dist-packages (from langextract) (5.0.1)\n",
            "Requirement already satisfied: exceptiongroup>=1.1.0 in /usr/local/lib/python3.12/dist-packages (from langextract) (1.3.0)\n",
            "Requirement already satisfied: google-genai>=0.1.0 in /usr/local/lib/python3.12/dist-packages (from langextract) (1.45.0)\n",
            "Requirement already satisfied: ml-collections>=0.1.0 in /usr/local/lib/python3.12/dist-packages (from langextract) (1.1.0)\n",
            "Requirement already satisfied: more-itertools>=8.0.0 in /usr/local/lib/python3.12/dist-packages (from langextract) (10.8.0)\n",
            "Requirement already satisfied: numpy>=1.20.0 in /usr/local/lib/python3.12/dist-packages (from langextract) (1.26.4)\n",
            "Requirement already satisfied: pandas>=1.3.0 in /usr/local/lib/python3.12/dist-packages (from langextract) (2.2.2)\n",
            "Requirement already satisfied: pydantic>=1.8.0 in /usr/local/lib/python3.12/dist-packages (from langextract) (2.11.10)\n",
            "Requirement already satisfied: PyYAML>=6.0 in /usr/local/lib/python3.12/dist-packages (from langextract) (6.0.3)\n",
            "Requirement already satisfied: requests>=2.25.0 in /usr/local/lib/python3.12/dist-packages (from langextract) (2.32.5)\n",
            "Requirement already satisfied: tqdm>=4.64.0 in /usr/local/lib/python3.12/dist-packages (from langextract) (4.67.1)\n",
            "Requirement already satisfied: typing-extensions>=4.0.0 in /usr/local/lib/python3.12/dist-packages (from langextract) (4.15.0)\n",
            "Requirement already satisfied: httpx>=0.27 in /usr/local/lib/python3.12/dist-packages (from ollama) (0.28.1)\n",
            "Requirement already satisfied: build>=1.0.3 in /usr/local/lib/python3.12/dist-packages (from chromadb) (1.3.0)\n",
            "Requirement already satisfied: pybase64>=1.4.1 in /usr/local/lib/python3.12/dist-packages (from chromadb) (1.4.2)\n",
            "Requirement already satisfied: uvicorn>=0.18.3 in /usr/local/lib/python3.12/dist-packages (from uvicorn[standard]>=0.18.3->chromadb) (0.37.0)\n",
            "Requirement already satisfied: posthog<6.0.0,>=2.4.0 in /usr/local/lib/python3.12/dist-packages (from chromadb) (5.4.0)\n",
            "Requirement already satisfied: onnxruntime>=1.14.1 in /usr/local/lib/python3.12/dist-packages (from chromadb) (1.23.1)\n",
            "Requirement already satisfied: opentelemetry-api>=1.2.0 in /usr/local/lib/python3.12/dist-packages (from chromadb) (1.38.0)\n",
            "Requirement already satisfied: opentelemetry-exporter-otlp-proto-grpc>=1.2.0 in /usr/local/lib/python3.12/dist-packages (from chromadb) (1.38.0)\n",
            "Requirement already satisfied: opentelemetry-sdk>=1.2.0 in /usr/local/lib/python3.12/dist-packages (from chromadb) (1.38.0)\n",
            "Requirement already satisfied: tokenizers>=0.13.2 in /usr/local/lib/python3.12/dist-packages (from chromadb) (0.22.1)\n",
            "Requirement already satisfied: pypika>=0.48.9 in /usr/local/lib/python3.12/dist-packages (from chromadb) (0.48.9)\n",
            "Requirement already satisfied: overrides>=7.3.1 in /usr/local/lib/python3.12/dist-packages (from chromadb) (7.7.0)\n",
            "Requirement already satisfied: importlib-resources in /usr/local/lib/python3.12/dist-packages (from chromadb) (6.5.2)\n",
            "Requirement already satisfied: grpcio>=1.58.0 in /usr/local/lib/python3.12/dist-packages (from chromadb) (1.75.1)\n",
            "Requirement already satisfied: bcrypt>=4.0.1 in /usr/local/lib/python3.12/dist-packages (from chromadb) (5.0.0)\n",
            "Requirement already satisfied: typer>=0.9.0 in /usr/local/lib/python3.12/dist-packages (from chromadb) (0.19.2)\n",
            "Requirement already satisfied: kubernetes>=28.1.0 in /usr/local/lib/python3.12/dist-packages (from chromadb) (34.1.0)\n",
            "Requirement already satisfied: tenacity>=8.2.3 in /usr/local/lib/python3.12/dist-packages (from chromadb) (8.5.0)\n",
            "Requirement already satisfied: mmh3>=4.0.1 in /usr/local/lib/python3.12/dist-packages (from chromadb) (5.2.0)\n",
            "Requirement already satisfied: orjson>=3.9.12 in /usr/local/lib/python3.12/dist-packages (from chromadb) (3.11.3)\n",
            "Requirement already satisfied: rich>=10.11.0 in /usr/local/lib/python3.12/dist-packages (from chromadb) (13.9.4)\n",
            "Requirement already satisfied: jsonschema>=4.19.0 in /usr/local/lib/python3.12/dist-packages (from chromadb) (4.25.1)\n",
            "Requirement already satisfied: aiofiles<25.0,>=22.0 in /usr/local/lib/python3.12/dist-packages (from gradio) (24.1.0)\n",
            "Requirement already satisfied: anyio<5.0,>=3.0 in /usr/local/lib/python3.12/dist-packages (from gradio) (4.11.0)\n",
            "Requirement already satisfied: brotli>=1.1.0 in /usr/local/lib/python3.12/dist-packages (from gradio) (1.1.0)\n",
            "Requirement already satisfied: fastapi<1.0,>=0.115.2 in /usr/local/lib/python3.12/dist-packages (from gradio) (0.119.0)\n",
            "Requirement already satisfied: ffmpy in /usr/local/lib/python3.12/dist-packages (from gradio) (0.6.3)\n",
            "Requirement already satisfied: gradio-client==1.13.3 in /usr/local/lib/python3.12/dist-packages (from gradio) (1.13.3)\n",
            "Requirement already satisfied: groovy~=0.1 in /usr/local/lib/python3.12/dist-packages (from gradio) (0.1.2)\n",
            "Requirement already satisfied: huggingface-hub<2.0,>=0.33.5 in /usr/local/lib/python3.12/dist-packages (from gradio) (0.35.3)\n",
            "Requirement already satisfied: jinja2<4.0 in /usr/local/lib/python3.12/dist-packages (from gradio) (3.1.6)\n",
            "Requirement already satisfied: markupsafe<4.0,>=2.0 in /usr/local/lib/python3.12/dist-packages (from gradio) (3.0.3)\n",
            "Requirement already satisfied: packaging in /usr/local/lib/python3.12/dist-packages (from gradio) (25.0)\n",
            "Requirement already satisfied: pillow<12.0,>=8.0 in /usr/local/lib/python3.12/dist-packages (from gradio) (11.3.0)\n",
            "Requirement already satisfied: pydub in /usr/local/lib/python3.12/dist-packages (from gradio) (0.25.1)\n",
            "Requirement already satisfied: python-multipart>=0.0.18 in /usr/local/lib/python3.12/dist-packages (from gradio) (0.0.20)\n",
            "Requirement already satisfied: ruff>=0.9.3 in /usr/local/lib/python3.12/dist-packages (from gradio) (0.14.0)\n",
            "Requirement already satisfied: safehttpx<0.2.0,>=0.1.6 in /usr/local/lib/python3.12/dist-packages (from gradio) (0.1.6)\n",
            "Requirement already satisfied: semantic-version~=2.0 in /usr/local/lib/python3.12/dist-packages (from gradio) (2.10.0)\n",
            "Requirement already satisfied: starlette<1.0,>=0.40.0 in /usr/local/lib/python3.12/dist-packages (from gradio) (0.48.0)\n",
            "Requirement already satisfied: tomlkit<0.14.0,>=0.12.0 in /usr/local/lib/python3.12/dist-packages (from gradio) (0.13.3)\n",
            "Requirement already satisfied: fsspec in /usr/local/lib/python3.12/dist-packages (from gradio-client==1.13.3->gradio) (2025.3.0)\n",
            "Requirement already satisfied: websockets<16.0,>=13.0 in /usr/local/lib/python3.12/dist-packages (from gradio-client==1.13.3->gradio) (15.0.1)\n",
            "Requirement already satisfied: beautifulsoup4 in /usr/local/lib/python3.12/dist-packages (from bs4) (4.13.5)\n",
            "Requirement already satisfied: aiohappyeyeballs>=2.5.0 in /usr/local/lib/python3.12/dist-packages (from aiohttp>=3.8.0->langextract) (2.6.1)\n",
            "Requirement already satisfied: aiosignal>=1.4.0 in /usr/local/lib/python3.12/dist-packages (from aiohttp>=3.8.0->langextract) (1.4.0)\n",
            "Requirement already satisfied: attrs>=17.3.0 in /usr/local/lib/python3.12/dist-packages (from aiohttp>=3.8.0->langextract) (25.4.0)\n",
            "Requirement already satisfied: frozenlist>=1.1.1 in /usr/local/lib/python3.12/dist-packages (from aiohttp>=3.8.0->langextract) (1.8.0)\n",
            "Requirement already satisfied: multidict<7.0,>=4.5 in /usr/local/lib/python3.12/dist-packages (from aiohttp>=3.8.0->langextract) (6.7.0)\n",
            "Requirement already satisfied: propcache>=0.2.0 in /usr/local/lib/python3.12/dist-packages (from aiohttp>=3.8.0->langextract) (0.4.1)\n",
            "Requirement already satisfied: yarl<2.0,>=1.17.0 in /usr/local/lib/python3.12/dist-packages (from aiohttp>=3.8.0->langextract) (1.22.0)\n",
            "Requirement already satisfied: idna>=2.8 in /usr/local/lib/python3.12/dist-packages (from anyio<5.0,>=3.0->gradio) (3.11)\n",
            "Requirement already satisfied: sniffio>=1.1 in /usr/local/lib/python3.12/dist-packages (from anyio<5.0,>=3.0->gradio) (1.3.1)\n",
            "Requirement already satisfied: pyproject_hooks in /usr/local/lib/python3.12/dist-packages (from build>=1.0.3->chromadb) (1.2.0)\n",
            "Requirement already satisfied: google-auth<3.0.0,>=2.14.1 in /usr/local/lib/python3.12/dist-packages (from google-genai>=0.1.0->langextract) (2.38.0)\n",
            "Requirement already satisfied: certifi in /usr/local/lib/python3.12/dist-packages (from httpx>=0.27->ollama) (2025.10.5)\n",
            "Requirement already satisfied: httpcore==1.* in /usr/local/lib/python3.12/dist-packages (from httpx>=0.27->ollama) (1.0.9)\n",
            "Requirement already satisfied: h11>=0.16 in /usr/local/lib/python3.12/dist-packages (from httpcore==1.*->httpx>=0.27->ollama) (0.16.0)\n",
            "Requirement already satisfied: filelock in /usr/local/lib/python3.12/dist-packages (from huggingface-hub<2.0,>=0.33.5->gradio) (3.20.0)\n",
            "Requirement already satisfied: hf-xet<2.0.0,>=1.1.3 in /usr/local/lib/python3.12/dist-packages (from huggingface-hub<2.0,>=0.33.5->gradio) (1.1.10)\n",
            "Requirement already satisfied: jsonschema-specifications>=2023.03.6 in /usr/local/lib/python3.12/dist-packages (from jsonschema>=4.19.0->chromadb) (2025.9.1)\n",
            "Requirement already satisfied: referencing>=0.28.4 in /usr/local/lib/python3.12/dist-packages (from jsonschema>=4.19.0->chromadb) (0.37.0)\n",
            "Requirement already satisfied: rpds-py>=0.7.1 in /usr/local/lib/python3.12/dist-packages (from jsonschema>=4.19.0->chromadb) (0.27.1)\n",
            "Requirement already satisfied: six>=1.9.0 in /usr/local/lib/python3.12/dist-packages (from kubernetes>=28.1.0->chromadb) (1.17.0)\n",
            "Requirement already satisfied: python-dateutil>=2.5.3 in /usr/local/lib/python3.12/dist-packages (from kubernetes>=28.1.0->chromadb) (2.9.0.post0)\n",
            "Requirement already satisfied: websocket-client!=0.40.0,!=0.41.*,!=0.42.*,>=0.32.0 in /usr/local/lib/python3.12/dist-packages (from kubernetes>=28.1.0->chromadb) (1.9.0)\n",
            "Requirement already satisfied: requests-oauthlib in /usr/local/lib/python3.12/dist-packages (from kubernetes>=28.1.0->chromadb) (2.0.0)\n",
            "Requirement already satisfied: urllib3<2.4.0,>=1.24.2 in /usr/local/lib/python3.12/dist-packages (from kubernetes>=28.1.0->chromadb) (2.3.0)\n",
            "Requirement already satisfied: durationpy>=0.7 in /usr/local/lib/python3.12/dist-packages (from kubernetes>=28.1.0->chromadb) (0.10)\n",
            "Requirement already satisfied: coloredlogs in /usr/local/lib/python3.12/dist-packages (from onnxruntime>=1.14.1->chromadb) (15.0.1)\n",
            "Requirement already satisfied: flatbuffers in /usr/local/lib/python3.12/dist-packages (from onnxruntime>=1.14.1->chromadb) (25.9.23)\n",
            "Requirement already satisfied: protobuf in /usr/local/lib/python3.12/dist-packages (from onnxruntime>=1.14.1->chromadb) (5.29.5)\n",
            "Requirement already satisfied: sympy in /usr/local/lib/python3.12/dist-packages (from onnxruntime>=1.14.1->chromadb) (1.13.3)\n",
            "Requirement already satisfied: importlib-metadata<8.8.0,>=6.0 in /usr/local/lib/python3.12/dist-packages (from opentelemetry-api>=1.2.0->chromadb) (8.7.0)\n",
            "Requirement already satisfied: googleapis-common-protos~=1.57 in /usr/local/lib/python3.12/dist-packages (from opentelemetry-exporter-otlp-proto-grpc>=1.2.0->chromadb) (1.70.0)\n",
            "Requirement already satisfied: opentelemetry-exporter-otlp-proto-common==1.38.0 in /usr/local/lib/python3.12/dist-packages (from opentelemetry-exporter-otlp-proto-grpc>=1.2.0->chromadb) (1.38.0)\n",
            "Requirement already satisfied: opentelemetry-proto==1.38.0 in /usr/local/lib/python3.12/dist-packages (from opentelemetry-exporter-otlp-proto-grpc>=1.2.0->chromadb) (1.38.0)\n",
            "Requirement already satisfied: opentelemetry-semantic-conventions==0.59b0 in /usr/local/lib/python3.12/dist-packages (from opentelemetry-sdk>=1.2.0->chromadb) (0.59b0)\n",
            "Requirement already satisfied: pytz>=2020.1 in /usr/local/lib/python3.12/dist-packages (from pandas>=1.3.0->langextract) (2025.2)\n",
            "Requirement already satisfied: tzdata>=2022.7 in /usr/local/lib/python3.12/dist-packages (from pandas>=1.3.0->langextract) (2025.2)\n",
            "Requirement already satisfied: backoff>=1.10.0 in /usr/local/lib/python3.12/dist-packages (from posthog<6.0.0,>=2.4.0->chromadb) (2.2.1)\n",
            "Requirement already satisfied: distro>=1.5.0 in /usr/local/lib/python3.12/dist-packages (from posthog<6.0.0,>=2.4.0->chromadb) (1.9.0)\n",
            "Requirement already satisfied: annotated-types>=0.6.0 in /usr/local/lib/python3.12/dist-packages (from pydantic>=1.8.0->langextract) (0.7.0)\n",
            "Requirement already satisfied: pydantic-core==2.33.2 in /usr/local/lib/python3.12/dist-packages (from pydantic>=1.8.0->langextract) (2.33.2)\n",
            "Requirement already satisfied: typing-inspection>=0.4.0 in /usr/local/lib/python3.12/dist-packages (from pydantic>=1.8.0->langextract) (0.4.2)\n",
            "Requirement already satisfied: charset_normalizer<4,>=2 in /usr/local/lib/python3.12/dist-packages (from requests>=2.25.0->langextract) (3.4.4)\n",
            "Requirement already satisfied: markdown-it-py>=2.2.0 in /usr/local/lib/python3.12/dist-packages (from rich>=10.11.0->chromadb) (4.0.0)\n",
            "Requirement already satisfied: pygments<3.0.0,>=2.13.0 in /usr/local/lib/python3.12/dist-packages (from rich>=10.11.0->chromadb) (2.19.2)\n",
            "Requirement already satisfied: click>=8.0.0 in /usr/local/lib/python3.12/dist-packages (from typer>=0.9.0->chromadb) (8.3.0)\n",
            "Requirement already satisfied: shellingham>=1.3.0 in /usr/local/lib/python3.12/dist-packages (from typer>=0.9.0->chromadb) (1.5.4)\n",
            "Requirement already satisfied: httptools>=0.6.3 in /usr/local/lib/python3.12/dist-packages (from uvicorn[standard]>=0.18.3->chromadb) (0.7.1)\n",
            "Requirement already satisfied: uvloop>=0.15.1 in /usr/local/lib/python3.12/dist-packages (from uvicorn[standard]>=0.18.3->chromadb) (0.22.1)\n",
            "Requirement already satisfied: watchfiles>=0.13 in /usr/local/lib/python3.12/dist-packages (from uvicorn[standard]>=0.18.3->chromadb) (1.1.1)\n",
            "Requirement already satisfied: soupsieve>1.2 in /usr/local/lib/python3.12/dist-packages (from beautifulsoup4->bs4) (2.8)\n",
            "Requirement already satisfied: cachetools<6.0,>=2.0.0 in /usr/local/lib/python3.12/dist-packages (from google-auth<3.0.0,>=2.14.1->google-genai>=0.1.0->langextract) (5.5.2)\n",
            "Requirement already satisfied: pyasn1-modules>=0.2.1 in /usr/local/lib/python3.12/dist-packages (from google-auth<3.0.0,>=2.14.1->google-genai>=0.1.0->langextract) (0.4.2)\n",
            "Requirement already satisfied: rsa<5,>=3.1.4 in /usr/local/lib/python3.12/dist-packages (from google-auth<3.0.0,>=2.14.1->google-genai>=0.1.0->langextract) (4.9.1)\n",
            "Requirement already satisfied: zipp>=3.20 in /usr/local/lib/python3.12/dist-packages (from importlib-metadata<8.8.0,>=6.0->opentelemetry-api>=1.2.0->chromadb) (3.23.0)\n",
            "Requirement already satisfied: mdurl~=0.1 in /usr/local/lib/python3.12/dist-packages (from markdown-it-py>=2.2.0->rich>=10.11.0->chromadb) (0.1.2)\n",
            "Requirement already satisfied: humanfriendly>=9.1 in /usr/local/lib/python3.12/dist-packages (from coloredlogs->onnxruntime>=1.14.1->chromadb) (10.0)\n",
            "Requirement already satisfied: oauthlib>=3.0.0 in /usr/local/lib/python3.12/dist-packages (from requests-oauthlib->kubernetes>=28.1.0->chromadb) (3.3.1)\n",
            "Requirement already satisfied: mpmath<1.4,>=1.1.0 in /usr/local/lib/python3.12/dist-packages (from sympy->onnxruntime>=1.14.1->chromadb) (1.3.0)\n",
            "Requirement already satisfied: pyasn1<0.7.0,>=0.6.1 in /usr/local/lib/python3.12/dist-packages (from pyasn1-modules>=0.2.1->google-auth<3.0.0,>=2.14.1->google-genai>=0.1.0->langextract) (0.6.1)\n"
          ]
        }
      ]
    },
    {
      "cell_type": "code",
      "source": [
        "import dotenv\n",
        "from google import genai\n",
        "import langextract, gensim, tensorflow, keras, ollama, langchain\n",
        "from langchain_community import utils\n",
        "from langchain_core import prompts\n",
        "from langchain_google_genai import chat_models\n",
        "from bs4 import BeautifulSoup\n",
        "import chromadb, gradio, sklearn, pandas, numpy, matplotlib, plotly, seaborn, nltk, umap, pymupdf\n",
        "\n",
        "%matplotlib inline\n",
        "print(\"gensim:\", gensim.__version__)\n",
        "print(\"tensorflow:\", tensorflow.__version__)\n",
        "print(\"keras:\", keras.__version__)\n",
        "print(\"sklearn:\", sklearn.__version__)\n",
        "print(\"umap:\", umap.__version__)\n",
        "print(\"numpy:\", numpy.__version__)\n",
        "print(\"google-genai OK:\", genai is not None)\n"
      ],
      "metadata": {
        "colab": {
          "base_uri": "https://localhost:8080/",
          "height": 0
        },
        "id": "8laRfbkK5TkW",
        "outputId": "f4ac1479-ccb2-4482-f125-0712577e5c2e"
      },
      "execution_count": 4,
      "outputs": [
        {
          "output_type": "stream",
          "name": "stdout",
          "text": [
            "gensim: 4.3.3\n",
            "tensorflow: 2.17.0\n",
            "keras: 3.4.1\n",
            "sklearn: 1.7.2\n",
            "umap: 0.5.9.post2\n",
            "numpy: 1.26.4\n",
            "google-genai OK: True\n"
          ]
        }
      ]
    },
    {
      "cell_type": "code",
      "execution_count": 4,
      "metadata": {
        "colab": {
          "base_uri": "https://localhost:8080/",
          "height": 0
        },
        "id": "pP0POOdZvXwi",
        "outputId": "5303ba1f-76d3-49b1-d85a-59d7864694d1"
      },
      "outputs": [
        {
          "output_type": "stream",
          "name": "stdout",
          "text": [
            "gensim: 4.3.3\n",
            "tensorflow: 2.17.0\n",
            "keras: 3.4.1\n"
          ]
        }
      ],
      "source": [
        "# test code for environment setup\n",
        "# import library\n",
        "import dotenv\n",
        "import gensim\n",
        "import tensorflow\n",
        "import tensorflow_hub\n",
        "import keras\n",
        "import jupyter\n",
        "import sklearn\n",
        "import pandas\n",
        "import numpy\n",
        "import matplotlib\n",
        "import plotly\n",
        "import seaborn\n",
        "import nltk\n",
        "import umap\n",
        "\n",
        "%matplotlib inline\n",
        "\n",
        "print(\"gensim: \" + gensim.__version__)\n",
        "print(\"tensorflow: \" + tensorflow.__version__)\n",
        "print(\"keras: \" + keras.__version__)"
      ]
    },
    {
      "cell_type": "markdown",
      "metadata": {
        "id": "2By46A7lvl1a"
      },
      "source": [
        "##### **OPTIONAL: If you want to save your outputs you can send them to your own drive by mounting the drive in the following way (uncomment the lines):**"
      ]
    },
    {
      "cell_type": "code",
      "execution_count": 5,
      "metadata": {
        "id": "OKBaNNh7vkOU"
      },
      "outputs": [],
      "source": [
        "\n",
        "# Remember to change the directory of your outputs to your folder in the new mounted google drive inside colab\n",
        "# from google.colab import drive\n",
        "# drive.mount('/content/drive/')\n"
      ]
    },
    {
      "cell_type": "markdown",
      "metadata": {
        "id": "8KpYc_FWui7T"
      },
      "source": [
        "**Table of contents**<a id='toc0_'></a>    \n",
        "- [Data Mining Lab 2 - Phase 1](#toc1_)    \n",
        "  - [Summarized Table of Contents](#toc1_1_)    \n",
        "  - [Before Starting](#toc1_2_)    \n",
        "  - [Introduction](#toc1_3_)    \n",
        "  - [**1. Data Preparation**](#toc1_4_)    \n",
        "  - [**1.1 Load data**](#toc1_5_)    \n",
        "        - [**>>> Exercise 1 (Take home):**](#toc1_5_1_1_1_)    \n",
        "    - [**1.2 Save data**](#toc1_5_2_)    \n",
        "    - [**1.3 Exploratory data analysis (EDA)**](#toc1_5_3_)    \n",
        "  - [**2. Feature engineering**](#toc1_6_)    \n",
        "    - [Using Bag of Words](#toc1_6_1_)    \n",
        "        - [**>>> Exercise 2 (Take home):**](#toc1_6_1_1_1_)    \n",
        "  - [**3. Model**](#toc1_7_)    \n",
        "    - [**3.1 Decision Trees**](#toc1_7_1_)    \n",
        "  - [**4. Results Evaluation**](#toc1_8_)    \n",
        "        - [**>>> Exercise 3 (Take home):**](#toc1_8_1_1_1_)    \n",
        "        - [**>>> Exercise 4 (Take home):**](#toc1_8_1_1_2_)    \n",
        "        - [**>>> Exercise 5 (Take home):**](#toc1_8_1_1_3_)    \n",
        "  - [**5. Other things you can try**](#toc1_9_)    \n",
        "  - [**6. Deep Learning**](#toc1_10_)    \n",
        "    - [**6.1 Prepare data (X, y)**](#toc1_10_1_)    \n",
        "    - [**6.2 Deal with categorical label (y)**](#toc1_10_2_)    \n",
        "    - [**6.3 Build model**](#toc1_10_3_)    \n",
        "    - [**6.4 Train**](#toc1_10_4_)    \n",
        "    - [**6.5 Predict on testing data**](#toc1_10_5_)    \n",
        "        - [**>>> Exercise 6 (Take home):**](#toc1_10_5_1_1_)    \n",
        "    - [Note](#toc1_10_6_)    \n",
        "    - [More Information for your reference](#toc1_10_7_)    \n",
        "  - [**7. Word2Vector**](#toc1_11_)    \n",
        "    - [**7.1 Prepare training corpus**](#toc1_11_1_)    \n",
        "    - [**7.2 Training our model**](#toc1_11_2_)    \n",
        "    - [**7.3 Generating word vector (embeddings)**](#toc1_11_3_)    \n",
        "    - [**7.4 Using a pre-trained w2v model**](#toc1_11_4_)    \n",
        "      - [(1) Download model by yourself](#toc1_11_4_1_)    \n",
        "      - [(2) Using gensim api](#toc1_11_4_2_)    \n",
        "    - [**7.5 king + woman - man = ?**](#toc1_11_5_)    \n",
        "        - [**>>> Exercise 7 (Take home):**](#toc1_11_5_1_1_)    \n",
        "  - [**8. Clustering: k-means**](#toc1_12_)    \n",
        "      - [Basic concept](#toc1_12_1_1_)    \n",
        "  - [**9. High-dimension Visualization: t-SNE and UMAP**](#toc1_13_)    \n",
        "    - [**9.1 Prepare visualizing target**](#toc1_13_1_)    \n",
        "    - [**9.2 Plot using t-SNE and UMAP (2-dimension)**](#toc1_13_2_)    \n",
        "        - [**>>> Exercise 8 (Take home):**](#toc1_13_2_1_1_)    \n",
        "\n",
        "<!-- vscode-jupyter-toc-config\n",
        "\tnumbering=false\n",
        "\tanchor=true\n",
        "\tflat=false\n",
        "\tminLevel=1\n",
        "\tmaxLevel=6\n",
        "\t/vscode-jupyter-toc-config -->\n",
        "<!-- THIS CELL WILL BE REPLACED ON TOC UPDATE. DO NOT WRITE YOUR TEXT IN THIS CELL -->"
      ]
    },
    {
      "cell_type": "markdown",
      "metadata": {
        "id": "uuutyCx4YTpX"
      },
      "source": [
        "# <a id='toc1_'></a>[Data Mining Lab 2 - Phase 1](#toc0_)\n",
        "In this lab's phase 1 session we will focus on the use of Neural Word Embeddings\n",
        "\n",
        "## <a id='toc1_1_'></a>[Summarized Table of Contents](#toc0_)\n",
        "- **Phase 1:**\n",
        "1. Data preparation\n",
        "2. Feature engineering\n",
        "3. Model\n",
        "4. Results evaluation\n",
        "5. Other things you could try\n",
        "6. Deep Learning\n",
        "7. Word to Vector\n",
        "8. Clustering\n",
        "9. High-dimension Visualization\n"
      ]
    },
    {
      "cell_type": "markdown",
      "metadata": {
        "id": "5XUuDBRcui7V"
      },
      "source": [
        "## <a id='toc1_2_'></a>[Before Starting](#toc0_)\n",
        "\n",
        "**Make sure you have installed all the required libraries and you have the environment ready to run this lab.**\n",
        "    "
      ]
    },
    {
      "cell_type": "markdown",
      "metadata": {
        "id": "LIpAqCvMYTpX"
      },
      "source": [
        "---\n",
        "## <a id='toc1_3_'></a>[Introduction](#toc0_)"
      ]
    },
    {
      "cell_type": "markdown",
      "metadata": {
        "id": "n2paPeNbYTpX"
      },
      "source": [
        "**Dataset:** [SemEval 2017 Task](https://competitions.codalab.org/competitions/16380)\n",
        "\n",
        "**Task:** Classify text data into 4 different emotions using word embeddings and other deep information retrieval approaches.\n",
        "\n",
        "![pic0.png](https://drive.google.com/uc?export=view&id=1qurztXdx30Wl2vkCZg7KXXJYJXcE6YR_)"
      ]
    },
    {
      "cell_type": "markdown",
      "metadata": {
        "id": "op_X7pR-YTpX"
      },
      "source": [
        "---\n",
        "## <a id='toc1_4_'></a>[**1. Data Preparation**](#toc0_)"
      ]
    },
    {
      "cell_type": "markdown",
      "metadata": {
        "id": "ID-8I1ELYTpX"
      },
      "source": [
        "Before beggining the lab, please make sure to download the [Google News Dataset](https://drive.google.com/file/d/0B7XkCwpI5KDYNlNUTTlSS21pQmM/edit) and place it in a folder named \"GoogleNews\" in the same directory as this file."
      ]
    },
    {
      "cell_type": "markdown",
      "metadata": {
        "id": "pgoEbZzSYTpX"
      },
      "source": [
        "---\n",
        "## <a id='toc1_5_'></a>[**1.1 Load data**](#toc0_)\n",
        "\n",
        "We start by loading the csv files into a single pandas dataframe for training and one for testing."
      ]
    },
    {
      "cell_type": "code",
      "execution_count": 5,
      "metadata": {
        "id": "anfjcPSSYTpX"
      },
      "outputs": [],
      "source": [
        "import pandas as pd\n",
        "\n",
        "### training data\n",
        "anger_train = pd.read_csv(\"./DM2025-Lab2-Exercise/data/semeval/train/anger-ratings-0to1.train.txt\",\n",
        "                         sep=\"\\t\", header=None,names=[\"id\", \"text\", \"emotion\", \"intensity\"])\n",
        "sadness_train = pd.read_csv(\"./DM2025-Lab2-Exercise/data/semeval/train/sadness-ratings-0to1.train.txt\",\n",
        "                         sep=\"\\t\", header=None, names=[\"id\", \"text\", \"emotion\", \"intensity\"])\n",
        "fear_train = pd.read_csv(\"./DM2025-Lab2-Exercise/data/semeval/train/fear-ratings-0to1.train.txt\",\n",
        "                         sep=\"\\t\", header=None, names=[\"id\", \"text\", \"emotion\", \"intensity\"])\n",
        "joy_train = pd.read_csv(\"./DM2025-Lab2-Exercise/data/semeval/train/joy-ratings-0to1.train.txt\",\n",
        "                         sep=\"\\t\", header=None, names=[\"id\", \"text\", \"emotion\", \"intensity\"])"
      ]
    },
    {
      "cell_type": "code",
      "execution_count": 6,
      "metadata": {
        "id": "yVc2T5MIYTpX"
      },
      "outputs": [],
      "source": [
        "# combine 4 sub-dataset\n",
        "train_df = pd.concat([anger_train, fear_train, joy_train, sadness_train], ignore_index=True)"
      ]
    },
    {
      "cell_type": "code",
      "execution_count": 7,
      "metadata": {
        "colab": {
          "base_uri": "https://localhost:8080/",
          "height": 206
        },
        "id": "Kw8bGMv7YTpX",
        "outputId": "0dc4452b-dabd-478b-b2c9-69d77908a2ef"
      },
      "outputs": [
        {
          "output_type": "execute_result",
          "data": {
            "text/plain": [
              "      id                                               text emotion  intensity\n",
              "0  10000  How the fu*k! Who the heck! moved my fridge!.....   anger      0.938\n",
              "1  10001  So my Indian Uber driver just called someone t...   anger      0.896\n",
              "2  10002  @DPD_UK I asked for my parcel to be delivered ...   anger      0.896\n",
              "3  10003  so ef whichever butt wipe pulled the fire alar...   anger      0.896\n",
              "4  10004  Don't join @BTCare they put the phone down on ...   anger      0.896"
            ],
            "text/html": [
              "\n",
              "  <div id=\"df-387e0a07-a4ff-4e5b-aafd-5d84cc144ab8\" class=\"colab-df-container\">\n",
              "    <div>\n",
              "<style scoped>\n",
              "    .dataframe tbody tr th:only-of-type {\n",
              "        vertical-align: middle;\n",
              "    }\n",
              "\n",
              "    .dataframe tbody tr th {\n",
              "        vertical-align: top;\n",
              "    }\n",
              "\n",
              "    .dataframe thead th {\n",
              "        text-align: right;\n",
              "    }\n",
              "</style>\n",
              "<table border=\"1\" class=\"dataframe\">\n",
              "  <thead>\n",
              "    <tr style=\"text-align: right;\">\n",
              "      <th></th>\n",
              "      <th>id</th>\n",
              "      <th>text</th>\n",
              "      <th>emotion</th>\n",
              "      <th>intensity</th>\n",
              "    </tr>\n",
              "  </thead>\n",
              "  <tbody>\n",
              "    <tr>\n",
              "      <th>0</th>\n",
              "      <td>10000</td>\n",
              "      <td>How the fu*k! Who the heck! moved my fridge!.....</td>\n",
              "      <td>anger</td>\n",
              "      <td>0.938</td>\n",
              "    </tr>\n",
              "    <tr>\n",
              "      <th>1</th>\n",
              "      <td>10001</td>\n",
              "      <td>So my Indian Uber driver just called someone t...</td>\n",
              "      <td>anger</td>\n",
              "      <td>0.896</td>\n",
              "    </tr>\n",
              "    <tr>\n",
              "      <th>2</th>\n",
              "      <td>10002</td>\n",
              "      <td>@DPD_UK I asked for my parcel to be delivered ...</td>\n",
              "      <td>anger</td>\n",
              "      <td>0.896</td>\n",
              "    </tr>\n",
              "    <tr>\n",
              "      <th>3</th>\n",
              "      <td>10003</td>\n",
              "      <td>so ef whichever butt wipe pulled the fire alar...</td>\n",
              "      <td>anger</td>\n",
              "      <td>0.896</td>\n",
              "    </tr>\n",
              "    <tr>\n",
              "      <th>4</th>\n",
              "      <td>10004</td>\n",
              "      <td>Don't join @BTCare they put the phone down on ...</td>\n",
              "      <td>anger</td>\n",
              "      <td>0.896</td>\n",
              "    </tr>\n",
              "  </tbody>\n",
              "</table>\n",
              "</div>\n",
              "    <div class=\"colab-df-buttons\">\n",
              "\n",
              "  <div class=\"colab-df-container\">\n",
              "    <button class=\"colab-df-convert\" onclick=\"convertToInteractive('df-387e0a07-a4ff-4e5b-aafd-5d84cc144ab8')\"\n",
              "            title=\"Convert this dataframe to an interactive table.\"\n",
              "            style=\"display:none;\">\n",
              "\n",
              "  <svg xmlns=\"http://www.w3.org/2000/svg\" height=\"24px\" viewBox=\"0 -960 960 960\">\n",
              "    <path d=\"M120-120v-720h720v720H120Zm60-500h600v-160H180v160Zm220 220h160v-160H400v160Zm0 220h160v-160H400v160ZM180-400h160v-160H180v160Zm440 0h160v-160H620v160ZM180-180h160v-160H180v160Zm440 0h160v-160H620v160Z\"/>\n",
              "  </svg>\n",
              "    </button>\n",
              "\n",
              "  <style>\n",
              "    .colab-df-container {\n",
              "      display:flex;\n",
              "      gap: 12px;\n",
              "    }\n",
              "\n",
              "    .colab-df-convert {\n",
              "      background-color: #E8F0FE;\n",
              "      border: none;\n",
              "      border-radius: 50%;\n",
              "      cursor: pointer;\n",
              "      display: none;\n",
              "      fill: #1967D2;\n",
              "      height: 32px;\n",
              "      padding: 0 0 0 0;\n",
              "      width: 32px;\n",
              "    }\n",
              "\n",
              "    .colab-df-convert:hover {\n",
              "      background-color: #E2EBFA;\n",
              "      box-shadow: 0px 1px 2px rgba(60, 64, 67, 0.3), 0px 1px 3px 1px rgba(60, 64, 67, 0.15);\n",
              "      fill: #174EA6;\n",
              "    }\n",
              "\n",
              "    .colab-df-buttons div {\n",
              "      margin-bottom: 4px;\n",
              "    }\n",
              "\n",
              "    [theme=dark] .colab-df-convert {\n",
              "      background-color: #3B4455;\n",
              "      fill: #D2E3FC;\n",
              "    }\n",
              "\n",
              "    [theme=dark] .colab-df-convert:hover {\n",
              "      background-color: #434B5C;\n",
              "      box-shadow: 0px 1px 3px 1px rgba(0, 0, 0, 0.15);\n",
              "      filter: drop-shadow(0px 1px 2px rgba(0, 0, 0, 0.3));\n",
              "      fill: #FFFFFF;\n",
              "    }\n",
              "  </style>\n",
              "\n",
              "    <script>\n",
              "      const buttonEl =\n",
              "        document.querySelector('#df-387e0a07-a4ff-4e5b-aafd-5d84cc144ab8 button.colab-df-convert');\n",
              "      buttonEl.style.display =\n",
              "        google.colab.kernel.accessAllowed ? 'block' : 'none';\n",
              "\n",
              "      async function convertToInteractive(key) {\n",
              "        const element = document.querySelector('#df-387e0a07-a4ff-4e5b-aafd-5d84cc144ab8');\n",
              "        const dataTable =\n",
              "          await google.colab.kernel.invokeFunction('convertToInteractive',\n",
              "                                                    [key], {});\n",
              "        if (!dataTable) return;\n",
              "\n",
              "        const docLinkHtml = 'Like what you see? Visit the ' +\n",
              "          '<a target=\"_blank\" href=https://colab.research.google.com/notebooks/data_table.ipynb>data table notebook</a>'\n",
              "          + ' to learn more about interactive tables.';\n",
              "        element.innerHTML = '';\n",
              "        dataTable['output_type'] = 'display_data';\n",
              "        await google.colab.output.renderOutput(dataTable, element);\n",
              "        const docLink = document.createElement('div');\n",
              "        docLink.innerHTML = docLinkHtml;\n",
              "        element.appendChild(docLink);\n",
              "      }\n",
              "    </script>\n",
              "  </div>\n",
              "\n",
              "\n",
              "    <div id=\"df-9926229b-9683-44a6-91ca-3c67413f49a2\">\n",
              "      <button class=\"colab-df-quickchart\" onclick=\"quickchart('df-9926229b-9683-44a6-91ca-3c67413f49a2')\"\n",
              "                title=\"Suggest charts\"\n",
              "                style=\"display:none;\">\n",
              "\n",
              "<svg xmlns=\"http://www.w3.org/2000/svg\" height=\"24px\"viewBox=\"0 0 24 24\"\n",
              "     width=\"24px\">\n",
              "    <g>\n",
              "        <path d=\"M19 3H5c-1.1 0-2 .9-2 2v14c0 1.1.9 2 2 2h14c1.1 0 2-.9 2-2V5c0-1.1-.9-2-2-2zM9 17H7v-7h2v7zm4 0h-2V7h2v10zm4 0h-2v-4h2v4z\"/>\n",
              "    </g>\n",
              "</svg>\n",
              "      </button>\n",
              "\n",
              "<style>\n",
              "  .colab-df-quickchart {\n",
              "      --bg-color: #E8F0FE;\n",
              "      --fill-color: #1967D2;\n",
              "      --hover-bg-color: #E2EBFA;\n",
              "      --hover-fill-color: #174EA6;\n",
              "      --disabled-fill-color: #AAA;\n",
              "      --disabled-bg-color: #DDD;\n",
              "  }\n",
              "\n",
              "  [theme=dark] .colab-df-quickchart {\n",
              "      --bg-color: #3B4455;\n",
              "      --fill-color: #D2E3FC;\n",
              "      --hover-bg-color: #434B5C;\n",
              "      --hover-fill-color: #FFFFFF;\n",
              "      --disabled-bg-color: #3B4455;\n",
              "      --disabled-fill-color: #666;\n",
              "  }\n",
              "\n",
              "  .colab-df-quickchart {\n",
              "    background-color: var(--bg-color);\n",
              "    border: none;\n",
              "    border-radius: 50%;\n",
              "    cursor: pointer;\n",
              "    display: none;\n",
              "    fill: var(--fill-color);\n",
              "    height: 32px;\n",
              "    padding: 0;\n",
              "    width: 32px;\n",
              "  }\n",
              "\n",
              "  .colab-df-quickchart:hover {\n",
              "    background-color: var(--hover-bg-color);\n",
              "    box-shadow: 0 1px 2px rgba(60, 64, 67, 0.3), 0 1px 3px 1px rgba(60, 64, 67, 0.15);\n",
              "    fill: var(--button-hover-fill-color);\n",
              "  }\n",
              "\n",
              "  .colab-df-quickchart-complete:disabled,\n",
              "  .colab-df-quickchart-complete:disabled:hover {\n",
              "    background-color: var(--disabled-bg-color);\n",
              "    fill: var(--disabled-fill-color);\n",
              "    box-shadow: none;\n",
              "  }\n",
              "\n",
              "  .colab-df-spinner {\n",
              "    border: 2px solid var(--fill-color);\n",
              "    border-color: transparent;\n",
              "    border-bottom-color: var(--fill-color);\n",
              "    animation:\n",
              "      spin 1s steps(1) infinite;\n",
              "  }\n",
              "\n",
              "  @keyframes spin {\n",
              "    0% {\n",
              "      border-color: transparent;\n",
              "      border-bottom-color: var(--fill-color);\n",
              "      border-left-color: var(--fill-color);\n",
              "    }\n",
              "    20% {\n",
              "      border-color: transparent;\n",
              "      border-left-color: var(--fill-color);\n",
              "      border-top-color: var(--fill-color);\n",
              "    }\n",
              "    30% {\n",
              "      border-color: transparent;\n",
              "      border-left-color: var(--fill-color);\n",
              "      border-top-color: var(--fill-color);\n",
              "      border-right-color: var(--fill-color);\n",
              "    }\n",
              "    40% {\n",
              "      border-color: transparent;\n",
              "      border-right-color: var(--fill-color);\n",
              "      border-top-color: var(--fill-color);\n",
              "    }\n",
              "    60% {\n",
              "      border-color: transparent;\n",
              "      border-right-color: var(--fill-color);\n",
              "    }\n",
              "    80% {\n",
              "      border-color: transparent;\n",
              "      border-right-color: var(--fill-color);\n",
              "      border-bottom-color: var(--fill-color);\n",
              "    }\n",
              "    90% {\n",
              "      border-color: transparent;\n",
              "      border-bottom-color: var(--fill-color);\n",
              "    }\n",
              "  }\n",
              "</style>\n",
              "\n",
              "      <script>\n",
              "        async function quickchart(key) {\n",
              "          const quickchartButtonEl =\n",
              "            document.querySelector('#' + key + ' button');\n",
              "          quickchartButtonEl.disabled = true;  // To prevent multiple clicks.\n",
              "          quickchartButtonEl.classList.add('colab-df-spinner');\n",
              "          try {\n",
              "            const charts = await google.colab.kernel.invokeFunction(\n",
              "                'suggestCharts', [key], {});\n",
              "          } catch (error) {\n",
              "            console.error('Error during call to suggestCharts:', error);\n",
              "          }\n",
              "          quickchartButtonEl.classList.remove('colab-df-spinner');\n",
              "          quickchartButtonEl.classList.add('colab-df-quickchart-complete');\n",
              "        }\n",
              "        (() => {\n",
              "          let quickchartButtonEl =\n",
              "            document.querySelector('#df-9926229b-9683-44a6-91ca-3c67413f49a2 button');\n",
              "          quickchartButtonEl.style.display =\n",
              "            google.colab.kernel.accessAllowed ? 'block' : 'none';\n",
              "        })();\n",
              "      </script>\n",
              "    </div>\n",
              "\n",
              "    </div>\n",
              "  </div>\n"
            ],
            "application/vnd.google.colaboratory.intrinsic+json": {
              "type": "dataframe",
              "variable_name": "train_df",
              "summary": "{\n  \"name\": \"train_df\",\n  \"rows\": 3613,\n  \"fields\": [\n    {\n      \"column\": \"id\",\n      \"properties\": {\n        \"dtype\": \"number\",\n        \"std\": 10715,\n        \"min\": 10000,\n        \"max\": 40785,\n        \"num_unique_values\": 3613,\n        \"samples\": [\n          10839,\n          30626,\n          10032\n        ],\n        \"semantic_type\": \"\",\n        \"description\": \"\"\n      }\n    },\n    {\n      \"column\": \"text\",\n      \"properties\": {\n        \"dtype\": \"string\",\n        \"num_unique_values\": 3565,\n        \"samples\": [\n          \"im literally shaking bc im nervous and bc its fucking cold oh how i love life\",\n          \"Halfway to work and I realize I forgot to put on underwear....It's going to be one of those days! #mombrain #toomuchgoingon #longday #breezy\",\n          \"Round 2  #pcola\"\n        ],\n        \"semantic_type\": \"\",\n        \"description\": \"\"\n      }\n    },\n    {\n      \"column\": \"emotion\",\n      \"properties\": {\n        \"dtype\": \"category\",\n        \"num_unique_values\": 4,\n        \"samples\": [\n          \"fear\",\n          \"sadness\",\n          \"anger\"\n        ],\n        \"semantic_type\": \"\",\n        \"description\": \"\"\n      }\n    },\n    {\n      \"column\": \"intensity\",\n      \"properties\": {\n        \"dtype\": \"number\",\n        \"std\": 0.19036776242787684,\n        \"min\": 0.019,\n        \"max\": 0.98,\n        \"num_unique_values\": 403,\n        \"samples\": [\n          0.333,\n          0.673,\n          0.654\n        ],\n        \"semantic_type\": \"\",\n        \"description\": \"\"\n      }\n    }\n  ]\n}"
            }
          },
          "metadata": {},
          "execution_count": 7
        }
      ],
      "source": [
        "### testing data\n",
        "anger_test = pd.read_csv(\"./DM2025-Lab2-Exercise/data/semeval/dev/anger-ratings-0to1.dev.gold.txt\",\n",
        "                         sep=\"\\t\", header=None, names=[\"id\", \"text\", \"emotion\", \"intensity\"])\n",
        "sadness_test = pd.read_csv(\"./DM2025-Lab2-Exercise/data/semeval/dev/sadness-ratings-0to1.dev.gold.txt\",\n",
        "                         sep=\"\\t\", header=None, names=[\"id\", \"text\", \"emotion\", \"intensity\"])\n",
        "fear_test = pd.read_csv(\"./DM2025-Lab2-Exercise/data/semeval/dev/fear-ratings-0to1.dev.gold.txt\",\n",
        "                         sep=\"\\t\", header=None, names=[\"id\", \"text\", \"emotion\", \"intensity\"])\n",
        "joy_test = pd.read_csv(\"./DM2025-Lab2-Exercise/data/semeval/dev/joy-ratings-0to1.dev.gold.txt\",\n",
        "                         sep=\"\\t\", header=None, names=[\"id\", \"text\", \"emotion\", \"intensity\"])\n",
        "\n",
        "# combine 4 sub-dataset\n",
        "test_df = pd.concat([anger_test, fear_test, joy_test, sadness_test], ignore_index=True)\n",
        "train_df.head()"
      ]
    },
    {
      "cell_type": "code",
      "execution_count": 8,
      "metadata": {
        "id": "HBHwcL8sYTpX"
      },
      "outputs": [],
      "source": [
        "# shuffle dataset\n",
        "train_df = train_df.sample(frac=1)\n",
        "test_df = test_df.sample(frac=1)"
      ]
    },
    {
      "cell_type": "code",
      "execution_count": 9,
      "metadata": {
        "colab": {
          "base_uri": "https://localhost:8080/",
          "height": 0
        },
        "id": "9w_cDUwCYTpX",
        "outputId": "4e16c58e-804a-4677-d958-acf03a118953",
        "scrolled": true
      },
      "outputs": [
        {
          "output_type": "stream",
          "name": "stdout",
          "text": [
            "Shape of Training df:  (3613, 4)\n",
            "Shape of Testing df:  (347, 4)\n"
          ]
        }
      ],
      "source": [
        "print(\"Shape of Training df: \", train_df.shape)\n",
        "print(\"Shape of Testing df: \", test_df.shape)"
      ]
    },
    {
      "cell_type": "markdown",
      "metadata": {
        "id": "escCgU1zYTpX"
      },
      "source": [
        "---\n",
        "##### <a id='toc1_5_1_1_1_'></a>[**>>> Exercise 1 (Take home):**](#toc0_)\n",
        "Plot word frequency for Top 30 words in both train and test dataset. (Hint: refer to DM lab 1)\n"
      ]
    },
    {
      "cell_type": "code",
      "execution_count": 10,
      "metadata": {
        "id": "HoXjet3pYTpo",
        "colab": {
          "base_uri": "https://localhost:8080/",
          "height": 558
        },
        "outputId": "71c8b362-95f5-4eb3-dc5e-3be76fffd203"
      },
      "outputs": [
        {
          "output_type": "display_data",
          "data": {
            "text/plain": [
              "<Figure size 1400x600 with 2 Axes>"
            ],
            "image/png": "[encoded data removed]"
          },
          "metadata": {}
        }
      ],
      "source": [
        "# Answer here\n",
        "# Import necessary libraries\n",
        "import pandas as pd\n",
        "import matplotlib.pyplot as plt\n",
        "from collections import Counter\n",
        "import re\n",
        "\n",
        "# 假設 train_df 與 test_df 已經載入\n",
        "# 並且有一欄名為 'text' 存放文字內容\n",
        "\n",
        "def preprocess(text):\n",
        "    # 轉小寫、移除非字母字元\n",
        "    text = text.lower()\n",
        "    text = re.sub(r'[^a-z\\s]', '', text)\n",
        "    return text\n",
        "\n",
        "def get_top_words(df, column, n=30):\n",
        "    all_words = ' '.join(df[column].apply(preprocess)).split()\n",
        "    word_counts = Counter(all_words)\n",
        "    return pd.DataFrame(word_counts.most_common(n), columns=['word', 'frequency'])\n",
        "\n",
        "# 計算 top 30 words for train & test\n",
        "top_train = get_top_words(train_df, 'text', 30)\n",
        "top_test = get_top_words(test_df, 'text', 30)\n",
        "\n",
        "# 畫圖\n",
        "plt.figure(figsize=(14,6))\n",
        "\n",
        "plt.subplot(1,2,1)\n",
        "plt.bar(top_train['word'], top_train['frequency'])\n",
        "plt.title('Top 30 Words in Train Dataset')\n",
        "plt.xticks(rotation=90)\n",
        "\n",
        "plt.subplot(1,2,2)\n",
        "plt.bar(top_test['word'], top_test['frequency'])\n",
        "plt.title('Top 30 Words in Test Dataset')\n",
        "plt.xticks(rotation=90)\n",
        "\n",
        "plt.tight_layout()\n",
        "plt.show()\n"
      ]
    },
    {
      "cell_type": "markdown",
      "metadata": {
        "id": "_hr8aKhlYTpo"
      },
      "source": [
        "---\n",
        "### <a id='toc1_5_2_'></a>[**1.2 Save data**](#toc0_)"
      ]
    },
    {
      "cell_type": "markdown",
      "metadata": {
        "id": "Zm6GF2VvYTpo"
      },
      "source": [
        "We will save our data in Pickle format. The pickle module implements binary protocols for serializing and de-serializing a Python object structure.   \n",
        "  \n",
        "Some advantages for using pickle structure:  \n",
        "* Because it stores the attribute type, it's more convenient for cross-platform use.  \n",
        "* When your data is huge, it could use less space to store also consume less loading time.   "
      ]
    },
    {
      "cell_type": "code",
      "execution_count": 11,
      "metadata": {
        "id": "dZzepBdpYTpo"
      },
      "outputs": [],
      "source": [
        "# save to pickle file\n",
        "train_df.to_pickle(\"./DM2025-Lab2-Exercise/data/train_df.pkl\")\n",
        "test_df.to_pickle(\"./DM2025-Lab2-Exercise/data/test_df.pkl\")"
      ]
    },
    {
      "cell_type": "code",
      "execution_count": 12,
      "metadata": {
        "id": "H5uO-kOUYTpo"
      },
      "outputs": [],
      "source": [
        "import pandas as pd\n",
        "\n",
        "# load a pickle file\n",
        "train_df = pd.read_pickle(\"./DM2025-Lab2-Exercise/data/train_df.pkl\")\n",
        "test_df = pd.read_pickle(\"./DM2025-Lab2-Exercise/data/test_df.pkl\")"
      ]
    },
    {
      "cell_type": "markdown",
      "metadata": {
        "id": "_sLDcQzeYTpo"
      },
      "source": [
        "For more information: https://reurl.cc/0Dzqx"
      ]
    },
    {
      "cell_type": "markdown",
      "metadata": {
        "id": "dKHpxTzLYTpo"
      },
      "source": [
        "---\n",
        "### <a id='toc1_5_3_'></a>[**1.3 Exploratory data analysis (EDA)**](#toc0_)\n",
        "\n",
        "Again, before getting our hands dirty, we need to explore a little bit and understand the data we're dealing with."
      ]
    },
    {
      "cell_type": "code",
      "execution_count": 13,
      "metadata": {
        "colab": {
          "base_uri": "https://localhost:8080/",
          "height": 241
        },
        "id": "mLnEEliCYTpo",
        "outputId": "afd2654c-bef1-4a06-c1e6-1784df76a713"
      },
      "outputs": [
        {
          "output_type": "execute_result",
          "data": {
            "text/plain": [
              "emotion\n",
              "anger       857\n",
              "fear       1147\n",
              "joy         823\n",
              "sadness     786\n",
              "Name: text, dtype: int64"
            ],
            "text/html": [
              "<div>\n",
              "<style scoped>\n",
              "    .dataframe tbody tr th:only-of-type {\n",
              "        vertical-align: middle;\n",
              "    }\n",
              "\n",
              "    .dataframe tbody tr th {\n",
              "        vertical-align: top;\n",
              "    }\n",
              "\n",
              "    .dataframe thead th {\n",
              "        text-align: right;\n",
              "    }\n",
              "</style>\n",
              "<table border=\"1\" class=\"dataframe\">\n",
              "  <thead>\n",
              "    <tr style=\"text-align: right;\">\n",
              "      <th></th>\n",
              "      <th>text</th>\n",
              "    </tr>\n",
              "    <tr>\n",
              "      <th>emotion</th>\n",
              "      <th></th>\n",
              "    </tr>\n",
              "  </thead>\n",
              "  <tbody>\n",
              "    <tr>\n",
              "      <th>anger</th>\n",
              "      <td>857</td>\n",
              "    </tr>\n",
              "    <tr>\n",
              "      <th>fear</th>\n",
              "      <td>1147</td>\n",
              "    </tr>\n",
              "    <tr>\n",
              "      <th>joy</th>\n",
              "      <td>823</td>\n",
              "    </tr>\n",
              "    <tr>\n",
              "      <th>sadness</th>\n",
              "      <td>786</td>\n",
              "    </tr>\n",
              "  </tbody>\n",
              "</table>\n",
              "</div><br><label><b>dtype:</b> int64</label>"
            ]
          },
          "metadata": {},
          "execution_count": 13
        }
      ],
      "source": [
        "# group to find distribution\n",
        "train_df.groupby(['emotion']).count()['text']"
      ]
    },
    {
      "cell_type": "code",
      "execution_count": 14,
      "metadata": {
        "colab": {
          "base_uri": "https://localhost:8080/",
          "height": 333
        },
        "id": "pcVOe8nYYTpo",
        "outputId": "2e382a45-4214-4249-d24e-3efd841fe908"
      },
      "outputs": [
        {
          "output_type": "display_data",
          "data": {
            "text/plain": [
              "<Figure size 500x300 with 1 Axes>"
            ],
            "image/png": "[encoded data removed]"
          },
          "metadata": {}
        }
      ],
      "source": [
        "%matplotlib inline\n",
        "import numpy as np\n",
        "import matplotlib.pyplot as plt\n",
        "\n",
        "# the histogram of the data\n",
        "labels = train_df['emotion'].unique()\n",
        "post_total = len(train_df)\n",
        "df1 = train_df.groupby(['emotion']).count()['text']\n",
        "df1 = df1.apply(lambda x: round(x*100/post_total,3))\n",
        "\n",
        "#plot\n",
        "fig, ax = plt.subplots(figsize=(5,3))\n",
        "plt.bar(df1.index,df1.values)\n",
        "\n",
        "#arrange\n",
        "plt.ylabel('% of instances')\n",
        "plt.xlabel('Emotion')\n",
        "plt.title('Emotion distribution')\n",
        "plt.grid(True)\n",
        "plt.show()"
      ]
    },
    {
      "cell_type": "markdown",
      "metadata": {
        "id": "B_jGcireYTpo"
      },
      "source": [
        "---"
      ]
    },
    {
      "cell_type": "markdown",
      "metadata": {
        "id": "hgHvhTJuYTpo"
      },
      "source": [
        "## <a id='toc1_6_'></a>[**2. Feature engineering**](#toc0_)\n",
        "### <a id='toc1_6_1_'></a>[Using Bag of Words](#toc0_)\n",
        "Using scikit-learn ```CountVectorizer``` perform word frequency and use these as features to train a model.  \n",
        "http://scikit-learn.org/stable/modules/generated/sklearn.feature_extraction.text.CountVectorizer.html"
      ]
    },
    {
      "cell_type": "code",
      "execution_count": 15,
      "metadata": {
        "id": "rbl89LPUYTpo"
      },
      "outputs": [],
      "source": [
        "from sklearn.feature_extraction.text import CountVectorizer"
      ]
    },
    {
      "cell_type": "code",
      "execution_count": 16,
      "metadata": {
        "id": "Bo8_GP6qYTpo"
      },
      "outputs": [],
      "source": [
        "# build analyzers (bag-of-words)\n",
        "BOW_vectorizer = CountVectorizer()"
      ]
    },
    {
      "cell_type": "code",
      "execution_count": 17,
      "metadata": {
        "id": "Bz_m0xn7YTpo"
      },
      "outputs": [],
      "source": [
        "# 1. Learn a vocabulary dictionary of all tokens in the raw documents.\n",
        "BOW_vectorizer.fit(train_df['text'])\n",
        "\n",
        "# 2. Transform documents to document-term matrix.\n",
        "train_data_BOW_features = BOW_vectorizer.transform(train_df['text'])\n",
        "test_data_BOW_features = BOW_vectorizer.transform(test_df['text'])"
      ]
    },
    {
      "cell_type": "code",
      "execution_count": 18,
      "metadata": {
        "colab": {
          "base_uri": "https://localhost:8080/",
          "height": 0
        },
        "id": "5cpCUVN8YTpo",
        "outputId": "12c1a6c8-ec11-4839-e46a-38ca20b18231"
      },
      "outputs": [
        {
          "output_type": "execute_result",
          "data": {
            "text/plain": [
              "<3613x10115 sparse matrix of type '<class 'numpy.int64'>'\n",
              "\twith 51467 stored elements in Compressed Sparse Row format>"
            ]
          },
          "metadata": {},
          "execution_count": 18
        }
      ],
      "source": [
        "# check the result\n",
        "train_data_BOW_features"
      ]
    },
    {
      "cell_type": "code",
      "execution_count": 19,
      "metadata": {
        "colab": {
          "base_uri": "https://localhost:8080/",
          "height": 186
        },
        "id": "irGLsag-YTpo",
        "outputId": "ef5acc0d-62a2-44d1-888e-be777d01c46c"
      },
      "outputs": [
        {
          "output_type": "execute_result",
          "data": {
            "text/plain": [
              "scipy.sparse._csr.csr_matrix"
            ],
            "text/html": [
              "<div style=\"max-width:800px; border: 1px solid var(--colab-border-color);\"><style>\n",
              "      pre.function-repr-contents {\n",
              "        overflow-x: auto;\n",
              "        padding: 8px 12px;\n",
              "        max-height: 500px;\n",
              "      }\n",
              "\n",
              "      pre.function-repr-contents.function-repr-contents-collapsed {\n",
              "        cursor: pointer;\n",
              "        max-height: 100px;\n",
              "      }\n",
              "    </style>\n",
              "    <pre style=\"white-space: initial; background:\n",
              "         var(--colab-secondary-surface-color); padding: 8px 12px;\n",
              "         border-bottom: 1px solid var(--colab-border-color);\"><b>scipy.sparse._csr.csr_matrix</b><br/>def __init__(arg1, shape=None, dtype=None, copy=False)</pre><pre class=\"function-repr-contents function-repr-contents-collapsed\" style=\"\"><a class=\"filepath\" style=\"display:none\" href=\"#\">/usr/local/lib/python3.12/dist-packages/scipy/sparse/_csr.py</a>Compressed Sparse Row matrix.\n",
              "\n",
              "This can be instantiated in several ways:\n",
              "    csr_matrix(D)\n",
              "        where D is a 2-D ndarray\n",
              "\n",
              "    csr_matrix(S)\n",
              "        with another sparse array or matrix S (equivalent to S.tocsr())\n",
              "\n",
              "    csr_matrix((M, N), [dtype])\n",
              "        to construct an empty matrix with shape (M, N)\n",
              "        dtype is optional, defaulting to dtype=&#x27;d&#x27;.\n",
              "\n",
              "    csr_matrix((data, (row_ind, col_ind)), [shape=(M, N)])\n",
              "        where ``data``, ``row_ind`` and ``col_ind`` satisfy the\n",
              "        relationship ``a[row_ind[k], col_ind[k]] = data[k]``.\n",
              "\n",
              "    csr_matrix((data, indices, indptr), [shape=(M, N)])\n",
              "        is the standard CSR representation where the column indices for\n",
              "        row i are stored in ``indices[indptr[i]:indptr[i+1]]`` and their\n",
              "        corresponding values are stored in ``data[indptr[i]:indptr[i+1]]``.\n",
              "        If the shape parameter is not supplied, the matrix dimensions\n",
              "        are inferred from the index arrays.\n",
              "\n",
              "Attributes\n",
              "----------\n",
              "dtype : dtype\n",
              "    Data type of the matrix\n",
              "shape : 2-tuple\n",
              "    Shape of the matrix\n",
              "ndim : int\n",
              "    Number of dimensions (this is always 2)\n",
              "nnz\n",
              "size\n",
              "data\n",
              "    CSR format data array of the matrix\n",
              "indices\n",
              "    CSR format index array of the matrix\n",
              "indptr\n",
              "    CSR format index pointer array of the matrix\n",
              "has_sorted_indices\n",
              "has_canonical_format\n",
              "T\n",
              "\n",
              "Notes\n",
              "-----\n",
              "\n",
              "Sparse matrices can be used in arithmetic operations: they support\n",
              "addition, subtraction, multiplication, division, and matrix power.\n",
              "\n",
              "Advantages of the CSR format\n",
              "  - efficient arithmetic operations CSR + CSR, CSR * CSR, etc.\n",
              "  - efficient row slicing\n",
              "  - fast matrix vector products\n",
              "\n",
              "Disadvantages of the CSR format\n",
              "  - slow column slicing operations (consider CSC)\n",
              "  - changes to the sparsity structure are expensive (consider LIL or DOK)\n",
              "\n",
              "Canonical Format\n",
              "    - Within each row, indices are sorted by column.\n",
              "    - There are no duplicate entries.\n",
              "\n",
              "Examples\n",
              "--------\n",
              "\n",
              "&gt;&gt;&gt; import numpy as np\n",
              "&gt;&gt;&gt; from scipy.sparse import csr_matrix\n",
              "&gt;&gt;&gt; csr_matrix((3, 4), dtype=np.int8).toarray()\n",
              "array([[0, 0, 0, 0],\n",
              "       [0, 0, 0, 0],\n",
              "       [0, 0, 0, 0]], dtype=int8)\n",
              "\n",
              "&gt;&gt;&gt; row = np.array([0, 0, 1, 2, 2, 2])\n",
              "&gt;&gt;&gt; col = np.array([0, 2, 2, 0, 1, 2])\n",
              "&gt;&gt;&gt; data = np.array([1, 2, 3, 4, 5, 6])\n",
              "&gt;&gt;&gt; csr_matrix((data, (row, col)), shape=(3, 3)).toarray()\n",
              "array([[1, 0, 2],\n",
              "       [0, 0, 3],\n",
              "       [4, 5, 6]])\n",
              "\n",
              "&gt;&gt;&gt; indptr = np.array([0, 2, 3, 6])\n",
              "&gt;&gt;&gt; indices = np.array([0, 2, 2, 0, 1, 2])\n",
              "&gt;&gt;&gt; data = np.array([1, 2, 3, 4, 5, 6])\n",
              "&gt;&gt;&gt; csr_matrix((data, indices, indptr), shape=(3, 3)).toarray()\n",
              "array([[1, 0, 2],\n",
              "       [0, 0, 3],\n",
              "       [4, 5, 6]])\n",
              "\n",
              "Duplicate entries are summed together:\n",
              "\n",
              "&gt;&gt;&gt; row = np.array([0, 1, 2, 0])\n",
              "&gt;&gt;&gt; col = np.array([0, 1, 1, 0])\n",
              "&gt;&gt;&gt; data = np.array([1, 2, 4, 8])\n",
              "&gt;&gt;&gt; csr_matrix((data, (row, col)), shape=(3, 3)).toarray()\n",
              "array([[9, 0, 0],\n",
              "       [0, 2, 0],\n",
              "       [0, 4, 0]])\n",
              "\n",
              "As an example of how to construct a CSR matrix incrementally,\n",
              "the following snippet builds a term-document matrix from texts:\n",
              "\n",
              "&gt;&gt;&gt; docs = [[&quot;hello&quot;, &quot;world&quot;, &quot;hello&quot;], [&quot;goodbye&quot;, &quot;cruel&quot;, &quot;world&quot;]]\n",
              "&gt;&gt;&gt; indptr = [0]\n",
              "&gt;&gt;&gt; indices = []\n",
              "&gt;&gt;&gt; data = []\n",
              "&gt;&gt;&gt; vocabulary = {}\n",
              "&gt;&gt;&gt; for d in docs:\n",
              "...     for term in d:\n",
              "...         index = vocabulary.setdefault(term, len(vocabulary))\n",
              "...         indices.append(index)\n",
              "...         data.append(1)\n",
              "...     indptr.append(len(indices))\n",
              "...\n",
              "&gt;&gt;&gt; csr_matrix((data, indices, indptr), dtype=int).toarray()\n",
              "array([[2, 1, 0, 0],\n",
              "       [0, 1, 1, 1]])</pre>\n",
              "      <script>\n",
              "      if (google.colab.kernel.accessAllowed && google.colab.files && google.colab.files.view) {\n",
              "        for (const element of document.querySelectorAll('.filepath')) {\n",
              "          element.style.display = 'block'\n",
              "          element.onclick = (event) => {\n",
              "            event.preventDefault();\n",
              "            event.stopPropagation();\n",
              "            google.colab.files.view(element.textContent, 370);\n",
              "          };\n",
              "        }\n",
              "      }\n",
              "      for (const element of document.querySelectorAll('.function-repr-contents')) {\n",
              "        element.onclick = (event) => {\n",
              "          event.preventDefault();\n",
              "          event.stopPropagation();\n",
              "          element.classList.toggle('function-repr-contents-collapsed');\n",
              "        };\n",
              "      }\n",
              "      </script>\n",
              "      </div>"
            ]
          },
          "metadata": {},
          "execution_count": 19
        }
      ],
      "source": [
        "type(train_data_BOW_features)"
      ]
    },
    {
      "cell_type": "code",
      "execution_count": 20,
      "metadata": {
        "colab": {
          "base_uri": "https://localhost:8080/",
          "height": 0
        },
        "id": "WqbR8KWNYTpo",
        "outputId": "ffd2707d-efcc-49d0-b3ab-d8ec32f6a90c",
        "scrolled": true
      },
      "outputs": [
        {
          "output_type": "execute_result",
          "data": {
            "text/plain": [
              "array([[0, 0, 0, ..., 0, 0, 0],\n",
              "       [0, 0, 0, ..., 0, 0, 0],\n",
              "       [0, 0, 0, ..., 0, 0, 0],\n",
              "       ...,\n",
              "       [0, 0, 0, ..., 0, 0, 0],\n",
              "       [0, 0, 0, ..., 0, 0, 0],\n",
              "       [0, 0, 0, ..., 0, 0, 0]])"
            ]
          },
          "metadata": {},
          "execution_count": 20
        }
      ],
      "source": [
        "# add .toarray() to show\n",
        "train_data_BOW_features.toarray()"
      ]
    },
    {
      "cell_type": "code",
      "execution_count": 21,
      "metadata": {
        "colab": {
          "base_uri": "https://localhost:8080/",
          "height": 0
        },
        "id": "mL0xkGyGYTpo",
        "outputId": "598464e2-8b64-409d-e12d-e9ee95280cae",
        "scrolled": false
      },
      "outputs": [
        {
          "output_type": "execute_result",
          "data": {
            "text/plain": [
              "(3613, 10115)"
            ]
          },
          "metadata": {},
          "execution_count": 21
        }
      ],
      "source": [
        "# check the dimension\n",
        "train_data_BOW_features.shape"
      ]
    },
    {
      "cell_type": "code",
      "execution_count": 22,
      "metadata": {
        "colab": {
          "base_uri": "https://localhost:8080/",
          "height": 0
        },
        "id": "iyRaxyBZYTpo",
        "outputId": "772245b0-49c2-46f7-cbb8-7f1a38ecc23d"
      },
      "outputs": [
        {
          "output_type": "execute_result",
          "data": {
            "text/plain": [
              "array(['2k17', '2much', '2nd', '30', '300', '301', '30am', '30pm', '30s',\n",
              "       '31'], dtype=object)"
            ]
          },
          "metadata": {},
          "execution_count": 22
        }
      ],
      "source": [
        "# observe some feature names\n",
        "feature_names = BOW_vectorizer.get_feature_names_out()\n",
        "feature_names[100:110]"
      ]
    },
    {
      "cell_type": "markdown",
      "metadata": {
        "id": "roSfgQKaYTpo"
      },
      "source": [
        "The embedding is done. We can technically feed this into our model. However, depending on the embedding technique you use and your model, your accuracy might not be as high, because:\n",
        "\n",
        "* curse of dimensionality  (we have 10,115 dimension now)\n",
        "* some important features are ignored (for example, some models using emoticons yeld better performance than counterparts)"
      ]
    },
    {
      "cell_type": "code",
      "execution_count": 23,
      "metadata": {
        "colab": {
          "base_uri": "https://localhost:8080/",
          "height": 0
        },
        "id": "kx4YPbrdYTpo",
        "outputId": "eb2356b6-1ec1-4b4a-95e0-59e509fbd88a"
      },
      "outputs": [
        {
          "output_type": "execute_result",
          "data": {
            "text/plain": [
              "False"
            ]
          },
          "metadata": {},
          "execution_count": 23
        }
      ],
      "source": [
        "\"😂\" in feature_names"
      ]
    },
    {
      "cell_type": "markdown",
      "metadata": {
        "id": "0MFzyA95YTpo"
      },
      "source": [
        "Let's try using another tokenizer below."
      ]
    },
    {
      "cell_type": "code",
      "execution_count": 24,
      "metadata": {
        "colab": {
          "base_uri": "https://localhost:8080/",
          "height": 0
        },
        "id": "SttodxACYTpo",
        "outputId": "e61094b0-b97d-495b-94c9-b8a99c7d1362"
      },
      "outputs": [
        {
          "output_type": "stream",
          "name": "stderr",
          "text": [
            "[nltk_data] Downloading package punkt_tab to /root/nltk_data...\n",
            "[nltk_data]   Unzipping tokenizers/punkt_tab.zip.\n",
            "/usr/local/lib/python3.12/dist-packages/sklearn/feature_extraction/text.py:517: UserWarning: The parameter 'token_pattern' will not be used since 'tokenizer' is not None'\n",
            "  warnings.warn(\n"
          ]
        },
        {
          "output_type": "execute_result",
          "data": {
            "text/plain": [
              "(3613, 500)"
            ]
          },
          "metadata": {},
          "execution_count": 24
        }
      ],
      "source": [
        "import nltk\n",
        "nltk.download('punkt_tab')\n",
        "# build analyzers (bag-of-words)\n",
        "BOW_500 = CountVectorizer(max_features=500, tokenizer=nltk.word_tokenize)\n",
        "\n",
        "# apply analyzer to training data\n",
        "BOW_500.fit(train_df['text'])\n",
        "\n",
        "train_data_BOW_features_500 = BOW_500.transform(train_df['text'])\n",
        "\n",
        "## check dimension\n",
        "train_data_BOW_features_500.shape"
      ]
    },
    {
      "cell_type": "code",
      "execution_count": 25,
      "metadata": {
        "colab": {
          "base_uri": "https://localhost:8080/",
          "height": 0
        },
        "id": "sPi42W0pYTpo",
        "outputId": "4f3f3b54-14ef-4a11-de36-d7edd22c974b"
      },
      "outputs": [
        {
          "output_type": "execute_result",
          "data": {
            "text/plain": [
              "array([[1, 0, 0, ..., 0, 0, 0],\n",
              "       [0, 0, 0, ..., 0, 0, 0],\n",
              "       [0, 2, 0, ..., 0, 0, 0],\n",
              "       ...,\n",
              "       [0, 2, 0, ..., 0, 0, 0],\n",
              "       [0, 3, 0, ..., 0, 0, 0],\n",
              "       [0, 0, 0, ..., 0, 0, 0]])"
            ]
          },
          "metadata": {},
          "execution_count": 25
        }
      ],
      "source": [
        "train_data_BOW_features_500.toarray()"
      ]
    },
    {
      "cell_type": "code",
      "execution_count": 26,
      "metadata": {
        "colab": {
          "base_uri": "https://localhost:8080/",
          "height": 0
        },
        "id": "JCgAnTOfYTpo",
        "outputId": "6fa83b72-68c0-457c-e153-88cf17bba7bf"
      },
      "outputs": [
        {
          "output_type": "execute_result",
          "data": {
            "text/plain": [
              "array(['change', 'cheer', 'cheerful', 'cheering', 'cheery', 'come',\n",
              "       'comes', 'could', 'country', 'cry'], dtype=object)"
            ]
          },
          "metadata": {},
          "execution_count": 26
        }
      ],
      "source": [
        "# observe some feature names\n",
        "feature_names_500 = BOW_500.get_feature_names_out()\n",
        "feature_names_500[100:110]"
      ]
    },
    {
      "cell_type": "code",
      "execution_count": 27,
      "metadata": {
        "colab": {
          "base_uri": "https://localhost:8080/",
          "height": 0
        },
        "id": "ubgedNi4YTpo",
        "outputId": "917f5cc9-f15e-4033-92bc-2157cb185251"
      },
      "outputs": [
        {
          "output_type": "execute_result",
          "data": {
            "text/plain": [
              "True"
            ]
          },
          "metadata": {},
          "execution_count": 27
        }
      ],
      "source": [
        "\"😂\" in feature_names_500"
      ]
    },
    {
      "cell_type": "markdown",
      "metadata": {
        "id": "fj6TV4ngYTpo"
      },
      "source": [
        "---\n",
        "##### <a id='toc1_6_1_1_1_'></a>[**>>> Exercise 2 (Take home):**](#toc0_)\n",
        "Generate an embedding using the TF-IDF vectorizer instead of th BOW one with 1000 features and show the feature names for features [100:110]."
      ]
    },
    {
      "cell_type": "code",
      "execution_count": 29,
      "metadata": {
        "id": "BOjVbgmxYTpo",
        "colab": {
          "base_uri": "https://localhost:8080/",
          "height": 0
        },
        "outputId": "f219fc46-430b-44ee-add4-9691fc387837"
      },
      "outputs": [
        {
          "output_type": "stream",
          "name": "stderr",
          "text": [
            "[nltk_data] Downloading package punkt_tab to /root/nltk_data...\n",
            "[nltk_data]   Package punkt_tab is already up-to-date!\n"
          ]
        },
        {
          "output_type": "execute_result",
          "data": {
            "text/plain": [
              "array(['attacks', 'awareness', 'away', 'awe', 'awesome', 'awful', 'b',\n",
              "       'baby', 'back', 'bad'], dtype=object)"
            ]
          },
          "metadata": {},
          "execution_count": 29
        }
      ],
      "source": [
        "from sklearn.feature_extraction.text import TfidfVectorizer\n",
        "import nltk\n",
        "nltk.download('punkt_tab')\n",
        "\n",
        "# Build TF-IDF vectorizer\n",
        "tfidf_vectorizer = TfidfVectorizer(max_features=1000, tokenizer=nltk.word_tokenize)\n",
        "\n",
        "# Fit & transform\n",
        "tfidf_vectorizer.fit(train_df['text'])\n",
        "train_data_tfidf = tfidf_vectorizer.transform(train_df['text'])\n",
        "test_data_tfidf = tfidf_vectorizer.transform(test_df['text'])\n",
        "\n",
        "# Show feature names\n",
        "feature_names_tfidf = tfidf_vectorizer.get_feature_names_out()\n",
        "feature_names_tfidf[100:110]\n"
      ]
    },
    {
      "cell_type": "markdown",
      "metadata": {
        "id": "e0BvbNAVYTpo"
      },
      "source": [
        "---\n",
        "## <a id='toc1_7_'></a>[**3. Model**](#toc0_)\n",
        "### <a id='toc1_7_1_'></a>[**3.1 Decision Trees**](#toc0_)\n",
        "Using scikit-learn ```DecisionTreeClassifier``` performs word frequency and uses these as features to train a model.  \n",
        "http://scikit-learn.org/stable/modules/generated/sklearn.tree.DecisionTreeClassifier.html#sklearn.tree.DecisionTreeClassifier"
      ]
    },
    {
      "cell_type": "code",
      "execution_count": 30,
      "metadata": {
        "colab": {
          "base_uri": "https://localhost:8080/",
          "height": 0
        },
        "id": "SD0rMWKgYTpo",
        "outputId": "d6366115-5222-4366-a14f-8f648b4423d2"
      },
      "outputs": [
        {
          "output_type": "stream",
          "name": "stdout",
          "text": [
            "X_train.shape:  (3613, 500)\n",
            "y_train.shape:  (3613,)\n",
            "X_test.shape:  (347, 500)\n",
            "y_test.shape:  (347,)\n"
          ]
        }
      ],
      "source": [
        "from sklearn.tree import DecisionTreeClassifier\n",
        "\n",
        "# for a classificaiton problem, you need to provide both training & testing data\n",
        "X_train = BOW_500.transform(train_df['text'])\n",
        "y_train = train_df['emotion']\n",
        "\n",
        "X_test = BOW_500.transform(test_df['text'])\n",
        "y_test = test_df['emotion']\n",
        "\n",
        "## take a look at data dimension is a good habit  :)\n",
        "print('X_train.shape: ', X_train.shape)\n",
        "print('y_train.shape: ', y_train.shape)\n",
        "print('X_test.shape: ', X_test.shape)\n",
        "print('y_test.shape: ', y_test.shape)"
      ]
    },
    {
      "cell_type": "code",
      "execution_count": 31,
      "metadata": {
        "colab": {
          "base_uri": "https://localhost:8080/",
          "height": 0
        },
        "id": "iDuvLf7TYTpo",
        "outputId": "627b2518-e287-46fa-ce28-55cf9b21ccfc"
      },
      "outputs": [
        {
          "output_type": "execute_result",
          "data": {
            "text/plain": [
              "array(['anger', 'joy', 'fear', 'anger', 'sadness', 'fear', 'sadness',\n",
              "       'fear', 'anger', 'anger'], dtype=object)"
            ]
          },
          "metadata": {},
          "execution_count": 31
        }
      ],
      "source": [
        "## build DecisionTree model\n",
        "DT_model = DecisionTreeClassifier(random_state=1)\n",
        "\n",
        "## training!\n",
        "DT_model = DT_model.fit(X_train, y_train)\n",
        "\n",
        "## predict!\n",
        "y_train_pred = DT_model.predict(X_train)\n",
        "y_test_pred = DT_model.predict(X_test)\n",
        "\n",
        "## so we get the pred result\n",
        "y_test_pred[:10]"
      ]
    },
    {
      "cell_type": "markdown",
      "metadata": {
        "id": "iBNmBT50YTpo"
      },
      "source": [
        "---\n",
        "## <a id='toc1_8_'></a>[**4. Results Evaluation**](#toc0_)"
      ]
    },
    {
      "cell_type": "markdown",
      "metadata": {
        "id": "-gQU_PbhYTpo"
      },
      "source": [
        "Now we will check the results of our model's performance"
      ]
    },
    {
      "cell_type": "code",
      "execution_count": 32,
      "metadata": {
        "colab": {
          "base_uri": "https://localhost:8080/",
          "height": 0
        },
        "id": "A9yx3tv-YTpo",
        "outputId": "8c8ab4c5-7104-42af-bf50-0ec56e28e1b8"
      },
      "outputs": [
        {
          "output_type": "stream",
          "name": "stdout",
          "text": [
            "training accuracy: 0.99\n",
            "testing accuracy: 0.66\n"
          ]
        }
      ],
      "source": [
        "## accuracy\n",
        "from sklearn.metrics import accuracy_score\n",
        "\n",
        "acc_train = accuracy_score(y_true=y_train, y_pred=y_train_pred)\n",
        "acc_test = accuracy_score(y_true=y_test, y_pred=y_test_pred)\n",
        "\n",
        "print('training accuracy: {}'.format(round(acc_train, 2)))\n",
        "print('testing accuracy: {}'.format(round(acc_test, 2)))\n"
      ]
    },
    {
      "cell_type": "code",
      "execution_count": 33,
      "metadata": {
        "colab": {
          "base_uri": "https://localhost:8080/",
          "height": 0
        },
        "id": "-wkOqjqiYTpo",
        "outputId": "44909fee-d21b-4b33-bc6b-051f45ee7212"
      },
      "outputs": [
        {
          "output_type": "stream",
          "name": "stdout",
          "text": [
            "              precision    recall  f1-score   support\n",
            "\n",
            "       anger       0.62      0.71      0.67        84\n",
            "        fear       0.67      0.63      0.65       110\n",
            "         joy       0.74      0.67      0.70        79\n",
            "     sadness       0.62      0.64      0.63        74\n",
            "\n",
            "    accuracy                           0.66       347\n",
            "   macro avg       0.66      0.66      0.66       347\n",
            "weighted avg       0.66      0.66      0.66       347\n",
            "\n"
          ]
        }
      ],
      "source": [
        "## precision, recall, f1-score,\n",
        "from sklearn.metrics import classification_report\n",
        "\n",
        "print(classification_report(y_true=y_test, y_pred=y_test_pred))"
      ]
    },
    {
      "cell_type": "code",
      "execution_count": 34,
      "metadata": {
        "colab": {
          "base_uri": "https://localhost:8080/",
          "height": 0
        },
        "id": "N6mhrmKHYTpo",
        "outputId": "d8cfc811-695f-458e-d04b-d7b0321697ee"
      },
      "outputs": [
        {
          "output_type": "stream",
          "name": "stdout",
          "text": [
            "[[60 11  7  6]\n",
            " [20 69  7 14]\n",
            " [ 6 11 53  9]\n",
            " [10 12  5 47]]\n"
          ]
        }
      ],
      "source": [
        "## check by confusion matrix\n",
        "from sklearn.metrics import confusion_matrix\n",
        "\n",
        "cm = confusion_matrix(y_true=y_test, y_pred=y_test_pred)\n",
        "print(cm)"
      ]
    },
    {
      "cell_type": "code",
      "execution_count": 35,
      "metadata": {
        "id": "-TcX8NA5YTpo"
      },
      "outputs": [],
      "source": [
        "# Funciton for visualizing confusion_matrix\n",
        "import matplotlib.pyplot as plt\n",
        "import seaborn as sns\n",
        "import numpy as np\n",
        "import itertools\n",
        "\n",
        "def plot_confusion_matrix(cm, classes, title='Confusion matrix',\n",
        "                          cmap=sns.cubehelix_palette(as_cmap=True)):\n",
        "    \"\"\"\n",
        "    This function is modified from:\n",
        "    http://scikit-learn.org/stable/auto_examples/model_selection/plot_confusion_matrix.html\n",
        "    \"\"\"\n",
        "    classes.sort()\n",
        "    tick_marks = np.arange(len(classes))\n",
        "\n",
        "    fig, ax = plt.subplots(figsize=(5,5))\n",
        "    im = ax.imshow(cm, interpolation='nearest', cmap=cmap)\n",
        "    ax.figure.colorbar(im, ax=ax)\n",
        "    ax.set(xticks=np.arange(cm.shape[1]),\n",
        "           yticks=np.arange(cm.shape[0]),\n",
        "           xticklabels = classes,\n",
        "           yticklabels = classes,\n",
        "           title = title,\n",
        "           xlabel = 'Predicted label',\n",
        "           ylabel = 'True label')\n",
        "\n",
        "    fmt = 'd'\n",
        "    thresh = cm.max() / 2.\n",
        "    for i, j in itertools.product(range(cm.shape[0]), range(cm.shape[1])):\n",
        "        plt.text(j, i, format(cm[i, j], fmt), horizontalalignment=\"center\", color=\"white\" if cm[i, j] > thresh else \"black\")\n",
        "    ylim_top = len(classes) - 0.5\n",
        "    plt.ylim([ylim_top, -.5])\n",
        "    plt.tight_layout()\n",
        "    plt.show()"
      ]
    },
    {
      "cell_type": "code",
      "execution_count": 37,
      "metadata": {
        "colab": {
          "base_uri": "https://localhost:8080/",
          "height": 501
        },
        "id": "1nBVOUpDYTpo",
        "outputId": "edbb33d1-063c-4423-a6ce-e259db36342a"
      },
      "outputs": [
        {
          "output_type": "display_data",
          "data": {
            "text/plain": [
              "<Figure size 500x500 with 2 Axes>"
            ],
            "image/png": "[encoded data removed]"
          },
          "metadata": {}
        }
      ],
      "source": [
        "# plot your confusion matrix\n",
        "my_tags = ['anger', 'fear', 'joy', 'sadness']\n",
        "plot_confusion_matrix(cm, classes=my_tags, title='Confusion matrix')"
      ]
    },
    {
      "cell_type": "markdown",
      "metadata": {
        "id": "l743vmwgYTpo"
      },
      "source": [
        "---\n",
        "##### <a id='toc1_8_1_1_1_'></a>[**>>> Exercise 3 (Take home):**](#toc0_)\n",
        "Can you interpret the results above? What do they mean?"
      ]
    },
    {
      "cell_type": "markdown",
      "source": [
        "訓練準確率：0.99，測試準確率：0.66，表示模型過擬合 (overfitting)。\n",
        "\n",
        "決策樹學習訓練資料太好，但泛化能力差。\n",
        "\n",
        "Confusion matrix 顯示部分情緒（如 “fear”）和其他情緒混淆，代表特徵重疊或資料不均衡。\n",
        "\n",
        "改善方法：使用剪枝 (pruning)、限制樹深度、改用更泛化的模型如 Naive Bayes 或神經網路。"
      ],
      "metadata": {
        "id": "xy5H0210bvdt"
      }
    },
    {
      "cell_type": "markdown",
      "source": [
        "訓練準確率：0.99，測試準確率：0.66，表示模型過擬合 (overfitting)。\n",
        "\n",
        "決策樹學習訓練資料太好，但泛化能力差。\n",
        "\n",
        "Confusion matrix 顯示部分情緒（如 “fear”）和其他情緒混淆，代表特徵重疊或資料不均衡。\n",
        "\n",
        "改善方法：使用剪枝 (pruning)、限制樹深度、改用更泛化的模型如 Naive Bayes 或神經網路。"
      ],
      "metadata": {
        "id": "7TtP1Qh7bzB0"
      }
    },
    {
      "cell_type": "code",
      "execution_count": null,
      "metadata": {
        "id": "8pYICOxsYTpo"
      },
      "outputs": [],
      "source": [
        "# Answer here\n"
      ]
    },
    {
      "cell_type": "markdown",
      "metadata": {
        "id": "GaHpgl87YTpo"
      },
      "source": [
        "---\n",
        "##### <a id='toc1_8_1_1_2_'></a>[**>>> Exercise 4 (Take home):**](#toc0_)\n",
        "Build a model using a ```Naive Bayes``` model and train it. What are the testing results?\n",
        "\n",
        "*Reference*: https://scikit-learn.org/stable/modules/generated/sklearn.naive_bayes.MultinomialNB.html"
      ]
    },
    {
      "cell_type": "code",
      "execution_count": null,
      "metadata": {
        "id": "ZPvaHzpXYTpo"
      },
      "outputs": [],
      "source": [
        "# Answer here\n"
      ]
    },
    {
      "cell_type": "markdown",
      "metadata": {
        "id": "Xv2DqWQSYTpo"
      },
      "source": [
        "---\n",
        "##### <a id='toc1_8_1_1_3_'></a>[**>>> Exercise 5 (Take home):**](#toc0_)\n",
        "\n",
        "How do the results from the Naive Bayes model and the Decision Tree model compare? How do you interpret these differences? Use the theoretical background covered in class to try and explain these differences."
      ]
    },
    {
      "cell_type": "code",
      "execution_count": 38,
      "metadata": {
        "id": "ALN_jHdlYTpo",
        "colab": {
          "base_uri": "https://localhost:8080/",
          "height": 0
        },
        "outputId": "76178eed-50af-4d19-8efa-3c113c78357d"
      },
      "outputs": [
        {
          "output_type": "stream",
          "name": "stdout",
          "text": [
            "Testing accuracy: 0.71\n",
            "              precision    recall  f1-score   support\n",
            "\n",
            "       anger       0.65      0.67      0.66        84\n",
            "        fear       0.74      0.81      0.77       110\n",
            "         joy       0.77      0.70      0.73        79\n",
            "     sadness       0.66      0.62      0.64        74\n",
            "\n",
            "    accuracy                           0.71       347\n",
            "   macro avg       0.71      0.70      0.70       347\n",
            "weighted avg       0.71      0.71      0.71       347\n",
            "\n",
            "[[56 14  5  9]\n",
            " [ 7 89  5  9]\n",
            " [11  7 55  6]\n",
            " [12 10  6 46]]\n"
          ]
        }
      ],
      "source": [
        "# Answer here\n",
        "from sklearn.naive_bayes import MultinomialNB\n",
        "from sklearn.metrics import accuracy_score, classification_report, confusion_matrix\n",
        "\n",
        "# Build & train\n",
        "NB_model = MultinomialNB()\n",
        "NB_model.fit(X_train, y_train)\n",
        "\n",
        "# Predict\n",
        "y_test_pred_nb = NB_model.predict(X_test)\n",
        "\n",
        "# Evaluate\n",
        "print('Testing accuracy:', round(accuracy_score(y_test, y_test_pred_nb), 2))\n",
        "print(classification_report(y_test, y_test_pred_nb))\n",
        "print(confusion_matrix(y_test, y_test_pred_nb))\n"
      ]
    },
    {
      "cell_type": "markdown",
      "source": [
        "Testing accuracy 約 0.70 左右，略高於 Decision Tree，代表 NB 對文字特徵的機率假設更穩定。"
      ],
      "metadata": {
        "id": "ePW2wCgXb5i7"
      }
    },
    {
      "cell_type": "markdown",
      "metadata": {
        "id": "ehlJ60lhYTpo"
      },
      "source": [
        "---"
      ]
    },
    {
      "cell_type": "markdown",
      "metadata": {
        "id": "79F_DaW-YTpo"
      },
      "source": [
        "## <a id='toc1_9_'></a>[**5. Other things you can try**](#toc0_)"
      ]
    },
    {
      "cell_type": "markdown",
      "metadata": {
        "id": "_oeqpRu6YTpo"
      },
      "source": [
        "Thus, there are several things you can try that will affect your results. In order to yield better results, you can experiment by:\n",
        "- Trying different features (Feature engineering)e.g Word2Vec, PCA, LDA, FastText, Clustering\n",
        "- Trying different models\n",
        "- Analyzing your results and interpret them to improve your feature engineering/model building process\n",
        "- Iterate through the steps above until finding a satisfying result\n",
        "\n",
        "Remember that you should also consider the task at hand and the model you'll feed the data to."
      ]
    },
    {
      "cell_type": "markdown",
      "metadata": {
        "id": "fiGUSmPLYTpo"
      },
      "source": [
        "---\n",
        "## <a id='toc1_10_'></a>[**6. Deep Learning**](#toc0_)\n",
        "\n",
        "We use [Keras](https://keras.io/) to be our deep learning framework, and follow the [Model (functional API)](https://keras.io/models/model/) to build a Deep Neural Network (DNN) model. Keras runs with Tensorflow in the backend. It's a nice abstraction to start working with NN models.\n",
        "\n",
        "Because Deep Learning is a 1-semester course, we can't talk about each detail about it in the lab session. Here, we only provide a simple template about how to build & run a DL model successfully. You can follow this template to design your model.\n",
        "\n",
        "We will begin by building a fully connected network, which looks like this:"
      ]
    },
    {
      "cell_type": "markdown",
      "metadata": {
        "id": "1nB0BTq2YTpo"
      },
      "source": [
        "![pic1.png](https://drive.google.com/uc?export=view&id=1DKd43x7RNHTa2gn_HUV2SRNJ7MhV0dKh)\n",
        "\n",
        "(source: https://github.com/drewnoff/spark-notebook-ml-labs/tree/master/labs/DLFramework)\n"
      ]
    },
    {
      "cell_type": "markdown",
      "metadata": {
        "id": "-EtVRGhNYTpo"
      },
      "source": [
        "---\n",
        "### <a id='toc1_10_1_'></a>[**6.1 Prepare data (X, y)**](#toc0_)"
      ]
    },
    {
      "cell_type": "code",
      "execution_count": 39,
      "metadata": {
        "colab": {
          "base_uri": "https://localhost:8080/",
          "height": 0
        },
        "id": "4mIdg2D6YTpo",
        "outputId": "92d0746b-26b1-4941-9295-c02dbe0b2d20"
      },
      "outputs": [
        {
          "output_type": "stream",
          "name": "stdout",
          "text": [
            "X_train.shape:  (3613, 500)\n",
            "y_train.shape:  (3613,)\n",
            "X_test.shape:  (347, 500)\n",
            "y_test.shape:  (347,)\n"
          ]
        }
      ],
      "source": [
        "import keras\n",
        "\n",
        "# standardize name (X, y)\n",
        "X_train = BOW_500.transform(train_df['text'])\n",
        "y_train = train_df['emotion']\n",
        "\n",
        "X_test = BOW_500.transform(test_df['text'])\n",
        "y_test = test_df['emotion']\n",
        "\n",
        "## check dimension is a good habbit\n",
        "print('X_train.shape: ', X_train.shape)\n",
        "print('y_train.shape: ', y_train.shape)\n",
        "print('X_test.shape: ', X_test.shape)\n",
        "print('y_test.shape: ', y_test.shape)"
      ]
    },
    {
      "cell_type": "code",
      "execution_count": 40,
      "metadata": {
        "id": "9hLJNJPUui7f"
      },
      "outputs": [],
      "source": [
        "import keras"
      ]
    },
    {
      "cell_type": "code",
      "execution_count": 41,
      "metadata": {
        "colab": {
          "base_uri": "https://localhost:8080/",
          "height": 0
        },
        "id": "hFUlu8s4ui7f",
        "outputId": "544893a6-48eb-40f7-e96c-0e2dc024b1f6"
      },
      "outputs": [
        {
          "output_type": "execute_result",
          "data": {
            "text/plain": [
              "<347x500 sparse matrix of type '<class 'numpy.int64'>'\n",
              "\twith 4103 stored elements in Compressed Sparse Row format>"
            ]
          },
          "metadata": {},
          "execution_count": 41
        }
      ],
      "source": [
        "BOW_500.transform(test_df['text'])"
      ]
    },
    {
      "cell_type": "markdown",
      "metadata": {
        "id": "iBZZedZ2YTpo"
      },
      "source": [
        "---\n",
        "### <a id='toc1_10_2_'></a>[**6.2 Deal with categorical label (y)**](#toc0_)\n",
        "\n",
        "Rather than put your label `train_df['emotion']` directly into a model, we have to process these categorical (or say nominal) label by ourselves.\n",
        "\n",
        "Here, we use the basic method [one-hot encoding](https://en.wikipedia.org/wiki/One-hot) to transform our categorical  labels to numerical ones.\n"
      ]
    },
    {
      "cell_type": "code",
      "execution_count": 42,
      "metadata": {
        "colab": {
          "base_uri": "https://localhost:8080/",
          "height": 0
        },
        "id": "AAlHeAoPui7f",
        "outputId": "778df134-6fc4-474c-ed10-897e1d09f8cb"
      },
      "outputs": [
        {
          "output_type": "stream",
          "name": "stdout",
          "text": [
            "check label:  ['anger' 'fear' 'joy' 'sadness']\n",
            "\n",
            "## Before convert\n",
            "y_train[0:4]:\n",
            " 1841       fear\n",
            "2284        joy\n",
            "2832    sadness\n",
            "2924    sadness\n",
            "Name: emotion, dtype: object\n",
            "\n",
            "y_train.shape:  (3613,)\n",
            "y_test.shape:  (347,)\n"
          ]
        }
      ],
      "source": [
        "# deal with label (string -> one-hot)\n",
        "from sklearn.preprocessing import LabelEncoder\n",
        "\n",
        "label_encoder = LabelEncoder()\n",
        "label_encoder.fit(y_train)\n",
        "\n",
        "print('check label: ', label_encoder.classes_)\n",
        "print('\\n## Before convert')\n",
        "print('y_train[0:4]:\\n', y_train[0:4])\n",
        "print('\\ny_train.shape: ', y_train.shape)\n",
        "print('y_test.shape: ', y_test.shape)\n",
        "\n",
        "def label_encode(le, labels):\n",
        "    enc = le.transform(labels)\n",
        "    return keras.utils.to_categorical(enc)\n",
        "\n",
        "def label_decode(le, one_hot_label):\n",
        "    dec = np.argmax(one_hot_label, axis=1)\n",
        "    return le.inverse_transform(dec)"
      ]
    },
    {
      "cell_type": "code",
      "execution_count": 43,
      "metadata": {
        "colab": {
          "base_uri": "https://localhost:8080/",
          "height": 0
        },
        "id": "SU95MCsSYTpo",
        "outputId": "30f6bbab-6717-4510-fefb-995fc3244aae"
      },
      "outputs": [
        {
          "output_type": "stream",
          "name": "stdout",
          "text": [
            "\n",
            "\n",
            "## After convert\n",
            "y_train[0:4]:\n",
            " [[0. 1. 0. 0.]\n",
            " [0. 0. 1. 0.]\n",
            " [0. 0. 0. 1.]\n",
            " [0. 0. 0. 1.]]\n",
            "\n",
            "y_train.shape:  (3613, 4)\n",
            "y_test.shape:  (347, 4)\n"
          ]
        }
      ],
      "source": [
        "y_train = label_encode(label_encoder, y_train)\n",
        "y_test = label_encode(label_encoder, y_test)\n",
        "\n",
        "print('\\n\\n## After convert')\n",
        "print('y_train[0:4]:\\n', y_train[0:4])\n",
        "print('\\ny_train.shape: ', y_train.shape)\n",
        "print('y_test.shape: ', y_test.shape)\n"
      ]
    },
    {
      "cell_type": "markdown",
      "metadata": {
        "id": "W4bqEcMbYTpo"
      },
      "source": [
        "---\n",
        "### <a id='toc1_10_3_'></a>[**6.3 Build model**](#toc0_)"
      ]
    },
    {
      "cell_type": "code",
      "execution_count": 44,
      "metadata": {
        "colab": {
          "base_uri": "https://localhost:8080/",
          "height": 0
        },
        "id": "6sA7cx-oYTpo",
        "outputId": "cf1adaa4-0a14-451e-a9a5-993b62264080"
      },
      "outputs": [
        {
          "output_type": "stream",
          "name": "stdout",
          "text": [
            "input_shape:  500\n",
            "output_shape:  4\n"
          ]
        }
      ],
      "source": [
        "# I/O check\n",
        "input_shape = X_train.shape[1]\n",
        "print('input_shape: ', input_shape)\n",
        "\n",
        "output_shape = len(label_encoder.classes_)\n",
        "print('output_shape: ', output_shape)"
      ]
    },
    {
      "cell_type": "markdown",
      "metadata": {
        "id": "8c-uWuloYTpo"
      },
      "source": [
        "![pic2.png](https://drive.google.com/uc?export=view&id=1F_RmXNBo3uUPyopFmYne61s-H4ecl-iz)"
      ]
    },
    {
      "cell_type": "code",
      "execution_count": 45,
      "metadata": {
        "colab": {
          "base_uri": "https://localhost:8080/",
          "height": 356
        },
        "id": "jTeBWTvgYTpo",
        "outputId": "43522376-01cb-4d0a-cca3-e1ce63ad537f"
      },
      "outputs": [
        {
          "output_type": "display_data",
          "data": {
            "text/plain": [
              "\u001b[1mModel: \"functional\"\u001b[0m\n"
            ],
            "text/html": [
              "<pre style=\"white-space:pre;overflow-x:auto;line-height:normal;font-family:Menlo,'DejaVu Sans Mono',consolas,'Courier New',monospace\"><span style=\"font-weight: bold\">Model: \"functional\"</span>\n",
              "</pre>\n"
            ]
          },
          "metadata": {}
        },
        {
          "output_type": "display_data",
          "data": {
            "text/plain": [
              "┏━━━━━━━━━━━━━━━━━━━━━━━━━━━━━━━━━┳━━━━━━━━━━━━━━━━━━━━━━━━┳━━━━━━━━━━━━━━━┓\n",
              "┃\u001b[1m \u001b[0m\u001b[1mLayer (type)                   \u001b[0m\u001b[1m \u001b[0m┃\u001b[1m \u001b[0m\u001b[1mOutput Shape          \u001b[0m\u001b[1m \u001b[0m┃\u001b[1m \u001b[0m\u001b[1m      Param #\u001b[0m\u001b[1m \u001b[0m┃\n",
              "┡━━━━━━━━━━━━━━━━━━━━━━━━━━━━━━━━━╇━━━━━━━━━━━━━━━━━━━━━━━━╇━━━━━━━━━━━━━━━┩\n",
              "│ input_layer (\u001b[38;5;33mInputLayer\u001b[0m)        │ (\u001b[38;5;45mNone\u001b[0m, \u001b[38;5;34m500\u001b[0m)            │             \u001b[38;5;34m0\u001b[0m │\n",
              "├─────────────────────────────────┼────────────────────────┼───────────────┤\n",
              "│ dense (\u001b[38;5;33mDense\u001b[0m)                   │ (\u001b[38;5;45mNone\u001b[0m, \u001b[38;5;34m64\u001b[0m)             │        \u001b[38;5;34m32,064\u001b[0m │\n",
              "├─────────────────────────────────┼────────────────────────┼───────────────┤\n",
              "│ re_lu (\u001b[38;5;33mReLU\u001b[0m)                    │ (\u001b[38;5;45mNone\u001b[0m, \u001b[38;5;34m64\u001b[0m)             │             \u001b[38;5;34m0\u001b[0m │\n",
              "├─────────────────────────────────┼────────────────────────┼───────────────┤\n",
              "│ dense_1 (\u001b[38;5;33mDense\u001b[0m)                 │ (\u001b[38;5;45mNone\u001b[0m, \u001b[38;5;34m64\u001b[0m)             │         \u001b[38;5;34m4,160\u001b[0m │\n",
              "├─────────────────────────────────┼────────────────────────┼───────────────┤\n",
              "│ re_lu_1 (\u001b[38;5;33mReLU\u001b[0m)                  │ (\u001b[38;5;45mNone\u001b[0m, \u001b[38;5;34m64\u001b[0m)             │             \u001b[38;5;34m0\u001b[0m │\n",
              "├─────────────────────────────────┼────────────────────────┼───────────────┤\n",
              "│ dense_2 (\u001b[38;5;33mDense\u001b[0m)                 │ (\u001b[38;5;45mNone\u001b[0m, \u001b[38;5;34m4\u001b[0m)              │           \u001b[38;5;34m260\u001b[0m │\n",
              "├─────────────────────────────────┼────────────────────────┼───────────────┤\n",
              "│ softmax (\u001b[38;5;33mSoftmax\u001b[0m)               │ (\u001b[38;5;45mNone\u001b[0m, \u001b[38;5;34m4\u001b[0m)              │             \u001b[38;5;34m0\u001b[0m │\n",
              "└─────────────────────────────────┴────────────────────────┴───────────────┘\n"
            ],
            "text/html": [
              "<pre style=\"white-space:pre;overflow-x:auto;line-height:normal;font-family:Menlo,'DejaVu Sans Mono',consolas,'Courier New',monospace\">┏━━━━━━━━━━━━━━━━━━━━━━━━━━━━━━━━━┳━━━━━━━━━━━━━━━━━━━━━━━━┳━━━━━━━━━━━━━━━┓\n",
              "┃<span style=\"font-weight: bold\"> Layer (type)                    </span>┃<span style=\"font-weight: bold\"> Output Shape           </span>┃<span style=\"font-weight: bold\">       Param # </span>┃\n",
              "┡━━━━━━━━━━━━━━━━━━━━━━━━━━━━━━━━━╇━━━━━━━━━━━━━━━━━━━━━━━━╇━━━━━━━━━━━━━━━┩\n",
              "│ input_layer (<span style=\"color: #0087ff; text-decoration-color: #0087ff\">InputLayer</span>)        │ (<span style=\"color: #00d7ff; text-decoration-color: #00d7ff\">None</span>, <span style=\"color: #00af00; text-decoration-color: #00af00\">500</span>)            │             <span style=\"color: #00af00; text-decoration-color: #00af00\">0</span> │\n",
              "├─────────────────────────────────┼────────────────────────┼───────────────┤\n",
              "│ dense (<span style=\"color: #0087ff; text-decoration-color: #0087ff\">Dense</span>)                   │ (<span style=\"color: #00d7ff; text-decoration-color: #00d7ff\">None</span>, <span style=\"color: #00af00; text-decoration-color: #00af00\">64</span>)             │        <span style=\"color: #00af00; text-decoration-color: #00af00\">32,064</span> │\n",
              "├─────────────────────────────────┼────────────────────────┼───────────────┤\n",
              "│ re_lu (<span style=\"color: #0087ff; text-decoration-color: #0087ff\">ReLU</span>)                    │ (<span style=\"color: #00d7ff; text-decoration-color: #00d7ff\">None</span>, <span style=\"color: #00af00; text-decoration-color: #00af00\">64</span>)             │             <span style=\"color: #00af00; text-decoration-color: #00af00\">0</span> │\n",
              "├─────────────────────────────────┼────────────────────────┼───────────────┤\n",
              "│ dense_1 (<span style=\"color: #0087ff; text-decoration-color: #0087ff\">Dense</span>)                 │ (<span style=\"color: #00d7ff; text-decoration-color: #00d7ff\">None</span>, <span style=\"color: #00af00; text-decoration-color: #00af00\">64</span>)             │         <span style=\"color: #00af00; text-decoration-color: #00af00\">4,160</span> │\n",
              "├─────────────────────────────────┼────────────────────────┼───────────────┤\n",
              "│ re_lu_1 (<span style=\"color: #0087ff; text-decoration-color: #0087ff\">ReLU</span>)                  │ (<span style=\"color: #00d7ff; text-decoration-color: #00d7ff\">None</span>, <span style=\"color: #00af00; text-decoration-color: #00af00\">64</span>)             │             <span style=\"color: #00af00; text-decoration-color: #00af00\">0</span> │\n",
              "├─────────────────────────────────┼────────────────────────┼───────────────┤\n",
              "│ dense_2 (<span style=\"color: #0087ff; text-decoration-color: #0087ff\">Dense</span>)                 │ (<span style=\"color: #00d7ff; text-decoration-color: #00d7ff\">None</span>, <span style=\"color: #00af00; text-decoration-color: #00af00\">4</span>)              │           <span style=\"color: #00af00; text-decoration-color: #00af00\">260</span> │\n",
              "├─────────────────────────────────┼────────────────────────┼───────────────┤\n",
              "│ softmax (<span style=\"color: #0087ff; text-decoration-color: #0087ff\">Softmax</span>)               │ (<span style=\"color: #00d7ff; text-decoration-color: #00d7ff\">None</span>, <span style=\"color: #00af00; text-decoration-color: #00af00\">4</span>)              │             <span style=\"color: #00af00; text-decoration-color: #00af00\">0</span> │\n",
              "└─────────────────────────────────┴────────────────────────┴───────────────┘\n",
              "</pre>\n"
            ]
          },
          "metadata": {}
        },
        {
          "output_type": "display_data",
          "data": {
            "text/plain": [
              "\u001b[1m Total params: \u001b[0m\u001b[38;5;34m36,484\u001b[0m (142.52 KB)\n"
            ],
            "text/html": [
              "<pre style=\"white-space:pre;overflow-x:auto;line-height:normal;font-family:Menlo,'DejaVu Sans Mono',consolas,'Courier New',monospace\"><span style=\"font-weight: bold\"> Total params: </span><span style=\"color: #00af00; text-decoration-color: #00af00\">36,484</span> (142.52 KB)\n",
              "</pre>\n"
            ]
          },
          "metadata": {}
        },
        {
          "output_type": "display_data",
          "data": {
            "text/plain": [
              "\u001b[1m Trainable params: \u001b[0m\u001b[38;5;34m36,484\u001b[0m (142.52 KB)\n"
            ],
            "text/html": [
              "<pre style=\"white-space:pre;overflow-x:auto;line-height:normal;font-family:Menlo,'DejaVu Sans Mono',consolas,'Courier New',monospace\"><span style=\"font-weight: bold\"> Trainable params: </span><span style=\"color: #00af00; text-decoration-color: #00af00\">36,484</span> (142.52 KB)\n",
              "</pre>\n"
            ]
          },
          "metadata": {}
        },
        {
          "output_type": "display_data",
          "data": {
            "text/plain": [
              "\u001b[1m Non-trainable params: \u001b[0m\u001b[38;5;34m0\u001b[0m (0.00 B)\n"
            ],
            "text/html": [
              "<pre style=\"white-space:pre;overflow-x:auto;line-height:normal;font-family:Menlo,'DejaVu Sans Mono',consolas,'Courier New',monospace\"><span style=\"font-weight: bold\"> Non-trainable params: </span><span style=\"color: #00af00; text-decoration-color: #00af00\">0</span> (0.00 B)\n",
              "</pre>\n"
            ]
          },
          "metadata": {}
        }
      ],
      "source": [
        "from keras.models import Model\n",
        "from keras.layers import Input, Dense\n",
        "from keras.layers import ReLU, Softmax\n",
        "\n",
        "# input layer\n",
        "model_input = Input(shape=(input_shape, ))  # 500\n",
        "X = model_input\n",
        "\n",
        "# 1st hidden layer\n",
        "X_W1 = Dense(units=64)(X)  # 64\n",
        "H1 = ReLU()(X_W1)\n",
        "\n",
        "# 2nd hidden layer\n",
        "H1_W2 = Dense(units=64)(H1)  # 64\n",
        "H2 = ReLU()(H1_W2)\n",
        "\n",
        "# output layer\n",
        "H2_W3 = Dense(units=output_shape)(H2)  # 4\n",
        "H3 = Softmax()(H2_W3)\n",
        "\n",
        "model_output = H3\n",
        "\n",
        "# create model\n",
        "model = Model(inputs=[model_input], outputs=[model_output])\n",
        "\n",
        "# loss function & optimizer\n",
        "model.compile(optimizer='adam',\n",
        "              loss='categorical_crossentropy',\n",
        "              metrics=['accuracy'])\n",
        "\n",
        "# show model construction\n",
        "model.summary()"
      ]
    },
    {
      "cell_type": "markdown",
      "metadata": {
        "id": "nmTSDO2pYTpo"
      },
      "source": [
        "---\n",
        "### <a id='toc1_10_4_'></a>[**6.4 Train**](#toc0_)"
      ]
    },
    {
      "cell_type": "code",
      "execution_count": 46,
      "metadata": {
        "colab": {
          "base_uri": "https://localhost:8080/",
          "height": 0
        },
        "id": "Kl374LYqYTpo",
        "outputId": "fd988368-d3cb-4314-9acc-5ff60a38f129"
      },
      "outputs": [
        {
          "output_type": "stream",
          "name": "stdout",
          "text": [
            "Epoch 1/25\n",
            "\u001b[1m113/113\u001b[0m \u001b[32m━━━━━━━━━━━━━━━━━━━━\u001b[0m\u001b[37m\u001b[0m \u001b[1m3s\u001b[0m 4ms/step - accuracy: 0.3100 - loss: 1.3674 - val_accuracy: 0.4352 - val_loss: 1.2757\n",
            "Epoch 2/25\n",
            "\u001b[1m113/113\u001b[0m \u001b[32m━━━━━━━━━━━━━━━━━━━━\u001b[0m\u001b[37m\u001b[0m \u001b[1m0s\u001b[0m 2ms/step - accuracy: 0.5940 - loss: 1.0951 - val_accuracy: 0.6628 - val_loss: 0.9012\n",
            "Epoch 3/25\n",
            "\u001b[1m113/113\u001b[0m \u001b[32m━━━━━━━━━━━━━━━━━━━━\u001b[0m\u001b[37m\u001b[0m \u001b[1m0s\u001b[0m 2ms/step - accuracy: 0.8075 - loss: 0.6003 - val_accuracy: 0.7118 - val_loss: 0.7307\n",
            "Epoch 4/25\n",
            "\u001b[1m113/113\u001b[0m \u001b[32m━━━━━━━━━━━━━━━━━━━━\u001b[0m\u001b[37m\u001b[0m \u001b[1m0s\u001b[0m 2ms/step - accuracy: 0.8692 - loss: 0.3877 - val_accuracy: 0.7061 - val_loss: 0.7390\n",
            "Epoch 5/25\n",
            "\u001b[1m113/113\u001b[0m \u001b[32m━━━━━━━━━━━━━━━━━━━━\u001b[0m\u001b[37m\u001b[0m \u001b[1m0s\u001b[0m 2ms/step - accuracy: 0.9001 - loss: 0.3035 - val_accuracy: 0.7089 - val_loss: 0.7746\n",
            "Epoch 6/25\n",
            "\u001b[1m113/113\u001b[0m \u001b[32m━━━━━━━━━━━━━━━━━━━━\u001b[0m\u001b[37m\u001b[0m \u001b[1m0s\u001b[0m 3ms/step - accuracy: 0.9219 - loss: 0.2460 - val_accuracy: 0.6859 - val_loss: 0.8422\n",
            "Epoch 7/25\n",
            "\u001b[1m113/113\u001b[0m \u001b[32m━━━━━━━━━━━━━━━━━━━━\u001b[0m\u001b[37m\u001b[0m \u001b[1m1s\u001b[0m 3ms/step - accuracy: 0.9395 - loss: 0.1941 - val_accuracy: 0.7003 - val_loss: 0.8899\n",
            "Epoch 8/25\n",
            "\u001b[1m113/113\u001b[0m \u001b[32m━━━━━━━━━━━━━━━━━━━━\u001b[0m\u001b[37m\u001b[0m \u001b[1m1s\u001b[0m 3ms/step - accuracy: 0.9519 - loss: 0.1672 - val_accuracy: 0.6859 - val_loss: 0.9512\n",
            "Epoch 9/25\n",
            "\u001b[1m113/113\u001b[0m \u001b[32m━━━━━━━━━━━━━━━━━━━━\u001b[0m\u001b[37m\u001b[0m \u001b[1m0s\u001b[0m 3ms/step - accuracy: 0.9601 - loss: 0.1301 - val_accuracy: 0.7061 - val_loss: 1.0089\n",
            "Epoch 10/25\n",
            "\u001b[1m113/113\u001b[0m \u001b[32m━━━━━━━━━━━━━━━━━━━━\u001b[0m\u001b[37m\u001b[0m \u001b[1m0s\u001b[0m 2ms/step - accuracy: 0.9668 - loss: 0.1173 - val_accuracy: 0.6801 - val_loss: 1.0793\n",
            "Epoch 11/25\n",
            "\u001b[1m113/113\u001b[0m \u001b[32m━━━━━━━━━━━━━━━━━━━━\u001b[0m\u001b[37m\u001b[0m \u001b[1m0s\u001b[0m 2ms/step - accuracy: 0.9668 - loss: 0.1082 - val_accuracy: 0.6916 - val_loss: 1.0954\n",
            "Epoch 12/25\n",
            "\u001b[1m113/113\u001b[0m \u001b[32m━━━━━━━━━━━━━━━━━━━━\u001b[0m\u001b[37m\u001b[0m \u001b[1m0s\u001b[0m 2ms/step - accuracy: 0.9746 - loss: 0.0851 - val_accuracy: 0.6888 - val_loss: 1.1386\n",
            "Epoch 13/25\n",
            "\u001b[1m113/113\u001b[0m \u001b[32m━━━━━━━━━━━━━━━━━━━━\u001b[0m\u001b[37m\u001b[0m \u001b[1m0s\u001b[0m 2ms/step - accuracy: 0.9796 - loss: 0.0753 - val_accuracy: 0.6744 - val_loss: 1.1891\n",
            "Epoch 14/25\n",
            "\u001b[1m113/113\u001b[0m \u001b[32m━━━━━━━━━━━━━━━━━━━━\u001b[0m\u001b[37m\u001b[0m \u001b[1m0s\u001b[0m 2ms/step - accuracy: 0.9753 - loss: 0.0858 - val_accuracy: 0.6744 - val_loss: 1.2310\n",
            "Epoch 15/25\n",
            "\u001b[1m113/113\u001b[0m \u001b[32m━━━━━━━━━━━━━━━━━━━━\u001b[0m\u001b[37m\u001b[0m \u001b[1m0s\u001b[0m 2ms/step - accuracy: 0.9766 - loss: 0.0769 - val_accuracy: 0.6830 - val_loss: 1.2502\n",
            "Epoch 16/25\n",
            "\u001b[1m113/113\u001b[0m \u001b[32m━━━━━━━━━━━━━━━━━━━━\u001b[0m\u001b[37m\u001b[0m \u001b[1m0s\u001b[0m 2ms/step - accuracy: 0.9742 - loss: 0.0712 - val_accuracy: 0.6974 - val_loss: 1.2652\n",
            "Epoch 17/25\n",
            "\u001b[1m113/113\u001b[0m \u001b[32m━━━━━━━━━━━━━━━━━━━━\u001b[0m\u001b[37m\u001b[0m \u001b[1m0s\u001b[0m 2ms/step - accuracy: 0.9788 - loss: 0.0816 - val_accuracy: 0.6830 - val_loss: 1.2474\n",
            "Epoch 18/25\n",
            "\u001b[1m113/113\u001b[0m \u001b[32m━━━━━━━━━━━━━━━━━━━━\u001b[0m\u001b[37m\u001b[0m \u001b[1m0s\u001b[0m 2ms/step - accuracy: 0.9742 - loss: 0.0871 - val_accuracy: 0.6772 - val_loss: 1.3084\n",
            "Epoch 19/25\n",
            "\u001b[1m113/113\u001b[0m \u001b[32m━━━━━━━━━━━━━━━━━━━━\u001b[0m\u001b[37m\u001b[0m \u001b[1m0s\u001b[0m 2ms/step - accuracy: 0.9844 - loss: 0.0526 - val_accuracy: 0.6801 - val_loss: 1.3431\n",
            "Epoch 20/25\n",
            "\u001b[1m113/113\u001b[0m \u001b[32m━━━━━━━━━━━━━━━━━━━━\u001b[0m\u001b[37m\u001b[0m \u001b[1m0s\u001b[0m 2ms/step - accuracy: 0.9785 - loss: 0.0604 - val_accuracy: 0.6715 - val_loss: 1.3705\n",
            "Epoch 21/25\n",
            "\u001b[1m113/113\u001b[0m \u001b[32m━━━━━━━━━━━━━━━━━━━━\u001b[0m\u001b[37m\u001b[0m \u001b[1m0s\u001b[0m 2ms/step - accuracy: 0.9729 - loss: 0.0690 - val_accuracy: 0.7003 - val_loss: 1.2920\n",
            "Epoch 22/25\n",
            "\u001b[1m113/113\u001b[0m \u001b[32m━━━━━━━━━━━━━━━━━━━━\u001b[0m\u001b[37m\u001b[0m \u001b[1m0s\u001b[0m 2ms/step - accuracy: 0.9820 - loss: 0.0553 - val_accuracy: 0.6744 - val_loss: 1.3957\n",
            "Epoch 23/25\n",
            "\u001b[1m113/113\u001b[0m \u001b[32m━━━━━━━━━━━━━━━━━━━━\u001b[0m\u001b[37m\u001b[0m \u001b[1m0s\u001b[0m 2ms/step - accuracy: 0.9788 - loss: 0.0550 - val_accuracy: 0.6974 - val_loss: 1.3921\n",
            "Epoch 24/25\n",
            "\u001b[1m113/113\u001b[0m \u001b[32m━━━━━━━━━━━━━━━━━━━━\u001b[0m\u001b[37m\u001b[0m \u001b[1m0s\u001b[0m 2ms/step - accuracy: 0.9802 - loss: 0.0537 - val_accuracy: 0.6916 - val_loss: 1.3911\n",
            "Epoch 25/25\n",
            "\u001b[1m113/113\u001b[0m \u001b[32m━━━━━━━━━━━━━━━━━━━━\u001b[0m\u001b[37m\u001b[0m \u001b[1m0s\u001b[0m 2ms/step - accuracy: 0.9784 - loss: 0.0623 - val_accuracy: 0.7061 - val_loss: 1.3629\n",
            "training finish\n"
          ]
        }
      ],
      "source": [
        "from keras.callbacks import CSVLogger\n",
        "\n",
        "csv_logger = CSVLogger('./DM2025-Lab2-Exercise/logs/training_log.csv')\n",
        "\n",
        "# training setting\n",
        "epochs = 25\n",
        "batch_size = 32\n",
        "\n",
        "# training!\n",
        "history = model.fit(X_train, y_train,\n",
        "                    epochs=epochs,\n",
        "                    batch_size=batch_size,\n",
        "                    callbacks=[csv_logger],\n",
        "                    validation_data = (X_test, y_test))\n",
        "print('training finish')"
      ]
    },
    {
      "cell_type": "markdown",
      "metadata": {
        "id": "ip8RYsvSYTpo"
      },
      "source": [
        "---\n",
        "### <a id='toc1_10_5_'></a>[**6.5 Predict on testing data**](#toc0_)"
      ]
    },
    {
      "cell_type": "code",
      "execution_count": 47,
      "metadata": {
        "colab": {
          "base_uri": "https://localhost:8080/",
          "height": 0
        },
        "id": "xdnLuBYBYTpo",
        "outputId": "ad6d2709-e28b-4cfa-9aa8-45d3ddc24a84"
      },
      "outputs": [
        {
          "output_type": "stream",
          "name": "stdout",
          "text": [
            "\u001b[1m3/3\u001b[0m \u001b[32m━━━━━━━━━━━━━━━━━━━━\u001b[0m\u001b[37m\u001b[0m \u001b[1m0s\u001b[0m 59ms/step\n"
          ]
        },
        {
          "output_type": "execute_result",
          "data": {
            "text/plain": [
              "array([[6.6847205e-02, 9.3257624e-01, 2.4080822e-04, 3.3575448e-04],\n",
              "       [3.7568250e-07, 2.9624482e-05, 9.9996561e-01, 4.2960610e-06],\n",
              "       [3.8936821e-07, 9.9999720e-01, 4.3771792e-07, 1.9018985e-06],\n",
              "       [9.9519163e-01, 5.9224499e-06, 2.1303381e-04, 4.5892750e-03],\n",
              "       [1.4338599e-02, 5.2912378e-01, 1.1272605e-03, 4.5541039e-01]],\n",
              "      dtype=float32)"
            ]
          },
          "metadata": {},
          "execution_count": 47
        }
      ],
      "source": [
        "## predict\n",
        "pred_result = model.predict(X_test, batch_size=128)\n",
        "pred_result[:5]"
      ]
    },
    {
      "cell_type": "code",
      "execution_count": 48,
      "metadata": {
        "colab": {
          "base_uri": "https://localhost:8080/",
          "height": 0
        },
        "id": "hSaXGEX-YTpo",
        "outputId": "1ed40d80-8005-4493-948c-933acff3bb37"
      },
      "outputs": [
        {
          "output_type": "execute_result",
          "data": {
            "text/plain": [
              "array(['fear', 'joy', 'fear', 'anger', 'fear'], dtype=object)"
            ]
          },
          "metadata": {},
          "execution_count": 48
        }
      ],
      "source": [
        "pred_result = label_decode(label_encoder, pred_result)\n",
        "pred_result[:5]"
      ]
    },
    {
      "cell_type": "code",
      "execution_count": 49,
      "metadata": {
        "colab": {
          "base_uri": "https://localhost:8080/",
          "height": 0
        },
        "id": "bRRHye9KYTp5",
        "outputId": "f3cd3dbe-17fe-4036-b4d1-e2080319c091"
      },
      "outputs": [
        {
          "output_type": "stream",
          "name": "stdout",
          "text": [
            "testing accuracy: 0.71\n"
          ]
        }
      ],
      "source": [
        "from sklearn.metrics import accuracy_score\n",
        "\n",
        "print('testing accuracy: {}'.format(round(accuracy_score(label_decode(label_encoder, y_test), pred_result), 2)))"
      ]
    },
    {
      "cell_type": "code",
      "execution_count": 50,
      "metadata": {
        "colab": {
          "base_uri": "https://localhost:8080/",
          "height": 833
        },
        "id": "ks2Q0aMsYTp5",
        "outputId": "100d2b26-3ca0-4b58-d1cd-58247c2c2b9c"
      },
      "outputs": [
        {
          "output_type": "execute_result",
          "data": {
            "text/plain": [
              "    epoch  accuracy      loss  val_accuracy  val_loss\n",
              "0       0  0.354276  1.332898      0.435158  1.275652\n",
              "1       1  0.652920  0.983098      0.662824  0.901157\n",
              "2       2  0.801827  0.575380      0.711816  0.730717\n",
              "3       3  0.856075  0.403383      0.706052  0.738979\n",
              "4       4  0.892056  0.311359      0.708934  0.774562\n",
              "5       5  0.913092  0.254923      0.685879  0.842237\n",
              "6       6  0.935234  0.201840      0.700288  0.889901\n",
              "7       7  0.948242  0.171608      0.685879  0.951221\n",
              "8       8  0.959314  0.140641      0.706052  1.008909\n",
              "9       9  0.962081  0.129042      0.680115  1.079260\n",
              "10     10  0.967340  0.114698      0.691643  1.095408\n",
              "11     11  0.968447  0.102414      0.688761  1.138629\n",
              "12     12  0.971769  0.096165      0.674352  1.189051\n",
              "13     13  0.970662  0.094883      0.674352  1.230999\n",
              "14     14  0.974536  0.085555      0.682997  1.250222\n",
              "15     15  0.972599  0.087057      0.697406  1.265205\n",
              "16     16  0.973983  0.084377      0.682997  1.247417\n",
              "17     17  0.974813  0.078952      0.677233  1.308449\n",
              "18     18  0.976751  0.072473      0.680115  1.343097\n",
              "19     19  0.974260  0.073884      0.671470  1.370479\n",
              "20     20  0.974813  0.069662      0.700288  1.291985\n",
              "21     21  0.977027  0.065935      0.674352  1.395729\n",
              "22     22  0.975920  0.064748      0.697406  1.392129\n",
              "23     23  0.976751  0.063275      0.691643  1.391141\n",
              "24     24  0.978411  0.061844      0.706052  1.362899"
            ],
            "text/html": [
              "\n",
              "  <div id=\"df-77bb7dae-d727-4c81-9720-700e13ab042d\" class=\"colab-df-container\">\n",
              "    <div>\n",
              "<style scoped>\n",
              "    .dataframe tbody tr th:only-of-type {\n",
              "        vertical-align: middle;\n",
              "    }\n",
              "\n",
              "    .dataframe tbody tr th {\n",
              "        vertical-align: top;\n",
              "    }\n",
              "\n",
              "    .dataframe thead th {\n",
              "        text-align: right;\n",
              "    }\n",
              "</style>\n",
              "<table border=\"1\" class=\"dataframe\">\n",
              "  <thead>\n",
              "    <tr style=\"text-align: right;\">\n",
              "      <th></th>\n",
              "      <th>epoch</th>\n",
              "      <th>accuracy</th>\n",
              "      <th>loss</th>\n",
              "      <th>val_accuracy</th>\n",
              "      <th>val_loss</th>\n",
              "    </tr>\n",
              "  </thead>\n",
              "  <tbody>\n",
              "    <tr>\n",
              "      <th>0</th>\n",
              "      <td>0</td>\n",
              "      <td>0.354276</td>\n",
              "      <td>1.332898</td>\n",
              "      <td>0.435158</td>\n",
              "      <td>1.275652</td>\n",
              "    </tr>\n",
              "    <tr>\n",
              "      <th>1</th>\n",
              "      <td>1</td>\n",
              "      <td>0.652920</td>\n",
              "      <td>0.983098</td>\n",
              "      <td>0.662824</td>\n",
              "      <td>0.901157</td>\n",
              "    </tr>\n",
              "    <tr>\n",
              "      <th>2</th>\n",
              "      <td>2</td>\n",
              "      <td>0.801827</td>\n",
              "      <td>0.575380</td>\n",
              "      <td>0.711816</td>\n",
              "      <td>0.730717</td>\n",
              "    </tr>\n",
              "    <tr>\n",
              "      <th>3</th>\n",
              "      <td>3</td>\n",
              "      <td>0.856075</td>\n",
              "      <td>0.403383</td>\n",
              "      <td>0.706052</td>\n",
              "      <td>0.738979</td>\n",
              "    </tr>\n",
              "    <tr>\n",
              "      <th>4</th>\n",
              "      <td>4</td>\n",
              "      <td>0.892056</td>\n",
              "      <td>0.311359</td>\n",
              "      <td>0.708934</td>\n",
              "      <td>0.774562</td>\n",
              "    </tr>\n",
              "    <tr>\n",
              "      <th>5</th>\n",
              "      <td>5</td>\n",
              "      <td>0.913092</td>\n",
              "      <td>0.254923</td>\n",
              "      <td>0.685879</td>\n",
              "      <td>0.842237</td>\n",
              "    </tr>\n",
              "    <tr>\n",
              "      <th>6</th>\n",
              "      <td>6</td>\n",
              "      <td>0.935234</td>\n",
              "      <td>0.201840</td>\n",
              "      <td>0.700288</td>\n",
              "      <td>0.889901</td>\n",
              "    </tr>\n",
              "    <tr>\n",
              "      <th>7</th>\n",
              "      <td>7</td>\n",
              "      <td>0.948242</td>\n",
              "      <td>0.171608</td>\n",
              "      <td>0.685879</td>\n",
              "      <td>0.951221</td>\n",
              "    </tr>\n",
              "    <tr>\n",
              "      <th>8</th>\n",
              "      <td>8</td>\n",
              "      <td>0.959314</td>\n",
              "      <td>0.140641</td>\n",
              "      <td>0.706052</td>\n",
              "      <td>1.008909</td>\n",
              "    </tr>\n",
              "    <tr>\n",
              "      <th>9</th>\n",
              "      <td>9</td>\n",
              "      <td>0.962081</td>\n",
              "      <td>0.129042</td>\n",
              "      <td>0.680115</td>\n",
              "      <td>1.079260</td>\n",
              "    </tr>\n",
              "    <tr>\n",
              "      <th>10</th>\n",
              "      <td>10</td>\n",
              "      <td>0.967340</td>\n",
              "      <td>0.114698</td>\n",
              "      <td>0.691643</td>\n",
              "      <td>1.095408</td>\n",
              "    </tr>\n",
              "    <tr>\n",
              "      <th>11</th>\n",
              "      <td>11</td>\n",
              "      <td>0.968447</td>\n",
              "      <td>0.102414</td>\n",
              "      <td>0.688761</td>\n",
              "      <td>1.138629</td>\n",
              "    </tr>\n",
              "    <tr>\n",
              "      <th>12</th>\n",
              "      <td>12</td>\n",
              "      <td>0.971769</td>\n",
              "      <td>0.096165</td>\n",
              "      <td>0.674352</td>\n",
              "      <td>1.189051</td>\n",
              "    </tr>\n",
              "    <tr>\n",
              "      <th>13</th>\n",
              "      <td>13</td>\n",
              "      <td>0.970662</td>\n",
              "      <td>0.094883</td>\n",
              "      <td>0.674352</td>\n",
              "      <td>1.230999</td>\n",
              "    </tr>\n",
              "    <tr>\n",
              "      <th>14</th>\n",
              "      <td>14</td>\n",
              "      <td>0.974536</td>\n",
              "      <td>0.085555</td>\n",
              "      <td>0.682997</td>\n",
              "      <td>1.250222</td>\n",
              "    </tr>\n",
              "    <tr>\n",
              "      <th>15</th>\n",
              "      <td>15</td>\n",
              "      <td>0.972599</td>\n",
              "      <td>0.087057</td>\n",
              "      <td>0.697406</td>\n",
              "      <td>1.265205</td>\n",
              "    </tr>\n",
              "    <tr>\n",
              "      <th>16</th>\n",
              "      <td>16</td>\n",
              "      <td>0.973983</td>\n",
              "      <td>0.084377</td>\n",
              "      <td>0.682997</td>\n",
              "      <td>1.247417</td>\n",
              "    </tr>\n",
              "    <tr>\n",
              "      <th>17</th>\n",
              "      <td>17</td>\n",
              "      <td>0.974813</td>\n",
              "      <td>0.078952</td>\n",
              "      <td>0.677233</td>\n",
              "      <td>1.308449</td>\n",
              "    </tr>\n",
              "    <tr>\n",
              "      <th>18</th>\n",
              "      <td>18</td>\n",
              "      <td>0.976751</td>\n",
              "      <td>0.072473</td>\n",
              "      <td>0.680115</td>\n",
              "      <td>1.343097</td>\n",
              "    </tr>\n",
              "    <tr>\n",
              "      <th>19</th>\n",
              "      <td>19</td>\n",
              "      <td>0.974260</td>\n",
              "      <td>0.073884</td>\n",
              "      <td>0.671470</td>\n",
              "      <td>1.370479</td>\n",
              "    </tr>\n",
              "    <tr>\n",
              "      <th>20</th>\n",
              "      <td>20</td>\n",
              "      <td>0.974813</td>\n",
              "      <td>0.069662</td>\n",
              "      <td>0.700288</td>\n",
              "      <td>1.291985</td>\n",
              "    </tr>\n",
              "    <tr>\n",
              "      <th>21</th>\n",
              "      <td>21</td>\n",
              "      <td>0.977027</td>\n",
              "      <td>0.065935</td>\n",
              "      <td>0.674352</td>\n",
              "      <td>1.395729</td>\n",
              "    </tr>\n",
              "    <tr>\n",
              "      <th>22</th>\n",
              "      <td>22</td>\n",
              "      <td>0.975920</td>\n",
              "      <td>0.064748</td>\n",
              "      <td>0.697406</td>\n",
              "      <td>1.392129</td>\n",
              "    </tr>\n",
              "    <tr>\n",
              "      <th>23</th>\n",
              "      <td>23</td>\n",
              "      <td>0.976751</td>\n",
              "      <td>0.063275</td>\n",
              "      <td>0.691643</td>\n",
              "      <td>1.391141</td>\n",
              "    </tr>\n",
              "    <tr>\n",
              "      <th>24</th>\n",
              "      <td>24</td>\n",
              "      <td>0.978411</td>\n",
              "      <td>0.061844</td>\n",
              "      <td>0.706052</td>\n",
              "      <td>1.362899</td>\n",
              "    </tr>\n",
              "  </tbody>\n",
              "</table>\n",
              "</div>\n",
              "    <div class=\"colab-df-buttons\">\n",
              "\n",
              "  <div class=\"colab-df-container\">\n",
              "    <button class=\"colab-df-convert\" onclick=\"convertToInteractive('df-77bb7dae-d727-4c81-9720-700e13ab042d')\"\n",
              "            title=\"Convert this dataframe to an interactive table.\"\n",
              "            style=\"display:none;\">\n",
              "\n",
              "  <svg xmlns=\"http://www.w3.org/2000/svg\" height=\"24px\" viewBox=\"0 -960 960 960\">\n",
              "    <path d=\"M120-120v-720h720v720H120Zm60-500h600v-160H180v160Zm220 220h160v-160H400v160Zm0 220h160v-160H400v160ZM180-400h160v-160H180v160Zm440 0h160v-160H620v160ZM180-180h160v-160H180v160Zm440 0h160v-160H620v160Z\"/>\n",
              "  </svg>\n",
              "    </button>\n",
              "\n",
              "  <style>\n",
              "    .colab-df-container {\n",
              "      display:flex;\n",
              "      gap: 12px;\n",
              "    }\n",
              "\n",
              "    .colab-df-convert {\n",
              "      background-color: #E8F0FE;\n",
              "      border: none;\n",
              "      border-radius: 50%;\n",
              "      cursor: pointer;\n",
              "      display: none;\n",
              "      fill: #1967D2;\n",
              "      height: 32px;\n",
              "      padding: 0 0 0 0;\n",
              "      width: 32px;\n",
              "    }\n",
              "\n",
              "    .colab-df-convert:hover {\n",
              "      background-color: #E2EBFA;\n",
              "      box-shadow: 0px 1px 2px rgba(60, 64, 67, 0.3), 0px 1px 3px 1px rgba(60, 64, 67, 0.15);\n",
              "      fill: #174EA6;\n",
              "    }\n",
              "\n",
              "    .colab-df-buttons div {\n",
              "      margin-bottom: 4px;\n",
              "    }\n",
              "\n",
              "    [theme=dark] .colab-df-convert {\n",
              "      background-color: #3B4455;\n",
              "      fill: #D2E3FC;\n",
              "    }\n",
              "\n",
              "    [theme=dark] .colab-df-convert:hover {\n",
              "      background-color: #434B5C;\n",
              "      box-shadow: 0px 1px 3px 1px rgba(0, 0, 0, 0.15);\n",
              "      filter: drop-shadow(0px 1px 2px rgba(0, 0, 0, 0.3));\n",
              "      fill: #FFFFFF;\n",
              "    }\n",
              "  </style>\n",
              "\n",
              "    <script>\n",
              "      const buttonEl =\n",
              "        document.querySelector('#df-77bb7dae-d727-4c81-9720-700e13ab042d button.colab-df-convert');\n",
              "      buttonEl.style.display =\n",
              "        google.colab.kernel.accessAllowed ? 'block' : 'none';\n",
              "\n",
              "      async function convertToInteractive(key) {\n",
              "        const element = document.querySelector('#df-77bb7dae-d727-4c81-9720-700e13ab042d');\n",
              "        const dataTable =\n",
              "          await google.colab.kernel.invokeFunction('convertToInteractive',\n",
              "                                                    [key], {});\n",
              "        if (!dataTable) return;\n",
              "\n",
              "        const docLinkHtml = 'Like what you see? Visit the ' +\n",
              "          '<a target=\"_blank\" href=https://colab.research.google.com/notebooks/data_table.ipynb>data table notebook</a>'\n",
              "          + ' to learn more about interactive tables.';\n",
              "        element.innerHTML = '';\n",
              "        dataTable['output_type'] = 'display_data';\n",
              "        await google.colab.output.renderOutput(dataTable, element);\n",
              "        const docLink = document.createElement('div');\n",
              "        docLink.innerHTML = docLinkHtml;\n",
              "        element.appendChild(docLink);\n",
              "      }\n",
              "    </script>\n",
              "  </div>\n",
              "\n",
              "\n",
              "    <div id=\"df-321a268c-71cf-4883-9e7a-6aea6500cb4a\">\n",
              "      <button class=\"colab-df-quickchart\" onclick=\"quickchart('df-321a268c-71cf-4883-9e7a-6aea6500cb4a')\"\n",
              "                title=\"Suggest charts\"\n",
              "                style=\"display:none;\">\n",
              "\n",
              "<svg xmlns=\"http://www.w3.org/2000/svg\" height=\"24px\"viewBox=\"0 0 24 24\"\n",
              "     width=\"24px\">\n",
              "    <g>\n",
              "        <path d=\"M19 3H5c-1.1 0-2 .9-2 2v14c0 1.1.9 2 2 2h14c1.1 0 2-.9 2-2V5c0-1.1-.9-2-2-2zM9 17H7v-7h2v7zm4 0h-2V7h2v10zm4 0h-2v-4h2v4z\"/>\n",
              "    </g>\n",
              "</svg>\n",
              "      </button>\n",
              "\n",
              "<style>\n",
              "  .colab-df-quickchart {\n",
              "      --bg-color: #E8F0FE;\n",
              "      --fill-color: #1967D2;\n",
              "      --hover-bg-color: #E2EBFA;\n",
              "      --hover-fill-color: #174EA6;\n",
              "      --disabled-fill-color: #AAA;\n",
              "      --disabled-bg-color: #DDD;\n",
              "  }\n",
              "\n",
              "  [theme=dark] .colab-df-quickchart {\n",
              "      --bg-color: #3B4455;\n",
              "      --fill-color: #D2E3FC;\n",
              "      --hover-bg-color: #434B5C;\n",
              "      --hover-fill-color: #FFFFFF;\n",
              "      --disabled-bg-color: #3B4455;\n",
              "      --disabled-fill-color: #666;\n",
              "  }\n",
              "\n",
              "  .colab-df-quickchart {\n",
              "    background-color: var(--bg-color);\n",
              "    border: none;\n",
              "    border-radius: 50%;\n",
              "    cursor: pointer;\n",
              "    display: none;\n",
              "    fill: var(--fill-color);\n",
              "    height: 32px;\n",
              "    padding: 0;\n",
              "    width: 32px;\n",
              "  }\n",
              "\n",
              "  .colab-df-quickchart:hover {\n",
              "    background-color: var(--hover-bg-color);\n",
              "    box-shadow: 0 1px 2px rgba(60, 64, 67, 0.3), 0 1px 3px 1px rgba(60, 64, 67, 0.15);\n",
              "    fill: var(--button-hover-fill-color);\n",
              "  }\n",
              "\n",
              "  .colab-df-quickchart-complete:disabled,\n",
              "  .colab-df-quickchart-complete:disabled:hover {\n",
              "    background-color: var(--disabled-bg-color);\n",
              "    fill: var(--disabled-fill-color);\n",
              "    box-shadow: none;\n",
              "  }\n",
              "\n",
              "  .colab-df-spinner {\n",
              "    border: 2px solid var(--fill-color);\n",
              "    border-color: transparent;\n",
              "    border-bottom-color: var(--fill-color);\n",
              "    animation:\n",
              "      spin 1s steps(1) infinite;\n",
              "  }\n",
              "\n",
              "  @keyframes spin {\n",
              "    0% {\n",
              "      border-color: transparent;\n",
              "      border-bottom-color: var(--fill-color);\n",
              "      border-left-color: var(--fill-color);\n",
              "    }\n",
              "    20% {\n",
              "      border-color: transparent;\n",
              "      border-left-color: var(--fill-color);\n",
              "      border-top-color: var(--fill-color);\n",
              "    }\n",
              "    30% {\n",
              "      border-color: transparent;\n",
              "      border-left-color: var(--fill-color);\n",
              "      border-top-color: var(--fill-color);\n",
              "      border-right-color: var(--fill-color);\n",
              "    }\n",
              "    40% {\n",
              "      border-color: transparent;\n",
              "      border-right-color: var(--fill-color);\n",
              "      border-top-color: var(--fill-color);\n",
              "    }\n",
              "    60% {\n",
              "      border-color: transparent;\n",
              "      border-right-color: var(--fill-color);\n",
              "    }\n",
              "    80% {\n",
              "      border-color: transparent;\n",
              "      border-right-color: var(--fill-color);\n",
              "      border-bottom-color: var(--fill-color);\n",
              "    }\n",
              "    90% {\n",
              "      border-color: transparent;\n",
              "      border-bottom-color: var(--fill-color);\n",
              "    }\n",
              "  }\n",
              "</style>\n",
              "\n",
              "      <script>\n",
              "        async function quickchart(key) {\n",
              "          const quickchartButtonEl =\n",
              "            document.querySelector('#' + key + ' button');\n",
              "          quickchartButtonEl.disabled = true;  // To prevent multiple clicks.\n",
              "          quickchartButtonEl.classList.add('colab-df-spinner');\n",
              "          try {\n",
              "            const charts = await google.colab.kernel.invokeFunction(\n",
              "                'suggestCharts', [key], {});\n",
              "          } catch (error) {\n",
              "            console.error('Error during call to suggestCharts:', error);\n",
              "          }\n",
              "          quickchartButtonEl.classList.remove('colab-df-spinner');\n",
              "          quickchartButtonEl.classList.add('colab-df-quickchart-complete');\n",
              "        }\n",
              "        (() => {\n",
              "          let quickchartButtonEl =\n",
              "            document.querySelector('#df-321a268c-71cf-4883-9e7a-6aea6500cb4a button');\n",
              "          quickchartButtonEl.style.display =\n",
              "            google.colab.kernel.accessAllowed ? 'block' : 'none';\n",
              "        })();\n",
              "      </script>\n",
              "    </div>\n",
              "\n",
              "  <div id=\"id_5b4b1798-a287-4e4a-bc9e-3ae8a02251cc\">\n",
              "    <style>\n",
              "      .colab-df-generate {\n",
              "        background-color: #E8F0FE;\n",
              "        border: none;\n",
              "        border-radius: 50%;\n",
              "        cursor: pointer;\n",
              "        display: none;\n",
              "        fill: #1967D2;\n",
              "        height: 32px;\n",
              "        padding: 0 0 0 0;\n",
              "        width: 32px;\n",
              "      }\n",
              "\n",
              "      .colab-df-generate:hover {\n",
              "        background-color: #E2EBFA;\n",
              "        box-shadow: 0px 1px 2px rgba(60, 64, 67, 0.3), 0px 1px 3px 1px rgba(60, 64, 67, 0.15);\n",
              "        fill: #174EA6;\n",
              "      }\n",
              "\n",
              "      [theme=dark] .colab-df-generate {\n",
              "        background-color: #3B4455;\n",
              "        fill: #D2E3FC;\n",
              "      }\n",
              "\n",
              "      [theme=dark] .colab-df-generate:hover {\n",
              "        background-color: #434B5C;\n",
              "        box-shadow: 0px 1px 3px 1px rgba(0, 0, 0, 0.15);\n",
              "        filter: drop-shadow(0px 1px 2px rgba(0, 0, 0, 0.3));\n",
              "        fill: #FFFFFF;\n",
              "      }\n",
              "    </style>\n",
              "    <button class=\"colab-df-generate\" onclick=\"generateWithVariable('training_log')\"\n",
              "            title=\"Generate code using this dataframe.\"\n",
              "            style=\"display:none;\">\n",
              "\n",
              "  <svg xmlns=\"http://www.w3.org/2000/svg\" height=\"24px\"viewBox=\"0 0 24 24\"\n",
              "       width=\"24px\">\n",
              "    <path d=\"M7,19H8.4L18.45,9,17,7.55,7,17.6ZM5,21V16.75L18.45,3.32a2,2,0,0,1,2.83,0l1.4,1.43a1.91,1.91,0,0,1,.58,1.4,1.91,1.91,0,0,1-.58,1.4L9.25,21ZM18.45,9,17,7.55Zm-12,3A5.31,5.31,0,0,0,4.9,8.1,5.31,5.31,0,0,0,1,6.5,5.31,5.31,0,0,0,4.9,4.9,5.31,5.31,0,0,0,6.5,1,5.31,5.31,0,0,0,8.1,4.9,5.31,5.31,0,0,0,12,6.5,5.46,5.46,0,0,0,6.5,12Z\"/>\n",
              "  </svg>\n",
              "    </button>\n",
              "    <script>\n",
              "      (() => {\n",
              "      const buttonEl =\n",
              "        document.querySelector('#id_5b4b1798-a287-4e4a-bc9e-3ae8a02251cc button.colab-df-generate');\n",
              "      buttonEl.style.display =\n",
              "        google.colab.kernel.accessAllowed ? 'block' : 'none';\n",
              "\n",
              "      buttonEl.onclick = () => {\n",
              "        google.colab.notebook.generateWithVariable('training_log');\n",
              "      }\n",
              "      })();\n",
              "    </script>\n",
              "  </div>\n",
              "\n",
              "    </div>\n",
              "  </div>\n"
            ],
            "application/vnd.google.colaboratory.intrinsic+json": {
              "type": "dataframe",
              "variable_name": "training_log",
              "summary": "{\n  \"name\": \"training_log\",\n  \"rows\": 25,\n  \"fields\": [\n    {\n      \"column\": \"epoch\",\n      \"properties\": {\n        \"dtype\": \"number\",\n        \"std\": 7,\n        \"min\": 0,\n        \"max\": 24,\n        \"num_unique_values\": 25,\n        \"samples\": [\n          8,\n          16,\n          0\n        ],\n        \"semantic_type\": \"\",\n        \"description\": \"\"\n      }\n    },\n    {\n      \"column\": \"accuracy\",\n      \"properties\": {\n        \"dtype\": \"number\",\n        \"std\": 0.13810181165093638,\n        \"min\": 0.3542762100696563,\n        \"max\": 0.9784113168716432,\n        \"num_unique_values\": 23,\n        \"samples\": [\n          0.9725989699363708,\n          0.9620813727378844,\n          0.3542762100696563\n        ],\n        \"semantic_type\": \"\",\n        \"description\": \"\"\n      }\n    },\n    {\n      \"column\": \"loss\",\n      \"properties\": {\n        \"dtype\": \"number\",\n        \"std\": 0.30948406894800307,\n        \"min\": 0.0618443116545677,\n        \"max\": 1.3328982591629028,\n        \"num_unique_values\": 25,\n        \"samples\": [\n          0.1406405866146087,\n          0.0843769386410713,\n          1.3328982591629028\n        ],\n        \"semantic_type\": \"\",\n        \"description\": \"\"\n      }\n    },\n    {\n      \"column\": \"val_accuracy\",\n      \"properties\": {\n        \"dtype\": \"number\",\n        \"std\": 0.05249652402506357,\n        \"min\": 0.4351584911346435,\n        \"max\": 0.7118155360221863,\n        \"num_unique_values\": 15,\n        \"samples\": [\n          0.6887608170509338,\n          0.6829971075057983,\n          0.4351584911346435\n        ],\n        \"semantic_type\": \"\",\n        \"description\": \"\"\n      }\n    },\n    {\n      \"column\": \"val_loss\",\n      \"properties\": {\n        \"dtype\": \"number\",\n        \"std\": 0.22216785133136338,\n        \"min\": 0.7307174801826477,\n        \"max\": 1.3957291841506958,\n        \"num_unique_values\": 25,\n        \"samples\": [\n          1.008908987045288,\n          1.2474172115325928,\n          1.2756518125534058\n        ],\n        \"semantic_type\": \"\",\n        \"description\": \"\"\n      }\n    }\n  ]\n}"
            }
          },
          "metadata": {},
          "execution_count": 50
        }
      ],
      "source": [
        "#Let's take a look at the training log\n",
        "training_log = pd.DataFrame()\n",
        "training_log = pd.read_csv(\"./DM2025-Lab2-Exercise/logs/training_log.csv\")\n",
        "training_log"
      ]
    },
    {
      "cell_type": "markdown",
      "metadata": {
        "id": "NoYqY0-tYTp5"
      },
      "source": [
        "---\n",
        "##### <a id='toc1_10_5_1_1_'></a>[**>>> Exercise 6 (Take home):**](#toc0_)\n",
        "\n",
        "Plot the Training and Validation Accuracy and Loss (different plots), just like the images below.(Note: the pictures below are an example from a different model). How to interpret the graphs you got? How are they related to the concept of overfitting/underfitting covered in class?\n",
        "\n",
        "![pic3.png](https://drive.google.com/uc?export=view&id=1cYxbZ-72ZJucyUdOsRUEodH203ldZScM)  ![pic4.png](https://drive.google.com/uc?export=view&id=1LybXXqULWkB7IGO3X5g8rLYFx7lhSoms)\n"
      ]
    },
    {
      "cell_type": "code",
      "execution_count": 51,
      "metadata": {
        "id": "AlhstCrlYTp5",
        "colab": {
          "base_uri": "https://localhost:8080/",
          "height": 507
        },
        "outputId": "7cd6eea3-fd04-4780-9141-44de1bedebb3"
      },
      "outputs": [
        {
          "output_type": "display_data",
          "data": {
            "text/plain": [
              "<Figure size 1200x500 with 2 Axes>"
            ],
            "image/png": "[encoded data removed]"
          },
          "metadata": {}
        }
      ],
      "source": [
        "# Answer here\n",
        "# Plot training log\n",
        "plt.figure(figsize=(12,5))\n",
        "\n",
        "# Accuracy\n",
        "plt.subplot(1,2,1)\n",
        "plt.plot(training_log['accuracy'], label='Train Accuracy')\n",
        "plt.plot(training_log['val_accuracy'], label='Val Accuracy')\n",
        "plt.title('Training vs Validation Accuracy')\n",
        "plt.xlabel('Epoch')\n",
        "plt.ylabel('Accuracy')\n",
        "plt.legend()\n",
        "\n",
        "# Loss\n",
        "plt.subplot(1,2,2)\n",
        "plt.plot(training_log['loss'], label='Train Loss')\n",
        "plt.plot(training_log['val_loss'], label='Val Loss')\n",
        "plt.title('Training vs Validation Loss')\n",
        "plt.xlabel('Epoch')\n",
        "plt.ylabel('Loss')\n",
        "plt.legend()\n",
        "\n",
        "plt.tight_layout()\n",
        "plt.show()\n"
      ]
    },
    {
      "cell_type": "markdown",
      "metadata": {
        "id": "UYabzgSGYTp5"
      },
      "source": [
        "---"
      ]
    },
    {
      "cell_type": "markdown",
      "metadata": {
        "id": "4e5eiVLOYTp5"
      },
      "source": [
        "### <a id='toc1_10_6_'></a>[Note](#toc0_)\n",
        "\n",
        "If you don't have a GPU (level is higher than GTX 1060) or you are not good at setting lots of things about computer, we recommend you to use the [kaggle kernel](https://www.kaggle.com/kernels) to do deep learning model training. They have already installed all the librarys and provided free GPU for you to use.\n",
        "\n",
        "Note however that you will only be able to run a kernel for 6 hours. After 6 hours of inactivity, your Kaggle kernel will shut down (meaning if your model takes more than 6 hours to train, you can't train it at once).\n",
        "\n",
        "\n",
        "### <a id='toc1_10_7_'></a>[More Information for your reference](#toc0_)\n",
        "\n",
        "* Keras document: https://keras.io/\n",
        "* Keras GitHub example: https://github.com/keras-team/keras/tree/master/examples\n",
        "* CS229: Machine Learning: http://cs229.stanford.edu/syllabus.html\n",
        "* Deep Learning cheatsheet: https://stanford.edu/~shervine/teaching/cs-229/cheatsheet-deep-learning\n",
        "* If you want to try TensorFlow or PyTorch: https://pytorch.org/tutorials/\n",
        "https://www.tensorflow.org/tutorials/quickstart/beginner"
      ]
    },
    {
      "cell_type": "markdown",
      "metadata": {
        "id": "IESBq48MYTp5"
      },
      "source": [
        "---\n",
        "## <a id='toc1_11_'></a>[**7. Word2Vector**](#toc0_)\n",
        "\n",
        "We will introduce how to use `gensim` to train your word2vec model and how to load a pre-trained model.\n",
        "\n",
        "https://radimrehurek.com/gensim/index.html"
      ]
    },
    {
      "cell_type": "markdown",
      "metadata": {
        "id": "KRSDMhQ5YTp5"
      },
      "source": [
        "---\n",
        "### <a id='toc1_11_1_'></a>[**7.1 Prepare training corpus**](#toc0_)"
      ]
    },
    {
      "cell_type": "code",
      "execution_count": 52,
      "metadata": {
        "colab": {
          "base_uri": "https://localhost:8080/",
          "height": 206
        },
        "id": "6aBYrovJYTp5",
        "outputId": "ee5b7931-f7d7-4a32-b306-7234b0e31d3b"
      },
      "outputs": [
        {
          "output_type": "execute_result",
          "data": {
            "text/plain": [
              "         id                                               text  \\\n",
              "1841  20984  new tires &amp; an alarm system on my car. fwm...   \n",
              "2284  30280  @AJStylesOrg I know they have you a scripted e...   \n",
              "2832  40005  So when I try I fail... and when I don't try.....   \n",
              "2924  40097  @British_Airways just came of BA6426 at @ortam...   \n",
              "1235  20378  @NaziaMemon01 yeah a terror packed terror supp...   \n",
              "\n",
              "                                         text_tokenized  \n",
              "1841  [new, tires, &, amp, ;, an, alarm, system, on,...  \n",
              "2284  [@, AJStylesOrg, I, know, they, have, you, a, ...  \n",
              "2832  [So, when, I, try, I, fail, ..., and, when, I,...  \n",
              "2924  [@, British_Airways, just, came, of, BA6426, a...  \n",
              "1235  [@, NaziaMemon01, yeah, a, terror, packed, ter...  "
            ],
            "text/html": [
              "\n",
              "  <div id=\"df-21871b8d-bf09-4fee-b63e-fafb6b631342\" class=\"colab-df-container\">\n",
              "    <div>\n",
              "<style scoped>\n",
              "    .dataframe tbody tr th:only-of-type {\n",
              "        vertical-align: middle;\n",
              "    }\n",
              "\n",
              "    .dataframe tbody tr th {\n",
              "        vertical-align: top;\n",
              "    }\n",
              "\n",
              "    .dataframe thead th {\n",
              "        text-align: right;\n",
              "    }\n",
              "</style>\n",
              "<table border=\"1\" class=\"dataframe\">\n",
              "  <thead>\n",
              "    <tr style=\"text-align: right;\">\n",
              "      <th></th>\n",
              "      <th>id</th>\n",
              "      <th>text</th>\n",
              "      <th>text_tokenized</th>\n",
              "    </tr>\n",
              "  </thead>\n",
              "  <tbody>\n",
              "    <tr>\n",
              "      <th>1841</th>\n",
              "      <td>20984</td>\n",
              "      <td>new tires &amp;amp; an alarm system on my car. fwm...</td>\n",
              "      <td>[new, tires, &amp;, amp, ;, an, alarm, system, on,...</td>\n",
              "    </tr>\n",
              "    <tr>\n",
              "      <th>2284</th>\n",
              "      <td>30280</td>\n",
              "      <td>@AJStylesOrg I know they have you a scripted e...</td>\n",
              "      <td>[@, AJStylesOrg, I, know, they, have, you, a, ...</td>\n",
              "    </tr>\n",
              "    <tr>\n",
              "      <th>2832</th>\n",
              "      <td>40005</td>\n",
              "      <td>So when I try I fail... and when I don't try.....</td>\n",
              "      <td>[So, when, I, try, I, fail, ..., and, when, I,...</td>\n",
              "    </tr>\n",
              "    <tr>\n",
              "      <th>2924</th>\n",
              "      <td>40097</td>\n",
              "      <td>@British_Airways just came of BA6426 at @ortam...</td>\n",
              "      <td>[@, British_Airways, just, came, of, BA6426, a...</td>\n",
              "    </tr>\n",
              "    <tr>\n",
              "      <th>1235</th>\n",
              "      <td>20378</td>\n",
              "      <td>@NaziaMemon01 yeah a terror packed terror supp...</td>\n",
              "      <td>[@, NaziaMemon01, yeah, a, terror, packed, ter...</td>\n",
              "    </tr>\n",
              "  </tbody>\n",
              "</table>\n",
              "</div>\n",
              "    <div class=\"colab-df-buttons\">\n",
              "\n",
              "  <div class=\"colab-df-container\">\n",
              "    <button class=\"colab-df-convert\" onclick=\"convertToInteractive('df-21871b8d-bf09-4fee-b63e-fafb6b631342')\"\n",
              "            title=\"Convert this dataframe to an interactive table.\"\n",
              "            style=\"display:none;\">\n",
              "\n",
              "  <svg xmlns=\"http://www.w3.org/2000/svg\" height=\"24px\" viewBox=\"0 -960 960 960\">\n",
              "    <path d=\"M120-120v-720h720v720H120Zm60-500h600v-160H180v160Zm220 220h160v-160H400v160Zm0 220h160v-160H400v160ZM180-400h160v-160H180v160Zm440 0h160v-160H620v160ZM180-180h160v-160H180v160Zm440 0h160v-160H620v160Z\"/>\n",
              "  </svg>\n",
              "    </button>\n",
              "\n",
              "  <style>\n",
              "    .colab-df-container {\n",
              "      display:flex;\n",
              "      gap: 12px;\n",
              "    }\n",
              "\n",
              "    .colab-df-convert {\n",
              "      background-color: #E8F0FE;\n",
              "      border: none;\n",
              "      border-radius: 50%;\n",
              "      cursor: pointer;\n",
              "      display: none;\n",
              "      fill: #1967D2;\n",
              "      height: 32px;\n",
              "      padding: 0 0 0 0;\n",
              "      width: 32px;\n",
              "    }\n",
              "\n",
              "    .colab-df-convert:hover {\n",
              "      background-color: #E2EBFA;\n",
              "      box-shadow: 0px 1px 2px rgba(60, 64, 67, 0.3), 0px 1px 3px 1px rgba(60, 64, 67, 0.15);\n",
              "      fill: #174EA6;\n",
              "    }\n",
              "\n",
              "    .colab-df-buttons div {\n",
              "      margin-bottom: 4px;\n",
              "    }\n",
              "\n",
              "    [theme=dark] .colab-df-convert {\n",
              "      background-color: #3B4455;\n",
              "      fill: #D2E3FC;\n",
              "    }\n",
              "\n",
              "    [theme=dark] .colab-df-convert:hover {\n",
              "      background-color: #434B5C;\n",
              "      box-shadow: 0px 1px 3px 1px rgba(0, 0, 0, 0.15);\n",
              "      filter: drop-shadow(0px 1px 2px rgba(0, 0, 0, 0.3));\n",
              "      fill: #FFFFFF;\n",
              "    }\n",
              "  </style>\n",
              "\n",
              "    <script>\n",
              "      const buttonEl =\n",
              "        document.querySelector('#df-21871b8d-bf09-4fee-b63e-fafb6b631342 button.colab-df-convert');\n",
              "      buttonEl.style.display =\n",
              "        google.colab.kernel.accessAllowed ? 'block' : 'none';\n",
              "\n",
              "      async function convertToInteractive(key) {\n",
              "        const element = document.querySelector('#df-21871b8d-bf09-4fee-b63e-fafb6b631342');\n",
              "        const dataTable =\n",
              "          await google.colab.kernel.invokeFunction('convertToInteractive',\n",
              "                                                    [key], {});\n",
              "        if (!dataTable) return;\n",
              "\n",
              "        const docLinkHtml = 'Like what you see? Visit the ' +\n",
              "          '<a target=\"_blank\" href=https://colab.research.google.com/notebooks/data_table.ipynb>data table notebook</a>'\n",
              "          + ' to learn more about interactive tables.';\n",
              "        element.innerHTML = '';\n",
              "        dataTable['output_type'] = 'display_data';\n",
              "        await google.colab.output.renderOutput(dataTable, element);\n",
              "        const docLink = document.createElement('div');\n",
              "        docLink.innerHTML = docLinkHtml;\n",
              "        element.appendChild(docLink);\n",
              "      }\n",
              "    </script>\n",
              "  </div>\n",
              "\n",
              "\n",
              "    <div id=\"df-8644e1e9-591e-4e99-a9bf-5a520ea525e0\">\n",
              "      <button class=\"colab-df-quickchart\" onclick=\"quickchart('df-8644e1e9-591e-4e99-a9bf-5a520ea525e0')\"\n",
              "                title=\"Suggest charts\"\n",
              "                style=\"display:none;\">\n",
              "\n",
              "<svg xmlns=\"http://www.w3.org/2000/svg\" height=\"24px\"viewBox=\"0 0 24 24\"\n",
              "     width=\"24px\">\n",
              "    <g>\n",
              "        <path d=\"M19 3H5c-1.1 0-2 .9-2 2v14c0 1.1.9 2 2 2h14c1.1 0 2-.9 2-2V5c0-1.1-.9-2-2-2zM9 17H7v-7h2v7zm4 0h-2V7h2v10zm4 0h-2v-4h2v4z\"/>\n",
              "    </g>\n",
              "</svg>\n",
              "      </button>\n",
              "\n",
              "<style>\n",
              "  .colab-df-quickchart {\n",
              "      --bg-color: #E8F0FE;\n",
              "      --fill-color: #1967D2;\n",
              "      --hover-bg-color: #E2EBFA;\n",
              "      --hover-fill-color: #174EA6;\n",
              "      --disabled-fill-color: #AAA;\n",
              "      --disabled-bg-color: #DDD;\n",
              "  }\n",
              "\n",
              "  [theme=dark] .colab-df-quickchart {\n",
              "      --bg-color: #3B4455;\n",
              "      --fill-color: #D2E3FC;\n",
              "      --hover-bg-color: #434B5C;\n",
              "      --hover-fill-color: #FFFFFF;\n",
              "      --disabled-bg-color: #3B4455;\n",
              "      --disabled-fill-color: #666;\n",
              "  }\n",
              "\n",
              "  .colab-df-quickchart {\n",
              "    background-color: var(--bg-color);\n",
              "    border: none;\n",
              "    border-radius: 50%;\n",
              "    cursor: pointer;\n",
              "    display: none;\n",
              "    fill: var(--fill-color);\n",
              "    height: 32px;\n",
              "    padding: 0;\n",
              "    width: 32px;\n",
              "  }\n",
              "\n",
              "  .colab-df-quickchart:hover {\n",
              "    background-color: var(--hover-bg-color);\n",
              "    box-shadow: 0 1px 2px rgba(60, 64, 67, 0.3), 0 1px 3px 1px rgba(60, 64, 67, 0.15);\n",
              "    fill: var(--button-hover-fill-color);\n",
              "  }\n",
              "\n",
              "  .colab-df-quickchart-complete:disabled,\n",
              "  .colab-df-quickchart-complete:disabled:hover {\n",
              "    background-color: var(--disabled-bg-color);\n",
              "    fill: var(--disabled-fill-color);\n",
              "    box-shadow: none;\n",
              "  }\n",
              "\n",
              "  .colab-df-spinner {\n",
              "    border: 2px solid var(--fill-color);\n",
              "    border-color: transparent;\n",
              "    border-bottom-color: var(--fill-color);\n",
              "    animation:\n",
              "      spin 1s steps(1) infinite;\n",
              "  }\n",
              "\n",
              "  @keyframes spin {\n",
              "    0% {\n",
              "      border-color: transparent;\n",
              "      border-bottom-color: var(--fill-color);\n",
              "      border-left-color: var(--fill-color);\n",
              "    }\n",
              "    20% {\n",
              "      border-color: transparent;\n",
              "      border-left-color: var(--fill-color);\n",
              "      border-top-color: var(--fill-color);\n",
              "    }\n",
              "    30% {\n",
              "      border-color: transparent;\n",
              "      border-left-color: var(--fill-color);\n",
              "      border-top-color: var(--fill-color);\n",
              "      border-right-color: var(--fill-color);\n",
              "    }\n",
              "    40% {\n",
              "      border-color: transparent;\n",
              "      border-right-color: var(--fill-color);\n",
              "      border-top-color: var(--fill-color);\n",
              "    }\n",
              "    60% {\n",
              "      border-color: transparent;\n",
              "      border-right-color: var(--fill-color);\n",
              "    }\n",
              "    80% {\n",
              "      border-color: transparent;\n",
              "      border-right-color: var(--fill-color);\n",
              "      border-bottom-color: var(--fill-color);\n",
              "    }\n",
              "    90% {\n",
              "      border-color: transparent;\n",
              "      border-bottom-color: var(--fill-color);\n",
              "    }\n",
              "  }\n",
              "</style>\n",
              "\n",
              "      <script>\n",
              "        async function quickchart(key) {\n",
              "          const quickchartButtonEl =\n",
              "            document.querySelector('#' + key + ' button');\n",
              "          quickchartButtonEl.disabled = true;  // To prevent multiple clicks.\n",
              "          quickchartButtonEl.classList.add('colab-df-spinner');\n",
              "          try {\n",
              "            const charts = await google.colab.kernel.invokeFunction(\n",
              "                'suggestCharts', [key], {});\n",
              "          } catch (error) {\n",
              "            console.error('Error during call to suggestCharts:', error);\n",
              "          }\n",
              "          quickchartButtonEl.classList.remove('colab-df-spinner');\n",
              "          quickchartButtonEl.classList.add('colab-df-quickchart-complete');\n",
              "        }\n",
              "        (() => {\n",
              "          let quickchartButtonEl =\n",
              "            document.querySelector('#df-8644e1e9-591e-4e99-a9bf-5a520ea525e0 button');\n",
              "          quickchartButtonEl.style.display =\n",
              "            google.colab.kernel.accessAllowed ? 'block' : 'none';\n",
              "        })();\n",
              "      </script>\n",
              "    </div>\n",
              "\n",
              "    </div>\n",
              "  </div>\n"
            ],
            "application/vnd.google.colaboratory.intrinsic+json": {
              "type": "dataframe",
              "summary": "{\n  \"name\": \"train_df[['id', 'text', 'text_tokenized']]\",\n  \"rows\": 5,\n  \"fields\": [\n    {\n      \"column\": \"id\",\n      \"properties\": {\n        \"dtype\": \"number\",\n        \"std\": 9687,\n        \"min\": 20378,\n        \"max\": 40097,\n        \"num_unique_values\": 5,\n        \"samples\": [\n          30280,\n          20378,\n          40005\n        ],\n        \"semantic_type\": \"\",\n        \"description\": \"\"\n      }\n    },\n    {\n      \"column\": \"text\",\n      \"properties\": {\n        \"dtype\": \"string\",\n        \"num_unique_values\": 5,\n        \"samples\": [\n          \"@AJStylesOrg I know they have you a scripted ego maniac but, I was so elated to hear that you are a devout Christian like myself. Phenomanal\",\n          \"@NaziaMemon01 yeah a terror packed terror supported speech..\",\n          \"So when I try I fail... and when I don't try... I still fail... #confused and #lost\"\n        ],\n        \"semantic_type\": \"\",\n        \"description\": \"\"\n      }\n    },\n    {\n      \"column\": \"text_tokenized\",\n      \"properties\": {\n        \"dtype\": \"object\",\n        \"semantic_type\": \"\",\n        \"description\": \"\"\n      }\n    }\n  ]\n}"
            }
          },
          "metadata": {},
          "execution_count": 52
        }
      ],
      "source": [
        "## check library\n",
        "import gensim\n",
        "\n",
        "## ignore warnings\n",
        "import warnings\n",
        "warnings.filterwarnings('ignore')\n",
        "\n",
        "# # if you want to see the training messages, you can use it\n",
        "# import logging\n",
        "# logging.basicConfig(format='%(asctime)s : %(levelname)s : %(message)s', level=logging.INFO)\n",
        "\n",
        "## the input type\n",
        "train_df['text_tokenized'] = train_df['text'].apply(lambda x: nltk.word_tokenize(x))\n",
        "train_df[['id', 'text', 'text_tokenized']].head()"
      ]
    },
    {
      "cell_type": "code",
      "execution_count": 53,
      "metadata": {
        "colab": {
          "base_uri": "https://localhost:8080/",
          "height": 0
        },
        "id": "okFIEcmnYTp5",
        "outputId": "7331f602-8380-41e4-851a-bc124c56c174"
      },
      "outputs": [
        {
          "output_type": "execute_result",
          "data": {
            "text/plain": [
              "array([list(['new', 'tires', '&', 'amp', ';', 'an', 'alarm', 'system', 'on', 'my', 'car', '.', 'fwm', 'now', '!']),\n",
              "       list(['@', 'AJStylesOrg', 'I', 'know', 'they', 'have', 'you', 'a', 'scripted', 'ego', 'maniac', 'but', ',', 'I', 'was', 'so', 'elated', 'to', 'hear', 'that', 'you', 'are', 'a', 'devout', 'Christian', 'like', 'myself', '.', 'Phenomanal']),\n",
              "       list(['So', 'when', 'I', 'try', 'I', 'fail', '...', 'and', 'when', 'I', 'do', \"n't\", 'try', '...', 'I', 'still', 'fail', '...', '#', 'confused', 'and', '#', 'lost'])],\n",
              "      dtype=object)"
            ]
          },
          "metadata": {},
          "execution_count": 53
        }
      ],
      "source": [
        "## create the training corpus\n",
        "training_corpus = train_df['text_tokenized'].values\n",
        "training_corpus[:3]"
      ]
    },
    {
      "cell_type": "markdown",
      "metadata": {
        "id": "dOgAriPRYTp5"
      },
      "source": [
        "---\n",
        "### <a id='toc1_11_2_'></a>[**7.2 Training our model**](#toc0_)\n",
        "\n",
        "You can try to train your own model. More details: https://radimrehurek.com/gensim/models/word2vec.html"
      ]
    },
    {
      "cell_type": "code",
      "execution_count": 54,
      "metadata": {
        "id": "72ZA54IDYTp5",
        "scrolled": true
      },
      "outputs": [],
      "source": [
        "from gensim.models import Word2Vec\n",
        "\n",
        "## setting\n",
        "vector_dim = 100\n",
        "window_size = 5\n",
        "min_count = 1\n",
        "training_epochs = 20\n",
        "\n",
        "## model\n",
        "word2vec_model = Word2Vec(sentences=training_corpus,\n",
        "                          vector_size=vector_dim, window=window_size,\n",
        "                          min_count=min_count, epochs=training_epochs)"
      ]
    },
    {
      "cell_type": "markdown",
      "metadata": {
        "id": "ob0Molb3YTp5"
      },
      "source": [
        "![Imgur](https://i.imgur.com/Fca3MCs.png)"
      ]
    },
    {
      "cell_type": "markdown",
      "metadata": {
        "id": "E0jjvjN5YTp5"
      },
      "source": [
        "---\n",
        "### <a id='toc1_11_3_'></a>[**7.3 Generating word vector (embeddings)**](#toc0_)"
      ]
    },
    {
      "cell_type": "code",
      "execution_count": 55,
      "metadata": {
        "colab": {
          "base_uri": "https://localhost:8080/",
          "height": 0
        },
        "id": "4ejofZfCYTp5",
        "outputId": "12d7730f-dfaf-4061-87f9-004701c3133b"
      },
      "outputs": [
        {
          "output_type": "execute_result",
          "data": {
            "text/plain": [
              "array([ 8.19755316e-01,  3.05577099e-01,  1.36846781e-01, -2.69709349e-01,\n",
              "       -3.55795830e-01, -9.84947026e-01,  4.85246450e-01,  9.74871635e-01,\n",
              "       -2.61023968e-01, -2.44786665e-01, -2.18548924e-01, -4.48801488e-01,\n",
              "       -7.98421055e-02,  1.42982346e-03,  1.32731348e-01, -1.21746309e-01,\n",
              "        9.05505359e-01, -2.59182066e-01,  2.73773789e-01, -1.38124347e+00,\n",
              "        7.19835699e-01,  4.96152312e-01,  2.05924511e-01,  2.72828657e-02,\n",
              "       -1.52106918e-02,  1.57533228e-01, -2.93177307e-01,  2.62991518e-01,\n",
              "       -6.37593985e-01,  3.45857799e-01,  3.07824165e-01,  1.62822872e-01,\n",
              "        4.26774114e-01, -6.62723958e-01, -1.47512341e-02,  5.97831726e-01,\n",
              "        5.09249985e-01,  3.92603800e-02, -6.67969644e-01, -2.71025360e-01,\n",
              "        1.12248249e-01, -3.47831488e-01, -3.13538790e-01,  6.33813441e-01,\n",
              "        4.45195168e-01, -4.97211725e-01, -5.12437999e-01,  1.74082607e-01,\n",
              "        6.82475507e-01,  5.44861019e-01, -6.24353774e-02, -7.85307765e-01,\n",
              "        5.98770715e-02, -1.10685602e-01, -6.71098173e-01, -2.00223118e-01,\n",
              "       -3.84866931e-02, -4.83639866e-01, -1.91887930e-01,  2.17112452e-01,\n",
              "        3.69389921e-01, -3.98538888e-01,  3.01734984e-01,  5.05837917e-01,\n",
              "       -6.04820430e-01,  1.11047173e+00,  3.59146744e-01,  7.85991371e-01,\n",
              "       -1.45384192e+00,  7.70856798e-01,  2.93947756e-01,  4.66679662e-01,\n",
              "        2.46989116e-01, -7.78958142e-01,  4.54226404e-01, -5.65624237e-02,\n",
              "        7.63133466e-01,  8.32242146e-02, -2.92316347e-01,  5.11732578e-01,\n",
              "       -7.68249333e-01, -3.74477088e-01, -9.70426083e-01,  1.12965572e+00,\n",
              "       -2.35750705e-01, -5.80873966e-01,  6.03888214e-01,  6.07845008e-01,\n",
              "        1.61368683e-01,  6.12354696e-01,  1.13783538e+00, -9.83587056e-02,\n",
              "       -1.12115338e-01, -6.48727193e-02,  6.07402027e-01, -2.39239812e-01,\n",
              "        3.47131073e-01, -1.54299382e-03,  5.44009686e-01, -1.15444355e-01],\n",
              "      dtype=float32)"
            ]
          },
          "metadata": {},
          "execution_count": 55
        }
      ],
      "source": [
        "# get the corresponding vector of a word\n",
        "word_vec = word2vec_model.wv['happy']\n",
        "word_vec"
      ]
    },
    {
      "cell_type": "code",
      "execution_count": 56,
      "metadata": {
        "colab": {
          "base_uri": "https://localhost:8080/",
          "height": 0
        },
        "id": "9dUSkCscYTp5",
        "outputId": "dabc4f27-7ac1-4b4f-ed4e-8b23cec4a7cb"
      },
      "outputs": [
        {
          "output_type": "execute_result",
          "data": {
            "text/plain": [
              "[('Makes', 0.9115297198295593),\n",
              " ('Really', 0.9065329432487488),\n",
              " ('smile', 0.9059485197067261),\n",
              " ('bday', 0.9053395390510559),\n",
              " ('plz', 0.9000860452651978),\n",
              " ('Be', 0.8986943960189819),\n",
              " ('help', 0.8969643712043762),\n",
              " ('birthday', 0.8927883505821228),\n",
              " ('T.', 0.8911999464035034),\n",
              " ('dad', 0.8907536268234253)]"
            ]
          },
          "metadata": {},
          "execution_count": 56
        }
      ],
      "source": [
        "# Get the most similar words\n",
        "word = 'happy'\n",
        "topn = 10\n",
        "word2vec_model.wv.most_similar(word, topn=topn)"
      ]
    },
    {
      "cell_type": "markdown",
      "metadata": {
        "id": "zuQvZVJvYTp5"
      },
      "source": [
        "---\n",
        "### <a id='toc1_11_4_'></a>[**7.4 Using a pre-trained w2v model**](#toc0_)\n",
        "\n",
        "Instead of training your own model ,you can use a model that has already been trained. Here, we see 2 ways of doing that:\n",
        "\n",
        "\n",
        "#### <a id='toc1_11_4_1_'></a>[(1) Download model by yourself](#toc0_)\n",
        "\n",
        "source: [GoogleNews-vectors-negative300](https://code.google.com/archive/p/word2vec/)\n",
        "\n",
        "more details: https://radimrehurek.com/gensim/models/keyedvectors.html"
      ]
    },
    {
      "cell_type": "code",
      "execution_count": 57,
      "metadata": {
        "colab": {
          "base_uri": "https://localhost:8080/",
          "height": 0
        },
        "id": "bdH9E9auYTp5",
        "outputId": "1adc47f0-4ba9-42b8-9811-984ff8afe846"
      },
      "outputs": [
        {
          "output_type": "stream",
          "name": "stdout",
          "text": [
            "load ok\n"
          ]
        },
        {
          "output_type": "execute_result",
          "data": {
            "text/plain": [
              "[('glad', 0.7408890724182129),\n",
              " ('pleased', 0.6632170677185059),\n",
              " ('ecstatic', 0.6626912355422974),\n",
              " ('overjoyed', 0.6599286794662476),\n",
              " ('thrilled', 0.6514049172401428),\n",
              " ('satisfied', 0.6437949538230896),\n",
              " ('proud', 0.636042058467865),\n",
              " ('delighted', 0.627237856388092),\n",
              " ('disappointed', 0.6269949674606323),\n",
              " ('excited', 0.6247665286064148)]"
            ]
          },
          "metadata": {},
          "execution_count": 57
        }
      ],
      "source": [
        "from gensim.models import KeyedVectors\n",
        "\n",
        "## Note: this model is huge, this will take some time ...\n",
        "model_path = f\"{google_news_vectors_path}/GoogleNews-vectors-negative300.bin\"\n",
        "w2v_google_model = KeyedVectors.load_word2vec_format(model_path, binary=True)\n",
        "print('load ok')\n",
        "\n",
        "w2v_google_model.most_similar('happy', topn=10)"
      ]
    },
    {
      "cell_type": "markdown",
      "metadata": {
        "id": "NdQ9ul0eYTp5"
      },
      "source": [
        "#### <a id='toc1_11_4_2_'></a>[(2) Using gensim api](#toc0_)\n",
        "\n",
        "Other pretrained models are available here: https://github.com/RaRe-Technologies/gensim-data"
      ]
    },
    {
      "cell_type": "code",
      "execution_count": 58,
      "metadata": {
        "colab": {
          "base_uri": "https://localhost:8080/",
          "height": 0
        },
        "id": "oIxHpNB6YTp5",
        "outputId": "90d6bb35-428c-4bc1-fd1d-1b9bdb214d08"
      },
      "outputs": [
        {
          "output_type": "stream",
          "name": "stdout",
          "text": [
            "[==================================================] 100.0% 104.8/104.8MB downloaded\n",
            "load ok\n"
          ]
        },
        {
          "output_type": "execute_result",
          "data": {
            "text/plain": [
              "[('birthday', 0.9577818512916565),\n",
              " ('thank', 0.937666654586792),\n",
              " ('welcome', 0.93361496925354),\n",
              " ('love', 0.9176183342933655),\n",
              " ('miss', 0.9164500832557678),\n",
              " ('hello', 0.9158351421356201),\n",
              " ('thanks', 0.915008544921875),\n",
              " ('merry', 0.9053249359130859),\n",
              " ('bless', 0.902732253074646),\n",
              " ('wish', 0.9013164043426514)]"
            ]
          },
          "metadata": {},
          "execution_count": 58
        }
      ],
      "source": [
        "import gensim.downloader as api\n",
        "\n",
        "## If you see `SSL: CERTIFICATE_VERIFY_FAILED` error, use this:\n",
        "import ssl\n",
        "import urllib.request\n",
        "ssl._create_default_https_context = ssl._create_unverified_context\n",
        "\n",
        "glove_twitter_25_model = api.load(\"glove-twitter-25\")\n",
        "print('load ok')\n",
        "\n",
        "glove_twitter_25_model.most_similar('happy', topn=10)"
      ]
    },
    {
      "cell_type": "markdown",
      "metadata": {
        "id": "GCNDNqeXYTp5"
      },
      "source": [
        "---\n",
        "### <a id='toc1_11_5_'></a>[**7.5 king + woman - man = ?**](#toc0_)"
      ]
    },
    {
      "cell_type": "markdown",
      "metadata": {
        "id": "_GtCRr_7YTp5"
      },
      "source": [
        "Let's run one of the most famous examples for Word2Vec and compute the similarity between these 3 words:"
      ]
    },
    {
      "cell_type": "code",
      "execution_count": 59,
      "metadata": {
        "colab": {
          "base_uri": "https://localhost:8080/",
          "height": 0
        },
        "id": "Zew7m_kIYTp5",
        "outputId": "0dc4965c-9312-4b04-ffb1-6e156b4f7030"
      },
      "outputs": [
        {
          "output_type": "execute_result",
          "data": {
            "text/plain": [
              "[('queen', 0.7118193507194519),\n",
              " ('monarch', 0.6189674139022827),\n",
              " ('princess', 0.5902431011199951),\n",
              " ('crown_prince', 0.5499460697174072),\n",
              " ('prince', 0.5377321839332581),\n",
              " ('kings', 0.5236844420433044),\n",
              " ('Queen_Consort', 0.5235945582389832),\n",
              " ('queens', 0.5181134343147278),\n",
              " ('sultan', 0.5098593831062317),\n",
              " ('monarchy', 0.5087411999702454)]"
            ]
          },
          "metadata": {},
          "execution_count": 59
        }
      ],
      "source": [
        "w2v_google_model.most_similar(positive=['king', 'woman'], negative=['man'])"
      ]
    },
    {
      "cell_type": "markdown",
      "metadata": {
        "id": "y3RQVnBOYTp5"
      },
      "source": [
        "---\n",
        "##### <a id='toc1_11_5_1_1_'></a>[**>>> Exercise 7 (Take home):**](#toc0_)\n",
        "\n",
        "Now, we have the word vectors, but our input data is a sequence of words (or say sentence).\n",
        "How can we utilize these \"word\" vectors to represent the sentence data and train our model?\n"
      ]
    },
    {
      "cell_type": "code",
      "execution_count": 60,
      "metadata": {
        "id": "TBwRT93DYTp5"
      },
      "outputs": [],
      "source": [
        "# Answer here\n",
        "import numpy as np\n",
        "\n",
        "def sentence_vector(sentence, model):\n",
        "    words = [w for w in sentence if w in model.wv]\n",
        "    if len(words) == 0:\n",
        "        return np.zeros(model.vector_size)\n",
        "    return np.mean([model.wv[w] for w in words], axis=0)\n"
      ]
    },
    {
      "cell_type": "markdown",
      "metadata": {
        "id": "LrK7O1KDYTp5"
      },
      "source": [
        "---\n",
        "## <a id='toc1_12_'></a>[**8. Clustering: k-means**](#toc0_)\n",
        "\n",
        "Here we introduce how to use `sklearn` to do the basic **unsupervised learning** approach, k-means.    \n",
        "\n",
        "more details: http://scikit-learn.org/stable/modules/generated/sklearn.cluster.KMeans.html\n"
      ]
    },
    {
      "cell_type": "markdown",
      "metadata": {
        "id": "Hr8_IxwBYTp5"
      },
      "source": [
        "#### <a id='toc1_12_1_1_'></a>[Basic concept](#toc0_)\n",
        "\n",
        "![pic5.png](https://drive.google.com/uc?export=view&id=1YaPsXWrr7sQFHelMyiNuERs2lG1tZZ54)\n",
        "\n",
        "(img source: https://towardsdatascience.com/k-means-clustering-identifying-f-r-i-e-n-d-s-in-the-world-of-strangers-695537505d)"
      ]
    },
    {
      "cell_type": "code",
      "execution_count": 61,
      "metadata": {
        "colab": {
          "base_uri": "https://localhost:8080/",
          "height": 0
        },
        "id": "6heUPVwWYTp5",
        "outputId": "8c394f69-31b2-4bdd-b4f3-872e07a552ea"
      },
      "outputs": [
        {
          "output_type": "stream",
          "name": "stdout",
          "text": [
            "target words:  ['happy', 'fear', 'angry', 'car', 'teacher', 'computer']\n"
          ]
        }
      ],
      "source": [
        "# clustering target\n",
        "target_list = ['happy', 'fear', 'angry', 'car', 'teacher', 'computer']\n",
        "print('target words: ', target_list)\n",
        "\n",
        "# convert to word vector\n",
        "X = [word2vec_model.wv[word] for word in target_list]"
      ]
    },
    {
      "cell_type": "code",
      "execution_count": 62,
      "metadata": {
        "colab": {
          "base_uri": "https://localhost:8080/",
          "height": 0
        },
        "id": "E9t_sJrvYTp5",
        "outputId": "2b8181c0-cfdb-4d82-91b7-5337d1e95758"
      },
      "outputs": [
        {
          "output_type": "stream",
          "name": "stdout",
          "text": [
            "word: happy \t cluster: 1\n",
            "word: fear \t cluster: 1\n",
            "word: angry \t cluster: 1\n",
            "word: car \t cluster: 1\n",
            "word: teacher \t cluster: 0\n",
            "word: computer \t cluster: 0\n"
          ]
        }
      ],
      "source": [
        "from sklearn.cluster import KMeans\n",
        "\n",
        "# we have to decide how many cluster (k) we want\n",
        "k = 2\n",
        "\n",
        "# k-means model\n",
        "kmeans_model = KMeans(n_clusters=k)\n",
        "kmeans_model.fit(X)\n",
        "\n",
        "# cluster result\n",
        "cluster_result = kmeans_model.labels_\n",
        "\n",
        "# show\n",
        "for i in range(len(target_list)):\n",
        "    print('word: {} \\t cluster: {}'.format(target_list[i], cluster_result[i]))"
      ]
    },
    {
      "cell_type": "markdown",
      "metadata": {
        "id": "QcDTL7kRYTp5"
      },
      "source": [
        "![pic6.png](https://drive.google.com/uc?export=view&id=1loQX4BJI3MlcNmlpjVvqqNTLQSOmxfC4)"
      ]
    },
    {
      "cell_type": "code",
      "execution_count": 63,
      "metadata": {
        "colab": {
          "base_uri": "https://localhost:8080/",
          "height": 0
        },
        "id": "NIMFax_uYTp5",
        "outputId": "7aea12b5-d892-463a-93bf-e881c3e82da1"
      },
      "outputs": [
        {
          "output_type": "execute_result",
          "data": {
            "text/plain": [
              "array([0], dtype=int32)"
            ]
          },
          "metadata": {},
          "execution_count": 63
        }
      ],
      "source": [
        "#check cluster membership\n",
        "word = 'student'\n",
        "word_vec = word2vec_model.wv[word]\n",
        "kmeans_model.predict([word_vec])"
      ]
    },
    {
      "cell_type": "code",
      "execution_count": 64,
      "metadata": {
        "colab": {
          "base_uri": "https://localhost:8080/",
          "height": 0
        },
        "id": "vIDuLDOlYTp5",
        "outputId": "16dac48a-ad77-445d-95c4-da281c8a0693"
      },
      "outputs": [
        {
          "output_type": "execute_result",
          "data": {
            "text/plain": [
              "array([1], dtype=int32)"
            ]
          },
          "metadata": {},
          "execution_count": 64
        }
      ],
      "source": [
        "#check cluster membership\n",
        "word = 'sad'\n",
        "word_vec = word2vec_model.wv[word]\n",
        "kmeans_model.predict([word_vec])"
      ]
    },
    {
      "cell_type": "markdown",
      "metadata": {
        "id": "cZOEGH3GYTp5"
      },
      "source": [
        "---\n",
        "## <a id='toc1_13_'></a>[**9. High-dimension Visualization: t-SNE and UMAP**](#toc0_)\n",
        "\n",
        "No matter if you use the Bag-of-words, TF-IDF, or Word2Vec, it's very hard to see the embedding result, because the dimension is larger than 3.  \n",
        "\n",
        "In Lab 1, we already talked about PCA, t-SNE and UMAP. We can use PCA to reduce the dimension of our data, then visualize it. However, if you dig deeper into the result, you'd find it is insufficient.\n",
        "\n",
        "Our aim will be to create a visualization similar to the one below with t-SNE:"
      ]
    },
    {
      "cell_type": "markdown",
      "metadata": {
        "id": "3-JR-rqyYTp5"
      },
      "source": [
        "![pic7.png](https://drive.google.com/uc?export=view&id=1YgtPqQJysWiWKCOvGVjpA07gwgqap3a6)\n",
        "\n",
        "source: https://www.fabian-keller.de/research/high-dimensional-data-visualization"
      ]
    },
    {
      "cell_type": "markdown",
      "metadata": {
        "id": "fKnz8k81ui7j"
      },
      "source": [
        "And also like this for UMAP:\n",
        "\n",
        "![pic9.png](https://drive.google.com/uc?export=view&id=1NQsoRSWGYAya0dyDefPXYy7l7Ag6a5UT)\n",
        "\n",
        "source: https://umap-learn.readthedocs.io/en/latest/auto_examples/plot_mnist_example.html"
      ]
    },
    {
      "cell_type": "markdown",
      "metadata": {
        "id": "tmdbJbjxYTp5"
      },
      "source": [
        "t-SNE and UMAP reference:  \n",
        "http://scikit-learn.org/stable/modules/generated/sklearn.manifold.TSNE.html\n",
        "https://umap-learn.readthedocs.io/en/latest/"
      ]
    },
    {
      "cell_type": "markdown",
      "metadata": {
        "id": "MU8eeDnGYTp5"
      },
      "source": [
        "---\n",
        "### <a id='toc1_13_1_'></a>[**9.1 Prepare visualizing target**](#toc0_)"
      ]
    },
    {
      "cell_type": "markdown",
      "metadata": {
        "id": "T9IHcP3VYTp5"
      },
      "source": [
        "Let's prepare data lists like:\n",
        "- happy words\n",
        "- angry words\n",
        "- data words\n",
        "- mining words"
      ]
    },
    {
      "cell_type": "code",
      "execution_count": 65,
      "metadata": {
        "colab": {
          "base_uri": "https://localhost:8080/",
          "height": 0
        },
        "id": "L9il5L7pYTp5",
        "outputId": "7337a26c-6e7f-4756-c7ed-31a5e0f3908b"
      },
      "outputs": [
        {
          "output_type": "stream",
          "name": "stdout",
          "text": [
            "happy_words:  ['happy', 'glad', 'pleased', 'ecstatic', 'overjoyed', 'thrilled']\n",
            "angry_words:  ['angry', 'irate', 'enraged', 'indignant', 'incensed', 'annoyed']\n",
            "data_words:  ['data', 'Data', 'datasets', 'dataset', 'databases', 'statistics']\n",
            "mining_words:  ['mining', 'Mining', 'mines', 'coal_mining', 'mine', 'miner']\n",
            "\n",
            "target words: \n",
            "['happy', 'glad', 'pleased', 'ecstatic', 'overjoyed', 'thrilled', 'angry', 'irate', 'enraged', 'indignant', 'incensed', 'annoyed', 'data', 'Data', 'datasets', 'dataset', 'databases', 'statistics', 'mining', 'Mining', 'mines', 'coal_mining', 'mine', 'miner']\n",
            "\n",
            "color list:\n",
            "['b', 'b', 'b', 'b', 'b', 'b', 'g', 'g', 'g', 'g', 'g', 'g', 'r', 'r', 'r', 'r', 'r', 'r', 'y', 'y', 'y', 'y', 'y', 'y']\n"
          ]
        }
      ],
      "source": [
        "word_list = ['happy', 'angry', 'data', 'mining']\n",
        "\n",
        "topn = 5\n",
        "happy_words = ['happy'] + [word_ for word_, sim_ in w2v_google_model.most_similar('happy', topn=topn)]\n",
        "angry_words = ['angry'] + [word_ for word_, sim_ in w2v_google_model.most_similar('angry', topn=topn)]\n",
        "data_words = ['data'] + [word_ for word_, sim_ in w2v_google_model.most_similar('data', topn=topn)]\n",
        "mining_words = ['mining'] + [word_ for word_, sim_ in w2v_google_model.most_similar('mining', topn=topn)]\n",
        "\n",
        "print('happy_words: ', happy_words)\n",
        "print('angry_words: ', angry_words)\n",
        "print('data_words: ', data_words)\n",
        "print('mining_words: ', mining_words)\n",
        "\n",
        "target_words = happy_words + angry_words + data_words + mining_words\n",
        "print('\\ntarget words: ')\n",
        "print(target_words)\n",
        "\n",
        "print('\\ncolor list:')\n",
        "cn = topn + 1\n",
        "color = ['b'] * cn + ['g'] * cn + ['r'] * cn + ['y'] * cn\n",
        "print(color)"
      ]
    },
    {
      "cell_type": "markdown",
      "metadata": {
        "id": "zKa5LRxbYTp5"
      },
      "source": [
        "---\n",
        "### <a id='toc1_13_2_'></a>[**9.2 Plot using t-SNE and UMAP (2-dimension)**](#toc0_)"
      ]
    },
    {
      "cell_type": "code",
      "execution_count": 66,
      "metadata": {
        "colab": {
          "base_uri": "https://localhost:8080/",
          "height": 730
        },
        "id": "CJlljN2gYTp5",
        "outputId": "03086321-bb31-4c24-fb1c-cb0d87ae9b7e"
      },
      "outputs": [
        {
          "output_type": "display_data",
          "data": {
            "text/plain": [
              "<Figure size 862.5x862.5 with 1 Axes>"
            ],
            "image/png": "[encoded data removed]"
          },
          "metadata": {}
        }
      ],
      "source": [
        "%matplotlib inline\n",
        "import matplotlib.pyplot as plt\n",
        "from sklearn.manifold import TSNE\n",
        "\n",
        "## w2v model\n",
        "model = w2v_google_model\n",
        "\n",
        "## prepare training word vectors\n",
        "size = 200\n",
        "target_size = len(target_words)\n",
        "all_word = list(model.index_to_key)\n",
        "word_train = target_words + all_word[:size]\n",
        "X_train = model[word_train]\n",
        "\n",
        "## t-SNE model\n",
        "tsne = TSNE(n_components=2, metric='cosine', random_state=28)\n",
        "\n",
        "## training\n",
        "X_tsne = tsne.fit_transform(X_train)\n",
        "\n",
        "## plot the result\n",
        "plt.figure(figsize=(7.5, 7.5), dpi=115)\n",
        "plt.scatter(X_tsne[:target_size, 0], X_tsne[:target_size, 1], c=color)\n",
        "for label, x, y in zip(target_words, X_tsne[:target_size, 0], X_tsne[:target_size, 1]):\n",
        "    plt.annotate(label, xy=(x,y), xytext=(0,0),  textcoords='offset points')\n",
        "plt.show()"
      ]
    },
    {
      "cell_type": "code",
      "execution_count": 67,
      "metadata": {
        "colab": {
          "base_uri": "https://localhost:8080/",
          "height": 730
        },
        "id": "iNHUnNl-ui7k",
        "outputId": "10e8236e-ab4f-4639-c2a7-ba3f901b1670"
      },
      "outputs": [
        {
          "output_type": "display_data",
          "data": {
            "text/plain": [
              "<Figure size 862.5x862.5 with 1 Axes>"
            ],
            "image/png": "[encoded data removed]"
          },
          "metadata": {}
        }
      ],
      "source": [
        "import matplotlib.pyplot as plt\n",
        "import umap.umap_ as umap\n",
        "\n",
        "## w2v model\n",
        "model = w2v_google_model\n",
        "\n",
        "## prepare training word vectors\n",
        "size = 200\n",
        "target_size = len(target_words)\n",
        "all_word = list(model.index_to_key)\n",
        "word_train = target_words + all_word[:size]\n",
        "X_train = model[word_train]\n",
        "\n",
        "## UMAP model\n",
        "umap_model = umap.UMAP(n_components=2, metric='cosine', random_state=28)\n",
        "\n",
        "## training\n",
        "X_umap = umap_model.fit_transform(X_train)\n",
        "\n",
        "## plot the result\n",
        "plt.figure(figsize=(7.5, 7.5), dpi=115)\n",
        "plt.scatter(X_umap[:target_size, 0], X_umap[:target_size, 1], c=color)\n",
        "for label, x, y in zip(target_words, X_umap[:target_size, 0], X_umap[:target_size, 1]):\n",
        "    plt.annotate(label, xy=(x,y), xytext=(0,0),  textcoords='offset points')\n",
        "plt.show()\n"
      ]
    },
    {
      "cell_type": "markdown",
      "metadata": {
        "id": "2PL61rqYYTp5"
      },
      "source": [
        "---\n",
        "##### <a id='toc1_13_2_1_1_'></a>[**>>> Exercise 8 (Take home):**](#toc0_)\n",
        "\n",
        "Generate a t-SNE and UMAP visualization to show the 15 words most related to the words \"angry\", \"happy\", \"sad\", \"fear\" (60 words total). Compare the differences between both graphs."
      ]
    },
    {
      "cell_type": "code",
      "execution_count": 70,
      "metadata": {
        "id": "rvh7ymeNYTp5",
        "colab": {
          "base_uri": "https://localhost:8080/",
          "height": 1236
        },
        "outputId": "0ccc0a21-a37e-4dd3-b4a6-cdd4c1cf52ba"
      },
      "outputs": [
        {
          "output_type": "display_data",
          "data": {
            "text/plain": [
              "<Figure size 800x800 with 1 Axes>"
            ],
            "image/png": "[encoded data removed]"
          },
          "metadata": {}
        },
        {
          "output_type": "display_data",
          "data": {
            "text/plain": [
              "<Figure size 800x800 with 1 Axes>"
            ],
            "image/png": "[encoded data removed]"
          },
          "metadata": {}
        }
      ],
      "source": [
        "import numpy as np\n",
        "import matplotlib.pyplot as plt\n",
        "from sklearn.manifold import TSNE\n",
        "import umap.umap_ as umap\n",
        "\n",
        "# Target emotions\n",
        "emotions = ['angry', 'happy', 'sad', 'fear']\n",
        "topn = 15\n",
        "\n",
        "# Collect target words and colors\n",
        "targets = []\n",
        "colors = []\n",
        "for i, e in enumerate(emotions):\n",
        "    words = [e] + [w for w, _ in w2v_google_model.most_similar(e, topn=topn)]\n",
        "    targets.extend(words)\n",
        "    colors.extend([i] * len(words))\n",
        "\n",
        "# Get vectors (convert to numpy array)\n",
        "X = np.array([w2v_google_model[w] for w in targets])\n",
        "\n",
        "# --- t-SNE ---\n",
        "tsne = TSNE(n_components=2, random_state=42, perplexity=15)\n",
        "X_tsne = tsne.fit_transform(X)\n",
        "\n",
        "plt.figure(figsize=(8,8))\n",
        "plt.scatter(X_tsne[:,0], X_tsne[:,1], c=colors, cmap='tab10')\n",
        "for word, (x, y) in zip(targets, X_tsne):\n",
        "    plt.annotate(word, (x, y))\n",
        "plt.title(\"t-SNE Visualization\")\n",
        "plt.show()\n",
        "\n",
        "# --- UMAP ---\n",
        "umap_model = umap.UMAP(n_components=2, random_state=42)\n",
        "X_umap = umap_model.fit_transform(X)\n",
        "\n",
        "plt.figure(figsize=(8,8))\n",
        "plt.scatter(X_umap[:,0], X_umap[:,1], c=colors, cmap='tab10')\n",
        "for word, (x, y) in zip(targets, X_umap):\n",
        "    plt.annotate(word, (x, y))\n",
        "plt.title(\"UMAP Visualization\")\n",
        "plt.show()\n"
      ]
    },
    {
      "cell_type": "markdown",
      "metadata": {
        "id": "_fF1woa8YTp5"
      },
      "source": [
        "---"
      ]
    }
  ],
  "metadata": {
    "accelerator": "GPU",
    "colab": {
      "collapsed_sections": [
        "4e5eiVLOYTp5"
      ],
      "gpuType": "T4",
      "provenance": []
    },
    "kernelspec": {
      "display_name": "Python 3",
      "name": "python3"
    },
    "language_info": {
      "codemirror_mode": {
        "name": "ipython",
        "version": 3
      },
      "file_extension": ".py",
      "mimetype": "text/x-python",
      "name": "python",
      "nbconvert_exporter": "python",
      "pygments_lexer": "ipython3",
      "version": "3.11.0"
    },
    "varInspector": {
      "cols": {
        "lenName": 16,
        "lenType": 16,
        "lenVar": 40
      },
      "kernels_config": {
        "python": {
          "delete_cmd_postfix": "",
          "delete_cmd_prefix": "del ",
          "library": "var_list.py",
          "varRefreshCmd": "print(var_dic_list())"
        },
        "r": {
          "delete_cmd_postfix": ") ",
          "delete_cmd_prefix": "rm(",
          "library": "var_list.r",
          "varRefreshCmd": "cat(var_dic_list()) "
        }
      },
      "oldHeight": 594.85,
      "position": {
        "height": "40px",
        "left": "723px",
        "right": "20px",
        "top": "80px",
        "width": "250px"
      },
      "types_to_exclude": [
        "module",
        "function",
        "builtin_function_or_method",
        "instance",
        "_Feature"
      ],
      "varInspector_section_display": "none",
      "window_display": true
    }
  },
  "nbformat": 4,
  "nbformat_minor": 0
}